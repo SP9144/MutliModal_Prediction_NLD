{
  "nbformat": 4,
  "nbformat_minor": 0,
  "metadata": {
    "colab": {
      "name": "early_integration.ipynb",
      "provenance": [],
      "collapsed_sections": []
    },
    "kernelspec": {
      "name": "python3",
      "display_name": "Python 3"
    },
    "language_info": {
      "name": "python"
    }
  },
  "cells": [
    {
      "cell_type": "code",
      "metadata": {
        "id": "Ns17yz_Vw1qv"
      },
      "source": [
        "import pandas as pd\n",
        "from pandas import read_excel\n",
        "from keras.models import Sequential\n",
        "from keras.layers import Dense, Dropout\n",
        "from keras.optimizers import Adam\n",
        "from sklearn.preprocessing import MinMaxScaler\n",
        "from sklearn.preprocessing import StandardScaler\n",
        "from sklearn.metrics import r2_score\n",
        "from sklearn.utils import shuffle\n",
        "from sklearn.metrics import mean_squared_error \n",
        "from sklearn.metrics import classification_report, confusion_matrix\n",
        "import numpy as np\n",
        "from scipy.stats import pearsonr\n",
        "from scipy.stats import spearmanr\n",
        "import seaborn as sns\n",
        "import matplotlib.pyplot as plt\n",
        "import keras\n",
        "from keras.models import model_from_json\n",
        "import tensorflow as tf\n",
        "from sklearn.utils import class_weight\n",
        "from google.colab import drive"
      ],
      "execution_count": 1,
      "outputs": []
    },
    {
      "cell_type": "code",
      "metadata": {
        "id": "PEZx5-E9w7yx"
      },
      "source": [
        "import pickle\n",
        "from pprint import pprint\n",
        "import xgboost as xgb\n",
        "from sklearn.ensemble import RandomForestClassifier\n",
        "from sklearn.naive_bayes import GaussianNB\n",
        "from sklearn.svm import SVC\n",
        "from sklearn.linear_model import LogisticRegression\n",
        "from sklearn.linear_model import SGDClassifier\n",
        "from sklearn.model_selection import RandomizedSearchCV, StratifiedKFold\n",
        "from sklearn.metrics import classification_report\n",
        "from sklearn.metrics import confusion_matrix\n",
        "from sklearn.metrics import f1_score, precision_score, recall_score\n",
        "from sklearn.metrics import roc_curve, auc, precision_recall_curve\n",
        "from sklearn.metrics import roc_auc_score, average_precision_score, plot_roc_curve "
      ],
      "execution_count": 2,
      "outputs": []
    },
    {
      "cell_type": "code",
      "metadata": {
        "colab": {
          "base_uri": "https://localhost:8080/",
          "height": 53
        },
        "id": "_TW4Y0aWxFIW",
        "outputId": "dbcb5f88-4c05-4b15-8c06-389b42533ebf"
      },
      "source": [
        "drive.mount(\"/content/gdrive\")\n",
        "\n",
        "tf.test.gpu_device_name()"
      ],
      "execution_count": 3,
      "outputs": [
        {
          "output_type": "stream",
          "text": [
            "Mounted at /content/gdrive\n"
          ],
          "name": "stdout"
        },
        {
          "output_type": "execute_result",
          "data": {
            "application/vnd.google.colaboratory.intrinsic+json": {
              "type": "string"
            },
            "text/plain": [
              "''"
            ]
          },
          "metadata": {
            "tags": []
          },
          "execution_count": 3
        }
      ]
    },
    {
      "cell_type": "code",
      "metadata": {
        "id": "kvAI2jobxIQw"
      },
      "source": [
        "location = \"/content/gdrive/My Drive/Colab Notebooks/MultiModal_PD/\""
      ],
      "execution_count": 4,
      "outputs": []
    },
    {
      "cell_type": "markdown",
      "metadata": {
        "id": "j2Ym7ExJxUcS"
      },
      "source": [
        "# **Loading and Intergrating Data**\n",
        "\n",
        "---\n"
      ]
    },
    {
      "cell_type": "code",
      "metadata": {
        "colab": {
          "base_uri": "https://localhost:8080/",
          "height": 241
        },
        "id": "sR2N8g4JxUNZ",
        "outputId": "4f3be0c0-4066-4825-8be0-2d4d8c80f57d"
      },
      "source": [
        "df_biospec = pd.read_csv(location + \"biospecimen_masterDB.csv\", sep=\",\")\n",
        "\n",
        "print(len(df_biospec))\n",
        "print(len(df_biospec.columns))\n",
        "df_biospec.head()"
      ],
      "execution_count": 5,
      "outputs": [
        {
          "output_type": "stream",
          "text": [
            "641\n",
            "7\n"
          ],
          "name": "stdout"
        },
        {
          "output_type": "execute_result",
          "data": {
            "text/html": [
              "<div>\n",
              "<style scoped>\n",
              "    .dataframe tbody tr th:only-of-type {\n",
              "        vertical-align: middle;\n",
              "    }\n",
              "\n",
              "    .dataframe tbody tr th {\n",
              "        vertical-align: top;\n",
              "    }\n",
              "\n",
              "    .dataframe thead th {\n",
              "        text-align: right;\n",
              "    }\n",
              "</style>\n",
              "<table border=\"1\" class=\"dataframe\">\n",
              "  <thead>\n",
              "    <tr style=\"text-align: right;\">\n",
              "      <th></th>\n",
              "      <th>PATNO</th>\n",
              "      <th>ABETA42</th>\n",
              "      <th>A_SYN</th>\n",
              "      <th>P_TAU</th>\n",
              "      <th>T_TAU</th>\n",
              "      <th>URATE</th>\n",
              "      <th>STATUS</th>\n",
              "    </tr>\n",
              "  </thead>\n",
              "  <tbody>\n",
              "    <tr>\n",
              "      <th>0</th>\n",
              "      <td>3915.0</td>\n",
              "      <td>1119.375</td>\n",
              "      <td>1719.650</td>\n",
              "      <td>13.1200</td>\n",
              "      <td>158.350</td>\n",
              "      <td>237.000000</td>\n",
              "      <td>1</td>\n",
              "    </tr>\n",
              "    <tr>\n",
              "      <th>1</th>\n",
              "      <td>3914.0</td>\n",
              "      <td>614.150</td>\n",
              "      <td>1584.650</td>\n",
              "      <td>14.0825</td>\n",
              "      <td>174.325</td>\n",
              "      <td>270.285714</td>\n",
              "      <td>1</td>\n",
              "    </tr>\n",
              "    <tr>\n",
              "      <th>2</th>\n",
              "      <td>3838.0</td>\n",
              "      <td>746.900</td>\n",
              "      <td>1256.775</td>\n",
              "      <td>10.9825</td>\n",
              "      <td>137.050</td>\n",
              "      <td>234.571429</td>\n",
              "      <td>1</td>\n",
              "    </tr>\n",
              "    <tr>\n",
              "      <th>3</th>\n",
              "      <td>3819.0</td>\n",
              "      <td>612.020</td>\n",
              "      <td>1136.380</td>\n",
              "      <td>8.4880</td>\n",
              "      <td>109.100</td>\n",
              "      <td>231.875000</td>\n",
              "      <td>1</td>\n",
              "    </tr>\n",
              "    <tr>\n",
              "      <th>4</th>\n",
              "      <td>3900.0</td>\n",
              "      <td>511.280</td>\n",
              "      <td>1263.540</td>\n",
              "      <td>11.3980</td>\n",
              "      <td>145.260</td>\n",
              "      <td>400.666667</td>\n",
              "      <td>1</td>\n",
              "    </tr>\n",
              "  </tbody>\n",
              "</table>\n",
              "</div>"
            ],
            "text/plain": [
              "    PATNO   ABETA42     A_SYN    P_TAU    T_TAU       URATE  STATUS\n",
              "0  3915.0  1119.375  1719.650  13.1200  158.350  237.000000       1\n",
              "1  3914.0   614.150  1584.650  14.0825  174.325  270.285714       1\n",
              "2  3838.0   746.900  1256.775  10.9825  137.050  234.571429       1\n",
              "3  3819.0   612.020  1136.380   8.4880  109.100  231.875000       1\n",
              "4  3900.0   511.280  1263.540  11.3980  145.260  400.666667       1"
            ]
          },
          "metadata": {
            "tags": []
          },
          "execution_count": 5
        }
      ]
    },
    {
      "cell_type": "code",
      "metadata": {
        "colab": {
          "base_uri": "https://localhost:8080/",
          "height": 261
        },
        "id": "-ARmINjByh-2",
        "outputId": "bed451c8-f997-4096-96fb-4fe269d0f5d9"
      },
      "source": [
        "df_clinical = pd.read_csv(location + \"clinical_masterDB.csv\", sep=\",\")\n",
        "\n",
        "df_clinical = df_clinical.drop(columns = [\"ENROLLDT\", \"RAHAWOPI\", \"SLEEPINESS\", \"DEPRESSION\", \"RBD_STATUS\",\n",
        "                                          \"GENDER\", \"HISPLAT\", \"RAINDALS\", \"RAASIAN\", \"RABLACK\", \"RAWHITE\", \"RANOS\",\n",
        "                                          \"MDS_UPDRS1\", \"MDS_UPDRS2\", \"MDS_UPDRS3\", \"MOCA\",\"Unadjusted_MOCA\", \"TREMOR\", \"PIGD\"],\n",
        "                               axis = 1)\n",
        "\n",
        "print(len(df_clinical))\n",
        "print(len(df_clinical.columns))\n",
        "df_clinical.head()"
      ],
      "execution_count": 6,
      "outputs": [
        {
          "output_type": "stream",
          "text": [
            "682\n",
            "31\n"
          ],
          "name": "stdout"
        },
        {
          "output_type": "execute_result",
          "data": {
            "text/html": [
              "<div>\n",
              "<style scoped>\n",
              "    .dataframe tbody tr th:only-of-type {\n",
              "        vertical-align: middle;\n",
              "    }\n",
              "\n",
              "    .dataframe tbody tr th {\n",
              "        vertical-align: top;\n",
              "    }\n",
              "\n",
              "    .dataframe thead th {\n",
              "        text-align: right;\n",
              "    }\n",
              "</style>\n",
              "<table border=\"1\" class=\"dataframe\">\n",
              "  <thead>\n",
              "    <tr style=\"text-align: right;\">\n",
              "      <th></th>\n",
              "      <th>PATNO</th>\n",
              "      <th>First_Fam_Num</th>\n",
              "      <th>First_Fam_PD</th>\n",
              "      <th>Other_Fam_Num</th>\n",
              "      <th>Other_Fam_PD</th>\n",
              "      <th>AGE</th>\n",
              "      <th>Socio_Score</th>\n",
              "      <th>BJLO</th>\n",
              "      <th>ESS</th>\n",
              "      <th>GDS</th>\n",
              "      <th>HVLT_RECALL</th>\n",
              "      <th>HVLT_RECOG</th>\n",
              "      <th>HVLT_RETENT</th>\n",
              "      <th>LNS</th>\n",
              "      <th>QUIP_SEC_A</th>\n",
              "      <th>QUIP_SEC_B</th>\n",
              "      <th>QUIP_SEC_C</th>\n",
              "      <th>QUIP_SEC_D</th>\n",
              "      <th>QUIP_SEC_E</th>\n",
              "      <th>RBDSQ</th>\n",
              "      <th>SCOPA_TOTAL</th>\n",
              "      <th>SCOPA_GASTRO</th>\n",
              "      <th>SCOPA_URINARY</th>\n",
              "      <th>SCOPA_CARDIO</th>\n",
              "      <th>SCOPA_THERMO</th>\n",
              "      <th>SCOPA_PUPIL</th>\n",
              "      <th>SCOPA_SEXUAL</th>\n",
              "      <th>SFT</th>\n",
              "      <th>STAI</th>\n",
              "      <th>UPSIT</th>\n",
              "      <th>STATUS</th>\n",
              "    </tr>\n",
              "  </thead>\n",
              "  <tbody>\n",
              "    <tr>\n",
              "      <th>0</th>\n",
              "      <td>3000.0</td>\n",
              "      <td>5.0</td>\n",
              "      <td>0.0</td>\n",
              "      <td>12.0</td>\n",
              "      <td>0.0</td>\n",
              "      <td>69</td>\n",
              "      <td>18.0</td>\n",
              "      <td>14.250000</td>\n",
              "      <td>5.000000</td>\n",
              "      <td>0.500000</td>\n",
              "      <td>28.125</td>\n",
              "      <td>9.125000</td>\n",
              "      <td>0.917647</td>\n",
              "      <td>11.875000</td>\n",
              "      <td>0</td>\n",
              "      <td>0</td>\n",
              "      <td>0</td>\n",
              "      <td>0</td>\n",
              "      <td>0</td>\n",
              "      <td>2</td>\n",
              "      <td>6.125000</td>\n",
              "      <td>0.625000</td>\n",
              "      <td>3.750000</td>\n",
              "      <td>0.000000</td>\n",
              "      <td>0.000000</td>\n",
              "      <td>0.000000</td>\n",
              "      <td>1.750000</td>\n",
              "      <td>56.500000</td>\n",
              "      <td>60.625000</td>\n",
              "      <td>35.0</td>\n",
              "      <td>0</td>\n",
              "    </tr>\n",
              "    <tr>\n",
              "      <th>1</th>\n",
              "      <td>3001.0</td>\n",
              "      <td>6.0</td>\n",
              "      <td>0.0</td>\n",
              "      <td>15.5</td>\n",
              "      <td>0.0</td>\n",
              "      <td>65</td>\n",
              "      <td>16.0</td>\n",
              "      <td>14.250000</td>\n",
              "      <td>5.888889</td>\n",
              "      <td>1.666667</td>\n",
              "      <td>26.875</td>\n",
              "      <td>10.125000</td>\n",
              "      <td>1.012658</td>\n",
              "      <td>15.125000</td>\n",
              "      <td>0</td>\n",
              "      <td>1</td>\n",
              "      <td>0</td>\n",
              "      <td>0</td>\n",
              "      <td>1</td>\n",
              "      <td>12</td>\n",
              "      <td>15.444444</td>\n",
              "      <td>2.555556</td>\n",
              "      <td>6.888889</td>\n",
              "      <td>0.555556</td>\n",
              "      <td>1.000000</td>\n",
              "      <td>0.111111</td>\n",
              "      <td>4.333333</td>\n",
              "      <td>46.875000</td>\n",
              "      <td>61.666667</td>\n",
              "      <td>21.0</td>\n",
              "      <td>1</td>\n",
              "    </tr>\n",
              "    <tr>\n",
              "      <th>2</th>\n",
              "      <td>3002.0</td>\n",
              "      <td>6.0</td>\n",
              "      <td>0.0</td>\n",
              "      <td>16.0</td>\n",
              "      <td>0.0</td>\n",
              "      <td>67</td>\n",
              "      <td>16.0</td>\n",
              "      <td>12.625000</td>\n",
              "      <td>13.666667</td>\n",
              "      <td>5.333333</td>\n",
              "      <td>25.875</td>\n",
              "      <td>9.500000</td>\n",
              "      <td>1.012346</td>\n",
              "      <td>10.500000</td>\n",
              "      <td>0</td>\n",
              "      <td>0</td>\n",
              "      <td>0</td>\n",
              "      <td>1</td>\n",
              "      <td>2</td>\n",
              "      <td>11</td>\n",
              "      <td>24.555556</td>\n",
              "      <td>8.111111</td>\n",
              "      <td>7.777778</td>\n",
              "      <td>0.222222</td>\n",
              "      <td>4.666667</td>\n",
              "      <td>2.555556</td>\n",
              "      <td>1.222222</td>\n",
              "      <td>46.125000</td>\n",
              "      <td>79.222222</td>\n",
              "      <td>14.5</td>\n",
              "      <td>1</td>\n",
              "    </tr>\n",
              "    <tr>\n",
              "      <th>3</th>\n",
              "      <td>3003.0</td>\n",
              "      <td>4.0</td>\n",
              "      <td>0.0</td>\n",
              "      <td>6.0</td>\n",
              "      <td>0.0</td>\n",
              "      <td>56</td>\n",
              "      <td>16.0</td>\n",
              "      <td>13.375000</td>\n",
              "      <td>7.333333</td>\n",
              "      <td>1.111111</td>\n",
              "      <td>26.125</td>\n",
              "      <td>11.375000</td>\n",
              "      <td>0.896552</td>\n",
              "      <td>9.125000</td>\n",
              "      <td>0</td>\n",
              "      <td>0</td>\n",
              "      <td>0</td>\n",
              "      <td>1</td>\n",
              "      <td>0</td>\n",
              "      <td>8</td>\n",
              "      <td>15.555556</td>\n",
              "      <td>2.666667</td>\n",
              "      <td>9.888889</td>\n",
              "      <td>1.777778</td>\n",
              "      <td>0.888889</td>\n",
              "      <td>0.222222</td>\n",
              "      <td>0.111111</td>\n",
              "      <td>46.875000</td>\n",
              "      <td>47.111111</td>\n",
              "      <td>18.5</td>\n",
              "      <td>1</td>\n",
              "    </tr>\n",
              "    <tr>\n",
              "      <th>4</th>\n",
              "      <td>3004.0</td>\n",
              "      <td>5.0</td>\n",
              "      <td>0.0</td>\n",
              "      <td>8.0</td>\n",
              "      <td>0.0</td>\n",
              "      <td>59</td>\n",
              "      <td>16.0</td>\n",
              "      <td>14.142857</td>\n",
              "      <td>8.285714</td>\n",
              "      <td>1.000000</td>\n",
              "      <td>21.000</td>\n",
              "      <td>11.571429</td>\n",
              "      <td>0.750000</td>\n",
              "      <td>11.285714</td>\n",
              "      <td>0</td>\n",
              "      <td>0</td>\n",
              "      <td>0</td>\n",
              "      <td>0</td>\n",
              "      <td>1</td>\n",
              "      <td>3</td>\n",
              "      <td>6.571429</td>\n",
              "      <td>1.571429</td>\n",
              "      <td>2.857143</td>\n",
              "      <td>0.000000</td>\n",
              "      <td>0.714286</td>\n",
              "      <td>0.000000</td>\n",
              "      <td>1.428571</td>\n",
              "      <td>53.571429</td>\n",
              "      <td>54.285714</td>\n",
              "      <td>37.5</td>\n",
              "      <td>0</td>\n",
              "    </tr>\n",
              "  </tbody>\n",
              "</table>\n",
              "</div>"
            ],
            "text/plain": [
              "    PATNO  First_Fam_Num  First_Fam_PD  ...       STAI  UPSIT  STATUS\n",
              "0  3000.0            5.0           0.0  ...  60.625000   35.0       0\n",
              "1  3001.0            6.0           0.0  ...  61.666667   21.0       1\n",
              "2  3002.0            6.0           0.0  ...  79.222222   14.5       1\n",
              "3  3003.0            4.0           0.0  ...  47.111111   18.5       1\n",
              "4  3004.0            5.0           0.0  ...  54.285714   37.5       0\n",
              "\n",
              "[5 rows x 31 columns]"
            ]
          },
          "metadata": {
            "tags": []
          },
          "execution_count": 6
        }
      ]
    },
    {
      "cell_type": "code",
      "metadata": {
        "colab": {
          "base_uri": "https://localhost:8080/",
          "height": 278
        },
        "id": "yc55eIVQyh1n",
        "outputId": "8db96da3-1449-4cf2-f520-5ad3aa04b3c1"
      },
      "source": [
        "df_genetic = pd.read_csv(location + \"snp_masterDB.csv\", sep=\",\")\n",
        "\n",
        "file = open(location + \"feaSel_xgb.txt\", \"r\")\n",
        "retain_list = []\n",
        "counter = 0\n",
        "for line in file:\n",
        "  counter +=1\n",
        "  if(counter > 0):\n",
        "    retain_list.append(line[:-1])\n",
        "\n",
        "retain_list = retain_list[:30]\n",
        "print(\"features =\", len(retain_list))\n",
        "\n",
        "all_columns = df_genetic.columns\n",
        "drop_list = []\n",
        "for i in all_columns:\n",
        "  if(i not in retain_list and i != \"STATUS\" and i != \"PATNO\"):\n",
        "    drop_list.append(i)\n",
        "\n",
        "df_genetic = df_genetic.drop(columns = drop_list, axis = 1)\n",
        "print(len(df_genetic))\n",
        "print(len(df_genetic.columns))\n",
        "df_genetic.head()"
      ],
      "execution_count": 7,
      "outputs": [
        {
          "output_type": "stream",
          "text": [
            "features = 30\n",
            "733\n",
            "32\n"
          ],
          "name": "stdout"
        },
        {
          "output_type": "execute_result",
          "data": {
            "text/html": [
              "<div>\n",
              "<style scoped>\n",
              "    .dataframe tbody tr th:only-of-type {\n",
              "        vertical-align: middle;\n",
              "    }\n",
              "\n",
              "    .dataframe tbody tr th {\n",
              "        vertical-align: top;\n",
              "    }\n",
              "\n",
              "    .dataframe thead th {\n",
              "        text-align: right;\n",
              "    }\n",
              "</style>\n",
              "<table border=\"1\" class=\"dataframe\">\n",
              "  <thead>\n",
              "    <tr style=\"text-align: right;\">\n",
              "      <th></th>\n",
              "      <th>PATNO</th>\n",
              "      <th>chr4_90753960_C_T</th>\n",
              "      <th>chr4_90636708_T_C</th>\n",
              "      <th>chr4_90643757_C_G</th>\n",
              "      <th>chr4_90646886_G_A</th>\n",
              "      <th>chr4_90649290_C_G</th>\n",
              "      <th>chr4_90671069_A_G</th>\n",
              "      <th>chr4_90678541_G_A</th>\n",
              "      <th>chr4_90711770_T_C</th>\n",
              "      <th>chr4_90727088_C_T</th>\n",
              "      <th>chr4_90730687_C_A</th>\n",
              "      <th>chr4_90737327_G_A</th>\n",
              "      <th>chr4_90741773_A_G</th>\n",
              "      <th>chr4_90754313_C_T</th>\n",
              "      <th>chr4_90755939_A_G</th>\n",
              "      <th>chr4_90763260_A_G</th>\n",
              "      <th>chr4_90763360_C_A</th>\n",
              "      <th>chr16_30995528_A_G</th>\n",
              "      <th>chr16_30995669_T_C</th>\n",
              "      <th>chr21_27348372_A_G</th>\n",
              "      <th>chr4_90697157_T_C</th>\n",
              "      <th>chr1_20977856_T_C</th>\n",
              "      <th>chr17_44091724_G_A</th>\n",
              "      <th>chr17_44101871_A_G</th>\n",
              "      <th>chr17_44102638_A_G</th>\n",
              "      <th>chr4_90697979_T_C</th>\n",
              "      <th>chr4_90755239_G_A</th>\n",
              "      <th>chr4_90683990_T_C</th>\n",
              "      <th>chr4_90742815_G_A</th>\n",
              "      <th>chr4_90744216_G_A</th>\n",
              "      <th>chr4_90752205_T_C</th>\n",
              "      <th>STATUS</th>\n",
              "    </tr>\n",
              "  </thead>\n",
              "  <tbody>\n",
              "    <tr>\n",
              "      <th>0</th>\n",
              "      <td>3627</td>\n",
              "      <td>1</td>\n",
              "      <td>0</td>\n",
              "      <td>0</td>\n",
              "      <td>0</td>\n",
              "      <td>0</td>\n",
              "      <td>0</td>\n",
              "      <td>0</td>\n",
              "      <td>0</td>\n",
              "      <td>0</td>\n",
              "      <td>0</td>\n",
              "      <td>0</td>\n",
              "      <td>0</td>\n",
              "      <td>0</td>\n",
              "      <td>0</td>\n",
              "      <td>0</td>\n",
              "      <td>0</td>\n",
              "      <td>0</td>\n",
              "      <td>0</td>\n",
              "      <td>0</td>\n",
              "      <td>0</td>\n",
              "      <td>0</td>\n",
              "      <td>0</td>\n",
              "      <td>0</td>\n",
              "      <td>0</td>\n",
              "      <td>0</td>\n",
              "      <td>0</td>\n",
              "      <td>0</td>\n",
              "      <td>0</td>\n",
              "      <td>0</td>\n",
              "      <td>0</td>\n",
              "      <td>0</td>\n",
              "    </tr>\n",
              "    <tr>\n",
              "      <th>1</th>\n",
              "      <td>3509</td>\n",
              "      <td>1</td>\n",
              "      <td>1</td>\n",
              "      <td>1</td>\n",
              "      <td>1</td>\n",
              "      <td>1</td>\n",
              "      <td>1</td>\n",
              "      <td>1</td>\n",
              "      <td>1</td>\n",
              "      <td>1</td>\n",
              "      <td>1</td>\n",
              "      <td>1</td>\n",
              "      <td>1</td>\n",
              "      <td>1</td>\n",
              "      <td>1</td>\n",
              "      <td>1</td>\n",
              "      <td>1</td>\n",
              "      <td>1</td>\n",
              "      <td>1</td>\n",
              "      <td>1</td>\n",
              "      <td>0</td>\n",
              "      <td>0</td>\n",
              "      <td>0</td>\n",
              "      <td>0</td>\n",
              "      <td>0</td>\n",
              "      <td>0</td>\n",
              "      <td>0</td>\n",
              "      <td>0</td>\n",
              "      <td>0</td>\n",
              "      <td>0</td>\n",
              "      <td>0</td>\n",
              "      <td>1</td>\n",
              "    </tr>\n",
              "    <tr>\n",
              "      <th>2</th>\n",
              "      <td>3214</td>\n",
              "      <td>0</td>\n",
              "      <td>1</td>\n",
              "      <td>1</td>\n",
              "      <td>1</td>\n",
              "      <td>1</td>\n",
              "      <td>1</td>\n",
              "      <td>1</td>\n",
              "      <td>0</td>\n",
              "      <td>0</td>\n",
              "      <td>1</td>\n",
              "      <td>1</td>\n",
              "      <td>1</td>\n",
              "      <td>1</td>\n",
              "      <td>0</td>\n",
              "      <td>0</td>\n",
              "      <td>1</td>\n",
              "      <td>1</td>\n",
              "      <td>1</td>\n",
              "      <td>0</td>\n",
              "      <td>1</td>\n",
              "      <td>0</td>\n",
              "      <td>0</td>\n",
              "      <td>0</td>\n",
              "      <td>0</td>\n",
              "      <td>0</td>\n",
              "      <td>0</td>\n",
              "      <td>0</td>\n",
              "      <td>0</td>\n",
              "      <td>0</td>\n",
              "      <td>0</td>\n",
              "      <td>1</td>\n",
              "    </tr>\n",
              "    <tr>\n",
              "      <th>3</th>\n",
              "      <td>3556</td>\n",
              "      <td>1</td>\n",
              "      <td>1</td>\n",
              "      <td>1</td>\n",
              "      <td>1</td>\n",
              "      <td>1</td>\n",
              "      <td>1</td>\n",
              "      <td>1</td>\n",
              "      <td>1</td>\n",
              "      <td>1</td>\n",
              "      <td>1</td>\n",
              "      <td>1</td>\n",
              "      <td>1</td>\n",
              "      <td>1</td>\n",
              "      <td>1</td>\n",
              "      <td>1</td>\n",
              "      <td>1</td>\n",
              "      <td>1</td>\n",
              "      <td>1</td>\n",
              "      <td>0</td>\n",
              "      <td>0</td>\n",
              "      <td>1</td>\n",
              "      <td>0</td>\n",
              "      <td>0</td>\n",
              "      <td>0</td>\n",
              "      <td>0</td>\n",
              "      <td>0</td>\n",
              "      <td>0</td>\n",
              "      <td>0</td>\n",
              "      <td>0</td>\n",
              "      <td>0</td>\n",
              "      <td>1</td>\n",
              "    </tr>\n",
              "    <tr>\n",
              "      <th>4</th>\n",
              "      <td>3367</td>\n",
              "      <td>1</td>\n",
              "      <td>0</td>\n",
              "      <td>0</td>\n",
              "      <td>0</td>\n",
              "      <td>0</td>\n",
              "      <td>0</td>\n",
              "      <td>0</td>\n",
              "      <td>1</td>\n",
              "      <td>1</td>\n",
              "      <td>0</td>\n",
              "      <td>0</td>\n",
              "      <td>1</td>\n",
              "      <td>1</td>\n",
              "      <td>1</td>\n",
              "      <td>1</td>\n",
              "      <td>0</td>\n",
              "      <td>1</td>\n",
              "      <td>1</td>\n",
              "      <td>0</td>\n",
              "      <td>0</td>\n",
              "      <td>0</td>\n",
              "      <td>0</td>\n",
              "      <td>0</td>\n",
              "      <td>0</td>\n",
              "      <td>0</td>\n",
              "      <td>0</td>\n",
              "      <td>0</td>\n",
              "      <td>0</td>\n",
              "      <td>0</td>\n",
              "      <td>0</td>\n",
              "      <td>1</td>\n",
              "    </tr>\n",
              "  </tbody>\n",
              "</table>\n",
              "</div>"
            ],
            "text/plain": [
              "   PATNO  chr4_90753960_C_T  ...  chr4_90752205_T_C  STATUS\n",
              "0   3627                  1  ...                  0       0\n",
              "1   3509                  1  ...                  0       1\n",
              "2   3214                  0  ...                  0       1\n",
              "3   3556                  1  ...                  0       1\n",
              "4   3367                  1  ...                  0       1\n",
              "\n",
              "[5 rows x 32 columns]"
            ]
          },
          "metadata": {
            "tags": []
          },
          "execution_count": 7
        }
      ]
    },
    {
      "cell_type": "code",
      "metadata": {
        "colab": {
          "base_uri": "https://localhost:8080/",
          "height": 261
        },
        "id": "S5eaASJX3cQO",
        "outputId": "69d47f0d-fd58-4f0f-8a46-9feecdc5dce2"
      },
      "source": [
        "df = pd.merge(df_clinical, df_biospec, on=\"PATNO\")\n",
        "df = pd.merge(df, df_genetic, on=\"PATNO\")\n",
        "\n",
        "print(len(df))\n",
        "print(len(df.columns))\n",
        "df.head()"
      ],
      "execution_count": 8,
      "outputs": [
        {
          "output_type": "stream",
          "text": [
            "598\n",
            "68\n"
          ],
          "name": "stdout"
        },
        {
          "output_type": "execute_result",
          "data": {
            "text/html": [
              "<div>\n",
              "<style scoped>\n",
              "    .dataframe tbody tr th:only-of-type {\n",
              "        vertical-align: middle;\n",
              "    }\n",
              "\n",
              "    .dataframe tbody tr th {\n",
              "        vertical-align: top;\n",
              "    }\n",
              "\n",
              "    .dataframe thead th {\n",
              "        text-align: right;\n",
              "    }\n",
              "</style>\n",
              "<table border=\"1\" class=\"dataframe\">\n",
              "  <thead>\n",
              "    <tr style=\"text-align: right;\">\n",
              "      <th></th>\n",
              "      <th>PATNO</th>\n",
              "      <th>First_Fam_Num</th>\n",
              "      <th>First_Fam_PD</th>\n",
              "      <th>Other_Fam_Num</th>\n",
              "      <th>Other_Fam_PD</th>\n",
              "      <th>AGE</th>\n",
              "      <th>Socio_Score</th>\n",
              "      <th>BJLO</th>\n",
              "      <th>ESS</th>\n",
              "      <th>GDS</th>\n",
              "      <th>HVLT_RECALL</th>\n",
              "      <th>HVLT_RECOG</th>\n",
              "      <th>HVLT_RETENT</th>\n",
              "      <th>LNS</th>\n",
              "      <th>QUIP_SEC_A</th>\n",
              "      <th>QUIP_SEC_B</th>\n",
              "      <th>QUIP_SEC_C</th>\n",
              "      <th>QUIP_SEC_D</th>\n",
              "      <th>QUIP_SEC_E</th>\n",
              "      <th>RBDSQ</th>\n",
              "      <th>SCOPA_TOTAL</th>\n",
              "      <th>SCOPA_GASTRO</th>\n",
              "      <th>SCOPA_URINARY</th>\n",
              "      <th>SCOPA_CARDIO</th>\n",
              "      <th>SCOPA_THERMO</th>\n",
              "      <th>SCOPA_PUPIL</th>\n",
              "      <th>SCOPA_SEXUAL</th>\n",
              "      <th>SFT</th>\n",
              "      <th>STAI</th>\n",
              "      <th>UPSIT</th>\n",
              "      <th>STATUS_x</th>\n",
              "      <th>ABETA42</th>\n",
              "      <th>A_SYN</th>\n",
              "      <th>P_TAU</th>\n",
              "      <th>T_TAU</th>\n",
              "      <th>URATE</th>\n",
              "      <th>STATUS_y</th>\n",
              "      <th>chr4_90753960_C_T</th>\n",
              "      <th>chr4_90636708_T_C</th>\n",
              "      <th>chr4_90643757_C_G</th>\n",
              "      <th>chr4_90646886_G_A</th>\n",
              "      <th>chr4_90649290_C_G</th>\n",
              "      <th>chr4_90671069_A_G</th>\n",
              "      <th>chr4_90678541_G_A</th>\n",
              "      <th>chr4_90711770_T_C</th>\n",
              "      <th>chr4_90727088_C_T</th>\n",
              "      <th>chr4_90730687_C_A</th>\n",
              "      <th>chr4_90737327_G_A</th>\n",
              "      <th>chr4_90741773_A_G</th>\n",
              "      <th>chr4_90754313_C_T</th>\n",
              "      <th>chr4_90755939_A_G</th>\n",
              "      <th>chr4_90763260_A_G</th>\n",
              "      <th>chr4_90763360_C_A</th>\n",
              "      <th>chr16_30995528_A_G</th>\n",
              "      <th>chr16_30995669_T_C</th>\n",
              "      <th>chr21_27348372_A_G</th>\n",
              "      <th>chr4_90697157_T_C</th>\n",
              "      <th>chr1_20977856_T_C</th>\n",
              "      <th>chr17_44091724_G_A</th>\n",
              "      <th>chr17_44101871_A_G</th>\n",
              "      <th>chr17_44102638_A_G</th>\n",
              "      <th>chr4_90697979_T_C</th>\n",
              "      <th>chr4_90755239_G_A</th>\n",
              "      <th>chr4_90683990_T_C</th>\n",
              "      <th>chr4_90742815_G_A</th>\n",
              "      <th>chr4_90744216_G_A</th>\n",
              "      <th>chr4_90752205_T_C</th>\n",
              "      <th>STATUS</th>\n",
              "    </tr>\n",
              "  </thead>\n",
              "  <tbody>\n",
              "    <tr>\n",
              "      <th>0</th>\n",
              "      <td>3000.0</td>\n",
              "      <td>5.0</td>\n",
              "      <td>0.0</td>\n",
              "      <td>12.0</td>\n",
              "      <td>0.0</td>\n",
              "      <td>69</td>\n",
              "      <td>18.0</td>\n",
              "      <td>14.250000</td>\n",
              "      <td>5.000000</td>\n",
              "      <td>0.500000</td>\n",
              "      <td>28.125</td>\n",
              "      <td>9.125000</td>\n",
              "      <td>0.917647</td>\n",
              "      <td>11.875000</td>\n",
              "      <td>0</td>\n",
              "      <td>0</td>\n",
              "      <td>0</td>\n",
              "      <td>0</td>\n",
              "      <td>0</td>\n",
              "      <td>2</td>\n",
              "      <td>6.125000</td>\n",
              "      <td>0.625000</td>\n",
              "      <td>3.750000</td>\n",
              "      <td>0.000000</td>\n",
              "      <td>0.000000</td>\n",
              "      <td>0.000000</td>\n",
              "      <td>1.750000</td>\n",
              "      <td>56.500000</td>\n",
              "      <td>60.625000</td>\n",
              "      <td>35.0</td>\n",
              "      <td>0</td>\n",
              "      <td>1078.833333</td>\n",
              "      <td>1728.766667</td>\n",
              "      <td>18.6500</td>\n",
              "      <td>217.800</td>\n",
              "      <td>275.250000</td>\n",
              "      <td>0</td>\n",
              "      <td>0</td>\n",
              "      <td>1</td>\n",
              "      <td>1</td>\n",
              "      <td>1</td>\n",
              "      <td>1</td>\n",
              "      <td>1</td>\n",
              "      <td>1</td>\n",
              "      <td>0</td>\n",
              "      <td>1</td>\n",
              "      <td>1</td>\n",
              "      <td>1</td>\n",
              "      <td>1</td>\n",
              "      <td>1</td>\n",
              "      <td>0</td>\n",
              "      <td>0</td>\n",
              "      <td>1</td>\n",
              "      <td>1</td>\n",
              "      <td>1</td>\n",
              "      <td>1</td>\n",
              "      <td>0</td>\n",
              "      <td>1</td>\n",
              "      <td>1</td>\n",
              "      <td>1</td>\n",
              "      <td>1</td>\n",
              "      <td>0</td>\n",
              "      <td>0</td>\n",
              "      <td>0</td>\n",
              "      <td>0</td>\n",
              "      <td>0</td>\n",
              "      <td>0</td>\n",
              "      <td>0</td>\n",
              "    </tr>\n",
              "    <tr>\n",
              "      <th>1</th>\n",
              "      <td>3001.0</td>\n",
              "      <td>6.0</td>\n",
              "      <td>0.0</td>\n",
              "      <td>15.5</td>\n",
              "      <td>0.0</td>\n",
              "      <td>65</td>\n",
              "      <td>16.0</td>\n",
              "      <td>14.250000</td>\n",
              "      <td>5.888889</td>\n",
              "      <td>1.666667</td>\n",
              "      <td>26.875</td>\n",
              "      <td>10.125000</td>\n",
              "      <td>1.012658</td>\n",
              "      <td>15.125000</td>\n",
              "      <td>0</td>\n",
              "      <td>1</td>\n",
              "      <td>0</td>\n",
              "      <td>0</td>\n",
              "      <td>1</td>\n",
              "      <td>12</td>\n",
              "      <td>15.444444</td>\n",
              "      <td>2.555556</td>\n",
              "      <td>6.888889</td>\n",
              "      <td>0.555556</td>\n",
              "      <td>1.000000</td>\n",
              "      <td>0.111111</td>\n",
              "      <td>4.333333</td>\n",
              "      <td>46.875000</td>\n",
              "      <td>61.666667</td>\n",
              "      <td>21.0</td>\n",
              "      <td>1</td>\n",
              "      <td>987.280000</td>\n",
              "      <td>1412.600000</td>\n",
              "      <td>14.8580</td>\n",
              "      <td>174.420</td>\n",
              "      <td>278.600000</td>\n",
              "      <td>1</td>\n",
              "      <td>1</td>\n",
              "      <td>0</td>\n",
              "      <td>0</td>\n",
              "      <td>0</td>\n",
              "      <td>0</td>\n",
              "      <td>0</td>\n",
              "      <td>0</td>\n",
              "      <td>1</td>\n",
              "      <td>1</td>\n",
              "      <td>1</td>\n",
              "      <td>1</td>\n",
              "      <td>1</td>\n",
              "      <td>1</td>\n",
              "      <td>1</td>\n",
              "      <td>1</td>\n",
              "      <td>1</td>\n",
              "      <td>1</td>\n",
              "      <td>1</td>\n",
              "      <td>1</td>\n",
              "      <td>0</td>\n",
              "      <td>0</td>\n",
              "      <td>1</td>\n",
              "      <td>1</td>\n",
              "      <td>1</td>\n",
              "      <td>0</td>\n",
              "      <td>0</td>\n",
              "      <td>0</td>\n",
              "      <td>0</td>\n",
              "      <td>0</td>\n",
              "      <td>0</td>\n",
              "      <td>1</td>\n",
              "    </tr>\n",
              "    <tr>\n",
              "      <th>2</th>\n",
              "      <td>3002.0</td>\n",
              "      <td>6.0</td>\n",
              "      <td>0.0</td>\n",
              "      <td>16.0</td>\n",
              "      <td>0.0</td>\n",
              "      <td>67</td>\n",
              "      <td>16.0</td>\n",
              "      <td>12.625000</td>\n",
              "      <td>13.666667</td>\n",
              "      <td>5.333333</td>\n",
              "      <td>25.875</td>\n",
              "      <td>9.500000</td>\n",
              "      <td>1.012346</td>\n",
              "      <td>10.500000</td>\n",
              "      <td>0</td>\n",
              "      <td>0</td>\n",
              "      <td>0</td>\n",
              "      <td>1</td>\n",
              "      <td>2</td>\n",
              "      <td>11</td>\n",
              "      <td>24.555556</td>\n",
              "      <td>8.111111</td>\n",
              "      <td>7.777778</td>\n",
              "      <td>0.222222</td>\n",
              "      <td>4.666667</td>\n",
              "      <td>2.555556</td>\n",
              "      <td>1.222222</td>\n",
              "      <td>46.125000</td>\n",
              "      <td>79.222222</td>\n",
              "      <td>14.5</td>\n",
              "      <td>1</td>\n",
              "      <td>553.600000</td>\n",
              "      <td>2667.400000</td>\n",
              "      <td>30.4725</td>\n",
              "      <td>318.400</td>\n",
              "      <td>215.200000</td>\n",
              "      <td>1</td>\n",
              "      <td>1</td>\n",
              "      <td>1</td>\n",
              "      <td>1</td>\n",
              "      <td>1</td>\n",
              "      <td>1</td>\n",
              "      <td>1</td>\n",
              "      <td>1</td>\n",
              "      <td>1</td>\n",
              "      <td>1</td>\n",
              "      <td>1</td>\n",
              "      <td>1</td>\n",
              "      <td>1</td>\n",
              "      <td>1</td>\n",
              "      <td>1</td>\n",
              "      <td>1</td>\n",
              "      <td>1</td>\n",
              "      <td>1</td>\n",
              "      <td>1</td>\n",
              "      <td>0</td>\n",
              "      <td>0</td>\n",
              "      <td>1</td>\n",
              "      <td>0</td>\n",
              "      <td>0</td>\n",
              "      <td>0</td>\n",
              "      <td>0</td>\n",
              "      <td>0</td>\n",
              "      <td>0</td>\n",
              "      <td>0</td>\n",
              "      <td>0</td>\n",
              "      <td>0</td>\n",
              "      <td>1</td>\n",
              "    </tr>\n",
              "    <tr>\n",
              "      <th>3</th>\n",
              "      <td>3003.0</td>\n",
              "      <td>4.0</td>\n",
              "      <td>0.0</td>\n",
              "      <td>6.0</td>\n",
              "      <td>0.0</td>\n",
              "      <td>56</td>\n",
              "      <td>16.0</td>\n",
              "      <td>13.375000</td>\n",
              "      <td>7.333333</td>\n",
              "      <td>1.111111</td>\n",
              "      <td>26.125</td>\n",
              "      <td>11.375000</td>\n",
              "      <td>0.896552</td>\n",
              "      <td>9.125000</td>\n",
              "      <td>0</td>\n",
              "      <td>0</td>\n",
              "      <td>0</td>\n",
              "      <td>1</td>\n",
              "      <td>0</td>\n",
              "      <td>8</td>\n",
              "      <td>15.555556</td>\n",
              "      <td>2.666667</td>\n",
              "      <td>9.888889</td>\n",
              "      <td>1.777778</td>\n",
              "      <td>0.888889</td>\n",
              "      <td>0.222222</td>\n",
              "      <td>0.111111</td>\n",
              "      <td>46.875000</td>\n",
              "      <td>47.111111</td>\n",
              "      <td>18.5</td>\n",
              "      <td>1</td>\n",
              "      <td>753.640000</td>\n",
              "      <td>814.240000</td>\n",
              "      <td>8.9880</td>\n",
              "      <td>109.200</td>\n",
              "      <td>219.166667</td>\n",
              "      <td>1</td>\n",
              "      <td>1</td>\n",
              "      <td>1</td>\n",
              "      <td>1</td>\n",
              "      <td>1</td>\n",
              "      <td>1</td>\n",
              "      <td>1</td>\n",
              "      <td>1</td>\n",
              "      <td>1</td>\n",
              "      <td>1</td>\n",
              "      <td>1</td>\n",
              "      <td>1</td>\n",
              "      <td>1</td>\n",
              "      <td>1</td>\n",
              "      <td>1</td>\n",
              "      <td>1</td>\n",
              "      <td>1</td>\n",
              "      <td>1</td>\n",
              "      <td>1</td>\n",
              "      <td>0</td>\n",
              "      <td>0</td>\n",
              "      <td>0</td>\n",
              "      <td>1</td>\n",
              "      <td>1</td>\n",
              "      <td>1</td>\n",
              "      <td>0</td>\n",
              "      <td>0</td>\n",
              "      <td>0</td>\n",
              "      <td>0</td>\n",
              "      <td>0</td>\n",
              "      <td>0</td>\n",
              "      <td>1</td>\n",
              "    </tr>\n",
              "    <tr>\n",
              "      <th>4</th>\n",
              "      <td>3004.0</td>\n",
              "      <td>5.0</td>\n",
              "      <td>0.0</td>\n",
              "      <td>8.0</td>\n",
              "      <td>0.0</td>\n",
              "      <td>59</td>\n",
              "      <td>16.0</td>\n",
              "      <td>14.142857</td>\n",
              "      <td>8.285714</td>\n",
              "      <td>1.000000</td>\n",
              "      <td>21.000</td>\n",
              "      <td>11.571429</td>\n",
              "      <td>0.750000</td>\n",
              "      <td>11.285714</td>\n",
              "      <td>0</td>\n",
              "      <td>0</td>\n",
              "      <td>0</td>\n",
              "      <td>0</td>\n",
              "      <td>1</td>\n",
              "      <td>3</td>\n",
              "      <td>6.571429</td>\n",
              "      <td>1.571429</td>\n",
              "      <td>2.857143</td>\n",
              "      <td>0.000000</td>\n",
              "      <td>0.714286</td>\n",
              "      <td>0.000000</td>\n",
              "      <td>1.428571</td>\n",
              "      <td>53.571429</td>\n",
              "      <td>54.285714</td>\n",
              "      <td>37.5</td>\n",
              "      <td>0</td>\n",
              "      <td>898.875000</td>\n",
              "      <td>1014.775000</td>\n",
              "      <td>10.2075</td>\n",
              "      <td>116.795</td>\n",
              "      <td>423.600000</td>\n",
              "      <td>0</td>\n",
              "      <td>0</td>\n",
              "      <td>1</td>\n",
              "      <td>1</td>\n",
              "      <td>1</td>\n",
              "      <td>1</td>\n",
              "      <td>1</td>\n",
              "      <td>1</td>\n",
              "      <td>0</td>\n",
              "      <td>1</td>\n",
              "      <td>1</td>\n",
              "      <td>1</td>\n",
              "      <td>1</td>\n",
              "      <td>1</td>\n",
              "      <td>0</td>\n",
              "      <td>0</td>\n",
              "      <td>1</td>\n",
              "      <td>1</td>\n",
              "      <td>1</td>\n",
              "      <td>0</td>\n",
              "      <td>1</td>\n",
              "      <td>0</td>\n",
              "      <td>1</td>\n",
              "      <td>1</td>\n",
              "      <td>1</td>\n",
              "      <td>1</td>\n",
              "      <td>0</td>\n",
              "      <td>0</td>\n",
              "      <td>0</td>\n",
              "      <td>0</td>\n",
              "      <td>0</td>\n",
              "      <td>0</td>\n",
              "    </tr>\n",
              "  </tbody>\n",
              "</table>\n",
              "</div>"
            ],
            "text/plain": [
              "    PATNO  First_Fam_Num  ...  chr4_90752205_T_C  STATUS\n",
              "0  3000.0            5.0  ...                  0       0\n",
              "1  3001.0            6.0  ...                  0       1\n",
              "2  3002.0            6.0  ...                  0       1\n",
              "3  3003.0            4.0  ...                  0       1\n",
              "4  3004.0            5.0  ...                  0       0\n",
              "\n",
              "[5 rows x 68 columns]"
            ]
          },
          "metadata": {
            "tags": []
          },
          "execution_count": 8
        }
      ]
    },
    {
      "cell_type": "code",
      "metadata": {
        "colab": {
          "base_uri": "https://localhost:8080/",
          "height": 226
        },
        "id": "ZpwdoR5I3cL1",
        "outputId": "3c2e5955-d33d-421c-b254-13d1c47b58a6"
      },
      "source": [
        "df = df.drop(columns = [\"PATNO\", \"STATUS_x\", \"STATUS_y\"], axis = 1)\n",
        "df.head()"
      ],
      "execution_count": 9,
      "outputs": [
        {
          "output_type": "execute_result",
          "data": {
            "text/html": [
              "<div>\n",
              "<style scoped>\n",
              "    .dataframe tbody tr th:only-of-type {\n",
              "        vertical-align: middle;\n",
              "    }\n",
              "\n",
              "    .dataframe tbody tr th {\n",
              "        vertical-align: top;\n",
              "    }\n",
              "\n",
              "    .dataframe thead th {\n",
              "        text-align: right;\n",
              "    }\n",
              "</style>\n",
              "<table border=\"1\" class=\"dataframe\">\n",
              "  <thead>\n",
              "    <tr style=\"text-align: right;\">\n",
              "      <th></th>\n",
              "      <th>First_Fam_Num</th>\n",
              "      <th>First_Fam_PD</th>\n",
              "      <th>Other_Fam_Num</th>\n",
              "      <th>Other_Fam_PD</th>\n",
              "      <th>AGE</th>\n",
              "      <th>Socio_Score</th>\n",
              "      <th>BJLO</th>\n",
              "      <th>ESS</th>\n",
              "      <th>GDS</th>\n",
              "      <th>HVLT_RECALL</th>\n",
              "      <th>HVLT_RECOG</th>\n",
              "      <th>HVLT_RETENT</th>\n",
              "      <th>LNS</th>\n",
              "      <th>QUIP_SEC_A</th>\n",
              "      <th>QUIP_SEC_B</th>\n",
              "      <th>QUIP_SEC_C</th>\n",
              "      <th>QUIP_SEC_D</th>\n",
              "      <th>QUIP_SEC_E</th>\n",
              "      <th>RBDSQ</th>\n",
              "      <th>SCOPA_TOTAL</th>\n",
              "      <th>SCOPA_GASTRO</th>\n",
              "      <th>SCOPA_URINARY</th>\n",
              "      <th>SCOPA_CARDIO</th>\n",
              "      <th>SCOPA_THERMO</th>\n",
              "      <th>SCOPA_PUPIL</th>\n",
              "      <th>SCOPA_SEXUAL</th>\n",
              "      <th>SFT</th>\n",
              "      <th>STAI</th>\n",
              "      <th>UPSIT</th>\n",
              "      <th>ABETA42</th>\n",
              "      <th>A_SYN</th>\n",
              "      <th>P_TAU</th>\n",
              "      <th>T_TAU</th>\n",
              "      <th>URATE</th>\n",
              "      <th>chr4_90753960_C_T</th>\n",
              "      <th>chr4_90636708_T_C</th>\n",
              "      <th>chr4_90643757_C_G</th>\n",
              "      <th>chr4_90646886_G_A</th>\n",
              "      <th>chr4_90649290_C_G</th>\n",
              "      <th>chr4_90671069_A_G</th>\n",
              "      <th>chr4_90678541_G_A</th>\n",
              "      <th>chr4_90711770_T_C</th>\n",
              "      <th>chr4_90727088_C_T</th>\n",
              "      <th>chr4_90730687_C_A</th>\n",
              "      <th>chr4_90737327_G_A</th>\n",
              "      <th>chr4_90741773_A_G</th>\n",
              "      <th>chr4_90754313_C_T</th>\n",
              "      <th>chr4_90755939_A_G</th>\n",
              "      <th>chr4_90763260_A_G</th>\n",
              "      <th>chr4_90763360_C_A</th>\n",
              "      <th>chr16_30995528_A_G</th>\n",
              "      <th>chr16_30995669_T_C</th>\n",
              "      <th>chr21_27348372_A_G</th>\n",
              "      <th>chr4_90697157_T_C</th>\n",
              "      <th>chr1_20977856_T_C</th>\n",
              "      <th>chr17_44091724_G_A</th>\n",
              "      <th>chr17_44101871_A_G</th>\n",
              "      <th>chr17_44102638_A_G</th>\n",
              "      <th>chr4_90697979_T_C</th>\n",
              "      <th>chr4_90755239_G_A</th>\n",
              "      <th>chr4_90683990_T_C</th>\n",
              "      <th>chr4_90742815_G_A</th>\n",
              "      <th>chr4_90744216_G_A</th>\n",
              "      <th>chr4_90752205_T_C</th>\n",
              "      <th>STATUS</th>\n",
              "    </tr>\n",
              "  </thead>\n",
              "  <tbody>\n",
              "    <tr>\n",
              "      <th>0</th>\n",
              "      <td>5.0</td>\n",
              "      <td>0.0</td>\n",
              "      <td>12.0</td>\n",
              "      <td>0.0</td>\n",
              "      <td>69</td>\n",
              "      <td>18.0</td>\n",
              "      <td>14.250000</td>\n",
              "      <td>5.000000</td>\n",
              "      <td>0.500000</td>\n",
              "      <td>28.125</td>\n",
              "      <td>9.125000</td>\n",
              "      <td>0.917647</td>\n",
              "      <td>11.875000</td>\n",
              "      <td>0</td>\n",
              "      <td>0</td>\n",
              "      <td>0</td>\n",
              "      <td>0</td>\n",
              "      <td>0</td>\n",
              "      <td>2</td>\n",
              "      <td>6.125000</td>\n",
              "      <td>0.625000</td>\n",
              "      <td>3.750000</td>\n",
              "      <td>0.000000</td>\n",
              "      <td>0.000000</td>\n",
              "      <td>0.000000</td>\n",
              "      <td>1.750000</td>\n",
              "      <td>56.500000</td>\n",
              "      <td>60.625000</td>\n",
              "      <td>35.0</td>\n",
              "      <td>1078.833333</td>\n",
              "      <td>1728.766667</td>\n",
              "      <td>18.6500</td>\n",
              "      <td>217.800</td>\n",
              "      <td>275.250000</td>\n",
              "      <td>0</td>\n",
              "      <td>1</td>\n",
              "      <td>1</td>\n",
              "      <td>1</td>\n",
              "      <td>1</td>\n",
              "      <td>1</td>\n",
              "      <td>1</td>\n",
              "      <td>0</td>\n",
              "      <td>1</td>\n",
              "      <td>1</td>\n",
              "      <td>1</td>\n",
              "      <td>1</td>\n",
              "      <td>1</td>\n",
              "      <td>0</td>\n",
              "      <td>0</td>\n",
              "      <td>1</td>\n",
              "      <td>1</td>\n",
              "      <td>1</td>\n",
              "      <td>1</td>\n",
              "      <td>0</td>\n",
              "      <td>1</td>\n",
              "      <td>1</td>\n",
              "      <td>1</td>\n",
              "      <td>1</td>\n",
              "      <td>0</td>\n",
              "      <td>0</td>\n",
              "      <td>0</td>\n",
              "      <td>0</td>\n",
              "      <td>0</td>\n",
              "      <td>0</td>\n",
              "      <td>0</td>\n",
              "    </tr>\n",
              "    <tr>\n",
              "      <th>1</th>\n",
              "      <td>6.0</td>\n",
              "      <td>0.0</td>\n",
              "      <td>15.5</td>\n",
              "      <td>0.0</td>\n",
              "      <td>65</td>\n",
              "      <td>16.0</td>\n",
              "      <td>14.250000</td>\n",
              "      <td>5.888889</td>\n",
              "      <td>1.666667</td>\n",
              "      <td>26.875</td>\n",
              "      <td>10.125000</td>\n",
              "      <td>1.012658</td>\n",
              "      <td>15.125000</td>\n",
              "      <td>0</td>\n",
              "      <td>1</td>\n",
              "      <td>0</td>\n",
              "      <td>0</td>\n",
              "      <td>1</td>\n",
              "      <td>12</td>\n",
              "      <td>15.444444</td>\n",
              "      <td>2.555556</td>\n",
              "      <td>6.888889</td>\n",
              "      <td>0.555556</td>\n",
              "      <td>1.000000</td>\n",
              "      <td>0.111111</td>\n",
              "      <td>4.333333</td>\n",
              "      <td>46.875000</td>\n",
              "      <td>61.666667</td>\n",
              "      <td>21.0</td>\n",
              "      <td>987.280000</td>\n",
              "      <td>1412.600000</td>\n",
              "      <td>14.8580</td>\n",
              "      <td>174.420</td>\n",
              "      <td>278.600000</td>\n",
              "      <td>1</td>\n",
              "      <td>0</td>\n",
              "      <td>0</td>\n",
              "      <td>0</td>\n",
              "      <td>0</td>\n",
              "      <td>0</td>\n",
              "      <td>0</td>\n",
              "      <td>1</td>\n",
              "      <td>1</td>\n",
              "      <td>1</td>\n",
              "      <td>1</td>\n",
              "      <td>1</td>\n",
              "      <td>1</td>\n",
              "      <td>1</td>\n",
              "      <td>1</td>\n",
              "      <td>1</td>\n",
              "      <td>1</td>\n",
              "      <td>1</td>\n",
              "      <td>1</td>\n",
              "      <td>0</td>\n",
              "      <td>0</td>\n",
              "      <td>1</td>\n",
              "      <td>1</td>\n",
              "      <td>1</td>\n",
              "      <td>0</td>\n",
              "      <td>0</td>\n",
              "      <td>0</td>\n",
              "      <td>0</td>\n",
              "      <td>0</td>\n",
              "      <td>0</td>\n",
              "      <td>1</td>\n",
              "    </tr>\n",
              "    <tr>\n",
              "      <th>2</th>\n",
              "      <td>6.0</td>\n",
              "      <td>0.0</td>\n",
              "      <td>16.0</td>\n",
              "      <td>0.0</td>\n",
              "      <td>67</td>\n",
              "      <td>16.0</td>\n",
              "      <td>12.625000</td>\n",
              "      <td>13.666667</td>\n",
              "      <td>5.333333</td>\n",
              "      <td>25.875</td>\n",
              "      <td>9.500000</td>\n",
              "      <td>1.012346</td>\n",
              "      <td>10.500000</td>\n",
              "      <td>0</td>\n",
              "      <td>0</td>\n",
              "      <td>0</td>\n",
              "      <td>1</td>\n",
              "      <td>2</td>\n",
              "      <td>11</td>\n",
              "      <td>24.555556</td>\n",
              "      <td>8.111111</td>\n",
              "      <td>7.777778</td>\n",
              "      <td>0.222222</td>\n",
              "      <td>4.666667</td>\n",
              "      <td>2.555556</td>\n",
              "      <td>1.222222</td>\n",
              "      <td>46.125000</td>\n",
              "      <td>79.222222</td>\n",
              "      <td>14.5</td>\n",
              "      <td>553.600000</td>\n",
              "      <td>2667.400000</td>\n",
              "      <td>30.4725</td>\n",
              "      <td>318.400</td>\n",
              "      <td>215.200000</td>\n",
              "      <td>1</td>\n",
              "      <td>1</td>\n",
              "      <td>1</td>\n",
              "      <td>1</td>\n",
              "      <td>1</td>\n",
              "      <td>1</td>\n",
              "      <td>1</td>\n",
              "      <td>1</td>\n",
              "      <td>1</td>\n",
              "      <td>1</td>\n",
              "      <td>1</td>\n",
              "      <td>1</td>\n",
              "      <td>1</td>\n",
              "      <td>1</td>\n",
              "      <td>1</td>\n",
              "      <td>1</td>\n",
              "      <td>1</td>\n",
              "      <td>1</td>\n",
              "      <td>0</td>\n",
              "      <td>0</td>\n",
              "      <td>1</td>\n",
              "      <td>0</td>\n",
              "      <td>0</td>\n",
              "      <td>0</td>\n",
              "      <td>0</td>\n",
              "      <td>0</td>\n",
              "      <td>0</td>\n",
              "      <td>0</td>\n",
              "      <td>0</td>\n",
              "      <td>0</td>\n",
              "      <td>1</td>\n",
              "    </tr>\n",
              "    <tr>\n",
              "      <th>3</th>\n",
              "      <td>4.0</td>\n",
              "      <td>0.0</td>\n",
              "      <td>6.0</td>\n",
              "      <td>0.0</td>\n",
              "      <td>56</td>\n",
              "      <td>16.0</td>\n",
              "      <td>13.375000</td>\n",
              "      <td>7.333333</td>\n",
              "      <td>1.111111</td>\n",
              "      <td>26.125</td>\n",
              "      <td>11.375000</td>\n",
              "      <td>0.896552</td>\n",
              "      <td>9.125000</td>\n",
              "      <td>0</td>\n",
              "      <td>0</td>\n",
              "      <td>0</td>\n",
              "      <td>1</td>\n",
              "      <td>0</td>\n",
              "      <td>8</td>\n",
              "      <td>15.555556</td>\n",
              "      <td>2.666667</td>\n",
              "      <td>9.888889</td>\n",
              "      <td>1.777778</td>\n",
              "      <td>0.888889</td>\n",
              "      <td>0.222222</td>\n",
              "      <td>0.111111</td>\n",
              "      <td>46.875000</td>\n",
              "      <td>47.111111</td>\n",
              "      <td>18.5</td>\n",
              "      <td>753.640000</td>\n",
              "      <td>814.240000</td>\n",
              "      <td>8.9880</td>\n",
              "      <td>109.200</td>\n",
              "      <td>219.166667</td>\n",
              "      <td>1</td>\n",
              "      <td>1</td>\n",
              "      <td>1</td>\n",
              "      <td>1</td>\n",
              "      <td>1</td>\n",
              "      <td>1</td>\n",
              "      <td>1</td>\n",
              "      <td>1</td>\n",
              "      <td>1</td>\n",
              "      <td>1</td>\n",
              "      <td>1</td>\n",
              "      <td>1</td>\n",
              "      <td>1</td>\n",
              "      <td>1</td>\n",
              "      <td>1</td>\n",
              "      <td>1</td>\n",
              "      <td>1</td>\n",
              "      <td>1</td>\n",
              "      <td>0</td>\n",
              "      <td>0</td>\n",
              "      <td>0</td>\n",
              "      <td>1</td>\n",
              "      <td>1</td>\n",
              "      <td>1</td>\n",
              "      <td>0</td>\n",
              "      <td>0</td>\n",
              "      <td>0</td>\n",
              "      <td>0</td>\n",
              "      <td>0</td>\n",
              "      <td>0</td>\n",
              "      <td>1</td>\n",
              "    </tr>\n",
              "    <tr>\n",
              "      <th>4</th>\n",
              "      <td>5.0</td>\n",
              "      <td>0.0</td>\n",
              "      <td>8.0</td>\n",
              "      <td>0.0</td>\n",
              "      <td>59</td>\n",
              "      <td>16.0</td>\n",
              "      <td>14.142857</td>\n",
              "      <td>8.285714</td>\n",
              "      <td>1.000000</td>\n",
              "      <td>21.000</td>\n",
              "      <td>11.571429</td>\n",
              "      <td>0.750000</td>\n",
              "      <td>11.285714</td>\n",
              "      <td>0</td>\n",
              "      <td>0</td>\n",
              "      <td>0</td>\n",
              "      <td>0</td>\n",
              "      <td>1</td>\n",
              "      <td>3</td>\n",
              "      <td>6.571429</td>\n",
              "      <td>1.571429</td>\n",
              "      <td>2.857143</td>\n",
              "      <td>0.000000</td>\n",
              "      <td>0.714286</td>\n",
              "      <td>0.000000</td>\n",
              "      <td>1.428571</td>\n",
              "      <td>53.571429</td>\n",
              "      <td>54.285714</td>\n",
              "      <td>37.5</td>\n",
              "      <td>898.875000</td>\n",
              "      <td>1014.775000</td>\n",
              "      <td>10.2075</td>\n",
              "      <td>116.795</td>\n",
              "      <td>423.600000</td>\n",
              "      <td>0</td>\n",
              "      <td>1</td>\n",
              "      <td>1</td>\n",
              "      <td>1</td>\n",
              "      <td>1</td>\n",
              "      <td>1</td>\n",
              "      <td>1</td>\n",
              "      <td>0</td>\n",
              "      <td>1</td>\n",
              "      <td>1</td>\n",
              "      <td>1</td>\n",
              "      <td>1</td>\n",
              "      <td>1</td>\n",
              "      <td>0</td>\n",
              "      <td>0</td>\n",
              "      <td>1</td>\n",
              "      <td>1</td>\n",
              "      <td>1</td>\n",
              "      <td>0</td>\n",
              "      <td>1</td>\n",
              "      <td>0</td>\n",
              "      <td>1</td>\n",
              "      <td>1</td>\n",
              "      <td>1</td>\n",
              "      <td>1</td>\n",
              "      <td>0</td>\n",
              "      <td>0</td>\n",
              "      <td>0</td>\n",
              "      <td>0</td>\n",
              "      <td>0</td>\n",
              "      <td>0</td>\n",
              "    </tr>\n",
              "  </tbody>\n",
              "</table>\n",
              "</div>"
            ],
            "text/plain": [
              "   First_Fam_Num  First_Fam_PD  ...  chr4_90752205_T_C  STATUS\n",
              "0            5.0           0.0  ...                  0       0\n",
              "1            6.0           0.0  ...                  0       1\n",
              "2            6.0           0.0  ...                  0       1\n",
              "3            4.0           0.0  ...                  0       1\n",
              "4            5.0           0.0  ...                  0       0\n",
              "\n",
              "[5 rows x 65 columns]"
            ]
          },
          "metadata": {
            "tags": []
          },
          "execution_count": 9
        }
      ]
    },
    {
      "cell_type": "markdown",
      "metadata": {
        "id": "PnmDxhLqFRpj"
      },
      "source": [
        "# **XGBoost Feature Selection**\n",
        "\n",
        "---"
      ]
    },
    {
      "cell_type": "code",
      "metadata": {
        "colab": {
          "base_uri": "https://localhost:8080/"
        },
        "id": "gWyT3pZsFXE-",
        "outputId": "21183745-b73d-4011-f2d7-919fee70af42"
      },
      "source": [
        "print(len(df))\n",
        "print(len(df.columns))\n",
        "\n",
        "input_columns=len(df.columns)-1\n",
        "output_columns=1\n",
        "\n",
        "X = df.iloc[:, 0:input_columns]\n",
        "y = df.iloc[:, -1]"
      ],
      "execution_count": 10,
      "outputs": [
        {
          "output_type": "stream",
          "text": [
            "598\n",
            "65\n"
          ],
          "name": "stdout"
        }
      ]
    },
    {
      "cell_type": "code",
      "metadata": {
        "colab": {
          "base_uri": "https://localhost:8080/",
          "height": 1000
        },
        "id": "1teAUh0DFWjn",
        "outputId": "6afbe076-0afb-4bd7-9b84-1f732803be0a"
      },
      "source": [
        "xgb_clf = xgb.XGBClassifier()\n",
        "xgb_clf.fit(X, y)\n",
        "\n",
        "feature_imp = pd.Series(xgb_clf.feature_importances_, index=X.columns).sort_values(ascending=False)\n",
        "print(len(feature_imp[feature_imp>0]))\n",
        "print(feature_imp[feature_imp>0])\n",
        "\n",
        "(feature_imp.sort_values(ascending=False).head(20)).plot(kind = 'bar', figsize = (18,6))\n",
        "plt.title(\"Visualizing Important Features - XGBoost\")\n",
        "plt.show()\n",
        "\n",
        "feaSel_xgb = list(feature_imp[feature_imp>0].index)"
      ],
      "execution_count": 11,
      "outputs": [
        {
          "output_type": "stream",
          "text": [
            "43\n",
            "UPSIT                 0.094811\n",
            "SCOPA_GASTRO          0.067680\n",
            "chr4_90755939_A_G     0.050003\n",
            "chr4_90646886_G_A     0.049105\n",
            "SCOPA_TOTAL           0.048685\n",
            "SCOPA_CARDIO          0.039982\n",
            "chr4_90697157_T_C     0.035474\n",
            "chr4_90697979_T_C     0.034329\n",
            "GDS                   0.031020\n",
            "First_Fam_PD          0.028282\n",
            "chr4_90753960_C_T     0.028086\n",
            "SCOPA_THERMO          0.023658\n",
            "chr4_90711770_T_C     0.023209\n",
            "P_TAU                 0.022592\n",
            "chr4_90649290_C_G     0.021083\n",
            "RBDSQ                 0.020657\n",
            "URATE                 0.020190\n",
            "T_TAU                 0.020047\n",
            "ABETA42               0.019230\n",
            "A_SYN                 0.018939\n",
            "STAI                  0.018280\n",
            "AGE                   0.017056\n",
            "chr4_90741773_A_G     0.016999\n",
            "SCOPA_PUPIL           0.016879\n",
            "LNS                   0.016024\n",
            "First_Fam_Num         0.015977\n",
            "Other_Fam_PD          0.015597\n",
            "chr4_90763260_A_G     0.015220\n",
            "chr4_90737327_G_A     0.014945\n",
            "HVLT_RECOG            0.014515\n",
            "SFT                   0.013695\n",
            "ESS                   0.013465\n",
            "chr4_90727088_C_T     0.013175\n",
            "BJLO                  0.012455\n",
            "HVLT_RETENT           0.012215\n",
            "SCOPA_URINARY         0.012205\n",
            "HVLT_RECALL           0.010212\n",
            "QUIP_SEC_E            0.010036\n",
            "chr4_90671069_A_G     0.009915\n",
            "chr17_44102638_A_G    0.009892\n",
            "SCOPA_SEXUAL          0.009181\n",
            "Other_Fam_Num         0.008390\n",
            "QUIP_SEC_D            0.006611\n",
            "dtype: float32\n"
          ],
          "name": "stdout"
        },
        {
          "output_type": "display_data",
          "data": {
            "image/png": "[encoded data removed]",
            "text/plain": [
              "<Figure size 1296x432 with 1 Axes>"
            ]
          },
          "metadata": {
            "tags": [],
            "needs_background": "light"
          }
        }
      ]
    },
    {
      "cell_type": "code",
      "metadata": {
        "colab": {
          "base_uri": "https://localhost:8080/",
          "height": 483
        },
        "id": "99KGJhQLLZZf",
        "outputId": "c9b8758a-4c97-4c69-e6e9-a4d60cf6286b"
      },
      "source": [
        "temp = feature_imp.sort_values(ascending=False).head(20)\n",
        "\n",
        "score = temp.values\n",
        "x = temp.index\n",
        "\n",
        "\n",
        "c = \"tab:green\"\n",
        "b = \"tab:blue\"\n",
        "g = \"tab:orange\"\n",
        "colors_list = list([c,c,g,g,c,c,g,g,c,c,g,c,g,b,g,c,b,b,b,b])\n",
        "\n",
        "plt.figure(figsize=(18,6))\n",
        "plt.bar(x, score, color=colors_list)\n",
        "plt.xticks(rotation = 90)\n",
        "plt.title(\"Visualizing Important Features - XGBoost\")\n",
        "plt.show()"
      ],
      "execution_count": 25,
      "outputs": [
        {
          "output_type": "display_data",
          "data": {
            "image/png": "[encoded data removed]",
            "text/plain": [
              "<Figure size 1296x432 with 1 Axes>"
            ]
          },
          "metadata": {
            "tags": [],
            "needs_background": "light"
          }
        }
      ]
    },
    {
      "cell_type": "markdown",
      "metadata": {
        "id": "wQdhXVd64DAC"
      },
      "source": [
        "# **ML Models**\n",
        "\n",
        "---\n"
      ]
    },
    {
      "cell_type": "code",
      "metadata": {
        "colab": {
          "base_uri": "https://localhost:8080/"
        },
        "id": "4hb-RCzu337z",
        "outputId": "f554ac74-40c3-4894-c9cb-c2095ec10a6e"
      },
      "source": [
        "df = df.sample(frac=1).reset_index(drop=True)\n",
        "print(len(df))\n",
        "print(len(df.columns))\n",
        "\n",
        "input_columns = len(df.columns)-1\n",
        "output_columns = 1"
      ],
      "execution_count": 368,
      "outputs": [
        {
          "output_type": "stream",
          "text": [
            "598\n",
            "65\n"
          ],
          "name": "stdout"
        }
      ]
    },
    {
      "cell_type": "code",
      "metadata": {
        "id": "7dk6JX-dYZzW"
      },
      "source": [
        "path = location + \"shuffled_df_early.csv\"\n",
        "df.to_csv(path, index=False)"
      ],
      "execution_count": null,
      "outputs": []
    },
    {
      "cell_type": "code",
      "metadata": {
        "colab": {
          "base_uri": "https://localhost:8080/"
        },
        "id": "GuiGsRPm4CmK",
        "outputId": "a8563606-53b8-465f-e981-546b7044aee6"
      },
      "source": [
        "train_length = int(0.8*len(df))\n",
        "test_length = int(0.2*len(df))+1\n",
        "print(train_length, test_length)"
      ],
      "execution_count": null,
      "outputs": [
        {
          "output_type": "stream",
          "text": [
            "478 120\n"
          ],
          "name": "stdout"
        }
      ]
    },
    {
      "cell_type": "code",
      "metadata": {
        "id": "udJLm_Oc4BBn"
      },
      "source": [
        "# dataset = df.values\n",
        "X = df.iloc[:train_length,0:input_columns]\n",
        "y = df.iloc[:train_length, -1]\n",
        "\n",
        "X_test = df.iloc[train_length: (train_length + test_length), 0:input_columns]\n",
        "y_test = df.iloc[train_length: (train_length + test_length), -1]"
      ],
      "execution_count": null,
      "outputs": []
    },
    {
      "cell_type": "code",
      "metadata": {
        "colab": {
          "base_uri": "https://localhost:8080/",
          "height": 387
        },
        "id": "_nxGeFKY4KSP",
        "outputId": "8915e400-077f-4c45-da48-73b65c75fd68"
      },
      "source": [
        "# Train data distribution\n",
        "count_classes = y.replace({0:\"HC\", 1:\"PD\"}).value_counts()\n",
        "print(\"Train Data distribtuion:\")\n",
        "print(count_classes)\n",
        "plt.title(\"Train Data class histogram\")\n",
        "plt.xlabel(\"Class\")\n",
        "plt.ylabel(\"Frequency\") \n",
        "count_classes.plot(kind = 'bar')"
      ],
      "execution_count": null,
      "outputs": [
        {
          "output_type": "stream",
          "text": [
            "Train Data distribtuion:\n",
            "PD    340\n",
            "HC    138\n",
            "Name: STATUS, dtype: int64\n"
          ],
          "name": "stdout"
        },
        {
          "output_type": "execute_result",
          "data": {
            "text/plain": [
              "<matplotlib.axes._subplots.AxesSubplot at 0x7f44760be250>"
            ]
          },
          "metadata": {
            "tags": []
          },
          "execution_count": 290
        },
        {
          "output_type": "display_data",
          "data": {
            "image/png": "[encoded data removed]",
            "text/plain": [
              "<Figure size 432x288 with 1 Axes>"
            ]
          },
          "metadata": {
            "tags": [],
            "needs_background": "light"
          }
        }
      ]
    },
    {
      "cell_type": "code",
      "metadata": {
        "colab": {
          "base_uri": "https://localhost:8080/",
          "height": 387
        },
        "id": "bEFBRhtL4KQh",
        "outputId": "dce24c9a-cf7d-4e8b-f08a-430b1023258a"
      },
      "source": [
        "# Test data distribution\n",
        "count_classes = y_test.replace({0:\"HC\", 1:\"PD\"}).value_counts()\n",
        "print(\"Test Data distribtuion:\")\n",
        "print(count_classes)\n",
        "plt.title(\"Test Data class histogram\")\n",
        "plt.xlabel(\"Class\")\n",
        "plt.ylabel(\"Frequency\") \n",
        "count_classes.plot(kind = 'bar')"
      ],
      "execution_count": null,
      "outputs": [
        {
          "output_type": "stream",
          "text": [
            "Test Data distribtuion:\n",
            "PD    87\n",
            "HC    33\n",
            "Name: STATUS, dtype: int64\n"
          ],
          "name": "stdout"
        },
        {
          "output_type": "execute_result",
          "data": {
            "text/plain": [
              "<matplotlib.axes._subplots.AxesSubplot at 0x7f4479f5b790>"
            ]
          },
          "metadata": {
            "tags": []
          },
          "execution_count": 291
        },
        {
          "output_type": "display_data",
          "data": {
            "image/png": "[encoded data removed]",
            "text/plain": [
              "<Figure size 432x288 with 1 Axes>"
            ]
          },
          "metadata": {
            "tags": [],
            "needs_background": "light"
          }
        }
      ]
    },
    {
      "cell_type": "code",
      "metadata": {
        "id": "ECtmLAC84KNS"
      },
      "source": [
        "scalarX = MinMaxScaler() # Normalising\n",
        "scalarX.fit(X)\n",
        "\n",
        "X = scalarX.transform(X)\n",
        "X_test = scalarX.transform(X_test)"
      ],
      "execution_count": null,
      "outputs": []
    },
    {
      "cell_type": "markdown",
      "metadata": {
        "id": "KFo-xT8BDC0n"
      },
      "source": [
        "## **Random Forest**\n",
        "\n",
        "---"
      ]
    },
    {
      "cell_type": "code",
      "metadata": {
        "colab": {
          "base_uri": "https://localhost:8080/"
        },
        "id": "sL6V8gIV4KHP",
        "outputId": "6b0894e2-a2c7-4591-9f55-5c917261466e"
      },
      "source": [
        "clf = RandomForestClassifier()\n",
        "\n",
        "# # Parameters used by our current forest\n",
        "# print('Parameters initial\\n')\n",
        "# pprint(clf.get_params())\n",
        "\n",
        "#Setting the range for class weights\n",
        "weights = np.linspace(0.8,0.99, 50)\n",
        "\n",
        "\n",
        "# specify parameters and distributions to sample from\n",
        "hp = {\n",
        "    'bootstrap': [True, False],\n",
        "      'criterion': ['gini', 'entropy'],\n",
        "      # 'n_estimators': [10, 25], \n",
        "      # 'max_features': [5, 10], \n",
        "      # 'max_depth': [10, 50, None], \n",
        "      'max_depth': np.arange(1, 40, 1),\n",
        "      'max_features': ['auto', 'sqrt', 'log2', 5, 10, 12, 15, 17, 18, 20, 23, 25],\n",
        "      # 'min_samples_leaf': [0, 1, 2, 3, 4, 5],\n",
        "      # 'min_samples_split': [1, 2, 5, 10],\n",
        "      'n_estimators': np.arange(150, 300, 50),\n",
        "      'warm_start': [True, False],\n",
        "      'class_weight': [{0:x, 1:1.0-x} for x in weights]\n",
        "      }\n",
        "# pprint(hp)\n",
        "\n",
        "# run randomized search\n",
        "print(\"\\nStarting randomized search\\n\")\n",
        "n_iter_search = 150\n",
        "n_jobs_val = -1\n",
        "random_search = RandomizedSearchCV(clf, \n",
        "                                    param_distributions=hp,\n",
        "                                    n_iter=n_iter_search,\n",
        "                                    cv=StratifiedKFold(),\n",
        "                                    verbose = 5,\n",
        "                                    scoring='roc_auc',\n",
        "                                    return_train_score = True,\n",
        "                                    n_jobs = n_jobs_val)\n",
        "\n",
        "#Train the model using the training sets y_pred=clf.predict(X_test)\n",
        "random_search.fit(X,y)\n",
        "\n",
        "pprint(random_search.best_estimator_)\n",
        "pprint(random_search.best_params_)\n",
        "pd.DataFrame(random_search.cv_results_)\n",
        "\n",
        "print(\"\\nSaving model\\n\")\n",
        "\n",
        "clf = random_search.best_estimator_\n",
        "\n",
        "#Train the model using the training sets y_pred=clf.predict(X_test)\n",
        "clf.fit(X,y)\n",
        "\n",
        "# save the model to disk\n",
        "filename = location + 'early_RF' + '.sav'\n",
        "pickle.dump(clf, open(filename, 'wb'))"
      ],
      "execution_count": null,
      "outputs": [
        {
          "output_type": "stream",
          "text": [
            "\n",
            "Starting randomized search\n",
            "\n",
            "Fitting 5 folds for each of 150 candidates, totalling 750 fits\n"
          ],
          "name": "stdout"
        },
        {
          "output_type": "stream",
          "text": [
            "[Parallel(n_jobs=-1)]: Using backend LokyBackend with 2 concurrent workers.\n",
            "[Parallel(n_jobs=-1)]: Done  14 tasks      | elapsed:    6.4s\n",
            "[Parallel(n_jobs=-1)]: Done  68 tasks      | elapsed:   27.2s\n",
            "[Parallel(n_jobs=-1)]: Done 158 tasks      | elapsed:  1.1min\n",
            "[Parallel(n_jobs=-1)]: Done 284 tasks      | elapsed:  1.9min\n",
            "[Parallel(n_jobs=-1)]: Done 446 tasks      | elapsed:  3.0min\n",
            "[Parallel(n_jobs=-1)]: Done 644 tasks      | elapsed:  4.4min\n",
            "[Parallel(n_jobs=-1)]: Done 750 out of 750 | elapsed:  5.1min finished\n"
          ],
          "name": "stderr"
        },
        {
          "output_type": "stream",
          "text": [
            "RandomForestClassifier(bootstrap=False, ccp_alpha=0.0,\n",
            "                       class_weight={0: 0.9706122448979592,\n",
            "                                     1: 0.029387755102040836},\n",
            "                       criterion='entropy', max_depth=11, max_features=15,\n",
            "                       max_leaf_nodes=None, max_samples=None,\n",
            "                       min_impurity_decrease=0.0, min_impurity_split=None,\n",
            "                       min_samples_leaf=1, min_samples_split=2,\n",
            "                       min_weight_fraction_leaf=0.0, n_estimators=200,\n",
            "                       n_jobs=None, oob_score=False, random_state=None,\n",
            "                       verbose=0, warm_start=True)\n",
            "{'bootstrap': False,\n",
            " 'class_weight': {0: 0.9706122448979592, 1: 0.029387755102040836},\n",
            " 'criterion': 'entropy',\n",
            " 'max_depth': 11,\n",
            " 'max_features': 15,\n",
            " 'n_estimators': 200,\n",
            " 'warm_start': True}\n",
            "\n",
            "Saving model\n",
            "\n"
          ],
          "name": "stdout"
        },
        {
          "output_type": "stream",
          "text": [
            "/usr/local/lib/python3.7/dist-packages/sklearn/ensemble/_forest.py:359: UserWarning: Warm-start fitting without increasing n_estimators does not fit new trees.\n",
            "  warn(\"Warm-start fitting without increasing n_estimators does not \"\n"
          ],
          "name": "stderr"
        }
      ]
    },
    {
      "cell_type": "code",
      "metadata": {
        "colab": {
          "base_uri": "https://localhost:8080/",
          "height": 508
        },
        "id": "Aoxghj-R4KEC",
        "outputId": "7cecf4f4-86fe-48bb-901d-b17488cf0ecc"
      },
      "source": [
        "# load the model from disk\n",
        "filename = location + 'early_RF' + '.sav'\n",
        "clf = pickle.load(open(filename, 'rb'))\n",
        "clf_rf = clf\n",
        "\n",
        "\n",
        "y_pred = clf.predict(X_test)\n",
        "y_pred_proba = clf.predict_proba(X_test)[:,1]\n",
        "\n",
        "print(\"AUC-ROC = \", roc_auc_score(y_test, y_pred_proba))\n",
        "print(\"AUC-PR = \", average_precision_score(y_test, y_pred_proba))\n",
        "print(\"F1 score = \", f1_score(y_test, y_pred))\n",
        "print(\"Precision = \", precision_score(y_test, y_pred))\n",
        "print(\"Recall = \", recall_score(y_test, y_pred))\n",
        "print(classification_report(y_test, y_pred))\n",
        "\n",
        "#Ploting the confusion matrix\n",
        "cf_matrix = confusion_matrix(y_test, y_pred)\n",
        "sns.heatmap(cf_matrix, annot=True)\n",
        "plt.show()"
      ],
      "execution_count": null,
      "outputs": [
        {
          "output_type": "stream",
          "text": [
            "AUC-ROC =  0.9393939393939394\n",
            "AUC-PR =  0.9795787368406754\n",
            "F1 score =  0.9230769230769231\n",
            "Precision =  0.9512195121951219\n",
            "Recall =  0.896551724137931\n",
            "              precision    recall  f1-score   support\n",
            "\n",
            "           0       0.76      0.88      0.82        33\n",
            "           1       0.95      0.90      0.92        87\n",
            "\n",
            "    accuracy                           0.89       120\n",
            "   macro avg       0.86      0.89      0.87       120\n",
            "weighted avg       0.90      0.89      0.89       120\n",
            "\n"
          ],
          "name": "stdout"
        },
        {
          "output_type": "display_data",
          "data": {
            "image/png": "[encoded data removed]",
            "text/plain": [
              "<Figure size 432x288 with 2 Axes>"
            ]
          },
          "metadata": {
            "tags": [],
            "needs_background": "light"
          }
        }
      ]
    },
    {
      "cell_type": "code",
      "metadata": {
        "colab": {
          "base_uri": "https://localhost:8080/",
          "height": 295
        },
        "id": "odKQOfrQ4KAI",
        "outputId": "43e63ebb-7801-4f96-f345-b49fad440299"
      },
      "source": [
        "ax = plt.gca()\n",
        "X_list = [X, X_test]\n",
        "y_list = [y, y_test]\n",
        "name_list = [\"Train\", \"Test\"]\n",
        "\n",
        "for i in range(2):\n",
        "    plot_roc_curve(clf, X_list[i], y_list[i], name=name_list[i], ax=ax) \n",
        "plt.plot([0,1],[0,1],'g--')\n",
        "plt.legend()\n",
        "plt.xlabel(\"True Positive Rate\")\n",
        "plt.ylabel(\"False Positive Rate\")\n",
        "plt.title(\"AUC (ROC curve) - Random Forest\")\n",
        "plt.show()"
      ],
      "execution_count": null,
      "outputs": [
        {
          "output_type": "display_data",
          "data": {
            "image/png": "[encoded data removed]",
            "text/plain": [
              "<Figure size 432x288 with 1 Axes>"
            ]
          },
          "metadata": {
            "tags": [],
            "needs_background": "light"
          }
        }
      ]
    },
    {
      "cell_type": "markdown",
      "metadata": {
        "id": "8lbFXVirDa3c"
      },
      "source": [
        "## **Gaussian Naive Bayes**\n",
        "\n",
        "---"
      ]
    },
    {
      "cell_type": "code",
      "metadata": {
        "colab": {
          "base_uri": "https://localhost:8080/"
        },
        "id": "PUpu19duDaqu",
        "outputId": "907d4285-b9ca-48ce-b82d-768698e751f2"
      },
      "source": [
        "clf = GaussianNB()\n",
        " \n",
        "# # Parameters used by our current forest\n",
        "# print('Parameters initial\\n')\n",
        "# pprint(clf.get_params())\n",
        " \n",
        "# specify parameters and distributions to sample from\n",
        "hp = {'var_smoothing': np.logspace(0,-9, num=100)}\n",
        "# pprint(hp)\n",
        " \n",
        "# run randomized search\n",
        "print(\"\\nStarting randomized search\\n\")\n",
        "n_iter_search = 200\n",
        "n_jobs_val = -1\n",
        "random_search = RandomizedSearchCV(clf, \n",
        "                                    param_distributions=hp,\n",
        "                                    n_iter=n_iter_search, \n",
        "                                    cv=StratifiedKFold(),\n",
        "                                    verbose = 5, \n",
        "                                    scoring='balanced_accuracy',\n",
        "                                    return_train_score = True,\n",
        "                                    n_jobs = n_jobs_val)\n",
        " \n",
        "#Train the model using the training sets y_pred=clf.predict(X_test)\n",
        "random_search.fit(X,y)\n",
        " \n",
        "pprint(random_search.best_estimator_)\n",
        "pprint(random_search.best_params_)\n",
        "pd.DataFrame(random_search.cv_results_)\n",
        " \n",
        "print(\"\\nSaving model\\n\")\n",
        " \n",
        "clf = random_search.best_estimator_\n",
        " \n",
        "#Train the model using the training sets y_pred=clf.predict(X_test)\n",
        "clf.fit(X,y)\n",
        " \n",
        "# save the model to disk\n",
        "filename = location + 'early_GNB_1' + '.sav'\n",
        "pickle.dump(clf, open(filename, 'wb'))"
      ],
      "execution_count": null,
      "outputs": [
        {
          "output_type": "stream",
          "text": [
            "\n",
            "Starting randomized search\n",
            "\n",
            "Fitting 5 folds for each of 100 candidates, totalling 500 fits\n"
          ],
          "name": "stdout"
        },
        {
          "output_type": "stream",
          "text": [
            "/usr/local/lib/python3.7/dist-packages/sklearn/model_selection/_search.py:281: UserWarning: The total space of parameters 100 is smaller than n_iter=200. Running 100 iterations. For exhaustive searches, use GridSearchCV.\n",
            "  % (grid_size, self.n_iter, grid_size), UserWarning)\n",
            "[Parallel(n_jobs=-1)]: Using backend LokyBackend with 2 concurrent workers.\n"
          ],
          "name": "stderr"
        },
        {
          "output_type": "stream",
          "text": [
            "GaussianNB(priors=None, var_smoothing=0.0003511191734215131)\n",
            "{'var_smoothing': 0.0003511191734215131}\n",
            "\n",
            "Saving model\n",
            "\n"
          ],
          "name": "stdout"
        },
        {
          "output_type": "stream",
          "text": [
            "[Parallel(n_jobs=-1)]: Done  44 tasks      | elapsed:    0.2s\n",
            "[Parallel(n_jobs=-1)]: Done 500 out of 500 | elapsed:    1.7s finished\n"
          ],
          "name": "stderr"
        }
      ]
    },
    {
      "cell_type": "code",
      "metadata": {
        "colab": {
          "base_uri": "https://localhost:8080/",
          "height": 509
        },
        "id": "DrpXPa7WDamm",
        "outputId": "b7d544ac-9599-491f-a62e-09186b2b3837"
      },
      "source": [
        "# load the model from disk\n",
        "filename = location + 'early_GNB_1' + '.sav'\n",
        "clf = pickle.load(open(filename, 'rb'))\n",
        "clf_gnb = clf\n",
        "\n",
        "y_pred = clf.predict(X_test)\n",
        "y_pred_proba = clf.predict_proba(X_test)[:,1]\n",
        "\n",
        "print(\"AUC-ROC = \", roc_auc_score(y_test, y_pred_proba))\n",
        "print(\"AUC-PR = \", average_precision_score(y_test, y_pred_proba))\n",
        "print(\"F1 score = \", f1_score(y_test, y_pred))\n",
        "print(\"Precision = \", precision_score(y_test, y_pred))\n",
        "print(\"Recall = \", recall_score(y_test, y_pred))\n",
        "print(classification_report(y_test, y_pred))\n",
        "\n",
        "#Ploting the confusion matrix\n",
        "cf_matrix = confusion_matrix(y_test, y_pred)\n",
        "sns.heatmap(cf_matrix, annot=True)\n",
        "plt.show()"
      ],
      "execution_count": null,
      "outputs": [
        {
          "output_type": "stream",
          "text": [
            "AUC-ROC =  0.896551724137931\n",
            "AUC-PR =  0.9592326405303124\n",
            "F1 score =  0.8079470198675496\n",
            "Precision =  0.953125\n",
            "Recall =  0.7011494252873564\n",
            "              precision    recall  f1-score   support\n",
            "\n",
            "           0       0.54      0.91      0.67        33\n",
            "           1       0.95      0.70      0.81        87\n",
            "\n",
            "    accuracy                           0.76       120\n",
            "   macro avg       0.74      0.81      0.74       120\n",
            "weighted avg       0.84      0.76      0.77       120\n",
            "\n"
          ],
          "name": "stdout"
        },
        {
          "output_type": "display_data",
          "data": {
            "image/png": "[encoded data removed]",
            "text/plain": [
              "<Figure size 432x288 with 2 Axes>"
            ]
          },
          "metadata": {
            "tags": [],
            "needs_background": "light"
          }
        }
      ]
    },
    {
      "cell_type": "code",
      "metadata": {
        "colab": {
          "base_uri": "https://localhost:8080/",
          "height": 295
        },
        "id": "0g-Q-d_KDajC",
        "outputId": "fd1ea06a-3028-4e8d-8bd9-5558b7a87abe"
      },
      "source": [
        "ax = plt.gca()\n",
        "X_list = [X, X_test]\n",
        "y_list = [y, y_test]\n",
        "name_list = [\"Train\", \"Test\"]\n",
        "\n",
        "for i in range(2):\n",
        "    plot_roc_curve(clf, X_list[i], y_list[i], name=name_list[i], ax=ax) \n",
        "plt.plot([0,1],[0,1],'g--')\n",
        "plt.legend()\n",
        "plt.xlabel(\"True Positive Rate\")\n",
        "plt.ylabel(\"False Positive Rate\")\n",
        "plt.title(\"AUC (ROC curve) - Gaussian Naive Bayes\")\n",
        "plt.show()"
      ],
      "execution_count": null,
      "outputs": [
        {
          "output_type": "display_data",
          "data": {
            "image/png": "[encoded data removed]",
            "text/plain": [
              "<Figure size 432x288 with 1 Axes>"
            ]
          },
          "metadata": {
            "tags": [],
            "needs_background": "light"
          }
        }
      ]
    },
    {
      "cell_type": "markdown",
      "metadata": {
        "id": "Ahtko9ZaDpGd"
      },
      "source": [
        "## **SVM**\n",
        "\n",
        "---"
      ]
    },
    {
      "cell_type": "code",
      "metadata": {
        "colab": {
          "base_uri": "https://localhost:8080/"
        },
        "id": "SG6lz6DEDafT",
        "outputId": "83a667c6-ff85-4641-d7cf-f4119ff530b9"
      },
      "source": [
        "clf = SVC()\n",
        "\n",
        "# # Parameters used by our current forest\n",
        "# print('Parameters initial\\n')\n",
        "# pprint(clf.get_params())\n",
        "\n",
        "# specify parameters and distributions to sample from\n",
        "hp = {'C': [0.0001, 0.001, 0.01, 0.1, 0, 1, 10, 25, 30, 35, 40, 45, 50, 55, 60, 65, 70, 75, 80, 85, 90, 95, 100],\n",
        "      'kernel': ['linear', 'poly', 'rbf', 'sigmoid'],\n",
        "      'gamma': ['scale', 'auto'],\n",
        "      'shrinking': [True, False],\n",
        "      'class_weight': [{0:x, 1:1.0-x} for x in weights],\n",
        "      'decision_function_shape': ['ovo', 'ovr']\n",
        "      }\n",
        "# pprint(hp)\n",
        "\n",
        "# run randomized search\n",
        "print(\"\\nStarting randomized search\\n\")\n",
        "n_iter_search = 150\n",
        "n_jobs_val = -1\n",
        "random_search = RandomizedSearchCV(clf, \n",
        "                                    param_distributions=hp,\n",
        "                                    n_iter=n_iter_search, \n",
        "                                    cv=StratifiedKFold(),\n",
        "                                    verbose = 5, \n",
        "                                    scoring='balanced_accuracy',\n",
        "                                    return_train_score = True,\n",
        "                                    n_jobs = n_jobs_val)\n",
        "\n",
        "#Train the model using the training sets y_pred=clf.predict(X_test)\n",
        "random_search.fit(X,y)\n",
        "\n",
        "pprint(random_search.best_estimator_)\n",
        "pprint(random_search.best_params_)\n",
        "pd.DataFrame(random_search.cv_results_)\n",
        "\n",
        "print(\"\\nSaving model\\n\")\n",
        "\n",
        "clf = random_search.best_estimator_\n",
        "\n",
        "#Train the model using the training sets y_pred=clf.predict(X_test)\n",
        "clf.fit(X,y)\n",
        "\n",
        "# save the model to disk\n",
        "filename = location + 'early_SVM' + '.sav'\n",
        "pickle.dump(clf, open(filename, 'wb'))"
      ],
      "execution_count": null,
      "outputs": [
        {
          "output_type": "stream",
          "text": [
            "\n",
            "Starting randomized search\n",
            "\n",
            "Fitting 5 folds for each of 150 candidates, totalling 750 fits\n"
          ],
          "name": "stdout"
        },
        {
          "output_type": "stream",
          "text": [
            "[Parallel(n_jobs=-1)]: Using backend LokyBackend with 2 concurrent workers.\n",
            "[Parallel(n_jobs=-1)]: Done  36 tasks      | elapsed:    0.9s\n",
            "[Parallel(n_jobs=-1)]: Done 252 tasks      | elapsed:    5.5s\n",
            "[Parallel(n_jobs=-1)]: Done 612 tasks      | elapsed:   13.8s\n"
          ],
          "name": "stderr"
        },
        {
          "output_type": "stream",
          "text": [
            "SVC(C=95, break_ties=False, cache_size=200,\n",
            "    class_weight={0: 0.9628571428571429, 1: 0.037142857142857144}, coef0=0.0,\n",
            "    decision_function_shape='ovo', degree=3, gamma='scale', kernel='linear',\n",
            "    max_iter=-1, probability=False, random_state=None, shrinking=False,\n",
            "    tol=0.001, verbose=False)\n",
            "{'C': 95,\n",
            " 'class_weight': {0: 0.9628571428571429, 1: 0.037142857142857144},\n",
            " 'decision_function_shape': 'ovo',\n",
            " 'gamma': 'scale',\n",
            " 'kernel': 'linear',\n",
            " 'shrinking': False}\n",
            "\n",
            "Saving model\n",
            "\n"
          ],
          "name": "stdout"
        },
        {
          "output_type": "stream",
          "text": [
            "[Parallel(n_jobs=-1)]: Done 750 out of 750 | elapsed:   17.3s finished\n"
          ],
          "name": "stderr"
        }
      ]
    },
    {
      "cell_type": "code",
      "metadata": {
        "colab": {
          "base_uri": "https://localhost:8080/",
          "height": 508
        },
        "id": "48FZCcb4DabX",
        "outputId": "f1a7b389-af31-4a89-b279-fe53ed753470"
      },
      "source": [
        "# load the model from disk\n",
        "filename = location + 'early_SVM_1' + '.sav'\n",
        "clf = pickle.load(open(filename, 'rb'))\n",
        "clf_svm = clf\n",
        "\n",
        "y_pred = clf.predict(X_test)\n",
        "\n",
        "fpr, tpr, _ = roc_curve(y_test, y_pred)\n",
        "print(\"AUC-ROC = \", auc(fpr,tpr))\n",
        "prec, rec, thresholds = precision_recall_curve(y_test, y_pred)\n",
        "print(\"AUC-PR = \", auc(rec, prec))\n",
        "print(\"F1 score = \", f1_score(y_test, y_pred))\n",
        "print(\"Precision = \", precision_score(y_test, y_pred))\n",
        "print(\"Recall = \", recall_score(y_test, y_pred))\n",
        "print(classification_report(y_test, y_pred))\n",
        "\n",
        "\n",
        "#Ploting the confusion matrix\n",
        "cf_matrix = confusion_matrix(y_test, y_pred)\n",
        "sns.heatmap(cf_matrix, annot=True)\n",
        "plt.show()"
      ],
      "execution_count": null,
      "outputs": [
        {
          "output_type": "stream",
          "text": [
            "AUC-ROC =  0.9216300940438872\n",
            "AUC-PR =  0.9761214360352292\n",
            "F1 score =  0.9268292682926829\n",
            "Precision =  0.987012987012987\n",
            "Recall =  0.8735632183908046\n",
            "              precision    recall  f1-score   support\n",
            "\n",
            "           0       0.74      0.97      0.84        33\n",
            "           1       0.99      0.87      0.93        87\n",
            "\n",
            "    accuracy                           0.90       120\n",
            "   macro avg       0.87      0.92      0.88       120\n",
            "weighted avg       0.92      0.90      0.90       120\n",
            "\n"
          ],
          "name": "stdout"
        },
        {
          "output_type": "display_data",
          "data": {
            "image/png": "[encoded data removed]",
            "text/plain": [
              "<Figure size 432x288 with 2 Axes>"
            ]
          },
          "metadata": {
            "tags": [],
            "needs_background": "light"
          }
        }
      ]
    },
    {
      "cell_type": "code",
      "metadata": {
        "colab": {
          "base_uri": "https://localhost:8080/",
          "height": 382
        },
        "id": "yaFGNMRdDaXo",
        "outputId": "698857d8-e7e1-434f-ff37-d38c98fbea96"
      },
      "source": [
        "ax = plt.gca()\n",
        "X_list = [X, X_test]\n",
        "y_list = [y, y_test]\n",
        "name_list = [\"Train\", \"Test\"]\n",
        "\n",
        "print(clf)\n",
        "\n",
        "for i in range(2):\n",
        "  plot_roc_curve(clf, X_list[i], y_list[i], name=name_list[i], ax=ax) \n",
        "plt.plot([0,1],[0,1],'g--')\n",
        "plt.legend()\n",
        "plt.xlabel(\"True Positive Rate\")\n",
        "plt.ylabel(\"False Positive Rate\")\n",
        "plt.title(\"AUC (ROC curve) - SVM\")\n",
        "plt.show()"
      ],
      "execution_count": null,
      "outputs": [
        {
          "output_type": "stream",
          "text": [
            "SVC(C=25, break_ties=False, cache_size=200,\n",
            "    class_weight={0: 0.8077551020408164, 1: 0.19224489795918365}, coef0=0.0,\n",
            "    decision_function_shape='ovr', degree=3, gamma='scale', kernel='linear',\n",
            "    max_iter=-1, probability=False, random_state=None, shrinking=True,\n",
            "    tol=0.001, verbose=False)\n"
          ],
          "name": "stdout"
        },
        {
          "output_type": "display_data",
          "data": {
            "image/png": "[encoded data removed]",
            "text/plain": [
              "<Figure size 432x288 with 1 Axes>"
            ]
          },
          "metadata": {
            "tags": [],
            "needs_background": "light"
          }
        }
      ]
    },
    {
      "cell_type": "markdown",
      "metadata": {
        "id": "xOh2Af0ZD89s"
      },
      "source": [
        "## **Logistic Regression**\n",
        "\n",
        "---"
      ]
    },
    {
      "cell_type": "code",
      "metadata": {
        "colab": {
          "base_uri": "https://localhost:8080/"
        },
        "id": "fQXU4RXUD-MY",
        "outputId": "2ab2db5c-f508-4249-fb13-281f32bc7389"
      },
      "source": [
        "clf = LogisticRegression()\n",
        "\n",
        "# # Parameters used by our current forest\n",
        "# print('Parameters initial\\n')\n",
        "# pprint(clf.get_params())\n",
        "\n",
        "# specify parameters and distributions to sample from\n",
        "hp = {'C': [0.0001, 0.001, 0.01, 0.1, 0, 1, 10, 25, 50, 75, 100],\n",
        "      'penalty': ['l1', 'l2', 'elasticnet'],\n",
        "      'solver': ['newton-cg', 'lbfgs', 'liblinear', 'sag', 'saga'],\n",
        "      'class_weight': [{0:x, 1:1.0-x} for x in weights],\n",
        "      'multi_class': ['multinomial', 'ovr', 'auto'],\n",
        "      'warm_start': [True, False],\n",
        "      'l1_ratio': np.arange(0, 1.1, 0.1),\n",
        "      'random_state': [81]\n",
        "      }\n",
        "# pprint(hp)\n",
        "\n",
        "# run randomized search\n",
        "print(\"\\nStarting randomized search\\n\")\n",
        "n_iter_search = 1500\n",
        "n_jobs_val = -1\n",
        "random_search = RandomizedSearchCV(clf, \n",
        "                                    param_distributions=hp,\n",
        "                                    n_iter=n_iter_search, \n",
        "                                    cv=StratifiedKFold(),\n",
        "                                    verbose = 5, \n",
        "                                    scoring='roc_auc',\n",
        "                                    return_train_score = True,\n",
        "                                    n_jobs = n_jobs_val)\n",
        "\n",
        "#Train the model using the training sets y_pred=clf.predict(X_test)\n",
        "random_search.fit(X,y)\n",
        "\n",
        "pprint(random_search.best_estimator_)\n",
        "pprint(random_search.best_params_)\n",
        "pd.DataFrame(random_search.cv_results_)\n",
        "\n",
        "print(\"\\nSaving model\\n\")\n",
        "\n",
        "clf = random_search.best_estimator_\n",
        "\n",
        "#Train the model using the training sets y_pred=clf.predict(X_test)\n",
        "clf.fit(X,y)\n",
        "\n",
        "# save the model to disk\n",
        "filename = location + 'early_logReg' + '.sav'\n",
        "pickle.dump(clf, open(filename, 'wb'))"
      ],
      "execution_count": null,
      "outputs": [
        {
          "output_type": "stream",
          "text": [
            "\n",
            "Starting randomized search\n",
            "\n",
            "Fitting 5 folds for each of 1500 candidates, totalling 7500 fits\n"
          ],
          "name": "stdout"
        },
        {
          "output_type": "stream",
          "text": [
            "[Parallel(n_jobs=-1)]: Using backend LokyBackend with 2 concurrent workers.\n",
            "[Parallel(n_jobs=-1)]: Done  44 tasks      | elapsed:    0.3s\n",
            "[Parallel(n_jobs=-1)]: Done 892 tasks      | elapsed:   10.2s\n",
            "[Parallel(n_jobs=-1)]: Done 2332 tasks      | elapsed:   23.7s\n",
            "[Parallel(n_jobs=-1)]: Done 4348 tasks      | elapsed:   45.6s\n",
            "[Parallel(n_jobs=-1)]: Done 6940 tasks      | elapsed:  1.2min\n"
          ],
          "name": "stderr"
        },
        {
          "output_type": "stream",
          "text": [
            "LogisticRegression(C=10,\n",
            "                   class_weight={0: 0.943469387755102, 1: 0.05653061224489797},\n",
            "                   dual=False, fit_intercept=True, intercept_scaling=1,\n",
            "                   l1_ratio=0.4, max_iter=100, multi_class='auto', n_jobs=None,\n",
            "                   penalty='l1', random_state=81, solver='liblinear',\n",
            "                   tol=0.0001, verbose=0, warm_start=False)\n",
            "{'C': 10,\n",
            " 'class_weight': {0: 0.943469387755102, 1: 0.05653061224489797},\n",
            " 'l1_ratio': 0.4,\n",
            " 'multi_class': 'auto',\n",
            " 'penalty': 'l1',\n",
            " 'random_state': 81,\n",
            " 'solver': 'liblinear',\n",
            " 'warm_start': False}\n",
            "\n",
            "Saving model\n",
            "\n"
          ],
          "name": "stdout"
        },
        {
          "output_type": "stream",
          "text": [
            "[Parallel(n_jobs=-1)]: Done 7500 out of 7500 | elapsed:  1.3min finished\n",
            "/usr/local/lib/python3.7/dist-packages/sklearn/linear_model/_logistic.py:1501: UserWarning: l1_ratio parameter is only used when penalty is 'elasticnet'. Got (penalty=l1)\n",
            "  \"(penalty={})\".format(self.penalty))\n",
            "/usr/local/lib/python3.7/dist-packages/sklearn/linear_model/_logistic.py:1501: UserWarning: l1_ratio parameter is only used when penalty is 'elasticnet'. Got (penalty=l1)\n",
            "  \"(penalty={})\".format(self.penalty))\n"
          ],
          "name": "stderr"
        }
      ]
    },
    {
      "cell_type": "code",
      "metadata": {
        "colab": {
          "base_uri": "https://localhost:8080/",
          "height": 509
        },
        "id": "SiZAR1bjD-HH",
        "outputId": "9acee5db-6c5a-449a-ff9f-6a4bf5b9c78a"
      },
      "source": [
        "# load the model from disk\n",
        "filename = location + 'early_logReg' + '.sav'\n",
        "clf = pickle.load(open(filename, 'rb'))\n",
        "clf_logReg = clf\n",
        "\n",
        "y_pred = clf.predict(X_test)\n",
        "y_pred_proba = clf.predict_proba(X_test)[:,1]\n",
        "\n",
        "print(\"AUC-ROC = \", roc_auc_score(y_test, y_pred_proba))\n",
        "print(\"AUC-PR = \", average_precision_score(y_test, y_pred_proba))\n",
        "print(\"F1 score = \", f1_score(y_test, y_pred))\n",
        "print(\"Precision = \", precision_score(y_test, y_pred))\n",
        "print(\"Recall = \", recall_score(y_test, y_pred))\n",
        "print(classification_report(y_test, y_pred))\n",
        "\n",
        "#Ploting the confusion matrix\n",
        "cf_matrix = confusion_matrix(y_test, y_pred)\n",
        "sns.heatmap(cf_matrix, annot=True)\n",
        "plt.show()"
      ],
      "execution_count": null,
      "outputs": [
        {
          "output_type": "stream",
          "text": [
            "AUC-ROC =  0.9494949494949494\n",
            "AUC-PR =  0.9794888259081541\n",
            "F1 score =  0.8133333333333334\n",
            "Precision =  0.9682539682539683\n",
            "Recall =  0.7011494252873564\n",
            "              precision    recall  f1-score   support\n",
            "\n",
            "           0       0.54      0.94      0.69        33\n",
            "           1       0.97      0.70      0.81        87\n",
            "\n",
            "    accuracy                           0.77       120\n",
            "   macro avg       0.76      0.82      0.75       120\n",
            "weighted avg       0.85      0.77      0.78       120\n",
            "\n"
          ],
          "name": "stdout"
        },
        {
          "output_type": "display_data",
          "data": {
            "image/png": "[encoded data removed]",
            "text/plain": [
              "<Figure size 432x288 with 2 Axes>"
            ]
          },
          "metadata": {
            "tags": [],
            "needs_background": "light"
          }
        }
      ]
    },
    {
      "cell_type": "code",
      "metadata": {
        "colab": {
          "base_uri": "https://localhost:8080/",
          "height": 399
        },
        "id": "skLmt6e9D9uL",
        "outputId": "0757ea1d-a010-4993-b855-0591f22af25b"
      },
      "source": [
        "ax = plt.gca()\n",
        "X_list = [X, X_test]\n",
        "y_list = [y, y_test]\n",
        "name_list = [\"Train\", \"Test\"]\n",
        "\n",
        "print(clf)\n",
        "\n",
        "for i in range(2):\n",
        "  plot_roc_curve(clf, X_list[i], y_list[i], name=name_list[i], ax=ax) \n",
        "plt.plot([0,1],[0,1],'g--')\n",
        "plt.legend()\n",
        "plt.xlabel(\"True Positive Rate\")\n",
        "plt.ylabel(\"False Positive Rate\")\n",
        "plt.title(\"AUC (ROC curve) - Logistic Regression\")\n",
        "plt.show()"
      ],
      "execution_count": null,
      "outputs": [
        {
          "output_type": "stream",
          "text": [
            "LogisticRegression(C=10,\n",
            "                   class_weight={0: 0.943469387755102, 1: 0.05653061224489797},\n",
            "                   dual=False, fit_intercept=True, intercept_scaling=1,\n",
            "                   l1_ratio=0.4, max_iter=100, multi_class='auto', n_jobs=None,\n",
            "                   penalty='l1', random_state=81, solver='liblinear',\n",
            "                   tol=0.0001, verbose=0, warm_start=False)\n"
          ],
          "name": "stdout"
        },
        {
          "output_type": "display_data",
          "data": {
            "image/png": "[encoded data removed]",
            "text/plain": [
              "<Figure size 432x288 with 1 Axes>"
            ]
          },
          "metadata": {
            "tags": [],
            "needs_background": "light"
          }
        }
      ]
    },
    {
      "cell_type": "markdown",
      "metadata": {
        "id": "GIh3oaosEM_t"
      },
      "source": [
        "## **Stochastic Gradient Descent**\n",
        "\n",
        "---"
      ]
    },
    {
      "cell_type": "code",
      "metadata": {
        "colab": {
          "base_uri": "https://localhost:8080/"
        },
        "id": "oDUauWwuDaTX",
        "outputId": "cb9b5b37-68fd-4fcb-b187-163988084919"
      },
      "source": [
        "clf = SGDClassifier()\n",
        "\n",
        "# # Parameters used by our current forest\n",
        "# print('Parameters initial\\n')\n",
        "# pprint(clf.get_params())\n",
        "\n",
        "# specify parameters and distributions to sample from\n",
        "hp = {'alpha': [0.0001, 0.001, 0.01, 0.1,0.15,0.2,0.5,0.8,1],\n",
        "      'l1_ratio': [0,0.1,0.15,0.18,0.2,0.3],\n",
        "      'loss': ['log'],\n",
        "      'class_weight': [{0:x, 1:1.0-x} for x in weights],\n",
        "      'random_state': [81],\n",
        "      'tol': [None]\n",
        "      }\n",
        "# pprint(hp)\n",
        "\n",
        "# run randomized search\n",
        "print(\"\\nStarting randomized search\\n\")\n",
        "n_iter_search = 300\n",
        "n_jobs_val = -1\n",
        "random_search = RandomizedSearchCV(clf, \n",
        "                                    param_distributions=hp,\n",
        "                                    n_iter=n_iter_search, \n",
        "                                    cv=StratifiedKFold(),\n",
        "                                    verbose = 5, \n",
        "                                    scoring='balanced_accuracy',\n",
        "                                    return_train_score = True,\n",
        "                                    n_jobs = n_jobs_val)\n",
        "\n",
        "#Train the model using the training sets y_pred=clf.predict(X_test)\n",
        "random_search.fit(X,y)\n",
        "\n",
        "pprint(random_search.best_estimator_)\n",
        "pprint(random_search.best_params_)\n",
        "pd.DataFrame(random_search.cv_results_)\n",
        "\n",
        "print(\"\\nSaving model\\n\")\n",
        "\n",
        "clf = random_search.best_estimator_\n",
        "\n",
        "#Train the model using the training sets y_pred=clf.predict(X_test)\n",
        "clf.fit(X,y)\n",
        "\n",
        "# save the model to disk\n",
        "filename = location + 'early_SGD_1' + '.sav'\n",
        "pickle.dump(clf, open(filename, 'wb'))"
      ],
      "execution_count": null,
      "outputs": [
        {
          "output_type": "stream",
          "text": [
            "\n",
            "Starting randomized search\n",
            "\n",
            "Fitting 5 folds for each of 300 candidates, totalling 1500 fits\n"
          ],
          "name": "stdout"
        },
        {
          "output_type": "stream",
          "text": [
            "[Parallel(n_jobs=-1)]: Using backend LokyBackend with 2 concurrent workers.\n",
            "[Parallel(n_jobs=-1)]: Done  24 tasks      | elapsed:    2.3s\n",
            "[Parallel(n_jobs=-1)]: Done 132 tasks      | elapsed:   12.6s\n",
            "[Parallel(n_jobs=-1)]: Done 312 tasks      | elapsed:   29.6s\n",
            "[Parallel(n_jobs=-1)]: Done 564 tasks      | elapsed:   53.4s\n",
            "[Parallel(n_jobs=-1)]: Done 888 tasks      | elapsed:  1.4min\n",
            "[Parallel(n_jobs=-1)]: Done 1284 tasks      | elapsed:  2.0min\n",
            "[Parallel(n_jobs=-1)]: Done 1500 out of 1500 | elapsed:  2.4min finished\n"
          ],
          "name": "stderr"
        },
        {
          "output_type": "stream",
          "text": [
            "SGDClassifier(alpha=0.0001, average=False,\n",
            "              class_weight={0: 0.8155102040816327, 1: 0.18448979591836734},\n",
            "              early_stopping=False, epsilon=0.1, eta0=0.0, fit_intercept=True,\n",
            "              l1_ratio=0.3, learning_rate='optimal', loss='log', max_iter=1000,\n",
            "              n_iter_no_change=5, n_jobs=None, penalty='l2', power_t=0.5,\n",
            "              random_state=81, shuffle=True, tol=None, validation_fraction=0.1,\n",
            "              verbose=0, warm_start=False)\n",
            "{'alpha': 0.0001,\n",
            " 'class_weight': {0: 0.8155102040816327, 1: 0.18448979591836734},\n",
            " 'l1_ratio': 0.3,\n",
            " 'loss': 'log',\n",
            " 'random_state': 81,\n",
            " 'tol': None}\n",
            "\n",
            "Saving model\n",
            "\n"
          ],
          "name": "stdout"
        }
      ]
    },
    {
      "cell_type": "code",
      "metadata": {
        "colab": {
          "base_uri": "https://localhost:8080/",
          "height": 508
        },
        "id": "YPhi1bYtJp4M",
        "outputId": "1e62cd3d-16b5-418d-e285-9e2db657568e"
      },
      "source": [
        "# load the model from disk\n",
        "filename = location + 'early_SGD_1' + '.sav'\n",
        "clf = pickle.load(open(filename, 'rb'))\n",
        "clf_SGD = clf\n",
        "\n",
        "y_pred = clf.predict(X_test)\n",
        "y_pred_proba = clf.predict_proba(X_test)[:,1]\n",
        "\n",
        "print(\"AUC-ROC = \", roc_auc_score(y_test, y_pred_proba))\n",
        "print(\"AUC-PR = \", average_precision_score(y_test, y_pred_proba))\n",
        "print(\"F1 score = \", f1_score(y_test, y_pred))\n",
        "print(\"Precision = \", precision_score(y_test, y_pred))\n",
        "print(\"Recall = \", recall_score(y_test, y_pred))\n",
        "print(classification_report(y_test, y_pred))\n",
        "\n",
        "#Ploting the confusion matrix\n",
        "cf_matrix = confusion_matrix(y_test, y_pred)\n",
        "sns.heatmap(cf_matrix, annot=True)\n",
        "plt.show()"
      ],
      "execution_count": null,
      "outputs": [
        {
          "output_type": "stream",
          "text": [
            "AUC-ROC =  0.9272030651340996\n",
            "AUC-PR =  0.9687756614317432\n",
            "F1 score =  0.9101796407185629\n",
            "Precision =  0.95\n",
            "Recall =  0.8735632183908046\n",
            "              precision    recall  f1-score   support\n",
            "\n",
            "           0       0.72      0.88      0.79        33\n",
            "           1       0.95      0.87      0.91        87\n",
            "\n",
            "    accuracy                           0.88       120\n",
            "   macro avg       0.84      0.88      0.85       120\n",
            "weighted avg       0.89      0.88      0.88       120\n",
            "\n"
          ],
          "name": "stdout"
        },
        {
          "output_type": "display_data",
          "data": {
            "image/png": "[encoded data removed]",
            "text/plain": [
              "<Figure size 432x288 with 2 Axes>"
            ]
          },
          "metadata": {
            "tags": [],
            "needs_background": "light"
          }
        }
      ]
    },
    {
      "cell_type": "code",
      "metadata": {
        "colab": {
          "base_uri": "https://localhost:8080/",
          "height": 417
        },
        "id": "LA4PVpREJpvJ",
        "outputId": "0a800589-4423-4de0-db6e-a6ca1a44e160"
      },
      "source": [
        "ax = plt.gca()\n",
        "X_list = [X, X_test]\n",
        "y_list = [y, y_test]\n",
        "name_list = [\"Train\", \"Test\"]\n",
        "\n",
        "print(clf)\n",
        "\n",
        "for i in range(2):\n",
        "  plot_roc_curve(clf, X_list[i], y_list[i], name=name_list[i], ax=ax) \n",
        "plt.plot([0,1],[0,1],'g--')\n",
        "plt.legend()\n",
        "plt.xlabel(\"True Positive Rate\")\n",
        "plt.ylabel(\"False Positive Rate\")\n",
        "plt.title(\"AUC (ROC curve) - SGD\")\n",
        "plt.show()"
      ],
      "execution_count": null,
      "outputs": [
        {
          "output_type": "stream",
          "text": [
            "SGDClassifier(alpha=0.0001, average=False,\n",
            "              class_weight={0: 0.8155102040816327, 1: 0.18448979591836734},\n",
            "              early_stopping=False, epsilon=0.1, eta0=0.0, fit_intercept=True,\n",
            "              l1_ratio=0.3, learning_rate='optimal', loss='log', max_iter=1000,\n",
            "              n_iter_no_change=5, n_jobs=None, penalty='l2', power_t=0.5,\n",
            "              random_state=81, shuffle=True, tol=None, validation_fraction=0.1,\n",
            "              verbose=0, warm_start=False)\n"
          ],
          "name": "stdout"
        },
        {
          "output_type": "display_data",
          "data": {
            "image/png": "[encoded data removed]",
            "text/plain": [
              "<Figure size 432x288 with 1 Axes>"
            ]
          },
          "metadata": {
            "tags": [],
            "needs_background": "light"
          }
        }
      ]
    },
    {
      "cell_type": "markdown",
      "metadata": {
        "id": "ahHF0eZOJwls"
      },
      "source": [
        "## **ROC Curve**\n",
        "\n",
        "---"
      ]
    },
    {
      "cell_type": "code",
      "metadata": {
        "colab": {
          "base_uri": "https://localhost:8080/",
          "height": 295
        },
        "id": "QqHnJifOJvNX",
        "outputId": "f1e65ad9-e873-4579-912d-0c8ebcb75a8c"
      },
      "source": [
        "ax = plt.gca()\n",
        "classifiers = [clf_rf, clf_gnb, clf_svm, clf_logReg, clf_SGD]\n",
        "\n",
        "for i in classifiers:\n",
        "    plot_roc_curve(i, X_test, y_test, ax=ax)\n",
        "plt.plot(fpr_test, tpr_test, label='ANN (AUC = {:.2f})'.format(auc_test))\n",
        "plt.plot([0,1],[0,1],'g--')\n",
        "plt.legend()\n",
        "plt.xlabel(\"True Positive Rate\")\n",
        "plt.ylabel(\"False Positive Rate\")\n",
        "plt.title(\"AUC (ROC curve)\")\n",
        "plt.show()"
      ],
      "execution_count": null,
      "outputs": [
        {
          "output_type": "display_data",
          "data": {
            "image/png": "[encoded data removed]",
            "text/plain": [
              "<Figure size 432x288 with 1 Axes>"
            ]
          },
          "metadata": {
            "tags": [],
            "needs_background": "light"
          }
        }
      ]
    },
    {
      "cell_type": "markdown",
      "metadata": {
        "id": "q93g5nDfJz0w"
      },
      "source": [
        "# **ANN**\n",
        "\n",
        "---"
      ]
    },
    {
      "cell_type": "code",
      "metadata": {
        "colab": {
          "base_uri": "https://localhost:8080/"
        },
        "id": "TUiO9R0rMF-h",
        "outputId": "2e8c44e2-ce17-4491-a85d-7c818c132ef7"
      },
      "source": [
        "# # Load XGBoost Features\n",
        "# file = open(location + \"feaSel_xgb.txt\", \"r\")\n",
        "# retain_list = []\n",
        "# counter = 0\n",
        "# for line in file:\n",
        "#   counter +=1\n",
        "#   if(counter > 0):\n",
        "#     retain_list.append(line[:-1])\n",
        "\n",
        "# print(len(retain_list))"
      ],
      "execution_count": null,
      "outputs": [
        {
          "output_type": "stream",
          "text": [
            "93\n"
          ],
          "name": "stdout"
        }
      ]
    },
    {
      "cell_type": "code",
      "metadata": {
        "colab": {
          "base_uri": "https://localhost:8080/",
          "height": 226
        },
        "id": "t0igAzJQMHfl",
        "outputId": "8fd4ac5f-0ca9-47cc-f3a9-9acc214b3768"
      },
      "source": [
        "# # Retain only XGBoost Features\n",
        "# retain_list = retain_list[:10]\n",
        "\n",
        "# all_columns = df.columns\n",
        "# drop_list = []\n",
        "# for i in all_columns:\n",
        "#   if(i not in retain_list and i != \"STATUS\" and i.startswith(\"chr\") == True):\n",
        "#     drop_list.append(i)\n",
        "\n",
        "# df = df.drop(columns = drop_list, axis = 1)\n",
        "df.head()"
      ],
      "execution_count": null,
      "outputs": [
        {
          "output_type": "execute_result",
          "data": {
            "text/html": [
              "<div>\n",
              "<style scoped>\n",
              "    .dataframe tbody tr th:only-of-type {\n",
              "        vertical-align: middle;\n",
              "    }\n",
              "\n",
              "    .dataframe tbody tr th {\n",
              "        vertical-align: top;\n",
              "    }\n",
              "\n",
              "    .dataframe thead th {\n",
              "        text-align: right;\n",
              "    }\n",
              "</style>\n",
              "<table border=\"1\" class=\"dataframe\">\n",
              "  <thead>\n",
              "    <tr style=\"text-align: right;\">\n",
              "      <th></th>\n",
              "      <th>First_Fam_Num</th>\n",
              "      <th>First_Fam_PD</th>\n",
              "      <th>Other_Fam_Num</th>\n",
              "      <th>Other_Fam_PD</th>\n",
              "      <th>AGE</th>\n",
              "      <th>Socio_Score</th>\n",
              "      <th>BJLO</th>\n",
              "      <th>ESS</th>\n",
              "      <th>GDS</th>\n",
              "      <th>HVLT_RECALL</th>\n",
              "      <th>HVLT_RECOG</th>\n",
              "      <th>HVLT_RETENT</th>\n",
              "      <th>LNS</th>\n",
              "      <th>QUIP_SEC_A</th>\n",
              "      <th>QUIP_SEC_B</th>\n",
              "      <th>QUIP_SEC_C</th>\n",
              "      <th>QUIP_SEC_D</th>\n",
              "      <th>QUIP_SEC_E</th>\n",
              "      <th>RBDSQ</th>\n",
              "      <th>SCOPA_TOTAL</th>\n",
              "      <th>SCOPA_GASTRO</th>\n",
              "      <th>SCOPA_URINARY</th>\n",
              "      <th>SCOPA_CARDIO</th>\n",
              "      <th>SCOPA_THERMO</th>\n",
              "      <th>SCOPA_PUPIL</th>\n",
              "      <th>SCOPA_SEXUAL</th>\n",
              "      <th>SFT</th>\n",
              "      <th>STAI</th>\n",
              "      <th>UPSIT</th>\n",
              "      <th>ABETA42</th>\n",
              "      <th>A_SYN</th>\n",
              "      <th>P_TAU</th>\n",
              "      <th>T_TAU</th>\n",
              "      <th>URATE</th>\n",
              "      <th>chr4_90753960_C_T</th>\n",
              "      <th>chr4_90649290_C_G</th>\n",
              "      <th>chr4_90671069_A_G</th>\n",
              "      <th>chr4_90678541_G_A</th>\n",
              "      <th>chr4_90711770_T_C</th>\n",
              "      <th>chr4_90741773_A_G</th>\n",
              "      <th>chr4_90754313_C_T</th>\n",
              "      <th>chr16_30995528_A_G</th>\n",
              "      <th>chr1_20977856_T_C</th>\n",
              "      <th>chr4_90697979_T_C</th>\n",
              "      <th>STATUS</th>\n",
              "    </tr>\n",
              "  </thead>\n",
              "  <tbody>\n",
              "    <tr>\n",
              "      <th>0</th>\n",
              "      <td>3.0</td>\n",
              "      <td>0.0</td>\n",
              "      <td>4.0</td>\n",
              "      <td>0.0</td>\n",
              "      <td>71</td>\n",
              "      <td>10.0</td>\n",
              "      <td>8.500000</td>\n",
              "      <td>2.8</td>\n",
              "      <td>1.200000</td>\n",
              "      <td>16.500000</td>\n",
              "      <td>8.250000</td>\n",
              "      <td>0.346154</td>\n",
              "      <td>3.000000</td>\n",
              "      <td>0</td>\n",
              "      <td>0</td>\n",
              "      <td>0</td>\n",
              "      <td>0</td>\n",
              "      <td>0</td>\n",
              "      <td>3</td>\n",
              "      <td>7.200000</td>\n",
              "      <td>3.200000</td>\n",
              "      <td>2.200000</td>\n",
              "      <td>0.000000</td>\n",
              "      <td>1.400000</td>\n",
              "      <td>0.4</td>\n",
              "      <td>0.000000</td>\n",
              "      <td>20.500000</td>\n",
              "      <td>51.400000</td>\n",
              "      <td>14.0</td>\n",
              "      <td>1067.300</td>\n",
              "      <td>1900.333333</td>\n",
              "      <td>18.1200</td>\n",
              "      <td>195.733333</td>\n",
              "      <td>302.000000</td>\n",
              "      <td>1</td>\n",
              "      <td>1</td>\n",
              "      <td>1</td>\n",
              "      <td>1</td>\n",
              "      <td>1</td>\n",
              "      <td>1</td>\n",
              "      <td>1</td>\n",
              "      <td>1</td>\n",
              "      <td>0</td>\n",
              "      <td>0</td>\n",
              "      <td>1</td>\n",
              "    </tr>\n",
              "    <tr>\n",
              "      <th>1</th>\n",
              "      <td>8.0</td>\n",
              "      <td>0.0</td>\n",
              "      <td>12.0</td>\n",
              "      <td>0.0</td>\n",
              "      <td>68</td>\n",
              "      <td>16.0</td>\n",
              "      <td>13.800000</td>\n",
              "      <td>5.5</td>\n",
              "      <td>1.166667</td>\n",
              "      <td>23.600000</td>\n",
              "      <td>9.000000</td>\n",
              "      <td>0.645833</td>\n",
              "      <td>8.000000</td>\n",
              "      <td>0</td>\n",
              "      <td>0</td>\n",
              "      <td>1</td>\n",
              "      <td>0</td>\n",
              "      <td>0</td>\n",
              "      <td>6</td>\n",
              "      <td>18.666667</td>\n",
              "      <td>6.333333</td>\n",
              "      <td>4.833333</td>\n",
              "      <td>1.666667</td>\n",
              "      <td>2.666667</td>\n",
              "      <td>1.0</td>\n",
              "      <td>2.166667</td>\n",
              "      <td>49.800000</td>\n",
              "      <td>47.166667</td>\n",
              "      <td>30.0</td>\n",
              "      <td>1104.950</td>\n",
              "      <td>2179.100000</td>\n",
              "      <td>20.6000</td>\n",
              "      <td>259.350000</td>\n",
              "      <td>222.000000</td>\n",
              "      <td>1</td>\n",
              "      <td>1</td>\n",
              "      <td>1</td>\n",
              "      <td>1</td>\n",
              "      <td>1</td>\n",
              "      <td>1</td>\n",
              "      <td>1</td>\n",
              "      <td>1</td>\n",
              "      <td>0</td>\n",
              "      <td>0</td>\n",
              "      <td>1</td>\n",
              "    </tr>\n",
              "    <tr>\n",
              "      <th>2</th>\n",
              "      <td>10.0</td>\n",
              "      <td>0.0</td>\n",
              "      <td>9.0</td>\n",
              "      <td>0.0</td>\n",
              "      <td>57</td>\n",
              "      <td>12.0</td>\n",
              "      <td>13.142857</td>\n",
              "      <td>8.0</td>\n",
              "      <td>0.857143</td>\n",
              "      <td>24.571429</td>\n",
              "      <td>11.571429</td>\n",
              "      <td>0.945205</td>\n",
              "      <td>10.428571</td>\n",
              "      <td>0</td>\n",
              "      <td>0</td>\n",
              "      <td>0</td>\n",
              "      <td>1</td>\n",
              "      <td>1</td>\n",
              "      <td>4</td>\n",
              "      <td>5.857143</td>\n",
              "      <td>1.142857</td>\n",
              "      <td>3.857143</td>\n",
              "      <td>0.000000</td>\n",
              "      <td>0.000000</td>\n",
              "      <td>0.0</td>\n",
              "      <td>0.857143</td>\n",
              "      <td>45.714286</td>\n",
              "      <td>50.428571</td>\n",
              "      <td>37.5</td>\n",
              "      <td>1138.825</td>\n",
              "      <td>1722.100000</td>\n",
              "      <td>15.6775</td>\n",
              "      <td>178.925000</td>\n",
              "      <td>383.200000</td>\n",
              "      <td>1</td>\n",
              "      <td>1</td>\n",
              "      <td>0</td>\n",
              "      <td>0</td>\n",
              "      <td>1</td>\n",
              "      <td>1</td>\n",
              "      <td>1</td>\n",
              "      <td>1</td>\n",
              "      <td>0</td>\n",
              "      <td>0</td>\n",
              "      <td>0</td>\n",
              "    </tr>\n",
              "    <tr>\n",
              "      <th>3</th>\n",
              "      <td>7.0</td>\n",
              "      <td>0.0</td>\n",
              "      <td>8.0</td>\n",
              "      <td>0.0</td>\n",
              "      <td>55</td>\n",
              "      <td>16.0</td>\n",
              "      <td>14.200000</td>\n",
              "      <td>4.6</td>\n",
              "      <td>0.600000</td>\n",
              "      <td>27.600000</td>\n",
              "      <td>11.000000</td>\n",
              "      <td>1.037736</td>\n",
              "      <td>11.000000</td>\n",
              "      <td>0</td>\n",
              "      <td>0</td>\n",
              "      <td>0</td>\n",
              "      <td>0</td>\n",
              "      <td>0</td>\n",
              "      <td>5</td>\n",
              "      <td>9.600000</td>\n",
              "      <td>3.000000</td>\n",
              "      <td>3.000000</td>\n",
              "      <td>0.800000</td>\n",
              "      <td>1.600000</td>\n",
              "      <td>0.0</td>\n",
              "      <td>1.200000</td>\n",
              "      <td>45.800000</td>\n",
              "      <td>43.600000</td>\n",
              "      <td>35.0</td>\n",
              "      <td>853.200</td>\n",
              "      <td>1185.300000</td>\n",
              "      <td>10.6800</td>\n",
              "      <td>128.750000</td>\n",
              "      <td>235.600000</td>\n",
              "      <td>0</td>\n",
              "      <td>1</td>\n",
              "      <td>1</td>\n",
              "      <td>1</td>\n",
              "      <td>0</td>\n",
              "      <td>1</td>\n",
              "      <td>1</td>\n",
              "      <td>1</td>\n",
              "      <td>0</td>\n",
              "      <td>1</td>\n",
              "      <td>0</td>\n",
              "    </tr>\n",
              "    <tr>\n",
              "      <th>4</th>\n",
              "      <td>7.0</td>\n",
              "      <td>0.0</td>\n",
              "      <td>12.0</td>\n",
              "      <td>0.0</td>\n",
              "      <td>65</td>\n",
              "      <td>16.0</td>\n",
              "      <td>12.625000</td>\n",
              "      <td>7.8</td>\n",
              "      <td>1.500000</td>\n",
              "      <td>16.750000</td>\n",
              "      <td>8.875000</td>\n",
              "      <td>0.727273</td>\n",
              "      <td>6.500000</td>\n",
              "      <td>0</td>\n",
              "      <td>1</td>\n",
              "      <td>0</td>\n",
              "      <td>0</td>\n",
              "      <td>0</td>\n",
              "      <td>6</td>\n",
              "      <td>4.200000</td>\n",
              "      <td>0.300000</td>\n",
              "      <td>3.700000</td>\n",
              "      <td>0.000000</td>\n",
              "      <td>0.100000</td>\n",
              "      <td>0.1</td>\n",
              "      <td>0.000000</td>\n",
              "      <td>25.875000</td>\n",
              "      <td>61.100000</td>\n",
              "      <td>24.0</td>\n",
              "      <td>1379.000</td>\n",
              "      <td>2193.900000</td>\n",
              "      <td>16.3600</td>\n",
              "      <td>206.100000</td>\n",
              "      <td>258.428571</td>\n",
              "      <td>1</td>\n",
              "      <td>1</td>\n",
              "      <td>1</td>\n",
              "      <td>1</td>\n",
              "      <td>1</td>\n",
              "      <td>1</td>\n",
              "      <td>1</td>\n",
              "      <td>1</td>\n",
              "      <td>1</td>\n",
              "      <td>0</td>\n",
              "      <td>1</td>\n",
              "    </tr>\n",
              "  </tbody>\n",
              "</table>\n",
              "</div>"
            ],
            "text/plain": [
              "   First_Fam_Num  First_Fam_PD  ...  chr4_90697979_T_C  STATUS\n",
              "0            3.0           0.0  ...                  0       1\n",
              "1            8.0           0.0  ...                  0       1\n",
              "2           10.0           0.0  ...                  0       0\n",
              "3            7.0           0.0  ...                  1       0\n",
              "4            7.0           0.0  ...                  0       1\n",
              "\n",
              "[5 rows x 45 columns]"
            ]
          },
          "metadata": {
            "tags": []
          },
          "execution_count": 377
        }
      ]
    },
    {
      "cell_type": "code",
      "metadata": {
        "colab": {
          "base_uri": "https://localhost:8080/"
        },
        "id": "2_ZmiHYjMJMr",
        "outputId": "c5fb4ec3-3ad1-49bd-ce87-fa53509c70a5"
      },
      "source": [
        "print(len(df))\n",
        "print(len(df.columns))\n",
        "\n",
        "input_columns = len(df.columns)-1\n",
        "output_columns = 1"
      ],
      "execution_count": null,
      "outputs": [
        {
          "output_type": "stream",
          "text": [
            "598\n",
            "65\n"
          ],
          "name": "stdout"
        }
      ]
    },
    {
      "cell_type": "markdown",
      "metadata": {
        "id": "sy7TRu93J29B"
      },
      "source": [
        "#### **Defining Train_data, Val_data and Test data**\n",
        "\n",
        "---"
      ]
    },
    {
      "cell_type": "code",
      "metadata": {
        "colab": {
          "base_uri": "https://localhost:8080/"
        },
        "id": "C_gXG2TmJvDp",
        "outputId": "30c4cb8b-4ff0-4433-8de6-8b61caea2770"
      },
      "source": [
        "dataset = df.values\n",
        "\n",
        "train_length = int(0.6*len(df))\n",
        "val_length = int(0.2*len(df))+1\n",
        "test_length = int(0.2*len(df))+1\n",
        "\n",
        "X1 = dataset[:train_length,0:input_columns]\n",
        "y1 = dataset[:train_length, -1].reshape(train_length, 1)\n",
        "\n",
        "X1_valid = dataset[train_length: (train_length + val_length), 0:input_columns]\n",
        "y1_valid = dataset[train_length: (train_length + val_length), -1].reshape(val_length, 1)\n",
        "\n",
        "X1_test = dataset[(train_length + val_length): (train_length + val_length + test_length), 0:input_columns]\n",
        "y1_test = dataset[(train_length + val_length): (train_length + val_length + test_length), -1].reshape(test_length, 1)\n",
        "\n",
        "# USING CLASS WEIGHTS\n",
        "class_weights = dict(zip(np.unique(y1.flatten()), class_weight.compute_class_weight('balanced', np.unique(y1.flatten()), y1.flatten())))\n",
        "\n",
        "scalarX = MinMaxScaler()\n",
        "scalarX.fit(X1)\n",
        "\n",
        "X1 = scalarX.transform(X1)\n",
        "X1_valid = scalarX.transform(X1_valid)\n",
        "X1_test = scalarX.transform(X1_test)\n",
        "\n",
        "print(len(X1), len(X1_valid), len(X1_test))\n",
        "print(len(X1[0]), len(X1_valid[0]), len(X1_test[0]))"
      ],
      "execution_count": null,
      "outputs": [
        {
          "output_type": "stream",
          "text": [
            "358 120 120\n",
            "64 64 64\n"
          ],
          "name": "stdout"
        }
      ]
    },
    {
      "cell_type": "code",
      "metadata": {
        "colab": {
          "base_uri": "https://localhost:8080/",
          "height": 387
        },
        "id": "qD9PSi-FK-7V",
        "outputId": "996e753f-6695-4461-cbc2-3d953f0d62d9"
      },
      "source": [
        "# Train data distribution\n",
        "count_classes = df.iloc[:train_length, -1].replace({0:\"HC\", 1:\"PD\"}).value_counts()\n",
        "print(\"Train Data distribtuion:\")\n",
        "print(count_classes)\n",
        "plt.title(\"Train Data class histogram\")\n",
        "plt.xlabel(\"Class\")\n",
        "plt.ylabel(\"Frequency\") \n",
        "count_classes.plot(kind = 'bar')"
      ],
      "execution_count": null,
      "outputs": [
        {
          "output_type": "stream",
          "text": [
            "Train Data distribtuion:\n",
            "PD    252\n",
            "HC    106\n",
            "Name: STATUS, dtype: int64\n"
          ],
          "name": "stdout"
        },
        {
          "output_type": "execute_result",
          "data": {
            "text/plain": [
              "<matplotlib.axes._subplots.AxesSubplot at 0x7f4479234410>"
            ]
          },
          "metadata": {
            "tags": []
          },
          "execution_count": 341
        },
        {
          "output_type": "display_data",
          "data": {
            "image/png": "[encoded data removed]",
            "text/plain": [
              "<Figure size 432x288 with 1 Axes>"
            ]
          },
          "metadata": {
            "tags": [],
            "needs_background": "light"
          }
        }
      ]
    },
    {
      "cell_type": "code",
      "metadata": {
        "colab": {
          "base_uri": "https://localhost:8080/",
          "height": 387
        },
        "id": "PQPq8LWOLAUt",
        "outputId": "8a86ac9b-6202-49c4-bd18-da12079bbeb0"
      },
      "source": [
        "# Val data distribution\n",
        "count_classes = df.iloc[train_length: (train_length + val_length), -1].replace({0:\"HC\", 1:\"PD\"}).value_counts()\n",
        "print(\"Val Data distribtuion:\")\n",
        "print(count_classes)\n",
        "plt.title(\"Val Data class histogram\")\n",
        "plt.xlabel(\"Class\")\n",
        "plt.ylabel(\"Frequency\") \n",
        "count_classes.plot(kind = 'bar')"
      ],
      "execution_count": null,
      "outputs": [
        {
          "output_type": "stream",
          "text": [
            "Val Data distribtuion:\n",
            "PD    88\n",
            "HC    32\n",
            "Name: STATUS, dtype: int64\n"
          ],
          "name": "stdout"
        },
        {
          "output_type": "execute_result",
          "data": {
            "text/plain": [
              "<matplotlib.axes._subplots.AxesSubplot at 0x7f4478eef710>"
            ]
          },
          "metadata": {
            "tags": []
          },
          "execution_count": 342
        },
        {
          "output_type": "display_data",
          "data": {
            "image/png": "[encoded data removed]",
            "text/plain": [
              "<Figure size 432x288 with 1 Axes>"
            ]
          },
          "metadata": {
            "tags": [],
            "needs_background": "light"
          }
        }
      ]
    },
    {
      "cell_type": "code",
      "metadata": {
        "colab": {
          "base_uri": "https://localhost:8080/",
          "height": 379
        },
        "id": "4IU46sofLAuG",
        "outputId": "2e7c70a4-2f15-494d-fd89-2c70821612aa"
      },
      "source": [
        "# Test data distribution\n",
        "count_classes = df.iloc[(train_length + val_length): (train_length + val_length + test_length), -1].value_counts()\n",
        "print(\"Test Data distribtuion:\")\n",
        "print(count_classes)\n",
        "plt.title(\"Test Data class histogram\")\n",
        "plt.xlabel(\"Class\")\n",
        "plt.ylabel(\"Frequency\") \n",
        "count_classes.plot(kind = 'bar')"
      ],
      "execution_count": null,
      "outputs": [
        {
          "output_type": "stream",
          "text": [
            "Test Data distribtuion:\n",
            "1    87\n",
            "0    33\n",
            "Name: STATUS, dtype: int64\n"
          ],
          "name": "stdout"
        },
        {
          "output_type": "execute_result",
          "data": {
            "text/plain": [
              "<matplotlib.axes._subplots.AxesSubplot at 0x7f4478eb83d0>"
            ]
          },
          "metadata": {
            "tags": []
          },
          "execution_count": 343
        },
        {
          "output_type": "display_data",
          "data": {
            "image/png": "[encoded data removed]",
            "text/plain": [
              "<Figure size 432x288 with 1 Axes>"
            ]
          },
          "metadata": {
            "tags": [],
            "needs_background": "light"
          }
        }
      ]
    },
    {
      "cell_type": "code",
      "metadata": {
        "colab": {
          "base_uri": "https://localhost:8080/"
        },
        "id": "enDw8RexLTZj",
        "outputId": "ff6fcf80-4f3e-4f70-ca87-4890544a6cce"
      },
      "source": [
        "model = Sequential()\n",
        "model.add(Dense(2, input_dim=input_columns, activation='relu'))\n",
        "# model.add(Dense(16, activation='relu'))\n",
        "# model.add(Dense(8, activation='relu'))\n",
        "# model.add(Dense(4, activation='relu'))\n",
        "model.add(Dense(output_columns, activation='sigmoid'))\n",
        "model.compile(loss='binary_crossentropy', optimizer='adam')\n",
        "print(model.summary())"
      ],
      "execution_count": null,
      "outputs": [
        {
          "output_type": "stream",
          "text": [
            "Model: \"sequential_3\"\n",
            "_________________________________________________________________\n",
            "Layer (type)                 Output Shape              Param #   \n",
            "=================================================================\n",
            "dense_6 (Dense)              (None, 2)                 130       \n",
            "_________________________________________________________________\n",
            "dense_7 (Dense)              (None, 1)                 3         \n",
            "=================================================================\n",
            "Total params: 133\n",
            "Trainable params: 133\n",
            "Non-trainable params: 0\n",
            "_________________________________________________________________\n",
            "None\n"
          ],
          "name": "stdout"
        }
      ]
    },
    {
      "cell_type": "code",
      "metadata": {
        "colab": {
          "base_uri": "https://localhost:8080/"
        },
        "id": "X0-N6s-pLb3O",
        "outputId": "f3a8b771-6549-4cd4-ab1b-1115ffb28d2e"
      },
      "source": [
        "batch_size = 5\n",
        "num_epoch = 100\n",
        "output = model.fit(X1, y1, batch_size = batch_size, epochs=num_epoch, verbose=1,\n",
        "                   class_weight=class_weights, validation_data=(X1_valid, y1_valid))"
      ],
      "execution_count": null,
      "outputs": [
        {
          "output_type": "stream",
          "text": [
            "Epoch 1/100\n",
            "72/72 [==============================] - 1s 3ms/step - loss: 0.9080 - val_loss: 0.7031\n",
            "Epoch 2/100\n",
            "72/72 [==============================] - 0s 2ms/step - loss: 0.7595 - val_loss: 0.7251\n",
            "Epoch 3/100\n",
            "72/72 [==============================] - 0s 2ms/step - loss: 0.6971 - val_loss: 0.7382\n",
            "Epoch 4/100\n",
            "72/72 [==============================] - 0s 2ms/step - loss: 0.6961 - val_loss: 0.7197\n",
            "Epoch 5/100\n",
            "72/72 [==============================] - 0s 2ms/step - loss: 0.6884 - val_loss: 0.7194\n",
            "Epoch 6/100\n",
            "72/72 [==============================] - 0s 2ms/step - loss: 0.6755 - val_loss: 0.7105\n",
            "Epoch 7/100\n",
            "72/72 [==============================] - 0s 2ms/step - loss: 0.6585 - val_loss: 0.7069\n",
            "Epoch 8/100\n",
            "72/72 [==============================] - 0s 2ms/step - loss: 0.6453 - val_loss: 0.6995\n",
            "Epoch 9/100\n",
            "72/72 [==============================] - 0s 2ms/step - loss: 0.6708 - val_loss: 0.6977\n",
            "Epoch 10/100\n",
            "72/72 [==============================] - 0s 2ms/step - loss: 0.6441 - val_loss: 0.6955\n",
            "Epoch 11/100\n",
            "72/72 [==============================] - 0s 2ms/step - loss: 0.6444 - val_loss: 0.6878\n",
            "Epoch 12/100\n",
            "72/72 [==============================] - 0s 2ms/step - loss: 0.6211 - val_loss: 0.6859\n",
            "Epoch 13/100\n",
            "72/72 [==============================] - 0s 2ms/step - loss: 0.6391 - val_loss: 0.6802\n",
            "Epoch 14/100\n",
            "72/72 [==============================] - 0s 2ms/step - loss: 0.6217 - val_loss: 0.6743\n",
            "Epoch 15/100\n",
            "72/72 [==============================] - 0s 2ms/step - loss: 0.6074 - val_loss: 0.6755\n",
            "Epoch 16/100\n",
            "72/72 [==============================] - 0s 2ms/step - loss: 0.5889 - val_loss: 0.6615\n",
            "Epoch 17/100\n",
            "72/72 [==============================] - 0s 2ms/step - loss: 0.6018 - val_loss: 0.6460\n",
            "Epoch 18/100\n",
            "72/72 [==============================] - 0s 2ms/step - loss: 0.5931 - val_loss: 0.6529\n",
            "Epoch 19/100\n",
            "72/72 [==============================] - 0s 2ms/step - loss: 0.5631 - val_loss: 0.6467\n",
            "Epoch 20/100\n",
            "72/72 [==============================] - 0s 2ms/step - loss: 0.5585 - val_loss: 0.6484\n",
            "Epoch 21/100\n",
            "72/72 [==============================] - 0s 2ms/step - loss: 0.5699 - val_loss: 0.6309\n",
            "Epoch 22/100\n",
            "72/72 [==============================] - 0s 2ms/step - loss: 0.5518 - val_loss: 0.6179\n",
            "Epoch 23/100\n",
            "72/72 [==============================] - 0s 2ms/step - loss: 0.5408 - val_loss: 0.6291\n",
            "Epoch 24/100\n",
            "72/72 [==============================] - 0s 2ms/step - loss: 0.5247 - val_loss: 0.6192\n",
            "Epoch 25/100\n",
            "72/72 [==============================] - 0s 2ms/step - loss: 0.5294 - val_loss: 0.6272\n",
            "Epoch 26/100\n",
            "72/72 [==============================] - 0s 2ms/step - loss: 0.5449 - val_loss: 0.6076\n",
            "Epoch 27/100\n",
            "72/72 [==============================] - 0s 2ms/step - loss: 0.5026 - val_loss: 0.6022\n",
            "Epoch 28/100\n",
            "72/72 [==============================] - 0s 2ms/step - loss: 0.4988 - val_loss: 0.5812\n",
            "Epoch 29/100\n",
            "72/72 [==============================] - 0s 2ms/step - loss: 0.5149 - val_loss: 0.5903\n",
            "Epoch 30/100\n",
            "72/72 [==============================] - 0s 2ms/step - loss: 0.4670 - val_loss: 0.5864\n",
            "Epoch 31/100\n",
            "72/72 [==============================] - 0s 2ms/step - loss: 0.4832 - val_loss: 0.5762\n",
            "Epoch 32/100\n",
            "72/72 [==============================] - 0s 2ms/step - loss: 0.4839 - val_loss: 0.5631\n",
            "Epoch 33/100\n",
            "72/72 [==============================] - 0s 2ms/step - loss: 0.4699 - val_loss: 0.5737\n",
            "Epoch 34/100\n",
            "72/72 [==============================] - 0s 2ms/step - loss: 0.4544 - val_loss: 0.5757\n",
            "Epoch 35/100\n",
            "72/72 [==============================] - 0s 2ms/step - loss: 0.4435 - val_loss: 0.5407\n",
            "Epoch 36/100\n",
            "72/72 [==============================] - 0s 2ms/step - loss: 0.4517 - val_loss: 0.5504\n",
            "Epoch 37/100\n",
            "72/72 [==============================] - 0s 2ms/step - loss: 0.4428 - val_loss: 0.5584\n",
            "Epoch 38/100\n",
            "72/72 [==============================] - 0s 2ms/step - loss: 0.4623 - val_loss: 0.5405\n",
            "Epoch 39/100\n",
            "72/72 [==============================] - 0s 2ms/step - loss: 0.4326 - val_loss: 0.5461\n",
            "Epoch 40/100\n",
            "72/72 [==============================] - 0s 2ms/step - loss: 0.4572 - val_loss: 0.5380\n",
            "Epoch 41/100\n",
            "72/72 [==============================] - 0s 2ms/step - loss: 0.4505 - val_loss: 0.5280\n",
            "Epoch 42/100\n",
            "72/72 [==============================] - 0s 2ms/step - loss: 0.4294 - val_loss: 0.5190\n",
            "Epoch 43/100\n",
            "72/72 [==============================] - 0s 2ms/step - loss: 0.4205 - val_loss: 0.5046\n",
            "Epoch 44/100\n",
            "72/72 [==============================] - 0s 2ms/step - loss: 0.4281 - val_loss: 0.4946\n",
            "Epoch 45/100\n",
            "72/72 [==============================] - 0s 2ms/step - loss: 0.4158 - val_loss: 0.4916\n",
            "Epoch 46/100\n",
            "72/72 [==============================] - 0s 2ms/step - loss: 0.4257 - val_loss: 0.4959\n",
            "Epoch 47/100\n",
            "72/72 [==============================] - 0s 2ms/step - loss: 0.4096 - val_loss: 0.4877\n",
            "Epoch 48/100\n",
            "72/72 [==============================] - 0s 2ms/step - loss: 0.3851 - val_loss: 0.5007\n",
            "Epoch 49/100\n",
            "72/72 [==============================] - 0s 2ms/step - loss: 0.4208 - val_loss: 0.4948\n",
            "Epoch 50/100\n",
            "72/72 [==============================] - 0s 2ms/step - loss: 0.3920 - val_loss: 0.4829\n",
            "Epoch 51/100\n",
            "72/72 [==============================] - 0s 2ms/step - loss: 0.4207 - val_loss: 0.4835\n",
            "Epoch 52/100\n",
            "72/72 [==============================] - 0s 2ms/step - loss: 0.3843 - val_loss: 0.4775\n",
            "Epoch 53/100\n",
            "72/72 [==============================] - 0s 2ms/step - loss: 0.3809 - val_loss: 0.4665\n",
            "Epoch 54/100\n",
            "72/72 [==============================] - 0s 2ms/step - loss: 0.3578 - val_loss: 0.4621\n",
            "Epoch 55/100\n",
            "72/72 [==============================] - 0s 2ms/step - loss: 0.4043 - val_loss: 0.4721\n",
            "Epoch 56/100\n",
            "72/72 [==============================] - 0s 2ms/step - loss: 0.3710 - val_loss: 0.4666\n",
            "Epoch 57/100\n",
            "72/72 [==============================] - 0s 2ms/step - loss: 0.3672 - val_loss: 0.4583\n",
            "Epoch 58/100\n",
            "72/72 [==============================] - 0s 2ms/step - loss: 0.3535 - val_loss: 0.4574\n",
            "Epoch 59/100\n",
            "72/72 [==============================] - 0s 2ms/step - loss: 0.3454 - val_loss: 0.4527\n",
            "Epoch 60/100\n",
            "72/72 [==============================] - 0s 2ms/step - loss: 0.3853 - val_loss: 0.4479\n",
            "Epoch 61/100\n",
            "72/72 [==============================] - 0s 2ms/step - loss: 0.3597 - val_loss: 0.4502\n",
            "Epoch 62/100\n",
            "72/72 [==============================] - 0s 2ms/step - loss: 0.3481 - val_loss: 0.4275\n",
            "Epoch 63/100\n",
            "72/72 [==============================] - 0s 2ms/step - loss: 0.3395 - val_loss: 0.4398\n",
            "Epoch 64/100\n",
            "72/72 [==============================] - 0s 2ms/step - loss: 0.3789 - val_loss: 0.4300\n",
            "Epoch 65/100\n",
            "72/72 [==============================] - 0s 2ms/step - loss: 0.3562 - val_loss: 0.4408\n",
            "Epoch 66/100\n",
            "72/72 [==============================] - 0s 2ms/step - loss: 0.3415 - val_loss: 0.4407\n",
            "Epoch 67/100\n",
            "72/72 [==============================] - 0s 2ms/step - loss: 0.3592 - val_loss: 0.4053\n",
            "Epoch 68/100\n",
            "72/72 [==============================] - 0s 2ms/step - loss: 0.3614 - val_loss: 0.4361\n",
            "Epoch 69/100\n",
            "72/72 [==============================] - 0s 2ms/step - loss: 0.3223 - val_loss: 0.4184\n",
            "Epoch 70/100\n",
            "72/72 [==============================] - 0s 2ms/step - loss: 0.3102 - val_loss: 0.4125\n",
            "Epoch 71/100\n",
            "72/72 [==============================] - 0s 2ms/step - loss: 0.3328 - val_loss: 0.4184\n",
            "Epoch 72/100\n",
            "72/72 [==============================] - 0s 2ms/step - loss: 0.3031 - val_loss: 0.4139\n",
            "Epoch 73/100\n",
            "72/72 [==============================] - 0s 2ms/step - loss: 0.3503 - val_loss: 0.4220\n",
            "Epoch 74/100\n",
            "72/72 [==============================] - 0s 2ms/step - loss: 0.3282 - val_loss: 0.4165\n",
            "Epoch 75/100\n",
            "72/72 [==============================] - 0s 2ms/step - loss: 0.3226 - val_loss: 0.4135\n",
            "Epoch 76/100\n",
            "72/72 [==============================] - 0s 2ms/step - loss: 0.3354 - val_loss: 0.4050\n",
            "Epoch 77/100\n",
            "72/72 [==============================] - 0s 2ms/step - loss: 0.3735 - val_loss: 0.3912\n",
            "Epoch 78/100\n",
            "72/72 [==============================] - 0s 2ms/step - loss: 0.2879 - val_loss: 0.4036\n",
            "Epoch 79/100\n",
            "72/72 [==============================] - 0s 2ms/step - loss: 0.2705 - val_loss: 0.4152\n",
            "Epoch 80/100\n",
            "72/72 [==============================] - 0s 2ms/step - loss: 0.3678 - val_loss: 0.4091\n",
            "Epoch 81/100\n",
            "72/72 [==============================] - 0s 2ms/step - loss: 0.2952 - val_loss: 0.3920\n",
            "Epoch 82/100\n",
            "72/72 [==============================] - 0s 2ms/step - loss: 0.3082 - val_loss: 0.3937\n",
            "Epoch 83/100\n",
            "72/72 [==============================] - 0s 2ms/step - loss: 0.3258 - val_loss: 0.3566\n",
            "Epoch 84/100\n",
            "72/72 [==============================] - 0s 2ms/step - loss: 0.3726 - val_loss: 0.3680\n",
            "Epoch 85/100\n",
            "72/72 [==============================] - 0s 2ms/step - loss: 0.2558 - val_loss: 0.3824\n",
            "Epoch 86/100\n",
            "72/72 [==============================] - 0s 2ms/step - loss: 0.2849 - val_loss: 0.3581\n",
            "Epoch 87/100\n",
            "72/72 [==============================] - 0s 2ms/step - loss: 0.2856 - val_loss: 0.4133\n",
            "Epoch 88/100\n",
            "72/72 [==============================] - 0s 2ms/step - loss: 0.2992 - val_loss: 0.3494\n",
            "Epoch 89/100\n",
            "72/72 [==============================] - 0s 2ms/step - loss: 0.2815 - val_loss: 0.3528\n",
            "Epoch 90/100\n",
            "72/72 [==============================] - 0s 2ms/step - loss: 0.2562 - val_loss: 0.4059\n",
            "Epoch 91/100\n",
            "72/72 [==============================] - 0s 2ms/step - loss: 0.2859 - val_loss: 0.3651\n",
            "Epoch 92/100\n",
            "72/72 [==============================] - 0s 2ms/step - loss: 0.3008 - val_loss: 0.3642\n",
            "Epoch 93/100\n",
            "72/72 [==============================] - 0s 2ms/step - loss: 0.2565 - val_loss: 0.3692\n",
            "Epoch 94/100\n",
            "72/72 [==============================] - 0s 2ms/step - loss: 0.2592 - val_loss: 0.3546\n",
            "Epoch 95/100\n",
            "72/72 [==============================] - 0s 2ms/step - loss: 0.3338 - val_loss: 0.3545\n",
            "Epoch 96/100\n",
            "72/72 [==============================] - 0s 2ms/step - loss: 0.2733 - val_loss: 0.3274\n",
            "Epoch 97/100\n",
            "72/72 [==============================] - 0s 2ms/step - loss: 0.2633 - val_loss: 0.3470\n",
            "Epoch 98/100\n",
            "72/72 [==============================] - 0s 2ms/step - loss: 0.2623 - val_loss: 0.3526\n",
            "Epoch 99/100\n",
            "72/72 [==============================] - 0s 2ms/step - loss: 0.2548 - val_loss: 0.3460\n",
            "Epoch 100/100\n",
            "72/72 [==============================] - 0s 2ms/step - loss: 0.2798 - val_loss: 0.3788\n"
          ],
          "name": "stdout"
        }
      ]
    },
    {
      "cell_type": "code",
      "metadata": {
        "colab": {
          "base_uri": "https://localhost:8080/",
          "height": 386
        },
        "id": "VhWF8h4SLbrr",
        "outputId": "ee2d0557-a319-44d3-92c1-3e7a70dcb07c"
      },
      "source": [
        "fig = plt.figure()\n",
        "plt.figure(figsize=(8,5))\n",
        "plt.plot(output.history['loss'])\n",
        "plt.plot(output.history['val_loss'])\n",
        "plt.title('Loss vs Epoch')\n",
        "plt.ylabel('Loss')\n",
        "plt.xlabel('# Epoch')\n",
        "plt.legend(['train', 'val'], loc='upper right')\n",
        "\n",
        "plt.tight_layout()"
      ],
      "execution_count": null,
      "outputs": [
        {
          "output_type": "display_data",
          "data": {
            "text/plain": [
              "<Figure size 432x288 with 0 Axes>"
            ]
          },
          "metadata": {
            "tags": []
          }
        },
        {
          "output_type": "display_data",
          "data": {
            "image/png": "[encoded data removed]",
            "text/plain": [
              "<Figure size 576x360 with 1 Axes>"
            ]
          },
          "metadata": {
            "tags": [],
            "needs_background": "light"
          }
        }
      ]
    },
    {
      "cell_type": "markdown",
      "metadata": {
        "id": "m6jZHjttMq5U"
      },
      "source": [
        "### **Save Model**"
      ]
    },
    {
      "cell_type": "code",
      "metadata": {
        "colab": {
          "base_uri": "https://localhost:8080/"
        },
        "id": "QIWaU2A3MpOd",
        "outputId": "e402407c-5a48-460b-d4ff-429b8f0393b0"
      },
      "source": [
        "# Saving the model\n",
        "print(\"\\nSaving model\")\n",
        "# serialize model to JSON\n",
        "model_json = model.to_json()\n",
        "with open(location + \"early_ann.json\", \"w\") as json_file:\n",
        "    json_file.write(model_json)\n",
        "print(\"Saved model as json\")\n",
        "# serialize weights to HDF5\n",
        "model.save_weights(location + \"early_ann_wt.h5\")\n",
        "print(\"Saved model weights\")"
      ],
      "execution_count": null,
      "outputs": [
        {
          "output_type": "stream",
          "text": [
            "\n",
            "Saving model\n",
            "Saved model as json\n",
            "Saved model weights\n"
          ],
          "name": "stdout"
        }
      ]
    },
    {
      "cell_type": "markdown",
      "metadata": {
        "id": "NrPYGrWDogQ4"
      },
      "source": [
        "### **Load Model**"
      ]
    },
    {
      "cell_type": "code",
      "metadata": {
        "colab": {
          "base_uri": "https://localhost:8080/"
        },
        "id": "4cQ6lg_hoivT",
        "outputId": "ed69fab7-eac3-45a7-b8cd-0f55922e988c"
      },
      "source": [
        "print(\"\\nLoading Model\")\n",
        "# load json and create model\n",
        "path = location + \"early_ann.json\" \n",
        "json_file = open(path, 'r')\n",
        "loaded_model_json = json_file.read()\n",
        "json_file.close()\n",
        "loaded_model = model_from_json(loaded_model_json)\n",
        "# load weights into new model\n",
        "path = location + \"early_ann_wt.h5\" \n",
        "loaded_model.load_weights(path)\n",
        "print(\"Loaded model from disk\")\n",
        "\n",
        "# evaluate loaded model on test data\n",
        "print(\"\\nEvaluating Model\")\n",
        "loaded_model.compile(loss='binary_crossentropy', optimizer='adam')\n",
        "score = loaded_model.evaluate(X1_valid, y1_valid, verbose=1)\n",
        "print(\"Evaluated Model\")\n",
        "print(\"%s: %f\" % (loaded_model.metrics_names[0], score))"
      ],
      "execution_count": null,
      "outputs": [
        {
          "output_type": "stream",
          "text": [
            "\n",
            "Loading Model\n",
            "Loaded model from disk\n",
            "\n",
            "Evaluating Model\n",
            "4/4 [==============================] - 0s 2ms/step - loss: 0.3519\n",
            "Evaluated Model\n",
            "loss: 0.344305\n"
          ],
          "name": "stdout"
        }
      ]
    },
    {
      "cell_type": "code",
      "metadata": {
        "id": "OIY_gDsnpJTz"
      },
      "source": [
        "model = loaded_model"
      ],
      "execution_count": null,
      "outputs": []
    },
    {
      "cell_type": "markdown",
      "metadata": {
        "id": "OoqmAnbgMyWe"
      },
      "source": [
        "# **Model Evaluation**\n",
        "\n",
        "---"
      ]
    },
    {
      "cell_type": "code",
      "metadata": {
        "colab": {
          "base_uri": "https://localhost:8080/",
          "height": 347
        },
        "id": "_McJoAWfjjeq",
        "outputId": "61e00b34-e6e5-40b6-df7e-1fd3ff3c609c"
      },
      "source": [
        "pred = model.predict(X1)\n",
        "# train_y_pred = np.where(pred > 0.5, 1, 0)\n",
        "fpr_train, tpr_train, _ = roc_curve(y1, pred)\n",
        "auc_train = auc(fpr_train, tpr_train).round(2)\n",
        "print(\"Train AUC-ROC =\", str(auc_train))\n",
        "\n",
        "pred = model.predict(X1_valid)\n",
        "# val_y_pred = np.where(pred > 0.5, 1, 0)\n",
        "fpr_val, tpr_val, _ = roc_curve(y1_valid, pred)\n",
        "auc_val = auc(fpr_val, tpr_val).round(2)\n",
        "print(\"Validation AUC-ROC =\", str(auc_val))\n",
        "\n",
        "pred = model.predict(X1_test)\n",
        "# test_y_pred = np.where(pred > 0.5, 1, 0)\n",
        "fpr_test, tpr_test, _ = roc_curve(y1_test, pred)\n",
        "auc_test = auc(fpr_test, tpr_test).round(2)\n",
        "print(\"Test AUC-ROC =\", str(auc_test))\n",
        "\n",
        "plt.plot(fpr_train, tpr_train, label='Train (AUC = {:.2f})'.format(auc_train))\n",
        "plt.plot(fpr_val, tpr_val, label='Validation (AUC = {:.2f})'.format(auc_val))\n",
        "plt.plot(fpr_test, tpr_test, label='Test (AUC = {:.2f})'.format(auc_test))\n",
        "plt.plot([0,1],[0,1],'k--')\n",
        "plt.legend()\n",
        "plt.xlabel(\"True Positive Rate\")\n",
        "plt.ylabel(\"False Positive Rate\")\n",
        "plt.title(\"AUC (ROC curve) - ANN\")\n",
        "plt.show()"
      ],
      "execution_count": null,
      "outputs": [
        {
          "output_type": "stream",
          "text": [
            "Train AUC-ROC = 0.96\n",
            "Validation AUC-ROC = 0.94\n",
            "Test AUC-ROC = 0.93\n"
          ],
          "name": "stdout"
        },
        {
          "output_type": "display_data",
          "data": {
            "image/png": "[encoded data removed]",
            "text/plain": [
              "<Figure size 432x288 with 1 Axes>"
            ]
          },
          "metadata": {
            "tags": [],
            "needs_background": "light"
          }
        }
      ]
    },
    {
      "cell_type": "code",
      "metadata": {
        "id": "Pvj41rXGMpId"
      },
      "source": [
        "def check_metrics(model, testX, testY):  \n",
        "\n",
        "  pred = model.predict(testX)\n",
        "  y_pred = np.where(pred > 0.5, 1, 0)\n",
        "  print('##############  Confusion Matrix  ##############')\n",
        "  print()\n",
        "  np.set_printoptions(threshold=np.inf)\n",
        "  print(confusion_matrix(testY, y_pred))\n",
        "  np.set_printoptions(threshold=100)\n",
        "  print()\n",
        "  print('##############  Classification Report  ##############')\n",
        "  print()\n",
        "  print(classification_report(testY, y_pred))"
      ],
      "execution_count": null,
      "outputs": []
    },
    {
      "cell_type": "code",
      "metadata": {
        "colab": {
          "base_uri": "https://localhost:8080/"
        },
        "id": "7tFZyDfcMpC2",
        "outputId": "487acbd5-c682-4ee7-acb9-3ba0c94d08df"
      },
      "source": [
        "check_metrics(model, X1_test, y1_test)"
      ],
      "execution_count": null,
      "outputs": [
        {
          "output_type": "stream",
          "text": [
            "##############  Confusion Matrix  ##############\n",
            "\n",
            "[[28  5]\n",
            " [13 74]]\n",
            "\n",
            "##############  Classification Report  ##############\n",
            "\n",
            "              precision    recall  f1-score   support\n",
            "\n",
            "         0.0       0.68      0.85      0.76        33\n",
            "         1.0       0.94      0.85      0.89        87\n",
            "\n",
            "    accuracy                           0.85       120\n",
            "   macro avg       0.81      0.85      0.82       120\n",
            "weighted avg       0.87      0.85      0.85       120\n",
            "\n"
          ],
          "name": "stdout"
        }
      ]
    },
    {
      "cell_type": "code",
      "metadata": {
        "colab": {
          "base_uri": "https://localhost:8080/"
        },
        "id": "P7YmxctXMo4_",
        "outputId": "cd676117-20c0-4e7d-f833-e6f978204833"
      },
      "source": [
        "check_metrics(model, X1_valid, y1_valid)"
      ],
      "execution_count": null,
      "outputs": [
        {
          "output_type": "stream",
          "text": [
            "##############  Confusion Matrix  ##############\n",
            "\n",
            "[[27  3]\n",
            " [13 77]]\n",
            "\n",
            "##############  Classification Report  ##############\n",
            "\n",
            "              precision    recall  f1-score   support\n",
            "\n",
            "         0.0       0.68      0.90      0.77        30\n",
            "         1.0       0.96      0.86      0.91        90\n",
            "\n",
            "    accuracy                           0.87       120\n",
            "   macro avg       0.82      0.88      0.84       120\n",
            "weighted avg       0.89      0.87      0.87       120\n",
            "\n"
          ],
          "name": "stdout"
        }
      ]
    },
    {
      "cell_type": "code",
      "metadata": {
        "colab": {
          "base_uri": "https://localhost:8080/"
        },
        "id": "IMdyuS72M5mX",
        "outputId": "0678c61f-8c25-49fb-a76e-79702af0c6ec"
      },
      "source": [
        "check_metrics(model, X1, y1)"
      ],
      "execution_count": null,
      "outputs": [
        {
          "output_type": "stream",
          "text": [
            "##############  Confusion Matrix  ##############\n",
            "\n",
            "[[100   3]\n",
            " [ 29 226]]\n",
            "\n",
            "##############  Classification Report  ##############\n",
            "\n",
            "              precision    recall  f1-score   support\n",
            "\n",
            "         0.0       0.78      0.97      0.86       103\n",
            "         1.0       0.99      0.89      0.93       255\n",
            "\n",
            "    accuracy                           0.91       358\n",
            "   macro avg       0.88      0.93      0.90       358\n",
            "weighted avg       0.93      0.91      0.91       358\n",
            "\n"
          ],
          "name": "stdout"
        }
      ]
    }
  ]
}