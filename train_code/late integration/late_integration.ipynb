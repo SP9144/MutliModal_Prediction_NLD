{
  "nbformat": 4,
  "nbformat_minor": 0,
  "metadata": {
    "colab": {
      "provenance": []
    },
    "kernelspec": {
      "name": "python3",
      "display_name": "Python 3"
    },
    "language_info": {
      "name": "python"
    }
  },
  "cells": [
    {
      "cell_type": "code",
      "execution_count": null,
      "metadata": {
        "id": "8oerGhPaUaGR"
      },
      "outputs": [],
      "source": [
        "import pandas as pd\n",
        "import random\n",
        "import torch\n",
        "from pandas import read_excel\n",
        "from keras.models import Sequential\n",
        "from keras.layers import Dense, Dropout\n",
        "from keras.optimizers import Adam\n",
        "from sklearn.preprocessing import MinMaxScaler\n",
        "from sklearn.preprocessing import StandardScaler\n",
        "from sklearn.metrics import r2_score\n",
        "from sklearn.utils import shuffle\n",
        "from sklearn.metrics import mean_squared_error\n",
        "from sklearn.metrics import classification_report, confusion_matrix\n",
        "import numpy as np\n",
        "from scipy.stats import pearsonr\n",
        "from scipy.stats import spearmanr\n",
        "import seaborn as sns\n",
        "import matplotlib.pyplot as plt\n",
        "import keras\n",
        "from keras.models import model_from_json\n",
        "import tensorflow as tf\n",
        "from sklearn.utils import class_weight\n",
        "from google.colab import drive"
      ]
    },
    {
      "cell_type": "code",
      "source": [
        "import pickle\n",
        "from pprint import pprint\n",
        "from sklearn.ensemble import RandomForestClassifier,VotingClassifier\n",
        "import xgboost as xgb\n",
        "from lightgbm import LGBMClassifier\n",
        "from sklearn.naive_bayes import GaussianNB\n",
        "from sklearn.svm import SVC\n",
        "from sklearn.linear_model import LogisticRegression\n",
        "from sklearn.neural_network import MLPClassifier\n",
        "from sklearn.model_selection import RandomizedSearchCV, StratifiedKFold\n",
        "from sklearn.metrics import classification_report\n",
        "from sklearn.metrics import confusion_matrix\n",
        "from sklearn.metrics import f1_score, precision_score, recall_score\n",
        "from sklearn.metrics import roc_curve, auc, precision_recall_curve\n",
        "from sklearn.metrics import roc_auc_score, average_precision_score, RocCurveDisplay"
      ],
      "metadata": {
        "id": "0ol_G8akUeCU"
      },
      "execution_count": null,
      "outputs": []
    },
    {
      "cell_type": "code",
      "source": [
        "drive.mount(\"/content/gdrive\")\n",
        "\n",
        "tf.test.gpu_device_name()"
      ],
      "metadata": {
        "colab": {
          "base_uri": "https://localhost:8080/",
          "height": 73
        },
        "id": "B8f9TQInUfBO",
        "outputId": "1a85303f-956b-4f0b-cc87-29d96a034632"
      },
      "execution_count": null,
      "outputs": [
        {
          "output_type": "stream",
          "name": "stdout",
          "text": [
            "Drive already mounted at /content/gdrive; to attempt to forcibly remount, call drive.mount(\"/content/gdrive\", force_remount=True).\n"
          ]
        },
        {
          "output_type": "execute_result",
          "data": {
            "text/plain": [
              "''"
            ],
            "application/vnd.google.colaboratory.intrinsic+json": {
              "type": "string"
            }
          },
          "metadata": {},
          "execution_count": 3
        }
      ]
    },
    {
      "cell_type": "code",
      "source": [
        "location = \"/content/gdrive/My Drive/MultiModal_PD/\""
      ],
      "metadata": {
        "id": "pvETqHI3Ue5F"
      },
      "execution_count": null,
      "outputs": []
    },
    {
      "cell_type": "code",
      "source": [
        "def seed_everything(seed = 42):\n",
        "    np.random.seed(seed)\n",
        "    random.seed(seed)\n",
        "    torch.manual_seed(seed)\n",
        "    torch.cuda.manual_seed(seed)\n",
        "    torch.backends.cudnn.deterministic = True\n",
        "    torch.backends.cudnn.benchmark = False\n",
        "    print(f\"Random seed set as {seed}\")\n",
        "\n",
        "seed_everything(42)"
      ],
      "metadata": {
        "colab": {
          "base_uri": "https://localhost:8080/"
        },
        "id": "hzHZpH57Wnzw",
        "outputId": "f9425163-a5be-47bf-b217-a059d375c84c"
      },
      "execution_count": null,
      "outputs": [
        {
          "output_type": "stream",
          "name": "stdout",
          "text": [
            "Random seed set as 42\n"
          ]
        }
      ]
    },
    {
      "cell_type": "markdown",
      "source": [
        "# **Preprocessing and Integrating Data**\n",
        "\n",
        "---\n",
        "\n"
      ],
      "metadata": {
        "id": "xU6GtG-kWyO9"
      }
    },
    {
      "cell_type": "code",
      "source": [
        "df_biospec = pd.read_csv(location + \"biospecimen_masterDB.csv\", sep=\",\")\n",
        "print(\"Biospecimen\")\n",
        "print(len(df_biospec))\n",
        "print(len(df_biospec.columns))\n",
        "df_biospec.head()"
      ],
      "metadata": {
        "colab": {
          "base_uri": "https://localhost:8080/",
          "height": 258
        },
        "id": "7I-Lw70Hny2P",
        "outputId": "d927189f-165a-4ff4-e40c-951b605822d5"
      },
      "execution_count": null,
      "outputs": [
        {
          "output_type": "stream",
          "name": "stdout",
          "text": [
            "Biospecimen\n",
            "641\n",
            "7\n"
          ]
        },
        {
          "output_type": "execute_result",
          "data": {
            "text/plain": [
              "    PATNO   ABETA42     A_SYN    P_TAU    T_TAU       URATE  STATUS\n",
              "0  3915.0  1119.375  1719.650  13.1200  158.350  237.000000       1\n",
              "1  3914.0   614.150  1584.650  14.0825  174.325  270.285714       1\n",
              "2  3838.0   746.900  1256.775  10.9825  137.050  234.571429       1\n",
              "3  3819.0   612.020  1136.380   8.4880  109.100  231.875000       1\n",
              "4  3900.0   511.280  1263.540  11.3980  145.260  400.666667       1"
            ],
            "text/html": [
              "\n",
              "  <div id=\"df-52f27068-fb5e-4795-b187-d90f31da33aa\" class=\"colab-df-container\">\n",
              "    <div>\n",
              "<style scoped>\n",
              "    .dataframe tbody tr th:only-of-type {\n",
              "        vertical-align: middle;\n",
              "    }\n",
              "\n",
              "    .dataframe tbody tr th {\n",
              "        vertical-align: top;\n",
              "    }\n",
              "\n",
              "    .dataframe thead th {\n",
              "        text-align: right;\n",
              "    }\n",
              "</style>\n",
              "<table border=\"1\" class=\"dataframe\">\n",
              "  <thead>\n",
              "    <tr style=\"text-align: right;\">\n",
              "      <th></th>\n",
              "      <th>PATNO</th>\n",
              "      <th>ABETA42</th>\n",
              "      <th>A_SYN</th>\n",
              "      <th>P_TAU</th>\n",
              "      <th>T_TAU</th>\n",
              "      <th>URATE</th>\n",
              "      <th>STATUS</th>\n",
              "    </tr>\n",
              "  </thead>\n",
              "  <tbody>\n",
              "    <tr>\n",
              "      <th>0</th>\n",
              "      <td>3915.0</td>\n",
              "      <td>1119.375</td>\n",
              "      <td>1719.650</td>\n",
              "      <td>13.1200</td>\n",
              "      <td>158.350</td>\n",
              "      <td>237.000000</td>\n",
              "      <td>1</td>\n",
              "    </tr>\n",
              "    <tr>\n",
              "      <th>1</th>\n",
              "      <td>3914.0</td>\n",
              "      <td>614.150</td>\n",
              "      <td>1584.650</td>\n",
              "      <td>14.0825</td>\n",
              "      <td>174.325</td>\n",
              "      <td>270.285714</td>\n",
              "      <td>1</td>\n",
              "    </tr>\n",
              "    <tr>\n",
              "      <th>2</th>\n",
              "      <td>3838.0</td>\n",
              "      <td>746.900</td>\n",
              "      <td>1256.775</td>\n",
              "      <td>10.9825</td>\n",
              "      <td>137.050</td>\n",
              "      <td>234.571429</td>\n",
              "      <td>1</td>\n",
              "    </tr>\n",
              "    <tr>\n",
              "      <th>3</th>\n",
              "      <td>3819.0</td>\n",
              "      <td>612.020</td>\n",
              "      <td>1136.380</td>\n",
              "      <td>8.4880</td>\n",
              "      <td>109.100</td>\n",
              "      <td>231.875000</td>\n",
              "      <td>1</td>\n",
              "    </tr>\n",
              "    <tr>\n",
              "      <th>4</th>\n",
              "      <td>3900.0</td>\n",
              "      <td>511.280</td>\n",
              "      <td>1263.540</td>\n",
              "      <td>11.3980</td>\n",
              "      <td>145.260</td>\n",
              "      <td>400.666667</td>\n",
              "      <td>1</td>\n",
              "    </tr>\n",
              "  </tbody>\n",
              "</table>\n",
              "</div>\n",
              "    <div class=\"colab-df-buttons\">\n",
              "\n",
              "  <div class=\"colab-df-container\">\n",
              "    <button class=\"colab-df-convert\" onclick=\"convertToInteractive('df-52f27068-fb5e-4795-b187-d90f31da33aa')\"\n",
              "            title=\"Convert this dataframe to an interactive table.\"\n",
              "            style=\"display:none;\">\n",
              "\n",
              "  <svg xmlns=\"http://www.w3.org/2000/svg\" height=\"24px\" viewBox=\"0 -960 960 960\">\n",
              "    <path d=\"M120-120v-720h720v720H120Zm60-500h600v-160H180v160Zm220 220h160v-160H400v160Zm0 220h160v-160H400v160ZM180-400h160v-160H180v160Zm440 0h160v-160H620v160ZM180-180h160v-160H180v160Zm440 0h160v-160H620v160Z\"/>\n",
              "  </svg>\n",
              "    </button>\n",
              "\n",
              "  <style>\n",
              "    .colab-df-container {\n",
              "      display:flex;\n",
              "      gap: 12px;\n",
              "    }\n",
              "\n",
              "    .colab-df-convert {\n",
              "      background-color: #E8F0FE;\n",
              "      border: none;\n",
              "      border-radius: 50%;\n",
              "      cursor: pointer;\n",
              "      display: none;\n",
              "      fill: #1967D2;\n",
              "      height: 32px;\n",
              "      padding: 0 0 0 0;\n",
              "      width: 32px;\n",
              "    }\n",
              "\n",
              "    .colab-df-convert:hover {\n",
              "      background-color: #E2EBFA;\n",
              "      box-shadow: 0px 1px 2px rgba(60, 64, 67, 0.3), 0px 1px 3px 1px rgba(60, 64, 67, 0.15);\n",
              "      fill: #174EA6;\n",
              "    }\n",
              "\n",
              "    .colab-df-buttons div {\n",
              "      margin-bottom: 4px;\n",
              "    }\n",
              "\n",
              "    [theme=dark] .colab-df-convert {\n",
              "      background-color: #3B4455;\n",
              "      fill: #D2E3FC;\n",
              "    }\n",
              "\n",
              "    [theme=dark] .colab-df-convert:hover {\n",
              "      background-color: #434B5C;\n",
              "      box-shadow: 0px 1px 3px 1px rgba(0, 0, 0, 0.15);\n",
              "      filter: drop-shadow(0px 1px 2px rgba(0, 0, 0, 0.3));\n",
              "      fill: #FFFFFF;\n",
              "    }\n",
              "  </style>\n",
              "\n",
              "    <script>\n",
              "      const buttonEl =\n",
              "        document.querySelector('#df-52f27068-fb5e-4795-b187-d90f31da33aa button.colab-df-convert');\n",
              "      buttonEl.style.display =\n",
              "        google.colab.kernel.accessAllowed ? 'block' : 'none';\n",
              "\n",
              "      async function convertToInteractive(key) {\n",
              "        const element = document.querySelector('#df-52f27068-fb5e-4795-b187-d90f31da33aa');\n",
              "        const dataTable =\n",
              "          await google.colab.kernel.invokeFunction('convertToInteractive',\n",
              "                                                    [key], {});\n",
              "        if (!dataTable) return;\n",
              "\n",
              "        const docLinkHtml = 'Like what you see? Visit the ' +\n",
              "          '<a target=\"_blank\" href=https://colab.research.google.com/notebooks/data_table.ipynb>data table notebook</a>'\n",
              "          + ' to learn more about interactive tables.';\n",
              "        element.innerHTML = '';\n",
              "        dataTable['output_type'] = 'display_data';\n",
              "        await google.colab.output.renderOutput(dataTable, element);\n",
              "        const docLink = document.createElement('div');\n",
              "        docLink.innerHTML = docLinkHtml;\n",
              "        element.appendChild(docLink);\n",
              "      }\n",
              "    </script>\n",
              "  </div>\n",
              "\n",
              "\n",
              "<div id=\"df-f536f41b-c54d-4797-8647-ed7561a954a4\">\n",
              "  <button class=\"colab-df-quickchart\" onclick=\"quickchart('df-f536f41b-c54d-4797-8647-ed7561a954a4')\"\n",
              "            title=\"Suggest charts\"\n",
              "            style=\"display:none;\">\n",
              "\n",
              "<svg xmlns=\"http://www.w3.org/2000/svg\" height=\"24px\"viewBox=\"0 0 24 24\"\n",
              "     width=\"24px\">\n",
              "    <g>\n",
              "        <path d=\"M19 3H5c-1.1 0-2 .9-2 2v14c0 1.1.9 2 2 2h14c1.1 0 2-.9 2-2V5c0-1.1-.9-2-2-2zM9 17H7v-7h2v7zm4 0h-2V7h2v10zm4 0h-2v-4h2v4z\"/>\n",
              "    </g>\n",
              "</svg>\n",
              "  </button>\n",
              "\n",
              "<style>\n",
              "  .colab-df-quickchart {\n",
              "      --bg-color: #E8F0FE;\n",
              "      --fill-color: #1967D2;\n",
              "      --hover-bg-color: #E2EBFA;\n",
              "      --hover-fill-color: #174EA6;\n",
              "      --disabled-fill-color: #AAA;\n",
              "      --disabled-bg-color: #DDD;\n",
              "  }\n",
              "\n",
              "  [theme=dark] .colab-df-quickchart {\n",
              "      --bg-color: #3B4455;\n",
              "      --fill-color: #D2E3FC;\n",
              "      --hover-bg-color: #434B5C;\n",
              "      --hover-fill-color: #FFFFFF;\n",
              "      --disabled-bg-color: #3B4455;\n",
              "      --disabled-fill-color: #666;\n",
              "  }\n",
              "\n",
              "  .colab-df-quickchart {\n",
              "    background-color: var(--bg-color);\n",
              "    border: none;\n",
              "    border-radius: 50%;\n",
              "    cursor: pointer;\n",
              "    display: none;\n",
              "    fill: var(--fill-color);\n",
              "    height: 32px;\n",
              "    padding: 0;\n",
              "    width: 32px;\n",
              "  }\n",
              "\n",
              "  .colab-df-quickchart:hover {\n",
              "    background-color: var(--hover-bg-color);\n",
              "    box-shadow: 0 1px 2px rgba(60, 64, 67, 0.3), 0 1px 3px 1px rgba(60, 64, 67, 0.15);\n",
              "    fill: var(--button-hover-fill-color);\n",
              "  }\n",
              "\n",
              "  .colab-df-quickchart-complete:disabled,\n",
              "  .colab-df-quickchart-complete:disabled:hover {\n",
              "    background-color: var(--disabled-bg-color);\n",
              "    fill: var(--disabled-fill-color);\n",
              "    box-shadow: none;\n",
              "  }\n",
              "\n",
              "  .colab-df-spinner {\n",
              "    border: 2px solid var(--fill-color);\n",
              "    border-color: transparent;\n",
              "    border-bottom-color: var(--fill-color);\n",
              "    animation:\n",
              "      spin 1s steps(1) infinite;\n",
              "  }\n",
              "\n",
              "  @keyframes spin {\n",
              "    0% {\n",
              "      border-color: transparent;\n",
              "      border-bottom-color: var(--fill-color);\n",
              "      border-left-color: var(--fill-color);\n",
              "    }\n",
              "    20% {\n",
              "      border-color: transparent;\n",
              "      border-left-color: var(--fill-color);\n",
              "      border-top-color: var(--fill-color);\n",
              "    }\n",
              "    30% {\n",
              "      border-color: transparent;\n",
              "      border-left-color: var(--fill-color);\n",
              "      border-top-color: var(--fill-color);\n",
              "      border-right-color: var(--fill-color);\n",
              "    }\n",
              "    40% {\n",
              "      border-color: transparent;\n",
              "      border-right-color: var(--fill-color);\n",
              "      border-top-color: var(--fill-color);\n",
              "    }\n",
              "    60% {\n",
              "      border-color: transparent;\n",
              "      border-right-color: var(--fill-color);\n",
              "    }\n",
              "    80% {\n",
              "      border-color: transparent;\n",
              "      border-right-color: var(--fill-color);\n",
              "      border-bottom-color: var(--fill-color);\n",
              "    }\n",
              "    90% {\n",
              "      border-color: transparent;\n",
              "      border-bottom-color: var(--fill-color);\n",
              "    }\n",
              "  }\n",
              "</style>\n",
              "\n",
              "  <script>\n",
              "    async function quickchart(key) {\n",
              "      const quickchartButtonEl =\n",
              "        document.querySelector('#' + key + ' button');\n",
              "      quickchartButtonEl.disabled = true;  // To prevent multiple clicks.\n",
              "      quickchartButtonEl.classList.add('colab-df-spinner');\n",
              "      try {\n",
              "        const charts = await google.colab.kernel.invokeFunction(\n",
              "            'suggestCharts', [key], {});\n",
              "      } catch (error) {\n",
              "        console.error('Error during call to suggestCharts:', error);\n",
              "      }\n",
              "      quickchartButtonEl.classList.remove('colab-df-spinner');\n",
              "      quickchartButtonEl.classList.add('colab-df-quickchart-complete');\n",
              "    }\n",
              "    (() => {\n",
              "      let quickchartButtonEl =\n",
              "        document.querySelector('#df-f536f41b-c54d-4797-8647-ed7561a954a4 button');\n",
              "      quickchartButtonEl.style.display =\n",
              "        google.colab.kernel.accessAllowed ? 'block' : 'none';\n",
              "    })();\n",
              "  </script>\n",
              "</div>\n",
              "\n",
              "    </div>\n",
              "  </div>\n"
            ],
            "application/vnd.google.colaboratory.intrinsic+json": {
              "type": "dataframe",
              "variable_name": "df_biospec",
              "summary": "{\n  \"name\": \"df_biospec\",\n  \"rows\": 641,\n  \"fields\": [\n    {\n      \"column\": \"PATNO\",\n      \"properties\": {\n        \"dtype\": \"number\",\n        \"std\": 333.0802356116454,\n        \"min\": 3000.0,\n        \"max\": 4139.0,\n        \"num_unique_values\": 641,\n        \"samples\": [\n          3224.0,\n          4037.0,\n          3821.0\n        ],\n        \"semantic_type\": \"\",\n        \"description\": \"\"\n      }\n    },\n    {\n      \"column\": \"ABETA42\",\n      \"properties\": {\n        \"dtype\": \"number\",\n        \"std\": 384.54050607123264,\n        \"min\": 249.5666666666667,\n        \"max\": 3077.0,\n        \"num_unique_values\": 637,\n        \"samples\": [\n          434.44,\n          961.45,\n          1139.2\n        ],\n        \"semantic_type\": \"\",\n        \"description\": \"\"\n      }\n    },\n    {\n      \"column\": \"A_SYN\",\n      \"properties\": {\n        \"dtype\": \"number\",\n        \"std\": 623.4599152948257,\n        \"min\": 506.16,\n        \"max\": 4261.633333333334,\n        \"num_unique_values\": 640,\n        \"samples\": [\n          819.1666666666665,\n          2095.84,\n          2010.22\n        ],\n        \"semantic_type\": \"\",\n        \"description\": \"\"\n      }\n    },\n    {\n      \"column\": \"P_TAU\",\n      \"properties\": {\n        \"dtype\": \"number\",\n        \"std\": 6.6470011526284605,\n        \"min\": 8.05,\n        \"max\": 76.334,\n        \"num_unique_values\": 625,\n        \"samples\": [\n          14.373333333333331,\n          18.31,\n          8.05\n        ],\n        \"semantic_type\": \"\",\n        \"description\": \"\"\n      }\n    },\n    {\n      \"column\": \"T_TAU\",\n      \"properties\": {\n        \"dtype\": \"number\",\n        \"std\": 65.04434812120776,\n        \"min\": 87.03999999999998,\n        \"max\": 582.9,\n        \"num_unique_values\": 631,\n        \"samples\": [\n          135.28,\n          151.8,\n          142.16\n        ],\n        \"semantic_type\": \"\",\n        \"description\": \"\"\n      }\n    },\n    {\n      \"column\": \"URATE\",\n      \"properties\": {\n        \"dtype\": \"number\",\n        \"std\": 73.51871143995417,\n        \"min\": 0.0,\n        \"max\": 654.5,\n        \"num_unique_values\": 546,\n        \"samples\": [\n          359.75,\n          472.4,\n          419.0\n        ],\n        \"semantic_type\": \"\",\n        \"description\": \"\"\n      }\n    },\n    {\n      \"column\": \"STATUS\",\n      \"properties\": {\n        \"dtype\": \"number\",\n        \"std\": 0,\n        \"min\": 0,\n        \"max\": 1,\n        \"num_unique_values\": 2,\n        \"samples\": [\n          0,\n          1\n        ],\n        \"semantic_type\": \"\",\n        \"description\": \"\"\n      }\n    }\n  ]\n}"
            }
          },
          "metadata": {},
          "execution_count": 6
        }
      ]
    },
    {
      "cell_type": "code",
      "source": [
        "df_clinical = pd.read_csv(location + \"clinical_masterDB.csv\", sep=\",\")\n",
        "df_clinical = df_clinical.drop(columns = [\"ENROLLDT\", \"RAHAWOPI\", \"SLEEPINESS\", \"DEPRESSION\", \"RBD_STATUS\",\n",
        "                                          \"GENDER\", \"HISPLAT\", \"RAINDALS\", \"RAASIAN\", \"RABLACK\", \"RAWHITE\", \"RANOS\",\n",
        "                                          \"MDS_UPDRS1\", \"MDS_UPDRS2\", \"MDS_UPDRS3\", \"MOCA\",\"Unadjusted_MOCA\", \"TREMOR\", \"PIGD\"],\n",
        "                               axis = 1)\n",
        "print(\"Cinical\")\n",
        "print(len(df_clinical))\n",
        "print(len(df_clinical.columns))\n",
        "df_clinical.head()"
      ],
      "metadata": {
        "colab": {
          "base_uri": "https://localhost:8080/",
          "height": 308
        },
        "id": "ZtyXgiFopjrm",
        "outputId": "a6617c7a-6b3c-4345-a22f-84eb56df4f44"
      },
      "execution_count": null,
      "outputs": [
        {
          "output_type": "stream",
          "name": "stdout",
          "text": [
            "Cinical\n",
            "682\n",
            "31\n"
          ]
        },
        {
          "output_type": "execute_result",
          "data": {
            "text/plain": [
              "    PATNO  First_Fam_Num  First_Fam_PD  Other_Fam_Num  Other_Fam_PD  AGE  \\\n",
              "0  3000.0            5.0           0.0           12.0           0.0   69   \n",
              "1  3001.0            6.0           0.0           15.5           0.0   65   \n",
              "2  3002.0            6.0           0.0           16.0           0.0   67   \n",
              "3  3003.0            4.0           0.0            6.0           0.0   56   \n",
              "4  3004.0            5.0           0.0            8.0           0.0   59   \n",
              "\n",
              "   Socio_Score       BJLO        ESS       GDS  ...  SCOPA_GASTRO  \\\n",
              "0         18.0  14.250000   5.000000  0.500000  ...      0.625000   \n",
              "1         16.0  14.250000   5.888889  1.666667  ...      2.555556   \n",
              "2         16.0  12.625000  13.666667  5.333333  ...      8.111111   \n",
              "3         16.0  13.375000   7.333333  1.111111  ...      2.666667   \n",
              "4         16.0  14.142857   8.285714  1.000000  ...      1.571429   \n",
              "\n",
              "   SCOPA_URINARY  SCOPA_CARDIO  SCOPA_THERMO  SCOPA_PUPIL  SCOPA_SEXUAL  \\\n",
              "0       3.750000      0.000000      0.000000     0.000000      1.750000   \n",
              "1       6.888889      0.555556      1.000000     0.111111      4.333333   \n",
              "2       7.777778      0.222222      4.666667     2.555556      1.222222   \n",
              "3       9.888889      1.777778      0.888889     0.222222      0.111111   \n",
              "4       2.857143      0.000000      0.714286     0.000000      1.428571   \n",
              "\n",
              "         SFT       STAI  UPSIT  STATUS  \n",
              "0  56.500000  60.625000   35.0       0  \n",
              "1  46.875000  61.666667   21.0       1  \n",
              "2  46.125000  79.222222   14.5       1  \n",
              "3  46.875000  47.111111   18.5       1  \n",
              "4  53.571429  54.285714   37.5       0  \n",
              "\n",
              "[5 rows x 31 columns]"
            ],
            "text/html": [
              "\n",
              "  <div id=\"df-31606ffa-ccc2-4eb6-b6d2-29dc759b21bb\" class=\"colab-df-container\">\n",
              "    <div>\n",
              "<style scoped>\n",
              "    .dataframe tbody tr th:only-of-type {\n",
              "        vertical-align: middle;\n",
              "    }\n",
              "\n",
              "    .dataframe tbody tr th {\n",
              "        vertical-align: top;\n",
              "    }\n",
              "\n",
              "    .dataframe thead th {\n",
              "        text-align: right;\n",
              "    }\n",
              "</style>\n",
              "<table border=\"1\" class=\"dataframe\">\n",
              "  <thead>\n",
              "    <tr style=\"text-align: right;\">\n",
              "      <th></th>\n",
              "      <th>PATNO</th>\n",
              "      <th>First_Fam_Num</th>\n",
              "      <th>First_Fam_PD</th>\n",
              "      <th>Other_Fam_Num</th>\n",
              "      <th>Other_Fam_PD</th>\n",
              "      <th>AGE</th>\n",
              "      <th>Socio_Score</th>\n",
              "      <th>BJLO</th>\n",
              "      <th>ESS</th>\n",
              "      <th>GDS</th>\n",
              "      <th>...</th>\n",
              "      <th>SCOPA_GASTRO</th>\n",
              "      <th>SCOPA_URINARY</th>\n",
              "      <th>SCOPA_CARDIO</th>\n",
              "      <th>SCOPA_THERMO</th>\n",
              "      <th>SCOPA_PUPIL</th>\n",
              "      <th>SCOPA_SEXUAL</th>\n",
              "      <th>SFT</th>\n",
              "      <th>STAI</th>\n",
              "      <th>UPSIT</th>\n",
              "      <th>STATUS</th>\n",
              "    </tr>\n",
              "  </thead>\n",
              "  <tbody>\n",
              "    <tr>\n",
              "      <th>0</th>\n",
              "      <td>3000.0</td>\n",
              "      <td>5.0</td>\n",
              "      <td>0.0</td>\n",
              "      <td>12.0</td>\n",
              "      <td>0.0</td>\n",
              "      <td>69</td>\n",
              "      <td>18.0</td>\n",
              "      <td>14.250000</td>\n",
              "      <td>5.000000</td>\n",
              "      <td>0.500000</td>\n",
              "      <td>...</td>\n",
              "      <td>0.625000</td>\n",
              "      <td>3.750000</td>\n",
              "      <td>0.000000</td>\n",
              "      <td>0.000000</td>\n",
              "      <td>0.000000</td>\n",
              "      <td>1.750000</td>\n",
              "      <td>56.500000</td>\n",
              "      <td>60.625000</td>\n",
              "      <td>35.0</td>\n",
              "      <td>0</td>\n",
              "    </tr>\n",
              "    <tr>\n",
              "      <th>1</th>\n",
              "      <td>3001.0</td>\n",
              "      <td>6.0</td>\n",
              "      <td>0.0</td>\n",
              "      <td>15.5</td>\n",
              "      <td>0.0</td>\n",
              "      <td>65</td>\n",
              "      <td>16.0</td>\n",
              "      <td>14.250000</td>\n",
              "      <td>5.888889</td>\n",
              "      <td>1.666667</td>\n",
              "      <td>...</td>\n",
              "      <td>2.555556</td>\n",
              "      <td>6.888889</td>\n",
              "      <td>0.555556</td>\n",
              "      <td>1.000000</td>\n",
              "      <td>0.111111</td>\n",
              "      <td>4.333333</td>\n",
              "      <td>46.875000</td>\n",
              "      <td>61.666667</td>\n",
              "      <td>21.0</td>\n",
              "      <td>1</td>\n",
              "    </tr>\n",
              "    <tr>\n",
              "      <th>2</th>\n",
              "      <td>3002.0</td>\n",
              "      <td>6.0</td>\n",
              "      <td>0.0</td>\n",
              "      <td>16.0</td>\n",
              "      <td>0.0</td>\n",
              "      <td>67</td>\n",
              "      <td>16.0</td>\n",
              "      <td>12.625000</td>\n",
              "      <td>13.666667</td>\n",
              "      <td>5.333333</td>\n",
              "      <td>...</td>\n",
              "      <td>8.111111</td>\n",
              "      <td>7.777778</td>\n",
              "      <td>0.222222</td>\n",
              "      <td>4.666667</td>\n",
              "      <td>2.555556</td>\n",
              "      <td>1.222222</td>\n",
              "      <td>46.125000</td>\n",
              "      <td>79.222222</td>\n",
              "      <td>14.5</td>\n",
              "      <td>1</td>\n",
              "    </tr>\n",
              "    <tr>\n",
              "      <th>3</th>\n",
              "      <td>3003.0</td>\n",
              "      <td>4.0</td>\n",
              "      <td>0.0</td>\n",
              "      <td>6.0</td>\n",
              "      <td>0.0</td>\n",
              "      <td>56</td>\n",
              "      <td>16.0</td>\n",
              "      <td>13.375000</td>\n",
              "      <td>7.333333</td>\n",
              "      <td>1.111111</td>\n",
              "      <td>...</td>\n",
              "      <td>2.666667</td>\n",
              "      <td>9.888889</td>\n",
              "      <td>1.777778</td>\n",
              "      <td>0.888889</td>\n",
              "      <td>0.222222</td>\n",
              "      <td>0.111111</td>\n",
              "      <td>46.875000</td>\n",
              "      <td>47.111111</td>\n",
              "      <td>18.5</td>\n",
              "      <td>1</td>\n",
              "    </tr>\n",
              "    <tr>\n",
              "      <th>4</th>\n",
              "      <td>3004.0</td>\n",
              "      <td>5.0</td>\n",
              "      <td>0.0</td>\n",
              "      <td>8.0</td>\n",
              "      <td>0.0</td>\n",
              "      <td>59</td>\n",
              "      <td>16.0</td>\n",
              "      <td>14.142857</td>\n",
              "      <td>8.285714</td>\n",
              "      <td>1.000000</td>\n",
              "      <td>...</td>\n",
              "      <td>1.571429</td>\n",
              "      <td>2.857143</td>\n",
              "      <td>0.000000</td>\n",
              "      <td>0.714286</td>\n",
              "      <td>0.000000</td>\n",
              "      <td>1.428571</td>\n",
              "      <td>53.571429</td>\n",
              "      <td>54.285714</td>\n",
              "      <td>37.5</td>\n",
              "      <td>0</td>\n",
              "    </tr>\n",
              "  </tbody>\n",
              "</table>\n",
              "<p>5 rows × 31 columns</p>\n",
              "</div>\n",
              "    <div class=\"colab-df-buttons\">\n",
              "\n",
              "  <div class=\"colab-df-container\">\n",
              "    <button class=\"colab-df-convert\" onclick=\"convertToInteractive('df-31606ffa-ccc2-4eb6-b6d2-29dc759b21bb')\"\n",
              "            title=\"Convert this dataframe to an interactive table.\"\n",
              "            style=\"display:none;\">\n",
              "\n",
              "  <svg xmlns=\"http://www.w3.org/2000/svg\" height=\"24px\" viewBox=\"0 -960 960 960\">\n",
              "    <path d=\"M120-120v-720h720v720H120Zm60-500h600v-160H180v160Zm220 220h160v-160H400v160Zm0 220h160v-160H400v160ZM180-400h160v-160H180v160Zm440 0h160v-160H620v160ZM180-180h160v-160H180v160Zm440 0h160v-160H620v160Z\"/>\n",
              "  </svg>\n",
              "    </button>\n",
              "\n",
              "  <style>\n",
              "    .colab-df-container {\n",
              "      display:flex;\n",
              "      gap: 12px;\n",
              "    }\n",
              "\n",
              "    .colab-df-convert {\n",
              "      background-color: #E8F0FE;\n",
              "      border: none;\n",
              "      border-radius: 50%;\n",
              "      cursor: pointer;\n",
              "      display: none;\n",
              "      fill: #1967D2;\n",
              "      height: 32px;\n",
              "      padding: 0 0 0 0;\n",
              "      width: 32px;\n",
              "    }\n",
              "\n",
              "    .colab-df-convert:hover {\n",
              "      background-color: #E2EBFA;\n",
              "      box-shadow: 0px 1px 2px rgba(60, 64, 67, 0.3), 0px 1px 3px 1px rgba(60, 64, 67, 0.15);\n",
              "      fill: #174EA6;\n",
              "    }\n",
              "\n",
              "    .colab-df-buttons div {\n",
              "      margin-bottom: 4px;\n",
              "    }\n",
              "\n",
              "    [theme=dark] .colab-df-convert {\n",
              "      background-color: #3B4455;\n",
              "      fill: #D2E3FC;\n",
              "    }\n",
              "\n",
              "    [theme=dark] .colab-df-convert:hover {\n",
              "      background-color: #434B5C;\n",
              "      box-shadow: 0px 1px 3px 1px rgba(0, 0, 0, 0.15);\n",
              "      filter: drop-shadow(0px 1px 2px rgba(0, 0, 0, 0.3));\n",
              "      fill: #FFFFFF;\n",
              "    }\n",
              "  </style>\n",
              "\n",
              "    <script>\n",
              "      const buttonEl =\n",
              "        document.querySelector('#df-31606ffa-ccc2-4eb6-b6d2-29dc759b21bb button.colab-df-convert');\n",
              "      buttonEl.style.display =\n",
              "        google.colab.kernel.accessAllowed ? 'block' : 'none';\n",
              "\n",
              "      async function convertToInteractive(key) {\n",
              "        const element = document.querySelector('#df-31606ffa-ccc2-4eb6-b6d2-29dc759b21bb');\n",
              "        const dataTable =\n",
              "          await google.colab.kernel.invokeFunction('convertToInteractive',\n",
              "                                                    [key], {});\n",
              "        if (!dataTable) return;\n",
              "\n",
              "        const docLinkHtml = 'Like what you see? Visit the ' +\n",
              "          '<a target=\"_blank\" href=https://colab.research.google.com/notebooks/data_table.ipynb>data table notebook</a>'\n",
              "          + ' to learn more about interactive tables.';\n",
              "        element.innerHTML = '';\n",
              "        dataTable['output_type'] = 'display_data';\n",
              "        await google.colab.output.renderOutput(dataTable, element);\n",
              "        const docLink = document.createElement('div');\n",
              "        docLink.innerHTML = docLinkHtml;\n",
              "        element.appendChild(docLink);\n",
              "      }\n",
              "    </script>\n",
              "  </div>\n",
              "\n",
              "\n",
              "<div id=\"df-e100c224-6742-47ef-9e6f-ed7982dc0a66\">\n",
              "  <button class=\"colab-df-quickchart\" onclick=\"quickchart('df-e100c224-6742-47ef-9e6f-ed7982dc0a66')\"\n",
              "            title=\"Suggest charts\"\n",
              "            style=\"display:none;\">\n",
              "\n",
              "<svg xmlns=\"http://www.w3.org/2000/svg\" height=\"24px\"viewBox=\"0 0 24 24\"\n",
              "     width=\"24px\">\n",
              "    <g>\n",
              "        <path d=\"M19 3H5c-1.1 0-2 .9-2 2v14c0 1.1.9 2 2 2h14c1.1 0 2-.9 2-2V5c0-1.1-.9-2-2-2zM9 17H7v-7h2v7zm4 0h-2V7h2v10zm4 0h-2v-4h2v4z\"/>\n",
              "    </g>\n",
              "</svg>\n",
              "  </button>\n",
              "\n",
              "<style>\n",
              "  .colab-df-quickchart {\n",
              "      --bg-color: #E8F0FE;\n",
              "      --fill-color: #1967D2;\n",
              "      --hover-bg-color: #E2EBFA;\n",
              "      --hover-fill-color: #174EA6;\n",
              "      --disabled-fill-color: #AAA;\n",
              "      --disabled-bg-color: #DDD;\n",
              "  }\n",
              "\n",
              "  [theme=dark] .colab-df-quickchart {\n",
              "      --bg-color: #3B4455;\n",
              "      --fill-color: #D2E3FC;\n",
              "      --hover-bg-color: #434B5C;\n",
              "      --hover-fill-color: #FFFFFF;\n",
              "      --disabled-bg-color: #3B4455;\n",
              "      --disabled-fill-color: #666;\n",
              "  }\n",
              "\n",
              "  .colab-df-quickchart {\n",
              "    background-color: var(--bg-color);\n",
              "    border: none;\n",
              "    border-radius: 50%;\n",
              "    cursor: pointer;\n",
              "    display: none;\n",
              "    fill: var(--fill-color);\n",
              "    height: 32px;\n",
              "    padding: 0;\n",
              "    width: 32px;\n",
              "  }\n",
              "\n",
              "  .colab-df-quickchart:hover {\n",
              "    background-color: var(--hover-bg-color);\n",
              "    box-shadow: 0 1px 2px rgba(60, 64, 67, 0.3), 0 1px 3px 1px rgba(60, 64, 67, 0.15);\n",
              "    fill: var(--button-hover-fill-color);\n",
              "  }\n",
              "\n",
              "  .colab-df-quickchart-complete:disabled,\n",
              "  .colab-df-quickchart-complete:disabled:hover {\n",
              "    background-color: var(--disabled-bg-color);\n",
              "    fill: var(--disabled-fill-color);\n",
              "    box-shadow: none;\n",
              "  }\n",
              "\n",
              "  .colab-df-spinner {\n",
              "    border: 2px solid var(--fill-color);\n",
              "    border-color: transparent;\n",
              "    border-bottom-color: var(--fill-color);\n",
              "    animation:\n",
              "      spin 1s steps(1) infinite;\n",
              "  }\n",
              "\n",
              "  @keyframes spin {\n",
              "    0% {\n",
              "      border-color: transparent;\n",
              "      border-bottom-color: var(--fill-color);\n",
              "      border-left-color: var(--fill-color);\n",
              "    }\n",
              "    20% {\n",
              "      border-color: transparent;\n",
              "      border-left-color: var(--fill-color);\n",
              "      border-top-color: var(--fill-color);\n",
              "    }\n",
              "    30% {\n",
              "      border-color: transparent;\n",
              "      border-left-color: var(--fill-color);\n",
              "      border-top-color: var(--fill-color);\n",
              "      border-right-color: var(--fill-color);\n",
              "    }\n",
              "    40% {\n",
              "      border-color: transparent;\n",
              "      border-right-color: var(--fill-color);\n",
              "      border-top-color: var(--fill-color);\n",
              "    }\n",
              "    60% {\n",
              "      border-color: transparent;\n",
              "      border-right-color: var(--fill-color);\n",
              "    }\n",
              "    80% {\n",
              "      border-color: transparent;\n",
              "      border-right-color: var(--fill-color);\n",
              "      border-bottom-color: var(--fill-color);\n",
              "    }\n",
              "    90% {\n",
              "      border-color: transparent;\n",
              "      border-bottom-color: var(--fill-color);\n",
              "    }\n",
              "  }\n",
              "</style>\n",
              "\n",
              "  <script>\n",
              "    async function quickchart(key) {\n",
              "      const quickchartButtonEl =\n",
              "        document.querySelector('#' + key + ' button');\n",
              "      quickchartButtonEl.disabled = true;  // To prevent multiple clicks.\n",
              "      quickchartButtonEl.classList.add('colab-df-spinner');\n",
              "      try {\n",
              "        const charts = await google.colab.kernel.invokeFunction(\n",
              "            'suggestCharts', [key], {});\n",
              "      } catch (error) {\n",
              "        console.error('Error during call to suggestCharts:', error);\n",
              "      }\n",
              "      quickchartButtonEl.classList.remove('colab-df-spinner');\n",
              "      quickchartButtonEl.classList.add('colab-df-quickchart-complete');\n",
              "    }\n",
              "    (() => {\n",
              "      let quickchartButtonEl =\n",
              "        document.querySelector('#df-e100c224-6742-47ef-9e6f-ed7982dc0a66 button');\n",
              "      quickchartButtonEl.style.display =\n",
              "        google.colab.kernel.accessAllowed ? 'block' : 'none';\n",
              "    })();\n",
              "  </script>\n",
              "</div>\n",
              "\n",
              "    </div>\n",
              "  </div>\n"
            ],
            "application/vnd.google.colaboratory.intrinsic+json": {
              "type": "dataframe",
              "variable_name": "df_clinical"
            }
          },
          "metadata": {},
          "execution_count": 7
        }
      ]
    },
    {
      "cell_type": "code",
      "source": [
        "df_genetic = pd.read_csv(location + \"snp_masterDB.csv\", sep=\",\")\n",
        "\n",
        "features_file_path = location + \"Genetic/feaSel_xgb_Genetic.txt\"\n",
        "# features_file_path = location + \"feaSel_xgb_Genetic.txt\"\n",
        "with open(features_file_path, 'r') as file:\n",
        "    feaSel_xgb = [line.strip() for line in file.readlines()]\n",
        "\n",
        "# Retain only XGBoost Features\n",
        "retain_list = list(feaSel_xgb)\n",
        "\n",
        "all_columns = df_genetic.columns\n",
        "drop_list = []\n",
        "for i in all_columns:\n",
        "  if(i not in retain_list and i != \"STATUS\" and i != \"PATNO\"):\n",
        "    drop_list.append(i)\n",
        "\n",
        "df_genetic = df_genetic.drop(columns = drop_list, axis = 1)\n",
        "df_genetic.head()\n",
        "print(\"features =\", len(retain_list))\n",
        "\n",
        "print(len(df_genetic))\n",
        "print(len(df_genetic.columns))\n",
        "df_genetic.head()"
      ],
      "metadata": {
        "colab": {
          "base_uri": "https://localhost:8080/",
          "height": 308
        },
        "id": "7Z65Oa5upZMI",
        "outputId": "086697c5-123f-45d0-d958-ac1962a8dba8"
      },
      "execution_count": null,
      "outputs": [
        {
          "output_type": "stream",
          "name": "stdout",
          "text": [
            "features = 154\n",
            "733\n",
            "156\n"
          ]
        },
        {
          "output_type": "execute_result",
          "data": {
            "text/plain": [
              "   PATNO  chr4_90753960_C_T  chr4_90760221_A_C  chr4_90760828_C_T  \\\n",
              "0   3627                  1                  1                  1   \n",
              "1   3509                  1                  1                  1   \n",
              "2   3214                  0                  0                  0   \n",
              "3   3556                  1                  1                  1   \n",
              "4   3367                  1                  1                  1   \n",
              "\n",
              "   chr1_20977221_A_T  chr1_20977449_G_T  chr1_20978058_G_A  chr4_90636193_T_C  \\\n",
              "0                  0                  0                  0                  0   \n",
              "1                  1                  1                  1                  1   \n",
              "2                  1                  1                  0                  1   \n",
              "3                  1                  1                  1                  1   \n",
              "4                  1                  1                  1                  0   \n",
              "\n",
              "   chr4_90636708_T_C  chr4_90637010_A_G  ...  chr4_90742815_G_A  \\\n",
              "0                  0                  0  ...                  0   \n",
              "1                  1                  1  ...                  0   \n",
              "2                  1                  1  ...                  0   \n",
              "3                  1                  1  ...                  0   \n",
              "4                  0                  0  ...                  0   \n",
              "\n",
              "   chr4_90742861_T_G  chr4_90744216_G_A  chr4_90752205_T_C  \\\n",
              "0                  0                  0                  0   \n",
              "1                  0                  0                  0   \n",
              "2                  0                  0                  0   \n",
              "3                  0                  0                  0   \n",
              "4                  0                  0                  0   \n",
              "\n",
              "   chr6_109004379_C_T  chr17_44051846_A_G  chr4_90758389_G_C  \\\n",
              "0                   0                   0                  0   \n",
              "1                   0                   0                  0   \n",
              "2                   0                   0                  0   \n",
              "3                   0                   0                  0   \n",
              "4                   0                   0                  0   \n",
              "\n",
              "   chr17_44039691_A_G  chr10_47915898_A_G  STATUS  \n",
              "0                   0                   0       0  \n",
              "1                   0                   0       1  \n",
              "2                   0                   0       1  \n",
              "3                   0                   0       1  \n",
              "4                   0                   0       1  \n",
              "\n",
              "[5 rows x 156 columns]"
            ],
            "text/html": [
              "\n",
              "  <div id=\"df-f0027dc8-c0b0-43b7-8172-6be46426b2b5\" class=\"colab-df-container\">\n",
              "    <div>\n",
              "<style scoped>\n",
              "    .dataframe tbody tr th:only-of-type {\n",
              "        vertical-align: middle;\n",
              "    }\n",
              "\n",
              "    .dataframe tbody tr th {\n",
              "        vertical-align: top;\n",
              "    }\n",
              "\n",
              "    .dataframe thead th {\n",
              "        text-align: right;\n",
              "    }\n",
              "</style>\n",
              "<table border=\"1\" class=\"dataframe\">\n",
              "  <thead>\n",
              "    <tr style=\"text-align: right;\">\n",
              "      <th></th>\n",
              "      <th>PATNO</th>\n",
              "      <th>chr4_90753960_C_T</th>\n",
              "      <th>chr4_90760221_A_C</th>\n",
              "      <th>chr4_90760828_C_T</th>\n",
              "      <th>chr1_20977221_A_T</th>\n",
              "      <th>chr1_20977449_G_T</th>\n",
              "      <th>chr1_20978058_G_A</th>\n",
              "      <th>chr4_90636193_T_C</th>\n",
              "      <th>chr4_90636708_T_C</th>\n",
              "      <th>chr4_90637010_A_G</th>\n",
              "      <th>...</th>\n",
              "      <th>chr4_90742815_G_A</th>\n",
              "      <th>chr4_90742861_T_G</th>\n",
              "      <th>chr4_90744216_G_A</th>\n",
              "      <th>chr4_90752205_T_C</th>\n",
              "      <th>chr6_109004379_C_T</th>\n",
              "      <th>chr17_44051846_A_G</th>\n",
              "      <th>chr4_90758389_G_C</th>\n",
              "      <th>chr17_44039691_A_G</th>\n",
              "      <th>chr10_47915898_A_G</th>\n",
              "      <th>STATUS</th>\n",
              "    </tr>\n",
              "  </thead>\n",
              "  <tbody>\n",
              "    <tr>\n",
              "      <th>0</th>\n",
              "      <td>3627</td>\n",
              "      <td>1</td>\n",
              "      <td>1</td>\n",
              "      <td>1</td>\n",
              "      <td>0</td>\n",
              "      <td>0</td>\n",
              "      <td>0</td>\n",
              "      <td>0</td>\n",
              "      <td>0</td>\n",
              "      <td>0</td>\n",
              "      <td>...</td>\n",
              "      <td>0</td>\n",
              "      <td>0</td>\n",
              "      <td>0</td>\n",
              "      <td>0</td>\n",
              "      <td>0</td>\n",
              "      <td>0</td>\n",
              "      <td>0</td>\n",
              "      <td>0</td>\n",
              "      <td>0</td>\n",
              "      <td>0</td>\n",
              "    </tr>\n",
              "    <tr>\n",
              "      <th>1</th>\n",
              "      <td>3509</td>\n",
              "      <td>1</td>\n",
              "      <td>1</td>\n",
              "      <td>1</td>\n",
              "      <td>1</td>\n",
              "      <td>1</td>\n",
              "      <td>1</td>\n",
              "      <td>1</td>\n",
              "      <td>1</td>\n",
              "      <td>1</td>\n",
              "      <td>...</td>\n",
              "      <td>0</td>\n",
              "      <td>0</td>\n",
              "      <td>0</td>\n",
              "      <td>0</td>\n",
              "      <td>0</td>\n",
              "      <td>0</td>\n",
              "      <td>0</td>\n",
              "      <td>0</td>\n",
              "      <td>0</td>\n",
              "      <td>1</td>\n",
              "    </tr>\n",
              "    <tr>\n",
              "      <th>2</th>\n",
              "      <td>3214</td>\n",
              "      <td>0</td>\n",
              "      <td>0</td>\n",
              "      <td>0</td>\n",
              "      <td>1</td>\n",
              "      <td>1</td>\n",
              "      <td>0</td>\n",
              "      <td>1</td>\n",
              "      <td>1</td>\n",
              "      <td>1</td>\n",
              "      <td>...</td>\n",
              "      <td>0</td>\n",
              "      <td>0</td>\n",
              "      <td>0</td>\n",
              "      <td>0</td>\n",
              "      <td>0</td>\n",
              "      <td>0</td>\n",
              "      <td>0</td>\n",
              "      <td>0</td>\n",
              "      <td>0</td>\n",
              "      <td>1</td>\n",
              "    </tr>\n",
              "    <tr>\n",
              "      <th>3</th>\n",
              "      <td>3556</td>\n",
              "      <td>1</td>\n",
              "      <td>1</td>\n",
              "      <td>1</td>\n",
              "      <td>1</td>\n",
              "      <td>1</td>\n",
              "      <td>1</td>\n",
              "      <td>1</td>\n",
              "      <td>1</td>\n",
              "      <td>1</td>\n",
              "      <td>...</td>\n",
              "      <td>0</td>\n",
              "      <td>0</td>\n",
              "      <td>0</td>\n",
              "      <td>0</td>\n",
              "      <td>0</td>\n",
              "      <td>0</td>\n",
              "      <td>0</td>\n",
              "      <td>0</td>\n",
              "      <td>0</td>\n",
              "      <td>1</td>\n",
              "    </tr>\n",
              "    <tr>\n",
              "      <th>4</th>\n",
              "      <td>3367</td>\n",
              "      <td>1</td>\n",
              "      <td>1</td>\n",
              "      <td>1</td>\n",
              "      <td>1</td>\n",
              "      <td>1</td>\n",
              "      <td>1</td>\n",
              "      <td>0</td>\n",
              "      <td>0</td>\n",
              "      <td>0</td>\n",
              "      <td>...</td>\n",
              "      <td>0</td>\n",
              "      <td>0</td>\n",
              "      <td>0</td>\n",
              "      <td>0</td>\n",
              "      <td>0</td>\n",
              "      <td>0</td>\n",
              "      <td>0</td>\n",
              "      <td>0</td>\n",
              "      <td>0</td>\n",
              "      <td>1</td>\n",
              "    </tr>\n",
              "  </tbody>\n",
              "</table>\n",
              "<p>5 rows × 156 columns</p>\n",
              "</div>\n",
              "    <div class=\"colab-df-buttons\">\n",
              "\n",
              "  <div class=\"colab-df-container\">\n",
              "    <button class=\"colab-df-convert\" onclick=\"convertToInteractive('df-f0027dc8-c0b0-43b7-8172-6be46426b2b5')\"\n",
              "            title=\"Convert this dataframe to an interactive table.\"\n",
              "            style=\"display:none;\">\n",
              "\n",
              "  <svg xmlns=\"http://www.w3.org/2000/svg\" height=\"24px\" viewBox=\"0 -960 960 960\">\n",
              "    <path d=\"M120-120v-720h720v720H120Zm60-500h600v-160H180v160Zm220 220h160v-160H400v160Zm0 220h160v-160H400v160ZM180-400h160v-160H180v160Zm440 0h160v-160H620v160ZM180-180h160v-160H180v160Zm440 0h160v-160H620v160Z\"/>\n",
              "  </svg>\n",
              "    </button>\n",
              "\n",
              "  <style>\n",
              "    .colab-df-container {\n",
              "      display:flex;\n",
              "      gap: 12px;\n",
              "    }\n",
              "\n",
              "    .colab-df-convert {\n",
              "      background-color: #E8F0FE;\n",
              "      border: none;\n",
              "      border-radius: 50%;\n",
              "      cursor: pointer;\n",
              "      display: none;\n",
              "      fill: #1967D2;\n",
              "      height: 32px;\n",
              "      padding: 0 0 0 0;\n",
              "      width: 32px;\n",
              "    }\n",
              "\n",
              "    .colab-df-convert:hover {\n",
              "      background-color: #E2EBFA;\n",
              "      box-shadow: 0px 1px 2px rgba(60, 64, 67, 0.3), 0px 1px 3px 1px rgba(60, 64, 67, 0.15);\n",
              "      fill: #174EA6;\n",
              "    }\n",
              "\n",
              "    .colab-df-buttons div {\n",
              "      margin-bottom: 4px;\n",
              "    }\n",
              "\n",
              "    [theme=dark] .colab-df-convert {\n",
              "      background-color: #3B4455;\n",
              "      fill: #D2E3FC;\n",
              "    }\n",
              "\n",
              "    [theme=dark] .colab-df-convert:hover {\n",
              "      background-color: #434B5C;\n",
              "      box-shadow: 0px 1px 3px 1px rgba(0, 0, 0, 0.15);\n",
              "      filter: drop-shadow(0px 1px 2px rgba(0, 0, 0, 0.3));\n",
              "      fill: #FFFFFF;\n",
              "    }\n",
              "  </style>\n",
              "\n",
              "    <script>\n",
              "      const buttonEl =\n",
              "        document.querySelector('#df-f0027dc8-c0b0-43b7-8172-6be46426b2b5 button.colab-df-convert');\n",
              "      buttonEl.style.display =\n",
              "        google.colab.kernel.accessAllowed ? 'block' : 'none';\n",
              "\n",
              "      async function convertToInteractive(key) {\n",
              "        const element = document.querySelector('#df-f0027dc8-c0b0-43b7-8172-6be46426b2b5');\n",
              "        const dataTable =\n",
              "          await google.colab.kernel.invokeFunction('convertToInteractive',\n",
              "                                                    [key], {});\n",
              "        if (!dataTable) return;\n",
              "\n",
              "        const docLinkHtml = 'Like what you see? Visit the ' +\n",
              "          '<a target=\"_blank\" href=https://colab.research.google.com/notebooks/data_table.ipynb>data table notebook</a>'\n",
              "          + ' to learn more about interactive tables.';\n",
              "        element.innerHTML = '';\n",
              "        dataTable['output_type'] = 'display_data';\n",
              "        await google.colab.output.renderOutput(dataTable, element);\n",
              "        const docLink = document.createElement('div');\n",
              "        docLink.innerHTML = docLinkHtml;\n",
              "        element.appendChild(docLink);\n",
              "      }\n",
              "    </script>\n",
              "  </div>\n",
              "\n",
              "\n",
              "<div id=\"df-7d38f288-b39a-4b6a-a15b-85807185b4e5\">\n",
              "  <button class=\"colab-df-quickchart\" onclick=\"quickchart('df-7d38f288-b39a-4b6a-a15b-85807185b4e5')\"\n",
              "            title=\"Suggest charts\"\n",
              "            style=\"display:none;\">\n",
              "\n",
              "<svg xmlns=\"http://www.w3.org/2000/svg\" height=\"24px\"viewBox=\"0 0 24 24\"\n",
              "     width=\"24px\">\n",
              "    <g>\n",
              "        <path d=\"M19 3H5c-1.1 0-2 .9-2 2v14c0 1.1.9 2 2 2h14c1.1 0 2-.9 2-2V5c0-1.1-.9-2-2-2zM9 17H7v-7h2v7zm4 0h-2V7h2v10zm4 0h-2v-4h2v4z\"/>\n",
              "    </g>\n",
              "</svg>\n",
              "  </button>\n",
              "\n",
              "<style>\n",
              "  .colab-df-quickchart {\n",
              "      --bg-color: #E8F0FE;\n",
              "      --fill-color: #1967D2;\n",
              "      --hover-bg-color: #E2EBFA;\n",
              "      --hover-fill-color: #174EA6;\n",
              "      --disabled-fill-color: #AAA;\n",
              "      --disabled-bg-color: #DDD;\n",
              "  }\n",
              "\n",
              "  [theme=dark] .colab-df-quickchart {\n",
              "      --bg-color: #3B4455;\n",
              "      --fill-color: #D2E3FC;\n",
              "      --hover-bg-color: #434B5C;\n",
              "      --hover-fill-color: #FFFFFF;\n",
              "      --disabled-bg-color: #3B4455;\n",
              "      --disabled-fill-color: #666;\n",
              "  }\n",
              "\n",
              "  .colab-df-quickchart {\n",
              "    background-color: var(--bg-color);\n",
              "    border: none;\n",
              "    border-radius: 50%;\n",
              "    cursor: pointer;\n",
              "    display: none;\n",
              "    fill: var(--fill-color);\n",
              "    height: 32px;\n",
              "    padding: 0;\n",
              "    width: 32px;\n",
              "  }\n",
              "\n",
              "  .colab-df-quickchart:hover {\n",
              "    background-color: var(--hover-bg-color);\n",
              "    box-shadow: 0 1px 2px rgba(60, 64, 67, 0.3), 0 1px 3px 1px rgba(60, 64, 67, 0.15);\n",
              "    fill: var(--button-hover-fill-color);\n",
              "  }\n",
              "\n",
              "  .colab-df-quickchart-complete:disabled,\n",
              "  .colab-df-quickchart-complete:disabled:hover {\n",
              "    background-color: var(--disabled-bg-color);\n",
              "    fill: var(--disabled-fill-color);\n",
              "    box-shadow: none;\n",
              "  }\n",
              "\n",
              "  .colab-df-spinner {\n",
              "    border: 2px solid var(--fill-color);\n",
              "    border-color: transparent;\n",
              "    border-bottom-color: var(--fill-color);\n",
              "    animation:\n",
              "      spin 1s steps(1) infinite;\n",
              "  }\n",
              "\n",
              "  @keyframes spin {\n",
              "    0% {\n",
              "      border-color: transparent;\n",
              "      border-bottom-color: var(--fill-color);\n",
              "      border-left-color: var(--fill-color);\n",
              "    }\n",
              "    20% {\n",
              "      border-color: transparent;\n",
              "      border-left-color: var(--fill-color);\n",
              "      border-top-color: var(--fill-color);\n",
              "    }\n",
              "    30% {\n",
              "      border-color: transparent;\n",
              "      border-left-color: var(--fill-color);\n",
              "      border-top-color: var(--fill-color);\n",
              "      border-right-color: var(--fill-color);\n",
              "    }\n",
              "    40% {\n",
              "      border-color: transparent;\n",
              "      border-right-color: var(--fill-color);\n",
              "      border-top-color: var(--fill-color);\n",
              "    }\n",
              "    60% {\n",
              "      border-color: transparent;\n",
              "      border-right-color: var(--fill-color);\n",
              "    }\n",
              "    80% {\n",
              "      border-color: transparent;\n",
              "      border-right-color: var(--fill-color);\n",
              "      border-bottom-color: var(--fill-color);\n",
              "    }\n",
              "    90% {\n",
              "      border-color: transparent;\n",
              "      border-bottom-color: var(--fill-color);\n",
              "    }\n",
              "  }\n",
              "</style>\n",
              "\n",
              "  <script>\n",
              "    async function quickchart(key) {\n",
              "      const quickchartButtonEl =\n",
              "        document.querySelector('#' + key + ' button');\n",
              "      quickchartButtonEl.disabled = true;  // To prevent multiple clicks.\n",
              "      quickchartButtonEl.classList.add('colab-df-spinner');\n",
              "      try {\n",
              "        const charts = await google.colab.kernel.invokeFunction(\n",
              "            'suggestCharts', [key], {});\n",
              "      } catch (error) {\n",
              "        console.error('Error during call to suggestCharts:', error);\n",
              "      }\n",
              "      quickchartButtonEl.classList.remove('colab-df-spinner');\n",
              "      quickchartButtonEl.classList.add('colab-df-quickchart-complete');\n",
              "    }\n",
              "    (() => {\n",
              "      let quickchartButtonEl =\n",
              "        document.querySelector('#df-7d38f288-b39a-4b6a-a15b-85807185b4e5 button');\n",
              "      quickchartButtonEl.style.display =\n",
              "        google.colab.kernel.accessAllowed ? 'block' : 'none';\n",
              "    })();\n",
              "  </script>\n",
              "</div>\n",
              "\n",
              "    </div>\n",
              "  </div>\n"
            ],
            "application/vnd.google.colaboratory.intrinsic+json": {
              "type": "dataframe",
              "variable_name": "df_genetic"
            }
          },
          "metadata": {},
          "execution_count": 8
        }
      ]
    },
    {
      "cell_type": "code",
      "source": [
        "common_patno = set(df_clinical['PATNO']).intersection(df_biospec['PATNO'], df_genetic['PATNO'])\n",
        "print(len(common_patno))\n",
        "\n",
        "df_clinical = df_clinical[df_clinical['PATNO'].isin(common_patno)].copy()\n",
        "df_biospec = df_biospec[df_biospec['PATNO'].isin(common_patno)].copy()\n",
        "df_genetic = df_genetic[df_genetic['PATNO'].isin(common_patno)].copy()\n",
        "\n",
        "df_clinical = df_clinical.sort_values(by='PATNO').reset_index(drop=True)\n",
        "df_biospec = df_biospec.sort_values(by='PATNO').reset_index(drop=True)\n",
        "df_genetic = df_genetic.sort_values(by='PATNO').reset_index(drop=True)\n",
        "\n",
        "print(\"Dimensions of df_clinical:\", df_clinical.shape)\n",
        "print(\"Dimensions of df_biospec:\", df_biospec.shape)\n",
        "print(\"Dimensions of df_genetic:\", df_genetic.shape)"
      ],
      "metadata": {
        "colab": {
          "base_uri": "https://localhost:8080/"
        },
        "id": "5j9PhJY-pBg0",
        "outputId": "c3b6e3bc-969c-4cec-bef7-6fdeec3a7cfa"
      },
      "execution_count": null,
      "outputs": [
        {
          "output_type": "stream",
          "name": "stdout",
          "text": [
            "598\n",
            "Dimensions of df_clinical: (598, 31)\n",
            "Dimensions of df_biospec: (598, 7)\n",
            "Dimensions of df_genetic: (598, 156)\n"
          ]
        }
      ]
    },
    {
      "cell_type": "code",
      "source": [
        "location = \"/content/gdrive/My Drive/MultiModal_PD/Late_Integration/\""
      ],
      "metadata": {
        "id": "b7_n38zn1UrM"
      },
      "execution_count": null,
      "outputs": []
    },
    {
      "cell_type": "code",
      "source": [
        "X_clinical = df_clinical.drop(columns=['PATNO', 'STATUS']).values\n",
        "X_biospec = df_biospec.drop(columns=['PATNO', 'STATUS']).values\n",
        "X_genetic = df_genetic.drop(columns=['PATNO', 'STATUS']).values\n",
        "\n",
        "print(\"Dimensions of X_clinical:\", X_clinical.shape)\n",
        "print(\"Dimensions of X_biospec:\", X_biospec.shape)\n",
        "print(\"Dimensions of X_genetic:\", X_genetic.shape)\n",
        "\n",
        "y = df_clinical['STATUS'].values\n",
        "print(\"Length of y:\", len(y))\n",
        "\n",
        "print(\"Saving values\")\n",
        "\n",
        "np.save(location + 'X_clinical.npy', X_clinical)\n",
        "np.save(location + 'X_biospec.npy', X_biospec)\n",
        "np.save(location + 'X_genetic.npy', X_genetic)\n",
        "np.save(location + 'y.npy', y)\n",
        "\n",
        "# X_clinical = np.load(location + 'X_clinical.npy')\n",
        "# X_biospec = np.load(location + 'X_biospec.npy')\n",
        "# X_genetic = np.load(location + 'X_genetic.npy')\n",
        "# y = np.load(location + 'y.npy')"
      ],
      "metadata": {
        "colab": {
          "base_uri": "https://localhost:8080/"
        },
        "id": "NKV1xGWbpYgD",
        "outputId": "1e94c6e9-7221-413b-9083-9ba023adf56e"
      },
      "execution_count": null,
      "outputs": [
        {
          "output_type": "stream",
          "name": "stdout",
          "text": [
            "Dimensions of X_clinical: (598, 29)\n",
            "Dimensions of X_biospec: (598, 5)\n",
            "Dimensions of X_genetic: (598, 154)\n",
            "Length of y: 598\n",
            "Saving values\n"
          ]
        }
      ]
    },
    {
      "cell_type": "code",
      "source": [
        "from sklearn.model_selection import train_test_split\n",
        "\n",
        "X_clinical_train, X_clinical_test, X_biospec_train, X_biospec_test, X_genetic_train, X_genetic_test, y_train, y_test = train_test_split(\n",
        "    X_clinical, X_biospec, X_genetic, y, test_size=0.2, random_state=42, stratify=y)"
      ],
      "metadata": {
        "id": "h5Q27hryWnwJ"
      },
      "execution_count": null,
      "outputs": []
    },
    {
      "cell_type": "code",
      "source": [
        "scaler_clinical = StandardScaler()\n",
        "scaler_biospec = StandardScaler()\n",
        "scaler_genetic = StandardScaler()\n",
        "\n",
        "X_clinical_train = scaler_clinical.fit_transform(X_clinical_train)\n",
        "X_clinical_test = scaler_clinical.transform(X_clinical_test)\n",
        "\n",
        "X_biospec_train = scaler_biospec.fit_transform(X_biospec_train)\n",
        "X_biospec_test = scaler_biospec.transform(X_biospec_test)\n",
        "\n",
        "X_genetic_train = scaler_genetic.fit_transform(X_genetic_train)\n",
        "X_genetic_test = scaler_genetic.transform(X_genetic_test)"
      ],
      "metadata": {
        "id": "WNEa0hfPx4NQ"
      },
      "execution_count": null,
      "outputs": []
    },
    {
      "cell_type": "markdown",
      "source": [
        "# **Loading the Best Model for each Modality**\n"
      ],
      "metadata": {
        "id": "Z63vR-5Px8ST"
      }
    },
    {
      "cell_type": "markdown",
      "source": [
        "## **Clinical - LightGBM**"
      ],
      "metadata": {
        "id": "e37upH6ryNz-"
      }
    },
    {
      "cell_type": "code",
      "source": [
        "location = \"/content/gdrive/My Drive/MultiModal_PD/Clinical/\"\n",
        "filename = location + 'clin_lgbm' + '.sav'\n",
        "clf_clin = pickle.load(open(filename, 'rb'))\n",
        "print(clf_clin)"
      ],
      "metadata": {
        "colab": {
          "base_uri": "https://localhost:8080/"
        },
        "id": "EERM2T-Ox7Yg",
        "outputId": "34fe8832-c801-4e80-e93c-0c9d912c2f16"
      },
      "execution_count": null,
      "outputs": [
        {
          "output_type": "stream",
          "name": "stdout",
          "text": [
            "LGBMClassifier(class_weight={0: 0.7671428571428571, 1: 0.23285714285714287},\n",
            "               colsample_bytree=0.7222222222222222,\n",
            "               learning_rate=0.11999999999999998, max_depth=10, n_estimators=50,\n",
            "               num_leaves=120, reg_alpha=0.04281332398719392,\n",
            "               reg_lambda=0.0003359818286283781, subsample=0.7222222222222222)\n"
          ]
        }
      ]
    },
    {
      "cell_type": "markdown",
      "source": [
        "## **Genetic - MLP**"
      ],
      "metadata": {
        "id": "SOOVL9HszR87"
      }
    },
    {
      "cell_type": "code",
      "source": [
        "location = \"/content/gdrive/My Drive/MultiModal_PD/Genetic/\"\n",
        "filename = location + 'genetic_mlp.sav'\n",
        "clf_genetic = pickle.load(open(filename, 'rb'))\n",
        "print(clf_genetic)"
      ],
      "metadata": {
        "colab": {
          "base_uri": "https://localhost:8080/"
        },
        "id": "NAuD_IYyx7VP",
        "outputId": "7670c80a-5575-4ccd-f6b1-d48126f02343"
      },
      "execution_count": null,
      "outputs": [
        {
          "output_type": "stream",
          "name": "stdout",
          "text": [
            "MLPClassifier(alpha=0.3727593720314938, batch_size=128, early_stopping=True,\n",
            "              hidden_layer_sizes=(51,), learning_rate_init=0.0001, max_iter=500,\n",
            "              momentum=0.8374999999999999, n_iter_no_change=5, random_state=42,\n",
            "              solver='sgd')\n"
          ]
        }
      ]
    },
    {
      "cell_type": "markdown",
      "source": [
        "## **Biospecimen - Gaussian NB**"
      ],
      "metadata": {
        "id": "6KGKStZvzWJh"
      }
    },
    {
      "cell_type": "code",
      "source": [
        "location = \"/content/gdrive/My Drive/MultiModal_PD/Biospecimen/\"\n",
        "filename = location + 'biospec_GNB' + '.sav'\n",
        "clf_biospec = pickle.load(open(filename, 'rb'))\n",
        "print(clf_biospec)"
      ],
      "metadata": {
        "colab": {
          "base_uri": "https://localhost:8080/"
        },
        "id": "EO8u7_Fhx4Jp",
        "outputId": "2b6ed278-21c3-4268-ef73-9c6f1d175c7d"
      },
      "execution_count": null,
      "outputs": [
        {
          "output_type": "stream",
          "name": "stdout",
          "text": [
            "GaussianNB(var_smoothing=0.12067926406393285)\n"
          ]
        }
      ]
    },
    {
      "cell_type": "markdown",
      "source": [
        "# **Late Integration Model**\n"
      ],
      "metadata": {
        "id": "7IRjOoLNz6D4"
      }
    },
    {
      "cell_type": "code",
      "source": [
        "location = \"/content/gdrive/My Drive/MultiModal_PD/Late_Integration/\""
      ],
      "metadata": {
        "id": "ZOGfE2QgDLA6"
      },
      "execution_count": null,
      "outputs": []
    },
    {
      "cell_type": "code",
      "source": [
        "def get_individual_predictions(X_list, clf_clin, clf_genetic, clf_biospec):\n",
        "    X_clinical, X_biospec, X_genetic = X_list\n",
        "    pred_clin = clf_clin.predict_proba(X_clinical)[:, 1]\n",
        "    pred_genetic = clf_genetic.predict_proba(X_genetic)[:, 1]\n",
        "    pred_biospec = clf_biospec.predict_proba(X_biospec)[:, 1]\n",
        "    return np.column_stack((pred_clin, pred_genetic, pred_biospec))"
      ],
      "metadata": {
        "id": "OZGoXGiy1f-D"
      },
      "execution_count": null,
      "outputs": []
    },
    {
      "cell_type": "code",
      "source": [
        "X_train = [X_clinical_train, X_biospec_train, X_genetic_train]\n",
        "X_test = [X_clinical_test, X_biospec_test, X_genetic_test]\n",
        "\n",
        "X_train_preds = get_individual_predictions(X_train, clf_clin, clf_genetic, clf_biospec)\n",
        "X_test_preds = get_individual_predictions(X_test, clf_clin, clf_genetic, clf_biospec)\n",
        "\n",
        "print(X_train_preds.shape)\n",
        "print(X_test_preds.shape)"
      ],
      "metadata": {
        "colab": {
          "base_uri": "https://localhost:8080/"
        },
        "id": "VkKT98nX1l44",
        "outputId": "19637ecd-6769-41d0-982d-cdb6098bd80e"
      },
      "execution_count": null,
      "outputs": [
        {
          "output_type": "stream",
          "name": "stdout",
          "text": [
            "(478, 3)\n",
            "(120, 3)\n"
          ]
        },
        {
          "output_type": "stream",
          "name": "stderr",
          "text": [
            "/usr/local/lib/python3.10/dist-packages/sklearn/base.py:493: UserWarning: X does not have valid feature names, but MLPClassifier was fitted with feature names\n",
            "  warnings.warn(\n",
            "/usr/local/lib/python3.10/dist-packages/sklearn/base.py:493: UserWarning: X does not have valid feature names, but MLPClassifier was fitted with feature names\n",
            "  warnings.warn(\n"
          ]
        }
      ]
    },
    {
      "cell_type": "code",
      "source": [
        "from sklearn.metrics import make_scorer\n",
        "\n",
        "def custom_scorer(y_true, y_pred):\n",
        "    f1_neg = f1_score(y_true, y_pred, pos_label=0)\n",
        "    f1_pos = f1_score(y_true, y_pred, pos_label=1)\n",
        "    return (f1_neg + f1_pos) / 2\n",
        "\n",
        "custom_scorer = make_scorer(custom_scorer)"
      ],
      "metadata": {
        "id": "2U5DhIdB3uys"
      },
      "execution_count": null,
      "outputs": []
    },
    {
      "cell_type": "markdown",
      "source": [
        "## **Random Forest**"
      ],
      "metadata": {
        "id": "6IvSwtGs1Y1b"
      }
    },
    {
      "cell_type": "code",
      "source": [
        "clf_rf = RandomForestClassifier(random_state=42)\n",
        "\n",
        "# Hyperparameter space for Random Forest\n",
        "rf_params = {\n",
        "    'n_estimators': np.arange(100, 1000, 100),\n",
        "    'bootstrap': [True, False],\n",
        "    'warm_start': [True, False],\n",
        "    'criterion': ['gini', 'entropy'],\n",
        "    'max_depth': [None] + list(np.arange(10, 110, 10)),\n",
        "    'min_samples_split': np.arange(2, 12, 2),\n",
        "    'min_samples_leaf': np.arange(1, 11, 2),\n",
        "    'max_features': ['auto', 'sqrt', 'log2'],\n",
        "    'class_weight': ['balanced', 'balanced_subsample', None]\n",
        "}\n",
        "\n",
        "# RandomizedSearchCV for Random Forest\n",
        "rf_random_search = RandomizedSearchCV(clf_rf, param_distributions=rf_params, n_iter=100, cv=StratifiedKFold(n_splits=5),\n",
        "                                      verbose=2, scoring=custom_scorer, n_jobs=-1, random_state=42)\n",
        "\n",
        "print(\"Starting Random Forest hyperparameter tuning...\")\n",
        "rf_random_search.fit(X_train_preds, y_train)\n",
        "\n",
        "print(\"Best Random Forest parameters:\")\n",
        "print(rf_random_search.best_params_)\n",
        "\n",
        "best_rf = rf_random_search.best_estimator_\n",
        "\n",
        "with open(location + 'late_integration_rf.pkl', 'wb') as f:\n",
        "    pickle.dump(best_rf, f)"
      ],
      "metadata": {
        "colab": {
          "base_uri": "https://localhost:8080/"
        },
        "id": "nhUwawCRz5YL",
        "outputId": "8bd8877f-3a84-494c-c575-f9c446f2fdb8"
      },
      "execution_count": null,
      "outputs": [
        {
          "output_type": "stream",
          "name": "stdout",
          "text": [
            "Starting Random Forest hyperparameter tuning...\n",
            "Fitting 5 folds for each of 100 candidates, totalling 500 fits\n"
          ]
        },
        {
          "output_type": "stream",
          "name": "stderr",
          "text": [
            "/usr/local/lib/python3.10/dist-packages/sklearn/model_selection/_validation.py:540: FitFailedWarning: \n",
            "165 fits failed out of a total of 500.\n",
            "The score on these train-test partitions for these parameters will be set to nan.\n",
            "If these failures are not expected, you can try to debug them by setting error_score='raise'.\n",
            "\n",
            "Below are more details about the failures:\n",
            "--------------------------------------------------------------------------------\n",
            "60 fits failed with the following error:\n",
            "Traceback (most recent call last):\n",
            "  File \"/usr/local/lib/python3.10/dist-packages/sklearn/model_selection/_validation.py\", line 888, in _fit_and_score\n",
            "    estimator.fit(X_train, y_train, **fit_params)\n",
            "  File \"/usr/local/lib/python3.10/dist-packages/sklearn/base.py\", line 1466, in wrapper\n",
            "    estimator._validate_params()\n",
            "  File \"/usr/local/lib/python3.10/dist-packages/sklearn/base.py\", line 666, in _validate_params\n",
            "    validate_parameter_constraints(\n",
            "  File \"/usr/local/lib/python3.10/dist-packages/sklearn/utils/_param_validation.py\", line 95, in validate_parameter_constraints\n",
            "    raise InvalidParameterError(\n",
            "sklearn.utils._param_validation.InvalidParameterError: The 'max_features' parameter of RandomForestClassifier must be an int in the range [1, inf), a float in the range (0.0, 1.0], a str among {'log2', 'sqrt'} or None. Got 'auto' instead.\n",
            "\n",
            "--------------------------------------------------------------------------------\n",
            "105 fits failed with the following error:\n",
            "Traceback (most recent call last):\n",
            "  File \"/usr/local/lib/python3.10/dist-packages/sklearn/model_selection/_validation.py\", line 888, in _fit_and_score\n",
            "    estimator.fit(X_train, y_train, **fit_params)\n",
            "  File \"/usr/local/lib/python3.10/dist-packages/sklearn/base.py\", line 1466, in wrapper\n",
            "    estimator._validate_params()\n",
            "  File \"/usr/local/lib/python3.10/dist-packages/sklearn/base.py\", line 666, in _validate_params\n",
            "    validate_parameter_constraints(\n",
            "  File \"/usr/local/lib/python3.10/dist-packages/sklearn/utils/_param_validation.py\", line 95, in validate_parameter_constraints\n",
            "    raise InvalidParameterError(\n",
            "sklearn.utils._param_validation.InvalidParameterError: The 'max_features' parameter of RandomForestClassifier must be an int in the range [1, inf), a float in the range (0.0, 1.0], a str among {'sqrt', 'log2'} or None. Got 'auto' instead.\n",
            "\n",
            "  warnings.warn(some_fits_failed_message, FitFailedWarning)\n",
            "/usr/local/lib/python3.10/dist-packages/sklearn/model_selection/_search.py:1103: UserWarning: One or more of the test scores are non-finite: [0.7648535  0.75822728 0.77136673 0.7707536  0.7712318  0.7665364\n",
            " 0.78568944 0.75911164 0.77133931 0.79941684 0.76677715 0.77635396\n",
            " 0.77032004 0.79376588 0.78475372 0.79433832        nan 0.79984091\n",
            "        nan        nan 0.79526434 0.77129548        nan 0.74857668\n",
            " 0.77211565        nan 0.79260422 0.7678175  0.77255434 0.75558098\n",
            "        nan 0.7727069  0.77614675        nan 0.77666628 0.77029478\n",
            " 0.76981822 0.80187978        nan 0.79989145 0.7765532         nan\n",
            " 0.77977744        nan 0.79030927 0.79065442 0.77624304 0.76614135\n",
            " 0.79559523 0.77229089 0.78189785 0.80112842        nan        nan\n",
            " 0.78864881        nan 0.7877082  0.77893761 0.77089377 0.76516395\n",
            "        nan 0.79032158 0.77819226 0.79315089        nan        nan\n",
            "        nan 0.77024073 0.7858124  0.77423843        nan 0.79769668\n",
            " 0.7937998  0.76769703 0.78204164        nan        nan        nan\n",
            "        nan 0.80134598        nan        nan        nan 0.77292599\n",
            "        nan 0.78568944        nan        nan        nan 0.79984091\n",
            "        nan        nan        nan 0.76813267        nan 0.77024073\n",
            " 0.77517434 0.79691985 0.77604349 0.77373308]\n",
            "  warnings.warn(\n"
          ]
        },
        {
          "output_type": "stream",
          "name": "stdout",
          "text": [
            "Best Random Forest parameters:\n",
            "{'warm_start': False, 'n_estimators': 400, 'min_samples_split': 4, 'min_samples_leaf': 9, 'max_features': 'log2', 'max_depth': 50, 'criterion': 'gini', 'class_weight': None, 'bootstrap': True}\n"
          ]
        }
      ]
    },
    {
      "cell_type": "code",
      "source": [
        "y_pred_rf = best_rf.predict(X_test_preds)\n",
        "y_pred_proba_rf = best_rf.predict_proba(X_test_preds)[:, 1]\n",
        "\n",
        "print(\"Evaluation for Random Forest:\")\n",
        "print(f\"AUC-ROC = {roc_auc_score(y_test, y_pred_proba_rf):.4f}\")\n",
        "print(f\"AUC-PR = {average_precision_score(y_test, y_pred_proba_rf):.4f}\")\n",
        "print(f\"F1 score = {f1_score(y_test, y_pred_rf):.4f}\")\n",
        "print(f\"Precision = {precision_score(y_test, y_pred_rf):.4f}\")\n",
        "print(f\"Recall = {recall_score(y_test, y_pred_rf):.4f}\")\n",
        "print(classification_report(y_test, y_pred_rf))\n",
        "\n",
        "cf_matrix_rf = confusion_matrix(y_test, y_pred_rf)\n",
        "plt.figure(figsize=(8, 6))\n",
        "sns.heatmap(cf_matrix_rf, annot=True, fmt='d')\n",
        "plt.title(\"Confusion Matrix - Random Forest\")\n",
        "plt.ylabel('True label')\n",
        "plt.xlabel('Predicted label')\n",
        "plt.show()"
      ],
      "metadata": {
        "colab": {
          "base_uri": "https://localhost:8080/",
          "height": 824
        },
        "id": "j-wJVWNL43sA",
        "outputId": "89df3890-09ae-4ffc-d673-7f3c86809d84"
      },
      "execution_count": null,
      "outputs": [
        {
          "output_type": "stream",
          "name": "stdout",
          "text": [
            "Evaluation for Random Forest:\n",
            "AUC-ROC = 0.8906\n",
            "AUC-PR = 0.9590\n",
            "F1 score = 0.8736\n",
            "Precision = 0.8636\n",
            "Recall = 0.8837\n",
            "              precision    recall  f1-score   support\n",
            "\n",
            "           0       0.69      0.65      0.67        34\n",
            "           1       0.86      0.88      0.87        86\n",
            "\n",
            "    accuracy                           0.82       120\n",
            "   macro avg       0.78      0.77      0.77       120\n",
            "weighted avg       0.81      0.82      0.81       120\n",
            "\n"
          ]
        },
        {
          "output_type": "display_data",
          "data": {
            "text/plain": [
              "<Figure size 800x600 with 2 Axes>"
            ],
            "image/png": "[encoded data removed]"
          },
          "metadata": {}
        }
      ]
    },
    {
      "cell_type": "code",
      "source": [
        "print(\"Random Forest Classifier:\")\n",
        "print(best_rf)\n",
        "\n",
        "fig, ax = plt.subplots(figsize=(8, 6))\n",
        "X_list = [X_train_preds, X_test_preds]\n",
        "y_list = [y_train, y_test]\n",
        "name_list = [\"Train\", \"Test\"]\n",
        "\n",
        "for i in range(2):\n",
        "    RocCurveDisplay.from_estimator(best_rf, X_list[i], y_list[i], name=name_list[i], ax=ax)\n",
        "\n",
        "plt.plot([0, 1], [0, 1], linestyle='--', color='green')\n",
        "plt.legend()\n",
        "plt.xlabel(\"False Positive Rate\")\n",
        "plt.ylabel(\"True Positive Rate\")\n",
        "plt.title(\"AUC (ROC Curve) - Random Forest\")\n",
        "plt.show()"
      ],
      "metadata": {
        "colab": {
          "base_uri": "https://localhost:8080/",
          "height": 616
        },
        "id": "XLD3tTaN45zx",
        "outputId": "009174c4-e791-44a3-95d4-b36e680ee017"
      },
      "execution_count": null,
      "outputs": [
        {
          "output_type": "stream",
          "name": "stdout",
          "text": [
            "Random Forest Classifier:\n",
            "RandomForestClassifier(max_depth=50, max_features='log2', min_samples_leaf=9,\n",
            "                       min_samples_split=4, n_estimators=400, random_state=42)\n"
          ]
        },
        {
          "output_type": "display_data",
          "data": {
            "text/plain": [
              "<Figure size 800x600 with 1 Axes>"
            ],
            "image/png": "[encoded data removed]"
          },
          "metadata": {}
        }
      ]
    },
    {
      "cell_type": "markdown",
      "source": [
        "## **Voting Classifier**"
      ],
      "metadata": {
        "id": "4vMxaqC36anH"
      }
    },
    {
      "cell_type": "code",
      "source": [
        "voting_clf = VotingClassifier(estimators=[\n",
        "    ('clinical', clf_clin),\n",
        "    ('genetic', clf_genetic),\n",
        "    ('biospecimen', clf_biospec)\n",
        "], voting='soft')\n",
        "\n",
        "# Hyperparameter space for Voting Classifier\n",
        "voting_params = {\n",
        "    'weights': [[1, 1, 1], [2, 1, 1], [1, 2, 1], [1, 1, 2], [2, 2, 1], [2, 1, 2], [1, 2, 2]],\n",
        "    'voting': ['hard', 'soft'],\n",
        "    'flatten_transform': [True, False]\n",
        "}\n",
        "\n",
        "# RandomizedSearchCV for Voting Classifier\n",
        "voting_random_search = RandomizedSearchCV(voting_clf, param_distributions=voting_params, n_iter=5, cv=StratifiedKFold(n_splits=5),\n",
        "                                          verbose=2, scoring='roc_auc', n_jobs=-1, random_state=42)\n",
        "\n",
        "print(\"Starting Voting Classifier hyperparameter tuning...\")\n",
        "voting_random_search.fit(X_train_preds, y_train)\n",
        "\n",
        "print(\"Best Voting Classifier parameters:\")\n",
        "print(voting_random_search.best_params_)\n",
        "\n",
        "best_voting_clf = voting_random_search.best_estimator_\n",
        "\n",
        "with open(location + 'late_integration_voting.pkl', 'wb') as f:\n",
        "    pickle.dump(best_voting_clf, f)"
      ],
      "metadata": {
        "colab": {
          "base_uri": "https://localhost:8080/"
        },
        "id": "MxmOk0Mhx4G9",
        "outputId": "2e8fc83a-33f3-4a62-88ee-1787c375b110"
      },
      "execution_count": null,
      "outputs": [
        {
          "output_type": "stream",
          "name": "stdout",
          "text": [
            "Starting Voting Classifier hyperparameter tuning...\n",
            "Fitting 5 folds for each of 5 candidates, totalling 25 fits\n",
            "[LightGBM] [Info] Number of positive: 341, number of negative: 137\n",
            "[LightGBM] [Info] Auto-choosing col-wise multi-threading, the overhead of testing was 0.000072 seconds.\n",
            "You can set `force_col_wise=true` to remove the overhead.\n",
            "[LightGBM] [Info] Total Bins 460\n",
            "[LightGBM] [Info] Number of data points in the train set: 478, number of used features: 3\n",
            "[LightGBM] [Info] [binary:BoostFromScore]: pavg=0.430369 -> initscore=-0.280346\n",
            "[LightGBM] [Info] Start training from score -0.280346\n",
            "[LightGBM] [Warning] No further splits with positive gain, best gain: -inf\n",
            "[LightGBM] [Warning] No further splits with positive gain, best gain: -inf\n",
            "[LightGBM] [Warning] No further splits with positive gain, best gain: -inf\n",
            "[LightGBM] [Warning] No further splits with positive gain, best gain: -inf\n",
            "[LightGBM] [Warning] No further splits with positive gain, best gain: -inf\n",
            "[LightGBM] [Warning] No further splits with positive gain, best gain: -inf\n",
            "[LightGBM] [Warning] No further splits with positive gain, best gain: -inf\n",
            "[LightGBM] [Warning] No further splits with positive gain, best gain: -inf\n",
            "[LightGBM] [Warning] No further splits with positive gain, best gain: -inf\n",
            "[LightGBM] [Warning] No further splits with positive gain, best gain: -inf\n",
            "[LightGBM] [Warning] No further splits with positive gain, best gain: -inf\n",
            "[LightGBM] [Warning] No further splits with positive gain, best gain: -inf\n",
            "[LightGBM] [Warning] No further splits with positive gain, best gain: -inf\n",
            "[LightGBM] [Warning] No further splits with positive gain, best gain: -inf\n",
            "[LightGBM] [Warning] No further splits with positive gain, best gain: -inf\n",
            "[LightGBM] [Warning] No further splits with positive gain, best gain: -inf\n",
            "[LightGBM] [Warning] No further splits with positive gain, best gain: -inf\n",
            "[LightGBM] [Warning] No further splits with positive gain, best gain: -inf\n",
            "[LightGBM] [Warning] No further splits with positive gain, best gain: -inf\n",
            "[LightGBM] [Warning] No further splits with positive gain, best gain: -inf\n",
            "[LightGBM] [Warning] No further splits with positive gain, best gain: -inf\n",
            "[LightGBM] [Warning] No further splits with positive gain, best gain: -inf\n",
            "[LightGBM] [Warning] No further splits with positive gain, best gain: -inf\n",
            "[LightGBM] [Warning] No further splits with positive gain, best gain: -inf\n",
            "[LightGBM] [Warning] No further splits with positive gain, best gain: -inf\n",
            "[LightGBM] [Warning] No further splits with positive gain, best gain: -inf\n",
            "[LightGBM] [Warning] No further splits with positive gain, best gain: -inf\n",
            "[LightGBM] [Warning] No further splits with positive gain, best gain: -inf\n",
            "[LightGBM] [Warning] No further splits with positive gain, best gain: -inf\n",
            "[LightGBM] [Warning] No further splits with positive gain, best gain: -inf\n",
            "[LightGBM] [Warning] No further splits with positive gain, best gain: -inf\n",
            "[LightGBM] [Warning] No further splits with positive gain, best gain: -inf\n",
            "[LightGBM] [Warning] No further splits with positive gain, best gain: -inf\n",
            "[LightGBM] [Warning] No further splits with positive gain, best gain: -inf\n",
            "[LightGBM] [Warning] No further splits with positive gain, best gain: -inf\n",
            "[LightGBM] [Warning] No further splits with positive gain, best gain: -inf\n",
            "[LightGBM] [Warning] No further splits with positive gain, best gain: -inf\n",
            "[LightGBM] [Warning] No further splits with positive gain, best gain: -inf\n",
            "[LightGBM] [Warning] No further splits with positive gain, best gain: -inf\n",
            "[LightGBM] [Warning] No further splits with positive gain, best gain: -inf\n",
            "[LightGBM] [Warning] No further splits with positive gain, best gain: -inf\n",
            "[LightGBM] [Warning] No further splits with positive gain, best gain: -inf\n",
            "[LightGBM] [Warning] No further splits with positive gain, best gain: -inf\n",
            "[LightGBM] [Warning] No further splits with positive gain, best gain: -inf\n",
            "[LightGBM] [Warning] No further splits with positive gain, best gain: -inf\n",
            "[LightGBM] [Warning] No further splits with positive gain, best gain: -inf\n",
            "[LightGBM] [Warning] No further splits with positive gain, best gain: -inf\n",
            "[LightGBM] [Warning] No further splits with positive gain, best gain: -inf\n",
            "[LightGBM] [Warning] No further splits with positive gain, best gain: -inf\n",
            "[LightGBM] [Warning] No further splits with positive gain, best gain: -inf\n",
            "Best Voting Classifier parameters:\n",
            "{'weights': [1, 1, 1], 'voting': 'soft', 'flatten_transform': False}\n"
          ]
        },
        {
          "output_type": "stream",
          "name": "stderr",
          "text": [
            "/usr/local/lib/python3.10/dist-packages/sklearn/model_selection/_search.py:1103: UserWarning: One or more of the test scores are non-finite: [0.89994785 0.89408917 0.89419653 0.90025677        nan]\n",
            "  warnings.warn(\n"
          ]
        }
      ]
    },
    {
      "cell_type": "code",
      "source": [
        "y_pred_vc = best_voting_clf.predict(X_test_preds)\n",
        "y_pred_proba_vc = best_voting_clf.predict_proba(X_test_preds)[:, 1]\n",
        "\n",
        "print(\"Evaluation for Voting Classifier:\")\n",
        "print(f\"AUC-ROC = {roc_auc_score(y_test, y_pred_proba_vc):.4f}\")\n",
        "print(f\"AUC-PR = {average_precision_score(y_test, y_pred_proba_vc):.4f}\")\n",
        "print(f\"F1 score = {f1_score(y_test, y_pred_vc):.4f}\")\n",
        "print(f\"Precision = {precision_score(y_test, y_pred_vc):.4f}\")\n",
        "print(f\"Recall = {recall_score(y_test, y_pred_vc):.4f}\")\n",
        "print(classification_report(y_test, y_pred_vc))\n",
        "\n",
        "cf_matrix_vc = confusion_matrix(y_test, y_pred_vc)\n",
        "plt.figure(figsize=(8, 6))\n",
        "sns.heatmap(cf_matrix_vc, annot=True, fmt='d')\n",
        "plt.title(\"Confusion Matrix - Voting Classifier\")\n",
        "plt.ylabel('True label')\n",
        "plt.xlabel('Predicted label')\n",
        "plt.show()"
      ],
      "metadata": {
        "colab": {
          "base_uri": "https://localhost:8080/",
          "height": 824
        },
        "id": "-xRXenpr6cg_",
        "outputId": "31d0fed7-b211-4b5a-ec28-fb97be2eaca3"
      },
      "execution_count": null,
      "outputs": [
        {
          "output_type": "stream",
          "name": "stdout",
          "text": [
            "Evaluation for Voting Classifier:\n",
            "AUC-ROC = 0.8663\n",
            "AUC-PR = 0.9528\n",
            "F1 score = 0.8428\n",
            "Precision = 0.9178\n",
            "Recall = 0.7791\n",
            "              precision    recall  f1-score   support\n",
            "\n",
            "           0       0.60      0.82      0.69        34\n",
            "           1       0.92      0.78      0.84        86\n",
            "\n",
            "    accuracy                           0.79       120\n",
            "   macro avg       0.76      0.80      0.77       120\n",
            "weighted avg       0.83      0.79      0.80       120\n",
            "\n"
          ]
        },
        {
          "output_type": "display_data",
          "data": {
            "text/plain": [
              "<Figure size 800x600 with 2 Axes>"
            ],
            "image/png": "[encoded data removed]"
          },
          "metadata": {}
        }
      ]
    },
    {
      "cell_type": "code",
      "source": [
        "print(\"Voting Classifier:\")\n",
        "print(best_voting_clf)\n",
        "\n",
        "fig, ax = plt.subplots(figsize=(8, 6))\n",
        "X_list = [X_train_preds, X_test_preds]\n",
        "y_list = [y_train, y_test]\n",
        "name_list = [\"Train\", \"Test\"]\n",
        "\n",
        "for i in range(2):\n",
        "    RocCurveDisplay.from_estimator(best_voting_clf, X_list[i], y_list[i], name=name_list[i], ax=ax)\n",
        "\n",
        "plt.plot([0, 1], [0, 1], linestyle='--', color='green')\n",
        "plt.legend()\n",
        "plt.xlabel(\"False Positive Rate\")\n",
        "plt.ylabel(\"True Positive Rate\")\n",
        "plt.title(\"AUC (ROC Curve) - Random Forest\")\n",
        "plt.show()"
      ],
      "metadata": {
        "colab": {
          "base_uri": "https://localhost:8080/",
          "height": 963
        },
        "id": "sq0L9VCw8O_c",
        "outputId": "835a9bfc-d47d-4839-d2bb-2260f96094ac"
      },
      "execution_count": null,
      "outputs": [
        {
          "output_type": "stream",
          "name": "stdout",
          "text": [
            "Voting Classifier:\n",
            "VotingClassifier(estimators=[('clinical',\n",
            "                              LGBMClassifier(class_weight={0: 0.7671428571428571,\n",
            "                                                           1: 0.23285714285714287},\n",
            "                                             colsample_bytree=0.7222222222222222,\n",
            "                                             learning_rate=0.11999999999999998,\n",
            "                                             max_depth=10, n_estimators=50,\n",
            "                                             num_leaves=120,\n",
            "                                             reg_alpha=0.04281332398719392,\n",
            "                                             reg_lambda=0.0003359818286283781,\n",
            "                                             subsample=0.7222222222222222)),\n",
            "                             ('genetic',\n",
            "                              MLPClassifier(alpha=0.3727593720314938,\n",
            "                                            batch_size=128, early_stopping=True,\n",
            "                                            hidden_layer_sizes=(51,),\n",
            "                                            learning_rate_init=0.0001,\n",
            "                                            max_iter=500,\n",
            "                                            momentum=0.8374999999999999,\n",
            "                                            n_iter_no_change=5, random_state=42,\n",
            "                                            solver='sgd')),\n",
            "                             ('biospecimen',\n",
            "                              GaussianNB(var_smoothing=0.12067926406393285))],\n",
            "                 flatten_transform=False, voting='soft', weights=[1, 1, 1])\n"
          ]
        },
        {
          "output_type": "display_data",
          "data": {
            "text/plain": [
              "<Figure size 800x600 with 1 Axes>"
            ],
            "image/png": "[encoded data removed]"
          },
          "metadata": {}
        }
      ]
    },
    {
      "cell_type": "markdown",
      "source": [
        "## **Stacking Classifier**"
      ],
      "metadata": {
        "id": "DEfKU2cHBCXy"
      }
    },
    {
      "cell_type": "code",
      "source": [
        "from sklearn.ensemble import StackingClassifier"
      ],
      "metadata": {
        "id": "7y4IecJJBCoD"
      },
      "execution_count": null,
      "outputs": []
    },
    {
      "cell_type": "code",
      "source": [
        "stacking_clf = StackingClassifier(\n",
        "    estimators= [\n",
        "        ('clinical', clf_clin),\n",
        "        ('genetic', clf_genetic),\n",
        "        ('biospecimen', clf_biospec)\n",
        "        ],\n",
        "    final_estimator=LogisticRegression(),\n",
        "    cv=StratifiedKFold(n_splits=5),\n",
        "    n_jobs=-1\n",
        ")\n",
        "\n",
        "stacking_params = {\n",
        "    'final_estimator__C': np.logspace(-4, 4, 10),\n",
        "    'final_estimator__solver': ['liblinear', 'saga'],\n",
        "    'final_estimator__penalty': ['l1', 'l2'],\n",
        "    'final_estimator__max_iter': [100, 200, 300]\n",
        "}\n",
        "\n",
        "# RandomizedSearchCV for Stacking Classifier\n",
        "stacking_random_search = RandomizedSearchCV(\n",
        "    stacking_clf,\n",
        "    param_distributions=stacking_params,\n",
        "    n_iter=10,\n",
        "    cv=StratifiedKFold(n_splits=5),\n",
        "    verbose=2,\n",
        "    scoring='roc_auc',\n",
        "    n_jobs=-1,\n",
        "    random_state=42\n",
        ")\n",
        "\n",
        "print(\"Starting Stacking Classifier hyperparameter tuning...\")\n",
        "stacking_random_search.fit(X_train_preds, y_train)\n",
        "\n",
        "print(\"Best Stacking Classifier parameters:\")\n",
        "print(stacking_random_search.best_params_)\n",
        "\n",
        "best_stacking = stacking_random_search.best_estimator_\n",
        "\n",
        "with open(location + 'late_integration_stacking.pkl', 'wb') as f:\n",
        "    pickle.dump(best_stacking, f)"
      ],
      "metadata": {
        "colab": {
          "base_uri": "https://localhost:8080/"
        },
        "id": "D5LbWHPwBECI",
        "outputId": "b582a2f9-b4d2-4d17-aa5c-59766c705ced"
      },
      "execution_count": null,
      "outputs": [
        {
          "output_type": "stream",
          "name": "stdout",
          "text": [
            "Starting Stacking Classifier hyperparameter tuning...\n",
            "Fitting 5 folds for each of 10 candidates, totalling 50 fits\n",
            "Best Stacking Classifier parameters:\n",
            "{'final_estimator__solver': 'saga', 'final_estimator__penalty': 'l2', 'final_estimator__max_iter': 200, 'final_estimator__C': 0.3593813663804626}\n"
          ]
        }
      ]
    },
    {
      "cell_type": "code",
      "source": [
        "y_pred_stacking = best_stacking.predict(X_test_preds)\n",
        "y_pred_proba_stacking = best_stacking.predict_proba(X_test_preds)[:, 1]\n",
        "\n",
        "print(\"Evaluation for Stacking Classifier:\")\n",
        "print(f\"AUC-ROC = {roc_auc_score(y_test, y_pred_proba_stacking):.4f}\")\n",
        "print(f\"AUC-PR = {average_precision_score(y_test, y_pred_proba_stacking):.4f}\")\n",
        "print(f\"F1 score = {f1_score(y_test, y_pred_stacking):.4f}\")\n",
        "print(f\"Precision = {precision_score(y_test, y_pred_stacking):.4f}\")\n",
        "print(f\"Recall = {recall_score(y_test, y_pred_stacking):.4f}\")\n",
        "print(classification_report(y_test, y_pred_stacking))\n",
        "\n",
        "cf_matrix_stacking = confusion_matrix(y_test, y_pred_stacking)\n",
        "plt.figure(figsize=(8, 6))\n",
        "sns.heatmap(cf_matrix_stacking, annot=True, fmt='d')\n",
        "plt.title(\"Confusion Matrix - Stacking Classifier\")\n",
        "plt.ylabel('True label')\n",
        "plt.xlabel('Predicted label')\n",
        "plt.show()"
      ],
      "metadata": {
        "colab": {
          "base_uri": "https://localhost:8080/",
          "height": 824
        },
        "id": "tzNGURblBCPa",
        "outputId": "d9117afc-7f5b-466b-9739-1d7831490352"
      },
      "execution_count": null,
      "outputs": [
        {
          "output_type": "stream",
          "name": "stdout",
          "text": [
            "Evaluation for Stacking Classifier:\n",
            "AUC-ROC = 0.8724\n",
            "AUC-PR = 0.9553\n",
            "F1 score = 0.8621\n",
            "Precision = 0.8523\n",
            "Recall = 0.8721\n",
            "              precision    recall  f1-score   support\n",
            "\n",
            "           0       0.66      0.62      0.64        34\n",
            "           1       0.85      0.87      0.86        86\n",
            "\n",
            "    accuracy                           0.80       120\n",
            "   macro avg       0.75      0.74      0.75       120\n",
            "weighted avg       0.80      0.80      0.80       120\n",
            "\n"
          ]
        },
        {
          "output_type": "display_data",
          "data": {
            "text/plain": [
              "<Figure size 800x600 with 2 Axes>"
            ],
            "image/png": "[encoded data removed]"
          },
          "metadata": {}
        }
      ]
    },
    {
      "cell_type": "code",
      "source": [
        "print(\"Stacking Classifier:\")\n",
        "print(best_stacking)\n",
        "\n",
        "fig, ax = plt.subplots(figsize=(8, 6))\n",
        "X_list = [X_train_preds, X_test_preds]\n",
        "y_list = [y_train, y_test]\n",
        "name_list = [\"Train\", \"Test\"]\n",
        "\n",
        "for i in range(2):\n",
        "    RocCurveDisplay.from_estimator(best_stacking, X_list[i], y_list[i], name=name_list[i], ax=ax)\n",
        "\n",
        "plt.plot([0, 1], [0, 1], linestyle='--', color='green')\n",
        "plt.legend()\n",
        "plt.xlabel(\"False Positive Rate\")\n",
        "plt.ylabel(\"True Positive Rate\")\n",
        "plt.title(\"AUC (ROC Curve) - Stacking Classifier\")\n",
        "plt.show()"
      ],
      "metadata": {
        "colab": {
          "base_uri": "https://localhost:8080/",
          "height": 1000
        },
        "id": "N_ed5POFBwMJ",
        "outputId": "00056240-2baf-40ca-e1d3-52e8a59e7759"
      },
      "execution_count": null,
      "outputs": [
        {
          "output_type": "stream",
          "name": "stdout",
          "text": [
            "Stacking Classifier:\n",
            "StackingClassifier(cv=StratifiedKFold(n_splits=5,\n",
            "        random_state=RandomState(MT19937) at 0x7A8054F02E40, shuffle=False),\n",
            "                   estimators=[('clinical',\n",
            "                                LGBMClassifier(class_weight={0: 0.7671428571428571,\n",
            "                                                             1: 0.23285714285714287},\n",
            "                                               colsample_bytree=0.7222222222222222,\n",
            "                                               learning_rate=0.11999999999999998,\n",
            "                                               max_depth=10, n_estimators=50,\n",
            "                                               num_leaves=120,\n",
            "                                               reg_alpha=0.0428133239871...\n",
            "                                MLPClassifier(alpha=0.3727593720314938,\n",
            "                                              batch_size=128,\n",
            "                                              early_stopping=True,\n",
            "                                              hidden_layer_sizes=(51,),\n",
            "                                              learning_rate_init=0.0001,\n",
            "                                              max_iter=500,\n",
            "                                              momentum=0.8374999999999999,\n",
            "                                              n_iter_no_change=5,\n",
            "                                              random_state=42, solver='sgd')),\n",
            "                               ('biospecimen',\n",
            "                                GaussianNB(var_smoothing=0.12067926406393285))],\n",
            "                   final_estimator=LogisticRegression(C=0.3593813663804626,\n",
            "                                                      max_iter=200,\n",
            "                                                      solver='saga'),\n",
            "                   n_jobs=-1)\n"
          ]
        },
        {
          "output_type": "display_data",
          "data": {
            "text/plain": [
              "<Figure size 800x600 with 1 Axes>"
            ],
            "image/png": "[encoded data removed]"
          },
          "metadata": {}
        }
      ]
    },
    {
      "cell_type": "markdown",
      "source": [
        "## **XGBoost Classifier**"
      ],
      "metadata": {
        "id": "h5ERLMspCGh3"
      }
    },
    {
      "cell_type": "code",
      "source": [
        "from xgboost import XGBClassifier"
      ],
      "metadata": {
        "id": "JkPrMsPVCOd4"
      },
      "execution_count": null,
      "outputs": []
    },
    {
      "cell_type": "code",
      "source": [
        "xgb_clf = XGBClassifier(random_state=42)\n",
        "\n",
        "# Hyperparameter space for XGBoost\n",
        "xgb_params = {\n",
        "    'n_estimators': np.arange(100, 1000, 100),\n",
        "    'learning_rate': [0.01, 0.05, 0.1, 0.2],\n",
        "    'max_depth': np.arange(3, 15),\n",
        "    'min_child_weight': np.arange(1, 10),\n",
        "    'subsample': [0.5, 0.75, 1.0],\n",
        "    'colsample_bytree': [0.5, 0.75, 1.0],\n",
        "    'gamma': [0, 0.1, 0.2, 0.3]\n",
        "}\n",
        "\n",
        "# RandomizedSearchCV for XGBoost Classifier\n",
        "xgb_random_search = RandomizedSearchCV(\n",
        "    xgb_clf,\n",
        "    param_distributions=xgb_params,\n",
        "    n_iter=100,\n",
        "    cv=StratifiedKFold(n_splits=5),\n",
        "    verbose=2,\n",
        "    scoring='roc_auc',\n",
        "    n_jobs=-1,\n",
        "    random_state=42\n",
        ")\n",
        "\n",
        "print(\"Starting XGBoost hyperparameter tuning...\")\n",
        "xgb_random_search.fit(X_train_preds, y_train)\n",
        "\n",
        "print(\"Best XGBoost parameters:\")\n",
        "print(xgb_random_search.best_params_)\n",
        "\n",
        "best_xgb = xgb_random_search.best_estimator_\n",
        "\n",
        "with open(location + 'late_integration_xgb.pkl', 'wb') as f:\n",
        "    pickle.dump(best_xgb, f)"
      ],
      "metadata": {
        "colab": {
          "base_uri": "https://localhost:8080/"
        },
        "id": "UA57kOQJCG3J",
        "outputId": "13812edf-2207-4c52-a356-d941a4c7dd21"
      },
      "execution_count": null,
      "outputs": [
        {
          "output_type": "stream",
          "name": "stdout",
          "text": [
            "Starting XGBoost hyperparameter tuning...\n",
            "Fitting 5 folds for each of 100 candidates, totalling 500 fits\n",
            "Best XGBoost parameters:\n",
            "{'subsample': 0.5, 'n_estimators': 300, 'min_child_weight': 6, 'max_depth': 12, 'learning_rate': 0.01, 'gamma': 0, 'colsample_bytree': 0.75}\n"
          ]
        }
      ]
    },
    {
      "cell_type": "code",
      "source": [
        "y_pred_xgb = best_xgb.predict(X_test_preds)\n",
        "y_pred_proba_xgb = best_xgb.predict_proba(X_test_preds)[:, 1]\n",
        "\n",
        "print(\"Evaluation for XGBoost Classifier:\")\n",
        "print(f\"AUC-ROC = {roc_auc_score(y_test, y_pred_proba_xgb):.4f}\")\n",
        "print(f\"AUC-PR = {average_precision_score(y_test, y_pred_proba_xgb):.4f}\")\n",
        "print(f\"F1 score = {f1_score(y_test, y_pred_xgb):.4f}\")\n",
        "print(f\"Precision = {precision_score(y_test, y_pred_xgb):.4f}\")\n",
        "print(f\"Recall = {recall_score(y_test, y_pred_xgb):.4f}\")\n",
        "print(classification_report(y_test, y_pred_xgb))\n",
        "\n",
        "cf_matrix_xgb = confusion_matrix(y_test, y_pred_xgb)\n",
        "plt.figure(figsize=(8, 6))\n",
        "sns.heatmap(cf_matrix_xgb, annot=True, fmt='d')\n",
        "plt.title(\"Confusion Matrix - XGBoost\")\n",
        "plt.ylabel('True label')\n",
        "plt.xlabel('Predicted label')\n",
        "plt.show()"
      ],
      "metadata": {
        "colab": {
          "base_uri": "https://localhost:8080/",
          "height": 824
        },
        "id": "cBQ5sYZCCG6S",
        "outputId": "df664b8b-0a9c-4dec-aa25-e054221b5ceb"
      },
      "execution_count": null,
      "outputs": [
        {
          "output_type": "stream",
          "name": "stdout",
          "text": [
            "Evaluation for XGBoost Classifier:\n",
            "AUC-ROC = 0.8919\n",
            "AUC-PR = 0.9605\n",
            "F1 score = 0.8750\n",
            "Precision = 0.8556\n",
            "Recall = 0.8953\n",
            "              precision    recall  f1-score   support\n",
            "\n",
            "           0       0.70      0.62      0.66        34\n",
            "           1       0.86      0.90      0.88        86\n",
            "\n",
            "    accuracy                           0.82       120\n",
            "   macro avg       0.78      0.76      0.77       120\n",
            "weighted avg       0.81      0.82      0.81       120\n",
            "\n"
          ]
        },
        {
          "output_type": "display_data",
          "data": {
            "text/plain": [
              "<Figure size 800x600 with 2 Axes>"
            ],
            "image/png": "[encoded data removed]"
          },
          "metadata": {}
        }
      ]
    },
    {
      "cell_type": "code",
      "source": [
        "print(\"XGBoost Classifier:\")\n",
        "print(best_xgb)\n",
        "\n",
        "fig, ax = plt.subplots(figsize=(8, 6))\n",
        "X_list = [X_train_preds, X_test_preds]\n",
        "y_list = [y_train, y_test]\n",
        "name_list = [\"Train\", \"Test\"]\n",
        "\n",
        "for i in range(2):\n",
        "    RocCurveDisplay.from_estimator(best_xgb, X_list[i], y_list[i], name=name_list[i], ax=ax)\n",
        "\n",
        "plt.plot([0, 1], [0, 1], linestyle='--', color='green')\n",
        "plt.legend()\n",
        "plt.xlabel(\"False Positive Rate\")\n",
        "plt.ylabel(\"True Positive Rate\")\n",
        "plt.title(\"AUC (ROC Curve) - XGBoost\")\n",
        "plt.show()"
      ],
      "metadata": {
        "colab": {
          "base_uri": "https://localhost:8080/",
          "height": 772
        },
        "id": "kuND4TS4CGU6",
        "outputId": "bce9163d-a7f7-4f84-c2a5-425ddc217eb8"
      },
      "execution_count": null,
      "outputs": [
        {
          "output_type": "stream",
          "name": "stdout",
          "text": [
            "XGBoost Classifier:\n",
            "XGBClassifier(base_score=None, booster=None, callbacks=None,\n",
            "              colsample_bylevel=None, colsample_bynode=None,\n",
            "              colsample_bytree=0.75, device=None, early_stopping_rounds=None,\n",
            "              enable_categorical=False, eval_metric=None, feature_types=None,\n",
            "              gamma=0, grow_policy=None, importance_type=None,\n",
            "              interaction_constraints=None, learning_rate=0.01, max_bin=None,\n",
            "              max_cat_threshold=None, max_cat_to_onehot=None,\n",
            "              max_delta_step=None, max_depth=12, max_leaves=None,\n",
            "              min_child_weight=6, missing=nan, monotone_constraints=None,\n",
            "              multi_strategy=None, n_estimators=300, n_jobs=None,\n",
            "              num_parallel_tree=None, random_state=42, ...)\n"
          ]
        },
        {
          "output_type": "display_data",
          "data": {
            "text/plain": [
              "<Figure size 800x600 with 1 Axes>"
            ],
            "image/png": "[encoded data removed]"
          },
          "metadata": {}
        }
      ]
    }
  ]
}