{
  "cells": [
    {
      "cell_type": "code",
      "execution_count": null,
      "metadata": {
        "id": "kTA8G7s0cmIc"
      },
      "outputs": [],
      "source": [
        "import pandas as pd\n",
        "import random\n",
        "import torch\n",
        "from pandas import read_excel\n",
        "from keras.models import Sequential\n",
        "from keras.layers import Dense, Dropout\n",
        "from keras.optimizers import Adam\n",
        "from sklearn.preprocessing import MinMaxScaler\n",
        "from sklearn.preprocessing import StandardScaler\n",
        "from sklearn.metrics import r2_score\n",
        "from sklearn.utils import shuffle\n",
        "from sklearn.metrics import mean_squared_error\n",
        "from sklearn.metrics import classification_report, confusion_matrix\n",
        "import numpy as np\n",
        "from scipy.stats import pearsonr\n",
        "from scipy.stats import spearmanr\n",
        "import seaborn as sns\n",
        "import matplotlib.pyplot as plt\n",
        "import keras\n",
        "from keras.models import model_from_json\n",
        "import tensorflow as tf\n",
        "from imblearn.over_sampling import SMOTE\n",
        "from imblearn.over_sampling import ADASYN\n",
        "from imblearn.combine import SMOTEENN\n",
        "from imblearn.combine import SMOTETomek\n",
        "from sklearn.utils import class_weight\n",
        "from google.colab import drive"
      ]
    },
    {
      "cell_type": "code",
      "execution_count": null,
      "metadata": {
        "id": "c_go9MtfZJQ7",
        "colab": {
          "base_uri": "https://localhost:8080/"
        },
        "outputId": "19a5cef8-28f1-41f5-c5f6-22ce4011e045"
      },
      "outputs": [
        {
          "output_type": "stream",
          "name": "stderr",
          "text": [
            "/usr/local/lib/python3.10/dist-packages/dask/dataframe/__init__.py:42: FutureWarning: \n",
            "Dask dataframe query planning is disabled because dask-expr is not installed.\n",
            "\n",
            "You can install it with `pip install dask[dataframe]` or `conda install dask`.\n",
            "This will raise in a future version.\n",
            "\n",
            "  warnings.warn(msg, FutureWarning)\n"
          ]
        }
      ],
      "source": [
        "import pickle\n",
        "from pprint import pprint\n",
        "from sklearn.ensemble import RandomForestClassifier\n",
        "import xgboost as xgb\n",
        "from lightgbm import LGBMClassifier\n",
        "from sklearn.naive_bayes import GaussianNB\n",
        "from sklearn.svm import SVC\n",
        "from sklearn.linear_model import LogisticRegression\n",
        "from sklearn.neural_network import MLPClassifier\n",
        "from sklearn.model_selection import RandomizedSearchCV, StratifiedKFold\n",
        "from sklearn.metrics import classification_report\n",
        "from sklearn.metrics import confusion_matrix\n",
        "from sklearn.metrics import f1_score, precision_score, recall_score\n",
        "from sklearn.metrics import roc_curve, auc, precision_recall_curve\n",
        "from sklearn.metrics import roc_auc_score, average_precision_score, RocCurveDisplay"
      ]
    },
    {
      "cell_type": "code",
      "execution_count": null,
      "metadata": {
        "colab": {
          "base_uri": "https://localhost:8080/",
          "height": 53
        },
        "id": "ZxrNno5ucug0",
        "outputId": "f6a6273d-9176-412b-a07c-967282c00f31"
      },
      "outputs": [
        {
          "output_type": "stream",
          "name": "stdout",
          "text": [
            "Mounted at /content/gdrive\n"
          ]
        },
        {
          "output_type": "execute_result",
          "data": {
            "text/plain": [
              "''"
            ],
            "application/vnd.google.colaboratory.intrinsic+json": {
              "type": "string"
            }
          },
          "metadata": {},
          "execution_count": 3
        }
      ],
      "source": [
        "drive.mount(\"/content/gdrive\")\n",
        "\n",
        "tf.test.gpu_device_name()"
      ]
    },
    {
      "cell_type": "code",
      "execution_count": null,
      "metadata": {
        "id": "gGLxVF2bc2AL"
      },
      "outputs": [],
      "source": [
        "location = \"/content/gdrive/My Drive/Colab Notebooks/MultiModal_PD/\""
      ]
    },
    {
      "cell_type": "code",
      "source": [
        "def seed_everything(seed = 42):\n",
        "    np.random.seed(seed)\n",
        "    random.seed(seed)\n",
        "    torch.manual_seed(seed)\n",
        "    torch.cuda.manual_seed(seed)\n",
        "    torch.backends.cudnn.deterministic = True\n",
        "    torch.backends.cudnn.benchmark = False\n",
        "    print(f\"Random seed set as {seed}\")\n",
        "\n",
        "seed_everything(42)"
      ],
      "metadata": {
        "colab": {
          "base_uri": "https://localhost:8080/"
        },
        "id": "rAGV17PVM-in",
        "outputId": "f685570d-8df0-48f4-def0-738a18d02c44"
      },
      "execution_count": null,
      "outputs": [
        {
          "output_type": "stream",
          "name": "stdout",
          "text": [
            "Random seed set as 42\n"
          ]
        }
      ]
    },
    {
      "cell_type": "markdown",
      "metadata": {
        "id": "wBi3cJICdSus"
      },
      "source": [
        "# **Extra Preprocessing**\n",
        "\n",
        "---\n",
        "\n"
      ]
    },
    {
      "cell_type": "code",
      "execution_count": null,
      "metadata": {
        "colab": {
          "base_uri": "https://localhost:8080/",
          "height": 206
        },
        "id": "OuBeNesHdQtT",
        "outputId": "81eb71d6-b439-498e-f0c6-5213f6492ea3"
      },
      "outputs": [
        {
          "output_type": "execute_result",
          "data": {
            "text/plain": [
              "    PATNO   ABETA42     A_SYN    P_TAU    T_TAU       URATE  STATUS\n",
              "0  3915.0  1119.375  1719.650  13.1200  158.350  237.000000       1\n",
              "1  3914.0   614.150  1584.650  14.0825  174.325  270.285714       1\n",
              "2  3838.0   746.900  1256.775  10.9825  137.050  234.571429       1\n",
              "3  3819.0   612.020  1136.380   8.4880  109.100  231.875000       1\n",
              "4  3900.0   511.280  1263.540  11.3980  145.260  400.666667       1"
            ],
            "text/html": [
              "\n",
              "  <div id=\"df-4884355a-1e4e-4c3a-917a-238a05c5bf6c\" class=\"colab-df-container\">\n",
              "    <div>\n",
              "<style scoped>\n",
              "    .dataframe tbody tr th:only-of-type {\n",
              "        vertical-align: middle;\n",
              "    }\n",
              "\n",
              "    .dataframe tbody tr th {\n",
              "        vertical-align: top;\n",
              "    }\n",
              "\n",
              "    .dataframe thead th {\n",
              "        text-align: right;\n",
              "    }\n",
              "</style>\n",
              "<table border=\"1\" class=\"dataframe\">\n",
              "  <thead>\n",
              "    <tr style=\"text-align: right;\">\n",
              "      <th></th>\n",
              "      <th>PATNO</th>\n",
              "      <th>ABETA42</th>\n",
              "      <th>A_SYN</th>\n",
              "      <th>P_TAU</th>\n",
              "      <th>T_TAU</th>\n",
              "      <th>URATE</th>\n",
              "      <th>STATUS</th>\n",
              "    </tr>\n",
              "  </thead>\n",
              "  <tbody>\n",
              "    <tr>\n",
              "      <th>0</th>\n",
              "      <td>3915.0</td>\n",
              "      <td>1119.375</td>\n",
              "      <td>1719.650</td>\n",
              "      <td>13.1200</td>\n",
              "      <td>158.350</td>\n",
              "      <td>237.000000</td>\n",
              "      <td>1</td>\n",
              "    </tr>\n",
              "    <tr>\n",
              "      <th>1</th>\n",
              "      <td>3914.0</td>\n",
              "      <td>614.150</td>\n",
              "      <td>1584.650</td>\n",
              "      <td>14.0825</td>\n",
              "      <td>174.325</td>\n",
              "      <td>270.285714</td>\n",
              "      <td>1</td>\n",
              "    </tr>\n",
              "    <tr>\n",
              "      <th>2</th>\n",
              "      <td>3838.0</td>\n",
              "      <td>746.900</td>\n",
              "      <td>1256.775</td>\n",
              "      <td>10.9825</td>\n",
              "      <td>137.050</td>\n",
              "      <td>234.571429</td>\n",
              "      <td>1</td>\n",
              "    </tr>\n",
              "    <tr>\n",
              "      <th>3</th>\n",
              "      <td>3819.0</td>\n",
              "      <td>612.020</td>\n",
              "      <td>1136.380</td>\n",
              "      <td>8.4880</td>\n",
              "      <td>109.100</td>\n",
              "      <td>231.875000</td>\n",
              "      <td>1</td>\n",
              "    </tr>\n",
              "    <tr>\n",
              "      <th>4</th>\n",
              "      <td>3900.0</td>\n",
              "      <td>511.280</td>\n",
              "      <td>1263.540</td>\n",
              "      <td>11.3980</td>\n",
              "      <td>145.260</td>\n",
              "      <td>400.666667</td>\n",
              "      <td>1</td>\n",
              "    </tr>\n",
              "  </tbody>\n",
              "</table>\n",
              "</div>\n",
              "    <div class=\"colab-df-buttons\">\n",
              "\n",
              "  <div class=\"colab-df-container\">\n",
              "    <button class=\"colab-df-convert\" onclick=\"convertToInteractive('df-4884355a-1e4e-4c3a-917a-238a05c5bf6c')\"\n",
              "            title=\"Convert this dataframe to an interactive table.\"\n",
              "            style=\"display:none;\">\n",
              "\n",
              "  <svg xmlns=\"http://www.w3.org/2000/svg\" height=\"24px\" viewBox=\"0 -960 960 960\">\n",
              "    <path d=\"M120-120v-720h720v720H120Zm60-500h600v-160H180v160Zm220 220h160v-160H400v160Zm0 220h160v-160H400v160ZM180-400h160v-160H180v160Zm440 0h160v-160H620v160ZM180-180h160v-160H180v160Zm440 0h160v-160H620v160Z\"/>\n",
              "  </svg>\n",
              "    </button>\n",
              "\n",
              "  <style>\n",
              "    .colab-df-container {\n",
              "      display:flex;\n",
              "      gap: 12px;\n",
              "    }\n",
              "\n",
              "    .colab-df-convert {\n",
              "      background-color: #E8F0FE;\n",
              "      border: none;\n",
              "      border-radius: 50%;\n",
              "      cursor: pointer;\n",
              "      display: none;\n",
              "      fill: #1967D2;\n",
              "      height: 32px;\n",
              "      padding: 0 0 0 0;\n",
              "      width: 32px;\n",
              "    }\n",
              "\n",
              "    .colab-df-convert:hover {\n",
              "      background-color: #E2EBFA;\n",
              "      box-shadow: 0px 1px 2px rgba(60, 64, 67, 0.3), 0px 1px 3px 1px rgba(60, 64, 67, 0.15);\n",
              "      fill: #174EA6;\n",
              "    }\n",
              "\n",
              "    .colab-df-buttons div {\n",
              "      margin-bottom: 4px;\n",
              "    }\n",
              "\n",
              "    [theme=dark] .colab-df-convert {\n",
              "      background-color: #3B4455;\n",
              "      fill: #D2E3FC;\n",
              "    }\n",
              "\n",
              "    [theme=dark] .colab-df-convert:hover {\n",
              "      background-color: #434B5C;\n",
              "      box-shadow: 0px 1px 3px 1px rgba(0, 0, 0, 0.15);\n",
              "      filter: drop-shadow(0px 1px 2px rgba(0, 0, 0, 0.3));\n",
              "      fill: #FFFFFF;\n",
              "    }\n",
              "  </style>\n",
              "\n",
              "    <script>\n",
              "      const buttonEl =\n",
              "        document.querySelector('#df-4884355a-1e4e-4c3a-917a-238a05c5bf6c button.colab-df-convert');\n",
              "      buttonEl.style.display =\n",
              "        google.colab.kernel.accessAllowed ? 'block' : 'none';\n",
              "\n",
              "      async function convertToInteractive(key) {\n",
              "        const element = document.querySelector('#df-4884355a-1e4e-4c3a-917a-238a05c5bf6c');\n",
              "        const dataTable =\n",
              "          await google.colab.kernel.invokeFunction('convertToInteractive',\n",
              "                                                    [key], {});\n",
              "        if (!dataTable) return;\n",
              "\n",
              "        const docLinkHtml = 'Like what you see? Visit the ' +\n",
              "          '<a target=\"_blank\" href=https://colab.research.google.com/notebooks/data_table.ipynb>data table notebook</a>'\n",
              "          + ' to learn more about interactive tables.';\n",
              "        element.innerHTML = '';\n",
              "        dataTable['output_type'] = 'display_data';\n",
              "        await google.colab.output.renderOutput(dataTable, element);\n",
              "        const docLink = document.createElement('div');\n",
              "        docLink.innerHTML = docLinkHtml;\n",
              "        element.appendChild(docLink);\n",
              "      }\n",
              "    </script>\n",
              "  </div>\n",
              "\n",
              "\n",
              "<div id=\"df-690eebec-3e3a-4c4c-9506-83ba12f2f2c2\">\n",
              "  <button class=\"colab-df-quickchart\" onclick=\"quickchart('df-690eebec-3e3a-4c4c-9506-83ba12f2f2c2')\"\n",
              "            title=\"Suggest charts\"\n",
              "            style=\"display:none;\">\n",
              "\n",
              "<svg xmlns=\"http://www.w3.org/2000/svg\" height=\"24px\"viewBox=\"0 0 24 24\"\n",
              "     width=\"24px\">\n",
              "    <g>\n",
              "        <path d=\"M19 3H5c-1.1 0-2 .9-2 2v14c0 1.1.9 2 2 2h14c1.1 0 2-.9 2-2V5c0-1.1-.9-2-2-2zM9 17H7v-7h2v7zm4 0h-2V7h2v10zm4 0h-2v-4h2v4z\"/>\n",
              "    </g>\n",
              "</svg>\n",
              "  </button>\n",
              "\n",
              "<style>\n",
              "  .colab-df-quickchart {\n",
              "      --bg-color: #E8F0FE;\n",
              "      --fill-color: #1967D2;\n",
              "      --hover-bg-color: #E2EBFA;\n",
              "      --hover-fill-color: #174EA6;\n",
              "      --disabled-fill-color: #AAA;\n",
              "      --disabled-bg-color: #DDD;\n",
              "  }\n",
              "\n",
              "  [theme=dark] .colab-df-quickchart {\n",
              "      --bg-color: #3B4455;\n",
              "      --fill-color: #D2E3FC;\n",
              "      --hover-bg-color: #434B5C;\n",
              "      --hover-fill-color: #FFFFFF;\n",
              "      --disabled-bg-color: #3B4455;\n",
              "      --disabled-fill-color: #666;\n",
              "  }\n",
              "\n",
              "  .colab-df-quickchart {\n",
              "    background-color: var(--bg-color);\n",
              "    border: none;\n",
              "    border-radius: 50%;\n",
              "    cursor: pointer;\n",
              "    display: none;\n",
              "    fill: var(--fill-color);\n",
              "    height: 32px;\n",
              "    padding: 0;\n",
              "    width: 32px;\n",
              "  }\n",
              "\n",
              "  .colab-df-quickchart:hover {\n",
              "    background-color: var(--hover-bg-color);\n",
              "    box-shadow: 0 1px 2px rgba(60, 64, 67, 0.3), 0 1px 3px 1px rgba(60, 64, 67, 0.15);\n",
              "    fill: var(--button-hover-fill-color);\n",
              "  }\n",
              "\n",
              "  .colab-df-quickchart-complete:disabled,\n",
              "  .colab-df-quickchart-complete:disabled:hover {\n",
              "    background-color: var(--disabled-bg-color);\n",
              "    fill: var(--disabled-fill-color);\n",
              "    box-shadow: none;\n",
              "  }\n",
              "\n",
              "  .colab-df-spinner {\n",
              "    border: 2px solid var(--fill-color);\n",
              "    border-color: transparent;\n",
              "    border-bottom-color: var(--fill-color);\n",
              "    animation:\n",
              "      spin 1s steps(1) infinite;\n",
              "  }\n",
              "\n",
              "  @keyframes spin {\n",
              "    0% {\n",
              "      border-color: transparent;\n",
              "      border-bottom-color: var(--fill-color);\n",
              "      border-left-color: var(--fill-color);\n",
              "    }\n",
              "    20% {\n",
              "      border-color: transparent;\n",
              "      border-left-color: var(--fill-color);\n",
              "      border-top-color: var(--fill-color);\n",
              "    }\n",
              "    30% {\n",
              "      border-color: transparent;\n",
              "      border-left-color: var(--fill-color);\n",
              "      border-top-color: var(--fill-color);\n",
              "      border-right-color: var(--fill-color);\n",
              "    }\n",
              "    40% {\n",
              "      border-color: transparent;\n",
              "      border-right-color: var(--fill-color);\n",
              "      border-top-color: var(--fill-color);\n",
              "    }\n",
              "    60% {\n",
              "      border-color: transparent;\n",
              "      border-right-color: var(--fill-color);\n",
              "    }\n",
              "    80% {\n",
              "      border-color: transparent;\n",
              "      border-right-color: var(--fill-color);\n",
              "      border-bottom-color: var(--fill-color);\n",
              "    }\n",
              "    90% {\n",
              "      border-color: transparent;\n",
              "      border-bottom-color: var(--fill-color);\n",
              "    }\n",
              "  }\n",
              "</style>\n",
              "\n",
              "  <script>\n",
              "    async function quickchart(key) {\n",
              "      const quickchartButtonEl =\n",
              "        document.querySelector('#' + key + ' button');\n",
              "      quickchartButtonEl.disabled = true;  // To prevent multiple clicks.\n",
              "      quickchartButtonEl.classList.add('colab-df-spinner');\n",
              "      try {\n",
              "        const charts = await google.colab.kernel.invokeFunction(\n",
              "            'suggestCharts', [key], {});\n",
              "      } catch (error) {\n",
              "        console.error('Error during call to suggestCharts:', error);\n",
              "      }\n",
              "      quickchartButtonEl.classList.remove('colab-df-spinner');\n",
              "      quickchartButtonEl.classList.add('colab-df-quickchart-complete');\n",
              "    }\n",
              "    (() => {\n",
              "      let quickchartButtonEl =\n",
              "        document.querySelector('#df-690eebec-3e3a-4c4c-9506-83ba12f2f2c2 button');\n",
              "      quickchartButtonEl.style.display =\n",
              "        google.colab.kernel.accessAllowed ? 'block' : 'none';\n",
              "    })();\n",
              "  </script>\n",
              "</div>\n",
              "\n",
              "    </div>\n",
              "  </div>\n"
            ],
            "application/vnd.google.colaboratory.intrinsic+json": {
              "type": "dataframe",
              "variable_name": "df",
              "summary": "{\n  \"name\": \"df\",\n  \"rows\": 641,\n  \"fields\": [\n    {\n      \"column\": \"PATNO\",\n      \"properties\": {\n        \"dtype\": \"number\",\n        \"std\": 333.0802356116454,\n        \"min\": 3000.0,\n        \"max\": 4139.0,\n        \"num_unique_values\": 641,\n        \"samples\": [\n          3224.0,\n          4037.0,\n          3821.0\n        ],\n        \"semantic_type\": \"\",\n        \"description\": \"\"\n      }\n    },\n    {\n      \"column\": \"ABETA42\",\n      \"properties\": {\n        \"dtype\": \"number\",\n        \"std\": 384.54050607123264,\n        \"min\": 249.5666666666667,\n        \"max\": 3077.0,\n        \"num_unique_values\": 637,\n        \"samples\": [\n          434.44,\n          961.45,\n          1139.2\n        ],\n        \"semantic_type\": \"\",\n        \"description\": \"\"\n      }\n    },\n    {\n      \"column\": \"A_SYN\",\n      \"properties\": {\n        \"dtype\": \"number\",\n        \"std\": 623.4599152948257,\n        \"min\": 506.16,\n        \"max\": 4261.633333333334,\n        \"num_unique_values\": 640,\n        \"samples\": [\n          819.1666666666665,\n          2095.84,\n          2010.22\n        ],\n        \"semantic_type\": \"\",\n        \"description\": \"\"\n      }\n    },\n    {\n      \"column\": \"P_TAU\",\n      \"properties\": {\n        \"dtype\": \"number\",\n        \"std\": 6.6470011526284605,\n        \"min\": 8.05,\n        \"max\": 76.334,\n        \"num_unique_values\": 625,\n        \"samples\": [\n          14.373333333333331,\n          18.31,\n          8.05\n        ],\n        \"semantic_type\": \"\",\n        \"description\": \"\"\n      }\n    },\n    {\n      \"column\": \"T_TAU\",\n      \"properties\": {\n        \"dtype\": \"number\",\n        \"std\": 65.04434812120776,\n        \"min\": 87.03999999999998,\n        \"max\": 582.9,\n        \"num_unique_values\": 631,\n        \"samples\": [\n          135.28,\n          151.8,\n          142.16\n        ],\n        \"semantic_type\": \"\",\n        \"description\": \"\"\n      }\n    },\n    {\n      \"column\": \"URATE\",\n      \"properties\": {\n        \"dtype\": \"number\",\n        \"std\": 73.51871143995417,\n        \"min\": 0.0,\n        \"max\": 654.5,\n        \"num_unique_values\": 546,\n        \"samples\": [\n          359.75,\n          472.4,\n          419.0\n        ],\n        \"semantic_type\": \"\",\n        \"description\": \"\"\n      }\n    },\n    {\n      \"column\": \"STATUS\",\n      \"properties\": {\n        \"dtype\": \"number\",\n        \"std\": 0,\n        \"min\": 0,\n        \"max\": 1,\n        \"num_unique_values\": 2,\n        \"samples\": [\n          0,\n          1\n        ],\n        \"semantic_type\": \"\",\n        \"description\": \"\"\n      }\n    }\n  ]\n}"
            }
          },
          "metadata": {},
          "execution_count": 6
        }
      ],
      "source": [
        "df = pd.read_csv(location + \"biospecimen_masterDB.csv\", sep=\",\")\n",
        "df.head()"
      ]
    },
    {
      "cell_type": "code",
      "execution_count": null,
      "metadata": {
        "colab": {
          "base_uri": "https://localhost:8080/",
          "height": 206
        },
        "id": "jUCfdq1OdfsV",
        "outputId": "23f7ccd0-bdc6-4c12-ddd6-fc74b110c858"
      },
      "outputs": [
        {
          "output_type": "execute_result",
          "data": {
            "text/plain": [
              "    ABETA42     A_SYN    P_TAU    T_TAU       URATE  STATUS\n",
              "0  1119.375  1719.650  13.1200  158.350  237.000000       1\n",
              "1   614.150  1584.650  14.0825  174.325  270.285714       1\n",
              "2   746.900  1256.775  10.9825  137.050  234.571429       1\n",
              "3   612.020  1136.380   8.4880  109.100  231.875000       1\n",
              "4   511.280  1263.540  11.3980  145.260  400.666667       1"
            ],
            "text/html": [
              "\n",
              "  <div id=\"df-4934127f-02d4-46f5-91dc-dcde9eba8257\" class=\"colab-df-container\">\n",
              "    <div>\n",
              "<style scoped>\n",
              "    .dataframe tbody tr th:only-of-type {\n",
              "        vertical-align: middle;\n",
              "    }\n",
              "\n",
              "    .dataframe tbody tr th {\n",
              "        vertical-align: top;\n",
              "    }\n",
              "\n",
              "    .dataframe thead th {\n",
              "        text-align: right;\n",
              "    }\n",
              "</style>\n",
              "<table border=\"1\" class=\"dataframe\">\n",
              "  <thead>\n",
              "    <tr style=\"text-align: right;\">\n",
              "      <th></th>\n",
              "      <th>ABETA42</th>\n",
              "      <th>A_SYN</th>\n",
              "      <th>P_TAU</th>\n",
              "      <th>T_TAU</th>\n",
              "      <th>URATE</th>\n",
              "      <th>STATUS</th>\n",
              "    </tr>\n",
              "  </thead>\n",
              "  <tbody>\n",
              "    <tr>\n",
              "      <th>0</th>\n",
              "      <td>1119.375</td>\n",
              "      <td>1719.650</td>\n",
              "      <td>13.1200</td>\n",
              "      <td>158.350</td>\n",
              "      <td>237.000000</td>\n",
              "      <td>1</td>\n",
              "    </tr>\n",
              "    <tr>\n",
              "      <th>1</th>\n",
              "      <td>614.150</td>\n",
              "      <td>1584.650</td>\n",
              "      <td>14.0825</td>\n",
              "      <td>174.325</td>\n",
              "      <td>270.285714</td>\n",
              "      <td>1</td>\n",
              "    </tr>\n",
              "    <tr>\n",
              "      <th>2</th>\n",
              "      <td>746.900</td>\n",
              "      <td>1256.775</td>\n",
              "      <td>10.9825</td>\n",
              "      <td>137.050</td>\n",
              "      <td>234.571429</td>\n",
              "      <td>1</td>\n",
              "    </tr>\n",
              "    <tr>\n",
              "      <th>3</th>\n",
              "      <td>612.020</td>\n",
              "      <td>1136.380</td>\n",
              "      <td>8.4880</td>\n",
              "      <td>109.100</td>\n",
              "      <td>231.875000</td>\n",
              "      <td>1</td>\n",
              "    </tr>\n",
              "    <tr>\n",
              "      <th>4</th>\n",
              "      <td>511.280</td>\n",
              "      <td>1263.540</td>\n",
              "      <td>11.3980</td>\n",
              "      <td>145.260</td>\n",
              "      <td>400.666667</td>\n",
              "      <td>1</td>\n",
              "    </tr>\n",
              "  </tbody>\n",
              "</table>\n",
              "</div>\n",
              "    <div class=\"colab-df-buttons\">\n",
              "\n",
              "  <div class=\"colab-df-container\">\n",
              "    <button class=\"colab-df-convert\" onclick=\"convertToInteractive('df-4934127f-02d4-46f5-91dc-dcde9eba8257')\"\n",
              "            title=\"Convert this dataframe to an interactive table.\"\n",
              "            style=\"display:none;\">\n",
              "\n",
              "  <svg xmlns=\"http://www.w3.org/2000/svg\" height=\"24px\" viewBox=\"0 -960 960 960\">\n",
              "    <path d=\"M120-120v-720h720v720H120Zm60-500h600v-160H180v160Zm220 220h160v-160H400v160Zm0 220h160v-160H400v160ZM180-400h160v-160H180v160Zm440 0h160v-160H620v160ZM180-180h160v-160H180v160Zm440 0h160v-160H620v160Z\"/>\n",
              "  </svg>\n",
              "    </button>\n",
              "\n",
              "  <style>\n",
              "    .colab-df-container {\n",
              "      display:flex;\n",
              "      gap: 12px;\n",
              "    }\n",
              "\n",
              "    .colab-df-convert {\n",
              "      background-color: #E8F0FE;\n",
              "      border: none;\n",
              "      border-radius: 50%;\n",
              "      cursor: pointer;\n",
              "      display: none;\n",
              "      fill: #1967D2;\n",
              "      height: 32px;\n",
              "      padding: 0 0 0 0;\n",
              "      width: 32px;\n",
              "    }\n",
              "\n",
              "    .colab-df-convert:hover {\n",
              "      background-color: #E2EBFA;\n",
              "      box-shadow: 0px 1px 2px rgba(60, 64, 67, 0.3), 0px 1px 3px 1px rgba(60, 64, 67, 0.15);\n",
              "      fill: #174EA6;\n",
              "    }\n",
              "\n",
              "    .colab-df-buttons div {\n",
              "      margin-bottom: 4px;\n",
              "    }\n",
              "\n",
              "    [theme=dark] .colab-df-convert {\n",
              "      background-color: #3B4455;\n",
              "      fill: #D2E3FC;\n",
              "    }\n",
              "\n",
              "    [theme=dark] .colab-df-convert:hover {\n",
              "      background-color: #434B5C;\n",
              "      box-shadow: 0px 1px 3px 1px rgba(0, 0, 0, 0.15);\n",
              "      filter: drop-shadow(0px 1px 2px rgba(0, 0, 0, 0.3));\n",
              "      fill: #FFFFFF;\n",
              "    }\n",
              "  </style>\n",
              "\n",
              "    <script>\n",
              "      const buttonEl =\n",
              "        document.querySelector('#df-4934127f-02d4-46f5-91dc-dcde9eba8257 button.colab-df-convert');\n",
              "      buttonEl.style.display =\n",
              "        google.colab.kernel.accessAllowed ? 'block' : 'none';\n",
              "\n",
              "      async function convertToInteractive(key) {\n",
              "        const element = document.querySelector('#df-4934127f-02d4-46f5-91dc-dcde9eba8257');\n",
              "        const dataTable =\n",
              "          await google.colab.kernel.invokeFunction('convertToInteractive',\n",
              "                                                    [key], {});\n",
              "        if (!dataTable) return;\n",
              "\n",
              "        const docLinkHtml = 'Like what you see? Visit the ' +\n",
              "          '<a target=\"_blank\" href=https://colab.research.google.com/notebooks/data_table.ipynb>data table notebook</a>'\n",
              "          + ' to learn more about interactive tables.';\n",
              "        element.innerHTML = '';\n",
              "        dataTable['output_type'] = 'display_data';\n",
              "        await google.colab.output.renderOutput(dataTable, element);\n",
              "        const docLink = document.createElement('div');\n",
              "        docLink.innerHTML = docLinkHtml;\n",
              "        element.appendChild(docLink);\n",
              "      }\n",
              "    </script>\n",
              "  </div>\n",
              "\n",
              "\n",
              "<div id=\"df-6dcc57d8-f523-4625-9570-8457e994dce7\">\n",
              "  <button class=\"colab-df-quickchart\" onclick=\"quickchart('df-6dcc57d8-f523-4625-9570-8457e994dce7')\"\n",
              "            title=\"Suggest charts\"\n",
              "            style=\"display:none;\">\n",
              "\n",
              "<svg xmlns=\"http://www.w3.org/2000/svg\" height=\"24px\"viewBox=\"0 0 24 24\"\n",
              "     width=\"24px\">\n",
              "    <g>\n",
              "        <path d=\"M19 3H5c-1.1 0-2 .9-2 2v14c0 1.1.9 2 2 2h14c1.1 0 2-.9 2-2V5c0-1.1-.9-2-2-2zM9 17H7v-7h2v7zm4 0h-2V7h2v10zm4 0h-2v-4h2v4z\"/>\n",
              "    </g>\n",
              "</svg>\n",
              "  </button>\n",
              "\n",
              "<style>\n",
              "  .colab-df-quickchart {\n",
              "      --bg-color: #E8F0FE;\n",
              "      --fill-color: #1967D2;\n",
              "      --hover-bg-color: #E2EBFA;\n",
              "      --hover-fill-color: #174EA6;\n",
              "      --disabled-fill-color: #AAA;\n",
              "      --disabled-bg-color: #DDD;\n",
              "  }\n",
              "\n",
              "  [theme=dark] .colab-df-quickchart {\n",
              "      --bg-color: #3B4455;\n",
              "      --fill-color: #D2E3FC;\n",
              "      --hover-bg-color: #434B5C;\n",
              "      --hover-fill-color: #FFFFFF;\n",
              "      --disabled-bg-color: #3B4455;\n",
              "      --disabled-fill-color: #666;\n",
              "  }\n",
              "\n",
              "  .colab-df-quickchart {\n",
              "    background-color: var(--bg-color);\n",
              "    border: none;\n",
              "    border-radius: 50%;\n",
              "    cursor: pointer;\n",
              "    display: none;\n",
              "    fill: var(--fill-color);\n",
              "    height: 32px;\n",
              "    padding: 0;\n",
              "    width: 32px;\n",
              "  }\n",
              "\n",
              "  .colab-df-quickchart:hover {\n",
              "    background-color: var(--hover-bg-color);\n",
              "    box-shadow: 0 1px 2px rgba(60, 64, 67, 0.3), 0 1px 3px 1px rgba(60, 64, 67, 0.15);\n",
              "    fill: var(--button-hover-fill-color);\n",
              "  }\n",
              "\n",
              "  .colab-df-quickchart-complete:disabled,\n",
              "  .colab-df-quickchart-complete:disabled:hover {\n",
              "    background-color: var(--disabled-bg-color);\n",
              "    fill: var(--disabled-fill-color);\n",
              "    box-shadow: none;\n",
              "  }\n",
              "\n",
              "  .colab-df-spinner {\n",
              "    border: 2px solid var(--fill-color);\n",
              "    border-color: transparent;\n",
              "    border-bottom-color: var(--fill-color);\n",
              "    animation:\n",
              "      spin 1s steps(1) infinite;\n",
              "  }\n",
              "\n",
              "  @keyframes spin {\n",
              "    0% {\n",
              "      border-color: transparent;\n",
              "      border-bottom-color: var(--fill-color);\n",
              "      border-left-color: var(--fill-color);\n",
              "    }\n",
              "    20% {\n",
              "      border-color: transparent;\n",
              "      border-left-color: var(--fill-color);\n",
              "      border-top-color: var(--fill-color);\n",
              "    }\n",
              "    30% {\n",
              "      border-color: transparent;\n",
              "      border-left-color: var(--fill-color);\n",
              "      border-top-color: var(--fill-color);\n",
              "      border-right-color: var(--fill-color);\n",
              "    }\n",
              "    40% {\n",
              "      border-color: transparent;\n",
              "      border-right-color: var(--fill-color);\n",
              "      border-top-color: var(--fill-color);\n",
              "    }\n",
              "    60% {\n",
              "      border-color: transparent;\n",
              "      border-right-color: var(--fill-color);\n",
              "    }\n",
              "    80% {\n",
              "      border-color: transparent;\n",
              "      border-right-color: var(--fill-color);\n",
              "      border-bottom-color: var(--fill-color);\n",
              "    }\n",
              "    90% {\n",
              "      border-color: transparent;\n",
              "      border-bottom-color: var(--fill-color);\n",
              "    }\n",
              "  }\n",
              "</style>\n",
              "\n",
              "  <script>\n",
              "    async function quickchart(key) {\n",
              "      const quickchartButtonEl =\n",
              "        document.querySelector('#' + key + ' button');\n",
              "      quickchartButtonEl.disabled = true;  // To prevent multiple clicks.\n",
              "      quickchartButtonEl.classList.add('colab-df-spinner');\n",
              "      try {\n",
              "        const charts = await google.colab.kernel.invokeFunction(\n",
              "            'suggestCharts', [key], {});\n",
              "      } catch (error) {\n",
              "        console.error('Error during call to suggestCharts:', error);\n",
              "      }\n",
              "      quickchartButtonEl.classList.remove('colab-df-spinner');\n",
              "      quickchartButtonEl.classList.add('colab-df-quickchart-complete');\n",
              "    }\n",
              "    (() => {\n",
              "      let quickchartButtonEl =\n",
              "        document.querySelector('#df-6dcc57d8-f523-4625-9570-8457e994dce7 button');\n",
              "      quickchartButtonEl.style.display =\n",
              "        google.colab.kernel.accessAllowed ? 'block' : 'none';\n",
              "    })();\n",
              "  </script>\n",
              "</div>\n",
              "\n",
              "    </div>\n",
              "  </div>\n"
            ],
            "application/vnd.google.colaboratory.intrinsic+json": {
              "type": "dataframe",
              "variable_name": "df",
              "summary": "{\n  \"name\": \"df\",\n  \"rows\": 641,\n  \"fields\": [\n    {\n      \"column\": \"ABETA42\",\n      \"properties\": {\n        \"dtype\": \"number\",\n        \"std\": 384.54050607123264,\n        \"min\": 249.5666666666667,\n        \"max\": 3077.0,\n        \"num_unique_values\": 637,\n        \"samples\": [\n          434.44,\n          961.45,\n          1139.2\n        ],\n        \"semantic_type\": \"\",\n        \"description\": \"\"\n      }\n    },\n    {\n      \"column\": \"A_SYN\",\n      \"properties\": {\n        \"dtype\": \"number\",\n        \"std\": 623.4599152948257,\n        \"min\": 506.16,\n        \"max\": 4261.633333333334,\n        \"num_unique_values\": 640,\n        \"samples\": [\n          819.1666666666665,\n          2095.84,\n          2010.22\n        ],\n        \"semantic_type\": \"\",\n        \"description\": \"\"\n      }\n    },\n    {\n      \"column\": \"P_TAU\",\n      \"properties\": {\n        \"dtype\": \"number\",\n        \"std\": 6.6470011526284605,\n        \"min\": 8.05,\n        \"max\": 76.334,\n        \"num_unique_values\": 625,\n        \"samples\": [\n          14.373333333333331,\n          18.31,\n          8.05\n        ],\n        \"semantic_type\": \"\",\n        \"description\": \"\"\n      }\n    },\n    {\n      \"column\": \"T_TAU\",\n      \"properties\": {\n        \"dtype\": \"number\",\n        \"std\": 65.04434812120776,\n        \"min\": 87.03999999999998,\n        \"max\": 582.9,\n        \"num_unique_values\": 631,\n        \"samples\": [\n          135.28,\n          151.8,\n          142.16\n        ],\n        \"semantic_type\": \"\",\n        \"description\": \"\"\n      }\n    },\n    {\n      \"column\": \"URATE\",\n      \"properties\": {\n        \"dtype\": \"number\",\n        \"std\": 73.51871143995417,\n        \"min\": 0.0,\n        \"max\": 654.5,\n        \"num_unique_values\": 546,\n        \"samples\": [\n          359.75,\n          472.4,\n          419.0\n        ],\n        \"semantic_type\": \"\",\n        \"description\": \"\"\n      }\n    },\n    {\n      \"column\": \"STATUS\",\n      \"properties\": {\n        \"dtype\": \"number\",\n        \"std\": 0,\n        \"min\": 0,\n        \"max\": 1,\n        \"num_unique_values\": 2,\n        \"samples\": [\n          0,\n          1\n        ],\n        \"semantic_type\": \"\",\n        \"description\": \"\"\n      }\n    }\n  ]\n}"
            }
          },
          "metadata": {},
          "execution_count": 7
        }
      ],
      "source": [
        "df = df.drop(columns = [\"PATNO\"], axis = 1)\n",
        "df.head()"
      ]
    },
    {
      "cell_type": "code",
      "execution_count": null,
      "metadata": {
        "colab": {
          "base_uri": "https://localhost:8080/",
          "height": 206
        },
        "id": "qQkvusX0dfwE",
        "outputId": "e3f86ec1-144d-4c2e-e978-3bce4d53379c"
      },
      "outputs": [
        {
          "output_type": "execute_result",
          "data": {
            "text/plain": [
              "    ABETA42    A_SYN    P_TAU    T_TAU       URATE  STATUS  P_TAU/T_TAU  \\\n",
              "0  2571.400  3300.42  29.0060  338.960  293.142857       1     0.085574   \n",
              "1   691.725  1259.80   9.3000  114.950  444.000000       1     0.080905   \n",
              "2   793.775  1339.60  11.4000  136.225  250.333333       1     0.083685   \n",
              "3   702.700  1731.70  16.0300  201.700  256.500000       1     0.079474   \n",
              "4   548.625   793.85   8.6925  104.790  246.571429       1     0.082952   \n",
              "\n",
              "   P_TAU/ABETA42  T_TAU/ABETA42  ABETA42/A_SYN  P_TAU/A_SYN  T_TAU/A_SYN  \n",
              "0       0.011280       0.131819       0.779113     0.008789     0.102702  \n",
              "1       0.013445       0.166179       0.549075     0.007382     0.091245  \n",
              "2       0.014362       0.171617       0.592546     0.008510     0.101691  \n",
              "3       0.022812       0.287036       0.405786     0.009257     0.116475  \n",
              "4       0.015844       0.191005       0.691094     0.010950     0.132002  "
            ],
            "text/html": [
              "\n",
              "  <div id=\"df-fb4a3450-6d81-4d9b-941a-1d5d72972b7c\" class=\"colab-df-container\">\n",
              "    <div>\n",
              "<style scoped>\n",
              "    .dataframe tbody tr th:only-of-type {\n",
              "        vertical-align: middle;\n",
              "    }\n",
              "\n",
              "    .dataframe tbody tr th {\n",
              "        vertical-align: top;\n",
              "    }\n",
              "\n",
              "    .dataframe thead th {\n",
              "        text-align: right;\n",
              "    }\n",
              "</style>\n",
              "<table border=\"1\" class=\"dataframe\">\n",
              "  <thead>\n",
              "    <tr style=\"text-align: right;\">\n",
              "      <th></th>\n",
              "      <th>ABETA42</th>\n",
              "      <th>A_SYN</th>\n",
              "      <th>P_TAU</th>\n",
              "      <th>T_TAU</th>\n",
              "      <th>URATE</th>\n",
              "      <th>STATUS</th>\n",
              "      <th>P_TAU/T_TAU</th>\n",
              "      <th>P_TAU/ABETA42</th>\n",
              "      <th>T_TAU/ABETA42</th>\n",
              "      <th>ABETA42/A_SYN</th>\n",
              "      <th>P_TAU/A_SYN</th>\n",
              "      <th>T_TAU/A_SYN</th>\n",
              "    </tr>\n",
              "  </thead>\n",
              "  <tbody>\n",
              "    <tr>\n",
              "      <th>0</th>\n",
              "      <td>2571.400</td>\n",
              "      <td>3300.42</td>\n",
              "      <td>29.0060</td>\n",
              "      <td>338.960</td>\n",
              "      <td>293.142857</td>\n",
              "      <td>1</td>\n",
              "      <td>0.085574</td>\n",
              "      <td>0.011280</td>\n",
              "      <td>0.131819</td>\n",
              "      <td>0.779113</td>\n",
              "      <td>0.008789</td>\n",
              "      <td>0.102702</td>\n",
              "    </tr>\n",
              "    <tr>\n",
              "      <th>1</th>\n",
              "      <td>691.725</td>\n",
              "      <td>1259.80</td>\n",
              "      <td>9.3000</td>\n",
              "      <td>114.950</td>\n",
              "      <td>444.000000</td>\n",
              "      <td>1</td>\n",
              "      <td>0.080905</td>\n",
              "      <td>0.013445</td>\n",
              "      <td>0.166179</td>\n",
              "      <td>0.549075</td>\n",
              "      <td>0.007382</td>\n",
              "      <td>0.091245</td>\n",
              "    </tr>\n",
              "    <tr>\n",
              "      <th>2</th>\n",
              "      <td>793.775</td>\n",
              "      <td>1339.60</td>\n",
              "      <td>11.4000</td>\n",
              "      <td>136.225</td>\n",
              "      <td>250.333333</td>\n",
              "      <td>1</td>\n",
              "      <td>0.083685</td>\n",
              "      <td>0.014362</td>\n",
              "      <td>0.171617</td>\n",
              "      <td>0.592546</td>\n",
              "      <td>0.008510</td>\n",
              "      <td>0.101691</td>\n",
              "    </tr>\n",
              "    <tr>\n",
              "      <th>3</th>\n",
              "      <td>702.700</td>\n",
              "      <td>1731.70</td>\n",
              "      <td>16.0300</td>\n",
              "      <td>201.700</td>\n",
              "      <td>256.500000</td>\n",
              "      <td>1</td>\n",
              "      <td>0.079474</td>\n",
              "      <td>0.022812</td>\n",
              "      <td>0.287036</td>\n",
              "      <td>0.405786</td>\n",
              "      <td>0.009257</td>\n",
              "      <td>0.116475</td>\n",
              "    </tr>\n",
              "    <tr>\n",
              "      <th>4</th>\n",
              "      <td>548.625</td>\n",
              "      <td>793.85</td>\n",
              "      <td>8.6925</td>\n",
              "      <td>104.790</td>\n",
              "      <td>246.571429</td>\n",
              "      <td>1</td>\n",
              "      <td>0.082952</td>\n",
              "      <td>0.015844</td>\n",
              "      <td>0.191005</td>\n",
              "      <td>0.691094</td>\n",
              "      <td>0.010950</td>\n",
              "      <td>0.132002</td>\n",
              "    </tr>\n",
              "  </tbody>\n",
              "</table>\n",
              "</div>\n",
              "    <div class=\"colab-df-buttons\">\n",
              "\n",
              "  <div class=\"colab-df-container\">\n",
              "    <button class=\"colab-df-convert\" onclick=\"convertToInteractive('df-fb4a3450-6d81-4d9b-941a-1d5d72972b7c')\"\n",
              "            title=\"Convert this dataframe to an interactive table.\"\n",
              "            style=\"display:none;\">\n",
              "\n",
              "  <svg xmlns=\"http://www.w3.org/2000/svg\" height=\"24px\" viewBox=\"0 -960 960 960\">\n",
              "    <path d=\"M120-120v-720h720v720H120Zm60-500h600v-160H180v160Zm220 220h160v-160H400v160Zm0 220h160v-160H400v160ZM180-400h160v-160H180v160Zm440 0h160v-160H620v160ZM180-180h160v-160H180v160Zm440 0h160v-160H620v160Z\"/>\n",
              "  </svg>\n",
              "    </button>\n",
              "\n",
              "  <style>\n",
              "    .colab-df-container {\n",
              "      display:flex;\n",
              "      gap: 12px;\n",
              "    }\n",
              "\n",
              "    .colab-df-convert {\n",
              "      background-color: #E8F0FE;\n",
              "      border: none;\n",
              "      border-radius: 50%;\n",
              "      cursor: pointer;\n",
              "      display: none;\n",
              "      fill: #1967D2;\n",
              "      height: 32px;\n",
              "      padding: 0 0 0 0;\n",
              "      width: 32px;\n",
              "    }\n",
              "\n",
              "    .colab-df-convert:hover {\n",
              "      background-color: #E2EBFA;\n",
              "      box-shadow: 0px 1px 2px rgba(60, 64, 67, 0.3), 0px 1px 3px 1px rgba(60, 64, 67, 0.15);\n",
              "      fill: #174EA6;\n",
              "    }\n",
              "\n",
              "    .colab-df-buttons div {\n",
              "      margin-bottom: 4px;\n",
              "    }\n",
              "\n",
              "    [theme=dark] .colab-df-convert {\n",
              "      background-color: #3B4455;\n",
              "      fill: #D2E3FC;\n",
              "    }\n",
              "\n",
              "    [theme=dark] .colab-df-convert:hover {\n",
              "      background-color: #434B5C;\n",
              "      box-shadow: 0px 1px 3px 1px rgba(0, 0, 0, 0.15);\n",
              "      filter: drop-shadow(0px 1px 2px rgba(0, 0, 0, 0.3));\n",
              "      fill: #FFFFFF;\n",
              "    }\n",
              "  </style>\n",
              "\n",
              "    <script>\n",
              "      const buttonEl =\n",
              "        document.querySelector('#df-fb4a3450-6d81-4d9b-941a-1d5d72972b7c button.colab-df-convert');\n",
              "      buttonEl.style.display =\n",
              "        google.colab.kernel.accessAllowed ? 'block' : 'none';\n",
              "\n",
              "      async function convertToInteractive(key) {\n",
              "        const element = document.querySelector('#df-fb4a3450-6d81-4d9b-941a-1d5d72972b7c');\n",
              "        const dataTable =\n",
              "          await google.colab.kernel.invokeFunction('convertToInteractive',\n",
              "                                                    [key], {});\n",
              "        if (!dataTable) return;\n",
              "\n",
              "        const docLinkHtml = 'Like what you see? Visit the ' +\n",
              "          '<a target=\"_blank\" href=https://colab.research.google.com/notebooks/data_table.ipynb>data table notebook</a>'\n",
              "          + ' to learn more about interactive tables.';\n",
              "        element.innerHTML = '';\n",
              "        dataTable['output_type'] = 'display_data';\n",
              "        await google.colab.output.renderOutput(dataTable, element);\n",
              "        const docLink = document.createElement('div');\n",
              "        docLink.innerHTML = docLinkHtml;\n",
              "        element.appendChild(docLink);\n",
              "      }\n",
              "    </script>\n",
              "  </div>\n",
              "\n",
              "\n",
              "<div id=\"df-c5a3cee7-a4a3-46fe-9710-49c430e0a844\">\n",
              "  <button class=\"colab-df-quickchart\" onclick=\"quickchart('df-c5a3cee7-a4a3-46fe-9710-49c430e0a844')\"\n",
              "            title=\"Suggest charts\"\n",
              "            style=\"display:none;\">\n",
              "\n",
              "<svg xmlns=\"http://www.w3.org/2000/svg\" height=\"24px\"viewBox=\"0 0 24 24\"\n",
              "     width=\"24px\">\n",
              "    <g>\n",
              "        <path d=\"M19 3H5c-1.1 0-2 .9-2 2v14c0 1.1.9 2 2 2h14c1.1 0 2-.9 2-2V5c0-1.1-.9-2-2-2zM9 17H7v-7h2v7zm4 0h-2V7h2v10zm4 0h-2v-4h2v4z\"/>\n",
              "    </g>\n",
              "</svg>\n",
              "  </button>\n",
              "\n",
              "<style>\n",
              "  .colab-df-quickchart {\n",
              "      --bg-color: #E8F0FE;\n",
              "      --fill-color: #1967D2;\n",
              "      --hover-bg-color: #E2EBFA;\n",
              "      --hover-fill-color: #174EA6;\n",
              "      --disabled-fill-color: #AAA;\n",
              "      --disabled-bg-color: #DDD;\n",
              "  }\n",
              "\n",
              "  [theme=dark] .colab-df-quickchart {\n",
              "      --bg-color: #3B4455;\n",
              "      --fill-color: #D2E3FC;\n",
              "      --hover-bg-color: #434B5C;\n",
              "      --hover-fill-color: #FFFFFF;\n",
              "      --disabled-bg-color: #3B4455;\n",
              "      --disabled-fill-color: #666;\n",
              "  }\n",
              "\n",
              "  .colab-df-quickchart {\n",
              "    background-color: var(--bg-color);\n",
              "    border: none;\n",
              "    border-radius: 50%;\n",
              "    cursor: pointer;\n",
              "    display: none;\n",
              "    fill: var(--fill-color);\n",
              "    height: 32px;\n",
              "    padding: 0;\n",
              "    width: 32px;\n",
              "  }\n",
              "\n",
              "  .colab-df-quickchart:hover {\n",
              "    background-color: var(--hover-bg-color);\n",
              "    box-shadow: 0 1px 2px rgba(60, 64, 67, 0.3), 0 1px 3px 1px rgba(60, 64, 67, 0.15);\n",
              "    fill: var(--button-hover-fill-color);\n",
              "  }\n",
              "\n",
              "  .colab-df-quickchart-complete:disabled,\n",
              "  .colab-df-quickchart-complete:disabled:hover {\n",
              "    background-color: var(--disabled-bg-color);\n",
              "    fill: var(--disabled-fill-color);\n",
              "    box-shadow: none;\n",
              "  }\n",
              "\n",
              "  .colab-df-spinner {\n",
              "    border: 2px solid var(--fill-color);\n",
              "    border-color: transparent;\n",
              "    border-bottom-color: var(--fill-color);\n",
              "    animation:\n",
              "      spin 1s steps(1) infinite;\n",
              "  }\n",
              "\n",
              "  @keyframes spin {\n",
              "    0% {\n",
              "      border-color: transparent;\n",
              "      border-bottom-color: var(--fill-color);\n",
              "      border-left-color: var(--fill-color);\n",
              "    }\n",
              "    20% {\n",
              "      border-color: transparent;\n",
              "      border-left-color: var(--fill-color);\n",
              "      border-top-color: var(--fill-color);\n",
              "    }\n",
              "    30% {\n",
              "      border-color: transparent;\n",
              "      border-left-color: var(--fill-color);\n",
              "      border-top-color: var(--fill-color);\n",
              "      border-right-color: var(--fill-color);\n",
              "    }\n",
              "    40% {\n",
              "      border-color: transparent;\n",
              "      border-right-color: var(--fill-color);\n",
              "      border-top-color: var(--fill-color);\n",
              "    }\n",
              "    60% {\n",
              "      border-color: transparent;\n",
              "      border-right-color: var(--fill-color);\n",
              "    }\n",
              "    80% {\n",
              "      border-color: transparent;\n",
              "      border-right-color: var(--fill-color);\n",
              "      border-bottom-color: var(--fill-color);\n",
              "    }\n",
              "    90% {\n",
              "      border-color: transparent;\n",
              "      border-bottom-color: var(--fill-color);\n",
              "    }\n",
              "  }\n",
              "</style>\n",
              "\n",
              "  <script>\n",
              "    async function quickchart(key) {\n",
              "      const quickchartButtonEl =\n",
              "        document.querySelector('#' + key + ' button');\n",
              "      quickchartButtonEl.disabled = true;  // To prevent multiple clicks.\n",
              "      quickchartButtonEl.classList.add('colab-df-spinner');\n",
              "      try {\n",
              "        const charts = await google.colab.kernel.invokeFunction(\n",
              "            'suggestCharts', [key], {});\n",
              "      } catch (error) {\n",
              "        console.error('Error during call to suggestCharts:', error);\n",
              "      }\n",
              "      quickchartButtonEl.classList.remove('colab-df-spinner');\n",
              "      quickchartButtonEl.classList.add('colab-df-quickchart-complete');\n",
              "    }\n",
              "    (() => {\n",
              "      let quickchartButtonEl =\n",
              "        document.querySelector('#df-c5a3cee7-a4a3-46fe-9710-49c430e0a844 button');\n",
              "      quickchartButtonEl.style.display =\n",
              "        google.colab.kernel.accessAllowed ? 'block' : 'none';\n",
              "    })();\n",
              "  </script>\n",
              "</div>\n",
              "\n",
              "    </div>\n",
              "  </div>\n"
            ],
            "application/vnd.google.colaboratory.intrinsic+json": {
              "type": "dataframe",
              "variable_name": "df",
              "summary": "{\n  \"name\": \"df\",\n  \"rows\": 641,\n  \"fields\": [\n    {\n      \"column\": \"ABETA42\",\n      \"properties\": {\n        \"dtype\": \"number\",\n        \"std\": 384.5405060712327,\n        \"min\": 249.5666666666667,\n        \"max\": 3077.0,\n        \"num_unique_values\": 637,\n        \"samples\": [\n          1041.0,\n          1339.4,\n          939.5666666666666\n        ],\n        \"semantic_type\": \"\",\n        \"description\": \"\"\n      }\n    },\n    {\n      \"column\": \"A_SYN\",\n      \"properties\": {\n        \"dtype\": \"number\",\n        \"std\": 623.4599152948257,\n        \"min\": 506.16,\n        \"max\": 4261.633333333334,\n        \"num_unique_values\": 640,\n        \"samples\": [\n          2421.8,\n          1722.9833333333331,\n          1737.2599999999998\n        ],\n        \"semantic_type\": \"\",\n        \"description\": \"\"\n      }\n    },\n    {\n      \"column\": \"P_TAU\",\n      \"properties\": {\n        \"dtype\": \"number\",\n        \"std\": 6.6470011526284605,\n        \"min\": 8.05,\n        \"max\": 76.334,\n        \"num_unique_values\": 625,\n        \"samples\": [\n          8.45,\n          11.765999999999998,\n          12.04\n        ],\n        \"semantic_type\": \"\",\n        \"description\": \"\"\n      }\n    },\n    {\n      \"column\": \"T_TAU\",\n      \"properties\": {\n        \"dtype\": \"number\",\n        \"std\": 65.04434812120778,\n        \"min\": 87.03999999999998,\n        \"max\": 582.9,\n        \"num_unique_values\": 631,\n        \"samples\": [\n          201.55,\n          211.24,\n          195.9\n        ],\n        \"semantic_type\": \"\",\n        \"description\": \"\"\n      }\n    },\n    {\n      \"column\": \"URATE\",\n      \"properties\": {\n        \"dtype\": \"number\",\n        \"std\": 73.51871143995417,\n        \"min\": 0.0,\n        \"max\": 654.5,\n        \"num_unique_values\": 546,\n        \"samples\": [\n          241.42857142857144,\n          250.75,\n          325.42857142857144\n        ],\n        \"semantic_type\": \"\",\n        \"description\": \"\"\n      }\n    },\n    {\n      \"column\": \"STATUS\",\n      \"properties\": {\n        \"dtype\": \"number\",\n        \"std\": 0,\n        \"min\": 0,\n        \"max\": 1,\n        \"num_unique_values\": 2,\n        \"samples\": [\n          0,\n          1\n        ],\n        \"semantic_type\": \"\",\n        \"description\": \"\"\n      }\n    },\n    {\n      \"column\": \"P_TAU/T_TAU\",\n      \"properties\": {\n        \"dtype\": \"number\",\n        \"std\": 0.006879831605159055,\n        \"min\": 0.06583885209713025,\n        \"max\": 0.1311731262309093,\n        \"num_unique_values\": 640,\n        \"samples\": [\n          0.09542198691996262,\n          0.0854979511847497\n        ],\n        \"semantic_type\": \"\",\n        \"description\": \"\"\n      }\n    },\n    {\n      \"column\": \"P_TAU/ABETA42\",\n      \"properties\": {\n        \"dtype\": \"number\",\n        \"std\": 0.013529075539462275,\n        \"min\": 0.0081010338960869,\n        \"max\": 0.1850700674004752,\n        \"num_unique_values\": 641,\n        \"samples\": [\n          0.013046197296752068,\n          0.019061106539337458\n        ],\n        \"semantic_type\": \"\",\n        \"description\": \"\"\n      }\n    },\n    {\n      \"column\": \"T_TAU/ABETA42\",\n      \"properties\": {\n        \"dtype\": \"number\",\n        \"std\": 0.12792479547941268,\n        \"min\": 0.10629446001293384,\n        \"max\": 1.4328026327492664,\n        \"num_unique_values\": 641,\n        \"samples\": [\n          0.13127899939479523,\n          0.21637035194151535\n        ],\n        \"semantic_type\": \"\",\n        \"description\": \"\"\n      }\n    },\n    {\n      \"column\": \"ABETA42/A_SYN\",\n      \"properties\": {\n        \"dtype\": \"number\",\n        \"std\": 0.18631923362959663,\n        \"min\": 0.08793967883988141,\n        \"max\": 1.373618868752896,\n        \"num_unique_values\": 641,\n        \"samples\": [\n          0.6177639859921985,\n          0.49021962454616236\n        ],\n        \"semantic_type\": \"\",\n        \"description\": \"\"\n      }\n    },\n    {\n      \"column\": \"P_TAU/A_SYN\",\n      \"properties\": {\n        \"dtype\": \"number\",\n        \"std\": 0.00202730484529072,\n        \"min\": 0.0036187062354118035,\n        \"max\": 0.019671176394794487,\n        \"num_unique_values\": 641,\n        \"samples\": [\n          0.008059470844082203,\n          0.009344128491148409\n        ],\n        \"semantic_type\": \"\",\n        \"description\": \"\"\n      }\n    },\n    {\n      \"column\": \"T_TAU/A_SYN\",\n      \"properties\": {\n        \"dtype\": \"number\",\n        \"std\": 0.02259187490841384,\n        \"min\": 0.04365158359492637,\n        \"max\": 0.20689533613001024,\n        \"num_unique_values\": 641,\n        \"samples\": [\n          0.08109943794319611,\n          0.10606899269169068\n        ],\n        \"semantic_type\": \"\",\n        \"description\": \"\"\n      }\n    }\n  ]\n}"
            }
          },
          "metadata": {},
          "execution_count": 8
        }
      ],
      "source": [
        "df = df.sample(frac=1).reset_index(drop=True)\n",
        "df[\"P_TAU/T_TAU\"] = df[\"P_TAU\"]/df[\"T_TAU\"]\n",
        "df[\"P_TAU/ABETA42\"] = df[\"P_TAU\"]/df[\"ABETA42\"]\n",
        "df[\"T_TAU/ABETA42\"] = df[\"T_TAU\"]/df[\"ABETA42\"]\n",
        "df[\"ABETA42/A_SYN\"] = df[\"ABETA42\"]/df[\"A_SYN\"]\n",
        "df[\"P_TAU/A_SYN\"] = df[\"P_TAU\"]/df[\"A_SYN\"]\n",
        "df[\"T_TAU/A_SYN\"] = df[\"T_TAU\"]/df[\"A_SYN\"]\n",
        "df.head()"
      ]
    },
    {
      "cell_type": "code",
      "execution_count": null,
      "metadata": {
        "colab": {
          "base_uri": "https://localhost:8080/",
          "height": 206
        },
        "id": "DGil5UQ8HuPS",
        "outputId": "cb9ff132-566a-44a7-d7c8-9c7367b38c6a"
      },
      "outputs": [
        {
          "output_type": "execute_result",
          "data": {
            "text/plain": [
              "    ABETA42    A_SYN    P_TAU    T_TAU       URATE  P_TAU/T_TAU  \\\n",
              "0  2571.400  3300.42  29.0060  338.960  293.142857     0.085574   \n",
              "1   691.725  1259.80   9.3000  114.950  444.000000     0.080905   \n",
              "2   793.775  1339.60  11.4000  136.225  250.333333     0.083685   \n",
              "3   702.700  1731.70  16.0300  201.700  256.500000     0.079474   \n",
              "4   548.625   793.85   8.6925  104.790  246.571429     0.082952   \n",
              "\n",
              "   P_TAU/ABETA42  T_TAU/ABETA42  ABETA42/A_SYN  P_TAU/A_SYN  T_TAU/A_SYN  \\\n",
              "0       0.011280       0.131819       0.779113     0.008789     0.102702   \n",
              "1       0.013445       0.166179       0.549075     0.007382     0.091245   \n",
              "2       0.014362       0.171617       0.592546     0.008510     0.101691   \n",
              "3       0.022812       0.287036       0.405786     0.009257     0.116475   \n",
              "4       0.015844       0.191005       0.691094     0.010950     0.132002   \n",
              "\n",
              "   STATUS  \n",
              "0       1  \n",
              "1       1  \n",
              "2       1  \n",
              "3       1  \n",
              "4       1  "
            ],
            "text/html": [
              "\n",
              "  <div id=\"df-8ca8204b-3f9a-4975-9503-becbd47c0734\" class=\"colab-df-container\">\n",
              "    <div>\n",
              "<style scoped>\n",
              "    .dataframe tbody tr th:only-of-type {\n",
              "        vertical-align: middle;\n",
              "    }\n",
              "\n",
              "    .dataframe tbody tr th {\n",
              "        vertical-align: top;\n",
              "    }\n",
              "\n",
              "    .dataframe thead th {\n",
              "        text-align: right;\n",
              "    }\n",
              "</style>\n",
              "<table border=\"1\" class=\"dataframe\">\n",
              "  <thead>\n",
              "    <tr style=\"text-align: right;\">\n",
              "      <th></th>\n",
              "      <th>ABETA42</th>\n",
              "      <th>A_SYN</th>\n",
              "      <th>P_TAU</th>\n",
              "      <th>T_TAU</th>\n",
              "      <th>URATE</th>\n",
              "      <th>P_TAU/T_TAU</th>\n",
              "      <th>P_TAU/ABETA42</th>\n",
              "      <th>T_TAU/ABETA42</th>\n",
              "      <th>ABETA42/A_SYN</th>\n",
              "      <th>P_TAU/A_SYN</th>\n",
              "      <th>T_TAU/A_SYN</th>\n",
              "      <th>STATUS</th>\n",
              "    </tr>\n",
              "  </thead>\n",
              "  <tbody>\n",
              "    <tr>\n",
              "      <th>0</th>\n",
              "      <td>2571.400</td>\n",
              "      <td>3300.42</td>\n",
              "      <td>29.0060</td>\n",
              "      <td>338.960</td>\n",
              "      <td>293.142857</td>\n",
              "      <td>0.085574</td>\n",
              "      <td>0.011280</td>\n",
              "      <td>0.131819</td>\n",
              "      <td>0.779113</td>\n",
              "      <td>0.008789</td>\n",
              "      <td>0.102702</td>\n",
              "      <td>1</td>\n",
              "    </tr>\n",
              "    <tr>\n",
              "      <th>1</th>\n",
              "      <td>691.725</td>\n",
              "      <td>1259.80</td>\n",
              "      <td>9.3000</td>\n",
              "      <td>114.950</td>\n",
              "      <td>444.000000</td>\n",
              "      <td>0.080905</td>\n",
              "      <td>0.013445</td>\n",
              "      <td>0.166179</td>\n",
              "      <td>0.549075</td>\n",
              "      <td>0.007382</td>\n",
              "      <td>0.091245</td>\n",
              "      <td>1</td>\n",
              "    </tr>\n",
              "    <tr>\n",
              "      <th>2</th>\n",
              "      <td>793.775</td>\n",
              "      <td>1339.60</td>\n",
              "      <td>11.4000</td>\n",
              "      <td>136.225</td>\n",
              "      <td>250.333333</td>\n",
              "      <td>0.083685</td>\n",
              "      <td>0.014362</td>\n",
              "      <td>0.171617</td>\n",
              "      <td>0.592546</td>\n",
              "      <td>0.008510</td>\n",
              "      <td>0.101691</td>\n",
              "      <td>1</td>\n",
              "    </tr>\n",
              "    <tr>\n",
              "      <th>3</th>\n",
              "      <td>702.700</td>\n",
              "      <td>1731.70</td>\n",
              "      <td>16.0300</td>\n",
              "      <td>201.700</td>\n",
              "      <td>256.500000</td>\n",
              "      <td>0.079474</td>\n",
              "      <td>0.022812</td>\n",
              "      <td>0.287036</td>\n",
              "      <td>0.405786</td>\n",
              "      <td>0.009257</td>\n",
              "      <td>0.116475</td>\n",
              "      <td>1</td>\n",
              "    </tr>\n",
              "    <tr>\n",
              "      <th>4</th>\n",
              "      <td>548.625</td>\n",
              "      <td>793.85</td>\n",
              "      <td>8.6925</td>\n",
              "      <td>104.790</td>\n",
              "      <td>246.571429</td>\n",
              "      <td>0.082952</td>\n",
              "      <td>0.015844</td>\n",
              "      <td>0.191005</td>\n",
              "      <td>0.691094</td>\n",
              "      <td>0.010950</td>\n",
              "      <td>0.132002</td>\n",
              "      <td>1</td>\n",
              "    </tr>\n",
              "  </tbody>\n",
              "</table>\n",
              "</div>\n",
              "    <div class=\"colab-df-buttons\">\n",
              "\n",
              "  <div class=\"colab-df-container\">\n",
              "    <button class=\"colab-df-convert\" onclick=\"convertToInteractive('df-8ca8204b-3f9a-4975-9503-becbd47c0734')\"\n",
              "            title=\"Convert this dataframe to an interactive table.\"\n",
              "            style=\"display:none;\">\n",
              "\n",
              "  <svg xmlns=\"http://www.w3.org/2000/svg\" height=\"24px\" viewBox=\"0 -960 960 960\">\n",
              "    <path d=\"M120-120v-720h720v720H120Zm60-500h600v-160H180v160Zm220 220h160v-160H400v160Zm0 220h160v-160H400v160ZM180-400h160v-160H180v160Zm440 0h160v-160H620v160ZM180-180h160v-160H180v160Zm440 0h160v-160H620v160Z\"/>\n",
              "  </svg>\n",
              "    </button>\n",
              "\n",
              "  <style>\n",
              "    .colab-df-container {\n",
              "      display:flex;\n",
              "      gap: 12px;\n",
              "    }\n",
              "\n",
              "    .colab-df-convert {\n",
              "      background-color: #E8F0FE;\n",
              "      border: none;\n",
              "      border-radius: 50%;\n",
              "      cursor: pointer;\n",
              "      display: none;\n",
              "      fill: #1967D2;\n",
              "      height: 32px;\n",
              "      padding: 0 0 0 0;\n",
              "      width: 32px;\n",
              "    }\n",
              "\n",
              "    .colab-df-convert:hover {\n",
              "      background-color: #E2EBFA;\n",
              "      box-shadow: 0px 1px 2px rgba(60, 64, 67, 0.3), 0px 1px 3px 1px rgba(60, 64, 67, 0.15);\n",
              "      fill: #174EA6;\n",
              "    }\n",
              "\n",
              "    .colab-df-buttons div {\n",
              "      margin-bottom: 4px;\n",
              "    }\n",
              "\n",
              "    [theme=dark] .colab-df-convert {\n",
              "      background-color: #3B4455;\n",
              "      fill: #D2E3FC;\n",
              "    }\n",
              "\n",
              "    [theme=dark] .colab-df-convert:hover {\n",
              "      background-color: #434B5C;\n",
              "      box-shadow: 0px 1px 3px 1px rgba(0, 0, 0, 0.15);\n",
              "      filter: drop-shadow(0px 1px 2px rgba(0, 0, 0, 0.3));\n",
              "      fill: #FFFFFF;\n",
              "    }\n",
              "  </style>\n",
              "\n",
              "    <script>\n",
              "      const buttonEl =\n",
              "        document.querySelector('#df-8ca8204b-3f9a-4975-9503-becbd47c0734 button.colab-df-convert');\n",
              "      buttonEl.style.display =\n",
              "        google.colab.kernel.accessAllowed ? 'block' : 'none';\n",
              "\n",
              "      async function convertToInteractive(key) {\n",
              "        const element = document.querySelector('#df-8ca8204b-3f9a-4975-9503-becbd47c0734');\n",
              "        const dataTable =\n",
              "          await google.colab.kernel.invokeFunction('convertToInteractive',\n",
              "                                                    [key], {});\n",
              "        if (!dataTable) return;\n",
              "\n",
              "        const docLinkHtml = 'Like what you see? Visit the ' +\n",
              "          '<a target=\"_blank\" href=https://colab.research.google.com/notebooks/data_table.ipynb>data table notebook</a>'\n",
              "          + ' to learn more about interactive tables.';\n",
              "        element.innerHTML = '';\n",
              "        dataTable['output_type'] = 'display_data';\n",
              "        await google.colab.output.renderOutput(dataTable, element);\n",
              "        const docLink = document.createElement('div');\n",
              "        docLink.innerHTML = docLinkHtml;\n",
              "        element.appendChild(docLink);\n",
              "      }\n",
              "    </script>\n",
              "  </div>\n",
              "\n",
              "\n",
              "<div id=\"df-bc7a1516-c66f-48c6-88cd-0e289d8d0225\">\n",
              "  <button class=\"colab-df-quickchart\" onclick=\"quickchart('df-bc7a1516-c66f-48c6-88cd-0e289d8d0225')\"\n",
              "            title=\"Suggest charts\"\n",
              "            style=\"display:none;\">\n",
              "\n",
              "<svg xmlns=\"http://www.w3.org/2000/svg\" height=\"24px\"viewBox=\"0 0 24 24\"\n",
              "     width=\"24px\">\n",
              "    <g>\n",
              "        <path d=\"M19 3H5c-1.1 0-2 .9-2 2v14c0 1.1.9 2 2 2h14c1.1 0 2-.9 2-2V5c0-1.1-.9-2-2-2zM9 17H7v-7h2v7zm4 0h-2V7h2v10zm4 0h-2v-4h2v4z\"/>\n",
              "    </g>\n",
              "</svg>\n",
              "  </button>\n",
              "\n",
              "<style>\n",
              "  .colab-df-quickchart {\n",
              "      --bg-color: #E8F0FE;\n",
              "      --fill-color: #1967D2;\n",
              "      --hover-bg-color: #E2EBFA;\n",
              "      --hover-fill-color: #174EA6;\n",
              "      --disabled-fill-color: #AAA;\n",
              "      --disabled-bg-color: #DDD;\n",
              "  }\n",
              "\n",
              "  [theme=dark] .colab-df-quickchart {\n",
              "      --bg-color: #3B4455;\n",
              "      --fill-color: #D2E3FC;\n",
              "      --hover-bg-color: #434B5C;\n",
              "      --hover-fill-color: #FFFFFF;\n",
              "      --disabled-bg-color: #3B4455;\n",
              "      --disabled-fill-color: #666;\n",
              "  }\n",
              "\n",
              "  .colab-df-quickchart {\n",
              "    background-color: var(--bg-color);\n",
              "    border: none;\n",
              "    border-radius: 50%;\n",
              "    cursor: pointer;\n",
              "    display: none;\n",
              "    fill: var(--fill-color);\n",
              "    height: 32px;\n",
              "    padding: 0;\n",
              "    width: 32px;\n",
              "  }\n",
              "\n",
              "  .colab-df-quickchart:hover {\n",
              "    background-color: var(--hover-bg-color);\n",
              "    box-shadow: 0 1px 2px rgba(60, 64, 67, 0.3), 0 1px 3px 1px rgba(60, 64, 67, 0.15);\n",
              "    fill: var(--button-hover-fill-color);\n",
              "  }\n",
              "\n",
              "  .colab-df-quickchart-complete:disabled,\n",
              "  .colab-df-quickchart-complete:disabled:hover {\n",
              "    background-color: var(--disabled-bg-color);\n",
              "    fill: var(--disabled-fill-color);\n",
              "    box-shadow: none;\n",
              "  }\n",
              "\n",
              "  .colab-df-spinner {\n",
              "    border: 2px solid var(--fill-color);\n",
              "    border-color: transparent;\n",
              "    border-bottom-color: var(--fill-color);\n",
              "    animation:\n",
              "      spin 1s steps(1) infinite;\n",
              "  }\n",
              "\n",
              "  @keyframes spin {\n",
              "    0% {\n",
              "      border-color: transparent;\n",
              "      border-bottom-color: var(--fill-color);\n",
              "      border-left-color: var(--fill-color);\n",
              "    }\n",
              "    20% {\n",
              "      border-color: transparent;\n",
              "      border-left-color: var(--fill-color);\n",
              "      border-top-color: var(--fill-color);\n",
              "    }\n",
              "    30% {\n",
              "      border-color: transparent;\n",
              "      border-left-color: var(--fill-color);\n",
              "      border-top-color: var(--fill-color);\n",
              "      border-right-color: var(--fill-color);\n",
              "    }\n",
              "    40% {\n",
              "      border-color: transparent;\n",
              "      border-right-color: var(--fill-color);\n",
              "      border-top-color: var(--fill-color);\n",
              "    }\n",
              "    60% {\n",
              "      border-color: transparent;\n",
              "      border-right-color: var(--fill-color);\n",
              "    }\n",
              "    80% {\n",
              "      border-color: transparent;\n",
              "      border-right-color: var(--fill-color);\n",
              "      border-bottom-color: var(--fill-color);\n",
              "    }\n",
              "    90% {\n",
              "      border-color: transparent;\n",
              "      border-bottom-color: var(--fill-color);\n",
              "    }\n",
              "  }\n",
              "</style>\n",
              "\n",
              "  <script>\n",
              "    async function quickchart(key) {\n",
              "      const quickchartButtonEl =\n",
              "        document.querySelector('#' + key + ' button');\n",
              "      quickchartButtonEl.disabled = true;  // To prevent multiple clicks.\n",
              "      quickchartButtonEl.classList.add('colab-df-spinner');\n",
              "      try {\n",
              "        const charts = await google.colab.kernel.invokeFunction(\n",
              "            'suggestCharts', [key], {});\n",
              "      } catch (error) {\n",
              "        console.error('Error during call to suggestCharts:', error);\n",
              "      }\n",
              "      quickchartButtonEl.classList.remove('colab-df-spinner');\n",
              "      quickchartButtonEl.classList.add('colab-df-quickchart-complete');\n",
              "    }\n",
              "    (() => {\n",
              "      let quickchartButtonEl =\n",
              "        document.querySelector('#df-bc7a1516-c66f-48c6-88cd-0e289d8d0225 button');\n",
              "      quickchartButtonEl.style.display =\n",
              "        google.colab.kernel.accessAllowed ? 'block' : 'none';\n",
              "    })();\n",
              "  </script>\n",
              "</div>\n",
              "\n",
              "    </div>\n",
              "  </div>\n"
            ],
            "application/vnd.google.colaboratory.intrinsic+json": {
              "type": "dataframe",
              "variable_name": "df",
              "summary": "{\n  \"name\": \"df\",\n  \"rows\": 641,\n  \"fields\": [\n    {\n      \"column\": \"ABETA42\",\n      \"properties\": {\n        \"dtype\": \"number\",\n        \"std\": 384.5405060712327,\n        \"min\": 249.5666666666667,\n        \"max\": 3077.0,\n        \"num_unique_values\": 637,\n        \"samples\": [\n          1041.0,\n          1339.4,\n          939.5666666666666\n        ],\n        \"semantic_type\": \"\",\n        \"description\": \"\"\n      }\n    },\n    {\n      \"column\": \"A_SYN\",\n      \"properties\": {\n        \"dtype\": \"number\",\n        \"std\": 623.4599152948257,\n        \"min\": 506.16,\n        \"max\": 4261.633333333334,\n        \"num_unique_values\": 640,\n        \"samples\": [\n          2421.8,\n          1722.9833333333331,\n          1737.2599999999998\n        ],\n        \"semantic_type\": \"\",\n        \"description\": \"\"\n      }\n    },\n    {\n      \"column\": \"P_TAU\",\n      \"properties\": {\n        \"dtype\": \"number\",\n        \"std\": 6.6470011526284605,\n        \"min\": 8.05,\n        \"max\": 76.334,\n        \"num_unique_values\": 625,\n        \"samples\": [\n          8.45,\n          11.765999999999998,\n          12.04\n        ],\n        \"semantic_type\": \"\",\n        \"description\": \"\"\n      }\n    },\n    {\n      \"column\": \"T_TAU\",\n      \"properties\": {\n        \"dtype\": \"number\",\n        \"std\": 65.04434812120778,\n        \"min\": 87.03999999999998,\n        \"max\": 582.9,\n        \"num_unique_values\": 631,\n        \"samples\": [\n          201.55,\n          211.24,\n          195.9\n        ],\n        \"semantic_type\": \"\",\n        \"description\": \"\"\n      }\n    },\n    {\n      \"column\": \"URATE\",\n      \"properties\": {\n        \"dtype\": \"number\",\n        \"std\": 73.51871143995417,\n        \"min\": 0.0,\n        \"max\": 654.5,\n        \"num_unique_values\": 546,\n        \"samples\": [\n          241.42857142857144,\n          250.75,\n          325.42857142857144\n        ],\n        \"semantic_type\": \"\",\n        \"description\": \"\"\n      }\n    },\n    {\n      \"column\": \"P_TAU/T_TAU\",\n      \"properties\": {\n        \"dtype\": \"number\",\n        \"std\": 0.006879831605159055,\n        \"min\": 0.06583885209713025,\n        \"max\": 0.1311731262309093,\n        \"num_unique_values\": 640,\n        \"samples\": [\n          0.09542198691996262,\n          0.0854979511847497,\n          0.08030187962787165\n        ],\n        \"semantic_type\": \"\",\n        \"description\": \"\"\n      }\n    },\n    {\n      \"column\": \"P_TAU/ABETA42\",\n      \"properties\": {\n        \"dtype\": \"number\",\n        \"std\": 0.013529075539462275,\n        \"min\": 0.0081010338960869,\n        \"max\": 0.1850700674004752,\n        \"num_unique_values\": 641,\n        \"samples\": [\n          0.013046197296752068,\n          0.019061106539337458,\n          0.01921453640765916\n        ],\n        \"semantic_type\": \"\",\n        \"description\": \"\"\n      }\n    },\n    {\n      \"column\": \"T_TAU/ABETA42\",\n      \"properties\": {\n        \"dtype\": \"number\",\n        \"std\": 0.12792479547941268,\n        \"min\": 0.10629446001293384,\n        \"max\": 1.4328026327492664,\n        \"num_unique_values\": 641,\n        \"samples\": [\n          0.13127899939479523,\n          0.21637035194151535,\n          0.22954373806033138\n        ],\n        \"semantic_type\": \"\",\n        \"description\": \"\"\n      }\n    },\n    {\n      \"column\": \"ABETA42/A_SYN\",\n      \"properties\": {\n        \"dtype\": \"number\",\n        \"std\": 0.18631923362959663,\n        \"min\": 0.08793967883988141,\n        \"max\": 1.373618868752896,\n        \"num_unique_values\": 641,\n        \"samples\": [\n          0.6177639859921985,\n          0.49021962454616236,\n          0.6836654112501521\n        ],\n        \"semantic_type\": \"\",\n        \"description\": \"\"\n      }\n    },\n    {\n      \"column\": \"P_TAU/A_SYN\",\n      \"properties\": {\n        \"dtype\": \"number\",\n        \"std\": 0.00202730484529072,\n        \"min\": 0.0036187062354118035,\n        \"max\": 0.019671176394794487,\n        \"num_unique_values\": 641,\n        \"samples\": [\n          0.008059470844082203,\n          0.009344128491148409,\n          0.01313631393512332\n        ],\n        \"semantic_type\": \"\",\n        \"description\": \"\"\n      }\n    },\n    {\n      \"column\": \"T_TAU/A_SYN\",\n      \"properties\": {\n        \"dtype\": \"number\",\n        \"std\": 0.02259187490841384,\n        \"min\": 0.04365158359492637,\n        \"max\": 0.20689533613001024,\n        \"num_unique_values\": 641,\n        \"samples\": [\n          0.08109943794319611,\n          0.10606899269169068,\n          0.15693111408091365\n        ],\n        \"semantic_type\": \"\",\n        \"description\": \"\"\n      }\n    },\n    {\n      \"column\": \"STATUS\",\n      \"properties\": {\n        \"dtype\": \"number\",\n        \"std\": 0,\n        \"min\": 0,\n        \"max\": 1,\n        \"num_unique_values\": 2,\n        \"samples\": [\n          0,\n          1\n        ],\n        \"semantic_type\": \"\",\n        \"description\": \"\"\n      }\n    }\n  ]\n}"
            }
          },
          "metadata": {},
          "execution_count": 9
        }
      ],
      "source": [
        "cols = ['ABETA42', 'A_SYN', 'P_TAU', 'T_TAU', 'URATE', \"P_TAU/T_TAU\",\t\"P_TAU/ABETA42\", \"T_TAU/ABETA42\",\t\"ABETA42/A_SYN\", \"P_TAU/A_SYN\", \"T_TAU/A_SYN\",'STATUS']\n",
        "df = df[cols]\n",
        "df.head()"
      ]
    },
    {
      "cell_type": "code",
      "source": [
        "location = \"/content/gdrive/My Drive/Colab Notebooks/MultiModal_PD/Biospecimen/\""
      ],
      "metadata": {
        "id": "deAHTBL1g0-3"
      },
      "execution_count": null,
      "outputs": []
    },
    {
      "cell_type": "markdown",
      "metadata": {
        "id": "nieGBdEp3hFV"
      },
      "source": [
        "# **XGBoost Feature Selection**\n",
        "\n",
        "---"
      ]
    },
    {
      "cell_type": "code",
      "execution_count": null,
      "metadata": {
        "colab": {
          "base_uri": "https://localhost:8080/"
        },
        "id": "Y7MiiCrH3k5a",
        "outputId": "73c5accc-b2fe-43a2-ee28-24dce9d85900"
      },
      "outputs": [
        {
          "output_type": "stream",
          "name": "stdout",
          "text": [
            "641\n"
          ]
        }
      ],
      "source": [
        "print(len(df))\n",
        "\n",
        "input_columns=len(df.columns)-1\n",
        "output_columns=1\n",
        "\n",
        "X = df.iloc[:, 0:input_columns]\n",
        "y = df.iloc[:, -1]"
      ]
    },
    {
      "cell_type": "code",
      "execution_count": null,
      "metadata": {
        "colab": {
          "base_uri": "https://localhost:8080/",
          "height": 848
        },
        "id": "Eklb1J1z3k0O",
        "outputId": "d9f88030-417c-41ef-ccb4-3742a4f1c4ef"
      },
      "outputs": [
        {
          "output_type": "stream",
          "name": "stdout",
          "text": [
            "11\n",
            "P_TAU/T_TAU      0.115735\n",
            "A_SYN            0.110195\n",
            "T_TAU            0.096917\n",
            "URATE            0.093837\n",
            "ABETA42          0.093027\n",
            "ABETA42/A_SYN    0.086130\n",
            "T_TAU/A_SYN      0.085674\n",
            "P_TAU/A_SYN      0.085190\n",
            "T_TAU/ABETA42    0.084942\n",
            "P_TAU            0.075176\n",
            "P_TAU/ABETA42    0.073177\n",
            "dtype: float32\n"
          ]
        },
        {
          "output_type": "display_data",
          "data": {
            "text/plain": [
              "<Figure size 1800x600 with 1 Axes>"
            ],
            "image/png": "[encoded data removed]"
          },
          "metadata": {}
        }
      ],
      "source": [
        "xgb_clf = xgb.XGBClassifier()\n",
        "xgb_clf.fit(X, y)\n",
        "\n",
        "feature_imp = pd.Series(xgb_clf.feature_importances_, index=X.columns).sort_values(ascending=False)\n",
        "print(len(feature_imp[feature_imp>0]))\n",
        "print(feature_imp[feature_imp>0])\n",
        "\n",
        "feature_imp.sort_values().tail(30).plot(kind = 'bar', figsize = (18,6))\n",
        "plt.title(\"Visualizing Important Features - XGBoost (Biospecimen)\")\n",
        "plt.show()\n",
        "\n",
        "feaSel_xgb = list(feature_imp[feature_imp>0].index)"
      ]
    },
    {
      "cell_type": "code",
      "execution_count": null,
      "metadata": {
        "id": "rdXvJKjR348S"
      },
      "outputs": [],
      "source": [
        "file = location + \"feaSel_xgb_Biospec.txt\"\n",
        "with open(file, 'w') as file:\n",
        "        for row in feaSel_xgb:\n",
        "            s = \"\".join(map(str, row))\n",
        "            file.write(s+'\\n')"
      ]
    },
    {
      "cell_type": "markdown",
      "metadata": {
        "id": "7dtltvBgZq2k"
      },
      "source": [
        "# **ML Models**\n",
        "\n",
        "---\n",
        "\n"
      ]
    },
    {
      "cell_type": "code",
      "execution_count": null,
      "metadata": {
        "colab": {
          "base_uri": "https://localhost:8080/"
        },
        "id": "m08Hf_-ddfzt",
        "outputId": "95b49f6c-60d3-469e-bd6a-c0c7d96e35be"
      },
      "outputs": [
        {
          "output_type": "stream",
          "name": "stdout",
          "text": [
            "641\n"
          ]
        }
      ],
      "source": [
        "df = df.sample(frac=1).reset_index(drop=True)\n",
        "print(len(df))\n",
        "\n",
        "input_columns = 5\n",
        "output_columns = 1"
      ]
    },
    {
      "cell_type": "code",
      "execution_count": null,
      "metadata": {
        "colab": {
          "base_uri": "https://localhost:8080/"
        },
        "id": "T6Zk4_PiZteA",
        "outputId": "68f22d57-50bc-4788-9705-57b5f029ce06"
      },
      "outputs": [
        {
          "output_type": "stream",
          "name": "stdout",
          "text": [
            "512 129\n"
          ]
        }
      ],
      "source": [
        "train_length = int(0.8*len(df))\n",
        "test_length = int(0.2*len(df))+1\n",
        "print(train_length, test_length)"
      ]
    },
    {
      "cell_type": "code",
      "execution_count": null,
      "metadata": {
        "id": "wjV1oIveZtS1"
      },
      "outputs": [],
      "source": [
        "# dataset = df.values\n",
        "X = df.iloc[:train_length,0:input_columns]\n",
        "y = df.iloc[:train_length, -1]\n",
        "\n",
        "X_test = df.iloc[train_length: (train_length + test_length), 0:input_columns]\n",
        "y_test = df.iloc[train_length: (train_length + test_length), -1]"
      ]
    },
    {
      "cell_type": "code",
      "source": [
        "train_data_file = location + 'train_data.pkl'\n",
        "test_data_file = location + 'test_data.pkl'\n",
        "\n",
        "# Save training data\n",
        "with open(train_data_file, 'wb') as f:\n",
        "    pickle.dump((X, y), f)\n",
        "\n",
        "# Save test data\n",
        "with open(test_data_file, 'wb') as f:\n",
        "    pickle.dump((X_test, y_test), f)"
      ],
      "metadata": {
        "id": "OQO-GN9Gu6tu"
      },
      "execution_count": null,
      "outputs": []
    },
    {
      "cell_type": "code",
      "execution_count": null,
      "metadata": {
        "colab": {
          "base_uri": "https://localhost:8080/",
          "height": 582
        },
        "id": "G7NQBPdkZtJQ",
        "outputId": "eddb7d59-e68a-4509-9fba-f713e040f91a"
      },
      "outputs": [
        {
          "output_type": "stream",
          "name": "stdout",
          "text": [
            "Train Data distribtuion:\n",
            "STATUS\n",
            "PD    362\n",
            "HC    150\n",
            "Name: count, dtype: int64\n"
          ]
        },
        {
          "output_type": "execute_result",
          "data": {
            "text/plain": [
              "<Axes: title={'center': 'Train Data class histogram'}, xlabel='STATUS', ylabel='Frequency'>"
            ]
          },
          "metadata": {},
          "execution_count": 17
        },
        {
          "output_type": "display_data",
          "data": {
            "text/plain": [
              "<Figure size 640x480 with 1 Axes>"
            ],
            "image/png": "[encoded data removed]"
          },
          "metadata": {}
        }
      ],
      "source": [
        "# Train data distribution\n",
        "count_classes = y.replace({0:\"HC\", 1:\"PD\"}).value_counts()\n",
        "print(\"Train Data distribtuion:\")\n",
        "print(count_classes)\n",
        "plt.title(\"Train Data class histogram\")\n",
        "plt.xlabel(\"Class\")\n",
        "plt.ylabel(\"Frequency\")\n",
        "count_classes.plot(kind = 'bar')"
      ]
    },
    {
      "cell_type": "code",
      "execution_count": null,
      "metadata": {
        "colab": {
          "base_uri": "https://localhost:8080/",
          "height": 582
        },
        "id": "O1C4mRFJZs-o",
        "outputId": "ff956b4d-12ad-49bd-9cd2-ecdbd7c5b852"
      },
      "outputs": [
        {
          "output_type": "stream",
          "name": "stdout",
          "text": [
            "Test Data distribtuion:\n",
            "STATUS\n",
            "PD    94\n",
            "HC    35\n",
            "Name: count, dtype: int64\n"
          ]
        },
        {
          "output_type": "execute_result",
          "data": {
            "text/plain": [
              "<Axes: title={'center': 'Test Data class histogram'}, xlabel='STATUS', ylabel='Frequency'>"
            ]
          },
          "metadata": {},
          "execution_count": 18
        },
        {
          "output_type": "display_data",
          "data": {
            "text/plain": [
              "<Figure size 640x480 with 1 Axes>"
            ],
            "image/png": "[encoded data removed]"
          },
          "metadata": {}
        }
      ],
      "source": [
        "# Test data distribution\n",
        "count_classes = y_test.replace({0:\"HC\", 1:\"PD\"}).value_counts()\n",
        "print(\"Test Data distribtuion:\")\n",
        "print(count_classes)\n",
        "plt.title(\"Test Data class histogram\")\n",
        "plt.xlabel(\"Class\")\n",
        "plt.ylabel(\"Frequency\")\n",
        "count_classes.plot(kind = 'bar')"
      ]
    },
    {
      "cell_type": "code",
      "execution_count": null,
      "metadata": {
        "id": "h1MONZ49Z51V"
      },
      "outputs": [],
      "source": [
        "scalarX = MinMaxScaler() # Normalising\n",
        "scalarX.fit(X)\n",
        "\n",
        "X = scalarX.transform(X)\n",
        "X_test = scalarX.transform(X_test)"
      ]
    },
    {
      "cell_type": "code",
      "source": [
        "from sklearn.metrics import make_scorer\n",
        "\n",
        "def custom_scorer(y_true, y_pred):\n",
        "    f1_neg = f1_score(y_true, y_pred, pos_label=0)\n",
        "    f1_pos = f1_score(y_true, y_pred, pos_label=1)\n",
        "    return (f1_neg + f1_pos) / 2\n",
        "\n",
        "custom_scorer = make_scorer(custom_scorer)"
      ],
      "metadata": {
        "id": "a-JUSOuCEH4q"
      },
      "execution_count": null,
      "outputs": []
    },
    {
      "cell_type": "markdown",
      "metadata": {
        "id": "L1ypo8-mZ88H"
      },
      "source": [
        "## **Random Forest**\n",
        "\n",
        "---"
      ]
    },
    {
      "cell_type": "code",
      "execution_count": null,
      "metadata": {
        "colab": {
          "base_uri": "https://localhost:8080/"
        },
        "id": "LKkoXLD8Z8tf",
        "outputId": "4a965431-d84d-4eb0-83c9-fca987574cce"
      },
      "outputs": [
        {
          "output_type": "stream",
          "name": "stdout",
          "text": [
            "\n",
            "Starting randomized search\n",
            "\n",
            "Fitting 5 folds for each of 250 candidates, totalling 1250 fits\n"
          ]
        },
        {
          "output_type": "stream",
          "name": "stderr",
          "text": [
            "/usr/local/lib/python3.10/dist-packages/sklearn/model_selection/_validation.py:540: FitFailedWarning: \n",
            "565 fits failed out of a total of 1250.\n",
            "The score on these train-test partitions for these parameters will be set to nan.\n",
            "If these failures are not expected, you can try to debug them by setting error_score='raise'.\n",
            "\n",
            "Below are more details about the failures:\n",
            "--------------------------------------------------------------------------------\n",
            "195 fits failed with the following error:\n",
            "Traceback (most recent call last):\n",
            "  File \"/usr/local/lib/python3.10/dist-packages/sklearn/model_selection/_validation.py\", line 888, in _fit_and_score\n",
            "    estimator.fit(X_train, y_train, **fit_params)\n",
            "  File \"/usr/local/lib/python3.10/dist-packages/sklearn/base.py\", line 1466, in wrapper\n",
            "    estimator._validate_params()\n",
            "  File \"/usr/local/lib/python3.10/dist-packages/sklearn/base.py\", line 666, in _validate_params\n",
            "    validate_parameter_constraints(\n",
            "  File \"/usr/local/lib/python3.10/dist-packages/sklearn/utils/_param_validation.py\", line 95, in validate_parameter_constraints\n",
            "    raise InvalidParameterError(\n",
            "sklearn.utils._param_validation.InvalidParameterError: The 'min_samples_leaf' parameter of RandomForestClassifier must be an int in the range [1, inf) or a float in the range (0.0, 1.0). Got 0 instead.\n",
            "\n",
            "--------------------------------------------------------------------------------\n",
            "50 fits failed with the following error:\n",
            "Traceback (most recent call last):\n",
            "  File \"/usr/local/lib/python3.10/dist-packages/sklearn/model_selection/_validation.py\", line 888, in _fit_and_score\n",
            "    estimator.fit(X_train, y_train, **fit_params)\n",
            "  File \"/usr/local/lib/python3.10/dist-packages/sklearn/base.py\", line 1466, in wrapper\n",
            "    estimator._validate_params()\n",
            "  File \"/usr/local/lib/python3.10/dist-packages/sklearn/base.py\", line 666, in _validate_params\n",
            "    validate_parameter_constraints(\n",
            "  File \"/usr/local/lib/python3.10/dist-packages/sklearn/utils/_param_validation.py\", line 95, in validate_parameter_constraints\n",
            "    raise InvalidParameterError(\n",
            "sklearn.utils._param_validation.InvalidParameterError: The 'max_features' parameter of RandomForestClassifier must be an int in the range [1, inf), a float in the range (0.0, 1.0], a str among {'log2', 'sqrt'} or None. Got 'auto' instead.\n",
            "\n",
            "--------------------------------------------------------------------------------\n",
            "215 fits failed with the following error:\n",
            "Traceback (most recent call last):\n",
            "  File \"/usr/local/lib/python3.10/dist-packages/sklearn/model_selection/_validation.py\", line 888, in _fit_and_score\n",
            "    estimator.fit(X_train, y_train, **fit_params)\n",
            "  File \"/usr/local/lib/python3.10/dist-packages/sklearn/base.py\", line 1466, in wrapper\n",
            "    estimator._validate_params()\n",
            "  File \"/usr/local/lib/python3.10/dist-packages/sklearn/base.py\", line 666, in _validate_params\n",
            "    validate_parameter_constraints(\n",
            "  File \"/usr/local/lib/python3.10/dist-packages/sklearn/utils/_param_validation.py\", line 95, in validate_parameter_constraints\n",
            "    raise InvalidParameterError(\n",
            "sklearn.utils._param_validation.InvalidParameterError: The 'min_samples_split' parameter of RandomForestClassifier must be an int in the range [2, inf) or a float in the range (0.0, 1.0]. Got 1 instead.\n",
            "\n",
            "--------------------------------------------------------------------------------\n",
            "105 fits failed with the following error:\n",
            "Traceback (most recent call last):\n",
            "  File \"/usr/local/lib/python3.10/dist-packages/sklearn/model_selection/_validation.py\", line 888, in _fit_and_score\n",
            "    estimator.fit(X_train, y_train, **fit_params)\n",
            "  File \"/usr/local/lib/python3.10/dist-packages/sklearn/base.py\", line 1466, in wrapper\n",
            "    estimator._validate_params()\n",
            "  File \"/usr/local/lib/python3.10/dist-packages/sklearn/base.py\", line 666, in _validate_params\n",
            "    validate_parameter_constraints(\n",
            "  File \"/usr/local/lib/python3.10/dist-packages/sklearn/utils/_param_validation.py\", line 95, in validate_parameter_constraints\n",
            "    raise InvalidParameterError(\n",
            "sklearn.utils._param_validation.InvalidParameterError: The 'max_features' parameter of RandomForestClassifier must be an int in the range [1, inf), a float in the range (0.0, 1.0], a str among {'sqrt', 'log2'} or None. Got 'auto' instead.\n",
            "\n",
            "  warnings.warn(some_fits_failed_message, FitFailedWarning)\n",
            "/usr/local/lib/python3.10/dist-packages/numpy/ma/core.py:2820: RuntimeWarning: invalid value encountered in cast\n",
            "  _data = np.array(data, dtype=dtype, copy=copy,\n",
            "/usr/local/lib/python3.10/dist-packages/sklearn/model_selection/_search.py:1103: UserWarning: One or more of the test scores are non-finite: [       nan 0.22967591 0.48442514 0.32787062        nan        nan\n",
            " 0.30041803 0.2987832  0.38990981        nan 0.34557479        nan\n",
            "        nan 0.2265892         nan 0.23626926        nan        nan\n",
            "        nan        nan        nan 0.25937774 0.53226516 0.55464769\n",
            " 0.53834685 0.55103137 0.40779002 0.51321333        nan 0.37075797\n",
            "        nan 0.56286397        nan        nan 0.24184308        nan\n",
            "        nan 0.54613971 0.2265892         nan 0.50612893 0.23873299\n",
            "        nan        nan 0.55253756        nan 0.29625112 0.41094762\n",
            "        nan 0.55071866 0.56129522        nan        nan        nan\n",
            " 0.55215947 0.33968501        nan 0.5409736         nan        nan\n",
            "        nan        nan 0.51986514        nan 0.28554798 0.52121969\n",
            "        nan 0.5699948  0.25392948 0.30197335 0.37261816        nan\n",
            " 0.48801335 0.57163151 0.29160583        nan        nan 0.31425866\n",
            " 0.51801436 0.51125132        nan        nan 0.2265892  0.47631985\n",
            " 0.2265892  0.2265892         nan 0.25824911 0.55824562        nan\n",
            "        nan 0.51017009 0.2732103  0.33586689        nan 0.55567741\n",
            "        nan        nan 0.53540679 0.2265892         nan        nan\n",
            "        nan 0.23564628 0.47157448 0.53682311 0.30612114 0.2265892\n",
            " 0.35521918 0.33534139        nan        nan 0.53190192 0.54279182\n",
            "        nan 0.2797059  0.48864848        nan        nan 0.47211994\n",
            " 0.56769108        nan 0.54270631        nan        nan 0.44357524\n",
            " 0.29544659        nan        nan 0.53055419 0.52225766        nan\n",
            " 0.56750958 0.2265892         nan        nan 0.53888173 0.44190464\n",
            " 0.2265892  0.52419349        nan        nan 0.4948172  0.34708734\n",
            " 0.38985747 0.55843921        nan 0.54038796 0.38341316 0.54815875\n",
            "        nan        nan        nan        nan 0.50955991 0.49379205\n",
            "        nan 0.43211528        nan        nan        nan        nan\n",
            " 0.3647907         nan 0.48324108 0.29436068 0.53371348        nan\n",
            " 0.55157473 0.22967591 0.54659184        nan        nan 0.52233522\n",
            " 0.50404056 0.51943337 0.52195422 0.38063261 0.23873299 0.5713455\n",
            "        nan        nan 0.2265892  0.54048795 0.38470596 0.54807429\n",
            " 0.29338638        nan 0.3848195         nan 0.54250681        nan\n",
            "        nan        nan 0.55563609 0.50848558        nan 0.48476504\n",
            "        nan 0.38898491        nan 0.57122913 0.46838638        nan\n",
            "        nan 0.55259453 0.23434189 0.31328204        nan 0.55155621\n",
            " 0.54129915 0.29220926 0.51921546        nan        nan        nan\n",
            "        nan 0.2404466         nan        nan        nan 0.53670435\n",
            " 0.35533392        nan        nan        nan        nan 0.2265892\n",
            "        nan 0.55875683        nan        nan 0.54038796        nan\n",
            " 0.2702039  0.54457483 0.34316929        nan 0.2265892         nan\n",
            "        nan        nan        nan 0.27014523        nan 0.36735229\n",
            "        nan        nan 0.47953022        nan]\n",
            "  warnings.warn(\n",
            "/usr/local/lib/python3.10/dist-packages/sklearn/model_selection/_search.py:1103: UserWarning: One or more of the train scores are non-finite: [       nan 0.22735918 0.60122174 0.37190949        nan        nan\n",
            " 0.34090714 0.32930966 0.45654502        nan 0.39207054        nan\n",
            "        nan 0.2265863         nan 0.2423552         nan        nan\n",
            "        nan        nan        nan 0.28525619 0.56802488 0.59182632\n",
            " 0.60721827 0.6266947  0.49618951 0.69092525        nan 0.44005816\n",
            "        nan 0.60687716        nan        nan 0.25006212        nan\n",
            "        nan 0.66138257 0.2265863         nan 0.57917903 0.2482523\n",
            "        nan        nan 0.62218536        nan 0.30501773 0.5025771\n",
            "        nan 0.6057684  0.71148436        nan        nan        nan\n",
            " 0.60889454 0.36395674        nan 0.58563269        nan        nan\n",
            "        nan        nan 0.6721022         nan 0.29435059 0.5821744\n",
            "        nan 0.71363588 0.26046074 0.33641045 0.42178972        nan\n",
            " 0.57623336 0.59481423 0.33538667        nan        nan 0.37046547\n",
            " 0.55655207 0.69672714        nan        nan 0.2265863  0.52855996\n",
            " 0.2265863  0.2265863         nan 0.25392533 0.68310495        nan\n",
            "        nan 0.59025196 0.28142064 0.41781106        nan 0.61868518\n",
            "        nan        nan 0.64182013 0.2265863         nan        nan\n",
            "        nan 0.23115886 0.55971824 0.59235361 0.34280635 0.2265863\n",
            " 0.4282879  0.37553167        nan        nan 0.56953276 0.63392501\n",
            "        nan 0.29917533 0.59738726        nan        nan 0.54942523\n",
            " 0.7389873         nan 0.5851967         nan        nan 0.49726679\n",
            " 0.32408337        nan        nan 0.67972524 0.60718029        nan\n",
            " 0.64263367 0.2265863         nan        nan 0.59080206 0.5893567\n",
            " 0.2265863  0.5659667         nan        nan 0.58040858 0.39431464\n",
            " 0.44680944 0.60593284        nan 0.59080206 0.45683886 0.57106479\n",
            "        nan        nan        nan        nan 0.56674906 0.65432332\n",
            "        nan 0.54852321        nan        nan        nan        nan\n",
            " 0.39492504        nan 0.58600126 0.31195246 0.7209627         nan\n",
            " 0.69013741 0.23572546 0.64656056        nan        nan 0.67355926\n",
            " 0.70172919 0.53859709 0.56774728 0.43758625 0.24932358 0.59710346\n",
            "        nan        nan 0.2265863  0.63026419 0.49305533 0.71325945\n",
            " 0.31878607        nan 0.44833208        nan 0.60526169        nan\n",
            "        nan        nan 0.75658778 0.62414242        nan 0.54520039\n",
            "        nan 0.403821          nan 0.60644986 0.61366535        nan\n",
            "        nan 0.61606952 0.24533697 0.34538986        nan 0.57498419\n",
            " 0.59463323 0.31951057 0.61819236        nan        nan        nan\n",
            "        nan 0.25345557        nan        nan        nan 0.71235624\n",
            " 0.39596831        nan        nan        nan        nan 0.2265863\n",
            "        nan 0.63217561        nan        nan 0.59080206        nan\n",
            " 0.27758559 0.66546992 0.39596917        nan 0.2265863         nan\n",
            "        nan        nan        nan 0.27653476        nan 0.40434838\n",
            "        nan        nan 0.62813736        nan]\n",
            "  warnings.warn(\n"
          ]
        },
        {
          "output_type": "stream",
          "name": "stdout",
          "text": [
            "RandomForestClassifier(bootstrap=False,\n",
            "                       class_weight={0: 0.7353061224489796,\n",
            "                                     1: 0.26469387755102036},\n",
            "                       criterion='entropy', max_depth=1, max_features=4,\n",
            "                       n_estimators=180)\n",
            "{'bootstrap': False,\n",
            " 'class_weight': {0: 0.7353061224489796, 1: 0.26469387755102036},\n",
            " 'criterion': 'entropy',\n",
            " 'max_depth': 1,\n",
            " 'max_features': 4,\n",
            " 'min_samples_leaf': 1,\n",
            " 'min_samples_split': 2,\n",
            " 'n_estimators': 180,\n",
            " 'warm_start': False}\n",
            "\n",
            "Saving model\n",
            "\n"
          ]
        }
      ],
      "source": [
        "clf = RandomForestClassifier()\n",
        "\n",
        "# # Parameters used by our current forest\n",
        "# print('Parameters initial\\n')\n",
        "# pprint(clf.get_params())\n",
        "\n",
        "#Setting the range for class weights\n",
        "weights = np.linspace(0.6,0.99,50)\n",
        "\n",
        "\n",
        "# specify parameters and distributions to sample from\n",
        "hp = {\n",
        "    'bootstrap': [True, False],\n",
        "      'criterion': ['gini', 'entropy'],\n",
        "      'n_estimators': [10, 25],\n",
        "      'max_features': [5, 10],\n",
        "      'max_depth': [10, 50, None],\n",
        "      'max_depth': np.arange(1, 5, 1),\n",
        "      'max_features': ['auto', 'sqrt', 'log2', 1, 2, 3, 4, 5],\n",
        "      'min_samples_leaf': [0, 1, 2, 3, 4, 5],\n",
        "      'min_samples_split': [1, 2, 5, 10],\n",
        "      'n_estimators': np.arange(10, 200, 10),\n",
        "      'warm_start': [True, False],\n",
        "      'class_weight': [{0:x, 1:1.0-x} for x in weights]\n",
        "      }\n",
        "# pprint(hp)\n",
        "\n",
        "# run randomized search\n",
        "print(\"\\nStarting randomized search\\n\")\n",
        "n_iter_search = 250\n",
        "n_jobs_val = -1\n",
        "random_search = RandomizedSearchCV(clf,\n",
        "                                    param_distributions=hp,\n",
        "                                    n_iter=n_iter_search,\n",
        "                                    cv=StratifiedKFold(),\n",
        "                                    verbose = 5,\n",
        "                                    scoring=custom_scorer,\n",
        "                                    return_train_score = True,\n",
        "                                    n_jobs = n_jobs_val)\n",
        "\n",
        "#Train the model using the training sets y_pred=clf.predict(X_test)\n",
        "random_search.fit(X,y)\n",
        "\n",
        "pprint(random_search.best_estimator_)\n",
        "pprint(random_search.best_params_)\n",
        "pd.DataFrame(random_search.cv_results_)\n",
        "\n",
        "print(\"\\nSaving model\\n\")\n",
        "\n",
        "clf = random_search.best_estimator_\n",
        "\n",
        "#Train the model using the training sets y_pred=clf.predict(X_test)\n",
        "clf.fit(X,y)\n",
        "\n",
        "# save the model to disk\n",
        "filename = location + 'biospec_RF' + '.sav'\n",
        "pickle.dump(clf, open(filename, 'wb'))"
      ]
    },
    {
      "cell_type": "code",
      "execution_count": null,
      "metadata": {
        "colab": {
          "base_uri": "https://localhost:8080/",
          "height": 673
        },
        "id": "KxspTcYRZ8oh",
        "outputId": "73aad6fe-bacd-4809-d9fc-c7b9d09e9fb3"
      },
      "outputs": [
        {
          "output_type": "stream",
          "name": "stdout",
          "text": [
            "AUC-ROC =  0.6466565349544073\n",
            "AUC-PR =  0.8017446711490138\n",
            "F1 score =  0.7160493827160493\n",
            "Precision =  0.8529411764705882\n",
            "Recall =  0.6170212765957447\n",
            "              precision    recall  f1-score   support\n",
            "\n",
            "           0       0.41      0.71      0.52        35\n",
            "           1       0.85      0.62      0.72        94\n",
            "\n",
            "    accuracy                           0.64       129\n",
            "   macro avg       0.63      0.67      0.62       129\n",
            "weighted avg       0.73      0.64      0.66       129\n",
            "\n"
          ]
        },
        {
          "output_type": "display_data",
          "data": {
            "text/plain": [
              "<Figure size 640x480 with 2 Axes>"
            ],
            "image/png": "[encoded data removed]"
          },
          "metadata": {}
        }
      ],
      "source": [
        "# load the model from disk\n",
        "filename = location + 'biospec_RF' + '.sav'\n",
        "clf = pickle.load(open(filename, 'rb'))\n",
        "clf_rf = clf\n",
        "\n",
        "\n",
        "y_pred = clf_rf.predict(X_test)\n",
        "y_pred_proba = clf_rf.predict_proba(X_test)[:,1]\n",
        "\n",
        "print(\"AUC-ROC = \", roc_auc_score(y_test, y_pred_proba))\n",
        "print(\"AUC-PR = \", average_precision_score(y_test, y_pred_proba))\n",
        "print(\"F1 score = \", f1_score(y_test, y_pred))\n",
        "print(\"Precision = \", precision_score(y_test, y_pred))\n",
        "print(\"Recall = \", recall_score(y_test, y_pred))\n",
        "print(classification_report(y_test, y_pred))\n",
        "\n",
        "#Ploting the confusion matrix\n",
        "cf_matrix = confusion_matrix(y_test, y_pred)\n",
        "sns.heatmap(cf_matrix, annot=True)\n",
        "plt.show()"
      ]
    },
    {
      "cell_type": "code",
      "execution_count": null,
      "metadata": {
        "colab": {
          "base_uri": "https://localhost:8080/",
          "height": 472
        },
        "id": "h1fF0fobZ8kw",
        "outputId": "794abf9f-6d3b-46eb-b237-ca73ad7e9c54"
      },
      "outputs": [
        {
          "output_type": "display_data",
          "data": {
            "text/plain": [
              "<Figure size 640x480 with 1 Axes>"
            ],
            "image/png": "[encoded data removed]"
          },
          "metadata": {}
        }
      ],
      "source": [
        "ax = plt.gca()\n",
        "X_list = [X, X_test]\n",
        "y_list = [y, y_test]\n",
        "name_list = [\"Train\", \"Test\"]\n",
        "\n",
        "for i in range(2):\n",
        "    RocCurveDisplay.from_estimator(clf_rf, X_list[i], y_list[i], name=name_list[i], ax=ax)\n",
        "plt.plot([0,1],[0,1],'g--')\n",
        "plt.legend()\n",
        "plt.xlabel(\"True Positive Rate\")\n",
        "plt.ylabel(\"False Positive Rate\")\n",
        "plt.title(\"AUC (ROC curve) - Random Forest\")\n",
        "plt.show()"
      ]
    },
    {
      "cell_type": "markdown",
      "metadata": {
        "id": "Ubovytchb69_"
      },
      "source": [
        "## **Gaussian Naive Bayes**\n",
        "\n",
        "---"
      ]
    },
    {
      "cell_type": "code",
      "execution_count": null,
      "metadata": {
        "colab": {
          "base_uri": "https://localhost:8080/"
        },
        "id": "qcg6-mwCZ8ge",
        "outputId": "5bd6532f-f0b9-4526-94eb-7bcb1ca5014c"
      },
      "outputs": [
        {
          "output_type": "stream",
          "name": "stdout",
          "text": [
            "\n",
            "Starting randomized search\n",
            "\n",
            "Fitting 5 folds for each of 50 candidates, totalling 250 fits\n"
          ]
        },
        {
          "output_type": "stream",
          "name": "stderr",
          "text": [
            "/usr/local/lib/python3.10/dist-packages/sklearn/model_selection/_search.py:320: UserWarning: The total space of parameters 50 is smaller than n_iter=200. Running 50 iterations. For exhaustive searches, use GridSearchCV.\n",
            "  warnings.warn(\n"
          ]
        },
        {
          "output_type": "stream",
          "name": "stdout",
          "text": [
            "GaussianNB(var_smoothing=0.12067926406393285)\n",
            "{'var_smoothing': 0.12067926406393285}\n",
            "\n",
            "Saving model\n",
            "\n"
          ]
        }
      ],
      "source": [
        "clf = GaussianNB()\n",
        "\n",
        "# # Parameters used by our current forest\n",
        "# print('Parameters initial\\n')\n",
        "# pprint(clf.get_params())\n",
        "\n",
        "# specify parameters and distributions to sample from\n",
        "hp = {'var_smoothing': np.logspace(0,-9, num=50)}\n",
        "# pprint(hp)\n",
        "\n",
        "# run randomized search\n",
        "print(\"\\nStarting randomized search\\n\")\n",
        "n_iter_search = 200\n",
        "n_jobs_val = -1\n",
        "random_search = RandomizedSearchCV(clf,\n",
        "                                    param_distributions=hp,\n",
        "                                    n_iter=n_iter_search,\n",
        "                                    cv=StratifiedKFold(),\n",
        "                                    verbose = 5,\n",
        "                                    scoring=custom_scorer,\n",
        "                                    return_train_score = True,\n",
        "                                    n_jobs = n_jobs_val)\n",
        "\n",
        "#Train the model using the training sets y_pred=clf.predict(X_test)\n",
        "random_search.fit(X,y)\n",
        "\n",
        "pprint(random_search.best_estimator_)\n",
        "pprint(random_search.best_params_)\n",
        "pd.DataFrame(random_search.cv_results_)\n",
        "\n",
        "print(\"\\nSaving model\\n\")\n",
        "\n",
        "clf = random_search.best_estimator_\n",
        "\n",
        "#Train the model using the training sets y_pred=clf.predict(X_test)\n",
        "clf.fit(X,y)\n",
        "\n",
        "# save the model to disk\n",
        "filename = location + 'biospec_GNB' + '.sav'\n",
        "pickle.dump(clf, open(filename, 'wb'))"
      ]
    },
    {
      "cell_type": "code",
      "execution_count": null,
      "metadata": {
        "colab": {
          "base_uri": "https://localhost:8080/",
          "height": 673
        },
        "id": "Qf2HK_ATZ8YQ",
        "outputId": "923a2d77-93f1-4c96-e4e7-f0cc5579065d"
      },
      "outputs": [
        {
          "output_type": "stream",
          "name": "stdout",
          "text": [
            "AUC-ROC =  0.6343465045592704\n",
            "AUC-PR =  0.8260744734622512\n",
            "F1 score =  0.8133971291866029\n",
            "Precision =  0.7391304347826086\n",
            "Recall =  0.9042553191489362\n",
            "              precision    recall  f1-score   support\n",
            "\n",
            "           0       0.36      0.14      0.20        35\n",
            "           1       0.74      0.90      0.81        94\n",
            "\n",
            "    accuracy                           0.70       129\n",
            "   macro avg       0.55      0.52      0.51       129\n",
            "weighted avg       0.64      0.70      0.65       129\n",
            "\n"
          ]
        },
        {
          "output_type": "display_data",
          "data": {
            "text/plain": [
              "<Figure size 640x480 with 2 Axes>"
            ],
            "image/png": "[encoded data removed]"
          },
          "metadata": {}
        }
      ],
      "source": [
        "# load the model from disk\n",
        "filename = location + 'biospec_GNB' + '.sav'\n",
        "clf = pickle.load(open(filename, 'rb'))\n",
        "clf_gnb = clf\n",
        "\n",
        "y_pred = clf_gnb.predict(X_test)\n",
        "y_pred_proba = clf_gnb.predict_proba(X_test)[:,1]\n",
        "\n",
        "print(\"AUC-ROC = \", roc_auc_score(y_test, y_pred_proba))\n",
        "print(\"AUC-PR = \", average_precision_score(y_test, y_pred_proba))\n",
        "print(\"F1 score = \", f1_score(y_test, y_pred))\n",
        "print(\"Precision = \", precision_score(y_test, y_pred))\n",
        "print(\"Recall = \", recall_score(y_test, y_pred))\n",
        "print(classification_report(y_test, y_pred))\n",
        "\n",
        "#Ploting the confusion matrix\n",
        "cf_matrix = confusion_matrix(y_test, y_pred)\n",
        "sns.heatmap(cf_matrix, annot=True)\n",
        "plt.show()"
      ]
    },
    {
      "cell_type": "code",
      "execution_count": null,
      "metadata": {
        "colab": {
          "base_uri": "https://localhost:8080/",
          "height": 472
        },
        "id": "7fV41HV2Z8O-",
        "outputId": "dad2ce26-7c03-4158-9de6-fecabfc09920"
      },
      "outputs": [
        {
          "output_type": "display_data",
          "data": {
            "text/plain": [
              "<Figure size 640x480 with 1 Axes>"
            ],
            "image/png": "[encoded data removed]"
          },
          "metadata": {}
        }
      ],
      "source": [
        "ax = plt.gca()\n",
        "X_list = [X, X_test]\n",
        "y_list = [y, y_test]\n",
        "name_list = [\"Train\", \"Test\"]\n",
        "\n",
        "for i in range(2):\n",
        "    RocCurveDisplay.from_estimator(clf_gnb, X_list[i], y_list[i], name=name_list[i], ax=ax)\n",
        "plt.plot([0,1],[0,1],'g--')\n",
        "plt.legend()\n",
        "plt.xlabel(\"True Positive Rate\")\n",
        "plt.ylabel(\"False Positive Rate\")\n",
        "plt.title(\"AUC (ROC curve) - Gaussian Naive Bayes\")\n",
        "plt.show()"
      ]
    },
    {
      "cell_type": "markdown",
      "metadata": {
        "id": "VlCCcqNCdNcb"
      },
      "source": [
        "## **SVM**\n",
        "\n",
        "---"
      ]
    },
    {
      "cell_type": "code",
      "execution_count": null,
      "metadata": {
        "colab": {
          "base_uri": "https://localhost:8080/"
        },
        "id": "m74Ss-w4dNQr",
        "outputId": "a36208f5-5dde-4a34-c143-3c25c836a6c0"
      },
      "outputs": [
        {
          "output_type": "stream",
          "name": "stdout",
          "text": [
            "\n",
            "Starting randomized search\n",
            "\n",
            "Fitting 5 folds for each of 200 candidates, totalling 1000 fits\n",
            "SVC(C=100, class_weight={0: 0.7273469387755102, 1: 0.27265306122448985},\n",
            "    gamma='auto', kernel='poly', probability=True, random_state=42,\n",
            "    shrinking=False)\n",
            "{'C': 100,\n",
            " 'class_weight': {0: 0.7273469387755102, 1: 0.27265306122448985},\n",
            " 'gamma': 'auto',\n",
            " 'kernel': 'poly',\n",
            " 'shrinking': False}\n",
            "\n",
            "Saving model\n",
            "\n"
          ]
        },
        {
          "output_type": "stream",
          "name": "stderr",
          "text": [
            "/usr/local/lib/python3.10/dist-packages/sklearn/model_selection/_validation.py:540: FitFailedWarning: \n",
            "70 fits failed out of a total of 1000.\n",
            "The score on these train-test partitions for these parameters will be set to nan.\n",
            "If these failures are not expected, you can try to debug them by setting error_score='raise'.\n",
            "\n",
            "Below are more details about the failures:\n",
            "--------------------------------------------------------------------------------\n",
            "70 fits failed with the following error:\n",
            "Traceback (most recent call last):\n",
            "  File \"/usr/local/lib/python3.10/dist-packages/sklearn/model_selection/_validation.py\", line 888, in _fit_and_score\n",
            "    estimator.fit(X_train, y_train, **fit_params)\n",
            "  File \"/usr/local/lib/python3.10/dist-packages/sklearn/base.py\", line 1466, in wrapper\n",
            "    estimator._validate_params()\n",
            "  File \"/usr/local/lib/python3.10/dist-packages/sklearn/base.py\", line 666, in _validate_params\n",
            "    validate_parameter_constraints(\n",
            "  File \"/usr/local/lib/python3.10/dist-packages/sklearn/utils/_param_validation.py\", line 95, in validate_parameter_constraints\n",
            "    raise InvalidParameterError(\n",
            "sklearn.utils._param_validation.InvalidParameterError: The 'C' parameter of SVC must be a float in the range (0.0, inf]. Got 0 instead.\n",
            "\n",
            "  warnings.warn(some_fits_failed_message, FitFailedWarning)\n",
            "/usr/local/lib/python3.10/dist-packages/sklearn/model_selection/_search.py:1103: UserWarning: One or more of the test scores are non-finite: [0.2265892  0.2265892  0.2265892  0.3543132  0.2265892         nan\n",
            " 0.51548613 0.54541858 0.235525   0.49822523 0.29963732 0.41418495\n",
            " 0.54570696 0.54159955 0.2265892  0.2248318  0.57362198 0.22664312\n",
            " 0.53656059 0.55651946 0.54060641 0.2265892  0.2265892  0.34892188\n",
            " 0.41418495 0.2265892  0.2265892  0.2521137  0.5582503  0.57898656\n",
            " 0.2265892  0.2265892  0.41418495 0.22963367 0.2265892  0.2265892\n",
            " 0.2265892  0.36984897        nan 0.23422987 0.37978981        nan\n",
            " 0.55215687 0.2265892  0.39405404 0.53283518 0.53462876 0.47038951\n",
            " 0.41418495 0.2265892  0.46455878 0.5576701  0.2265892  0.42111059\n",
            "        nan 0.2265892  0.2265892  0.2265892  0.41418495 0.2265892\n",
            " 0.4368687         nan 0.2265892  0.55496004 0.2265892  0.2265892\n",
            " 0.2265892  0.2265892  0.32021376 0.56177975 0.53663343 0.22541581\n",
            " 0.41418495 0.22541581 0.48313537 0.2265892  0.2265892         nan\n",
            " 0.2265892  0.41418495 0.35953168 0.2265892         nan 0.50046976\n",
            " 0.2265892  0.57317392 0.25237044 0.2265892  0.2265892  0.41418495\n",
            " 0.55857629 0.29482776 0.45263843 0.2265892  0.2265892  0.34760611\n",
            " 0.53664971 0.2265892  0.2265892         nan 0.41418495 0.2265892\n",
            " 0.2265892  0.2265892  0.2265892  0.2265892  0.55110561 0.2265892\n",
            " 0.2265892  0.25867148 0.41418495        nan 0.2265892  0.2265892\n",
            " 0.2265892         nan 0.2265892  0.2265892  0.2265892  0.2265892\n",
            " 0.51976544 0.2265892  0.55208864 0.2265892  0.32186327 0.41418495\n",
            " 0.2265892  0.2265892  0.2265892  0.43110742 0.2265892  0.44212196\n",
            " 0.42549688 0.22963367 0.54390531 0.22423608 0.2265892  0.53892419\n",
            " 0.22914408 0.41418495 0.2265892  0.2265892  0.2265892  0.41418495\n",
            " 0.2265892         nan 0.47095651 0.57066641 0.41418495 0.23573837\n",
            " 0.2265892  0.41418495 0.2265892  0.2265892  0.54020624 0.51693669\n",
            "        nan 0.2265892  0.2265892  0.55256875 0.52899115 0.4610323\n",
            "        nan 0.2265892  0.2265892  0.53319878 0.2265892  0.2265892\n",
            " 0.29559972 0.2265892         nan 0.51392724 0.54990273 0.26642151\n",
            " 0.47032387 0.2265892  0.4712657  0.2265892  0.2265892  0.2265892\n",
            " 0.2265892  0.2265892  0.41418495 0.41418495 0.41418495 0.2265892\n",
            " 0.56057856 0.2265892  0.2265892  0.53033678 0.2265892  0.2265892\n",
            " 0.23866588 0.2265892  0.41418495 0.2265892  0.41418495 0.2265892\n",
            " 0.39622495 0.55178761]\n",
            "  warnings.warn(\n",
            "/usr/local/lib/python3.10/dist-packages/sklearn/model_selection/_search.py:1103: UserWarning: One or more of the train scores are non-finite: [0.2265863  0.2265863  0.2265863  0.35978391 0.2265863         nan\n",
            " 0.6027609  0.55971233 0.2349757  0.52378342 0.33767417 0.41418747\n",
            " 0.54503756 0.55318073 0.2265863  0.22429353 0.59127175 0.22976405\n",
            " 0.57843518 0.57724657 0.66915411 0.2265863  0.2265863  0.35187192\n",
            " 0.41418747 0.2265863  0.2265863  0.25858401 0.59084275 0.58314518\n",
            " 0.2265863  0.2265863  0.41418747 0.2265863  0.2265863  0.2265863\n",
            " 0.2265863  0.42132469        nan 0.24130427 0.38474703        nan\n",
            " 0.55488924 0.2265863  0.39037369 0.65580083 0.54842115 0.47930412\n",
            " 0.41418747 0.2265863  0.48699476 0.55999388 0.2265863  0.4277592\n",
            "        nan 0.2265863  0.2265863  0.2265863  0.41418747 0.2265863\n",
            " 0.44676801        nan 0.2265863  0.57792183 0.22890057 0.2265863\n",
            " 0.2265863  0.2265863  0.32243802 0.58316995 0.67359606 0.23121582\n",
            " 0.41418747 0.23275557 0.49027343 0.2265863  0.2265863         nan\n",
            " 0.2265863  0.41418747 0.36358577 0.2265863         nan 0.56129187\n",
            " 0.2265863  0.63603286 0.25430591 0.2265863  0.2265863  0.41947527\n",
            " 0.60416628 0.35219108 0.46192139 0.2265863  0.2265863  0.41744091\n",
            " 0.69982421 0.2265863  0.2265863         nan 0.41418747 0.2265863\n",
            " 0.2265863  0.2265863  0.2265863  0.2265863  0.56280996 0.2265863\n",
            " 0.2265863  0.27941367 0.41418747        nan 0.2265863  0.2265863\n",
            " 0.2265863         nan 0.2265863  0.2265863  0.2265863  0.2265863\n",
            " 0.55855996 0.2265863  0.59666658 0.2265863  0.32009944 0.41418747\n",
            " 0.2265863  0.2265863  0.2265863  0.42788972 0.2265863  0.44135182\n",
            " 0.42592441 0.2265863  0.54981944 0.22424203 0.2265863  0.64220228\n",
            " 0.23659482 0.41418747 0.2265863  0.2265863  0.2265863  0.41418747\n",
            " 0.2265863         nan 0.57154106 0.61176552 0.41418747 0.23275996\n",
            " 0.2265863  0.41418747 0.2265863  0.2265863  0.70671461 0.62856163\n",
            "        nan 0.2265863  0.2265863  0.58405097 0.69044244 0.51511431\n",
            "        nan 0.2265863  0.2265863  0.70558162 0.2265863  0.2265863\n",
            " 0.29066883 0.2265863         nan 0.5742007  0.55110269 0.2660733\n",
            " 0.49319488 0.2265863  0.47930412 0.2265863  0.2265863  0.2265863\n",
            " 0.2265863  0.2265863  0.41418747 0.41950203 0.41418747 0.2265863\n",
            " 0.62544207 0.2265863  0.2265863  0.63667001 0.2265863  0.2265863\n",
            " 0.26862514 0.2265863  0.41418747 0.2265863  0.41418747 0.2265863\n",
            " 0.40322796 0.55975739]\n",
            "  warnings.warn(\n"
          ]
        }
      ],
      "source": [
        "clf = SVC(probability=True, random_state=42)\n",
        "\n",
        "# # Parameters used by our current forest\n",
        "# print('Parameters initial\\n')\n",
        "# pprint(clf.get_params())\n",
        "\n",
        "# specify parameters and distributions to sample from\n",
        "hp = {'C': [0.0001, 0.001, 0.01, 0.1, 0, 1, 10, 25, 50, 75, 100],\n",
        "      'kernel': ['linear', 'poly', 'rbf', 'sigmoid'],\n",
        "      'gamma': ['scale', 'auto'],\n",
        "      'shrinking': [True, False],\n",
        "      'class_weight': [{0:x, 1:1.0-x} for x in weights],\n",
        "      # 'decision_function_shape': ['ovo', 'ovr']\n",
        "      }\n",
        "# pprint(hp)\n",
        "\n",
        "# run randomized search\n",
        "print(\"\\nStarting randomized search\\n\")\n",
        "n_iter_search = 200\n",
        "n_jobs_val = -1\n",
        "random_search = RandomizedSearchCV(clf,\n",
        "                                    param_distributions=hp,\n",
        "                                    n_iter=n_iter_search,\n",
        "                                    cv=StratifiedKFold(),\n",
        "                                    verbose = 5,\n",
        "                                    scoring=custom_scorer,\n",
        "                                    return_train_score = True,\n",
        "                                    n_jobs = n_jobs_val)\n",
        "\n",
        "#Train the model using the training sets y_pred=clf.predict(X_test)\n",
        "random_search.fit(X,y)\n",
        "\n",
        "pprint(random_search.best_estimator_)\n",
        "pprint(random_search.best_params_)\n",
        "pd.DataFrame(random_search.cv_results_)\n",
        "\n",
        "print(\"\\nSaving model\\n\")\n",
        "\n",
        "clf = random_search.best_estimator_\n",
        "\n",
        "#Train the model using the training sets y_pred=clf.predict(X_test)\n",
        "clf.fit(X,y)\n",
        "\n",
        "# save the model to disk\n",
        "filename = location + 'biospec_SVM' + '.sav'\n",
        "pickle.dump(clf, open(filename, 'wb'))"
      ]
    },
    {
      "cell_type": "code",
      "execution_count": null,
      "metadata": {
        "colab": {
          "base_uri": "https://localhost:8080/",
          "height": 673
        },
        "id": "wc8Ib1ERdNM5",
        "outputId": "e4e29e56-ef1a-4b57-be18-9866f81f7b6f"
      },
      "outputs": [
        {
          "output_type": "stream",
          "name": "stdout",
          "text": [
            "AUC-ROC =  0.5361702127659574\n",
            "AUC-PR =  0.855409113400207\n",
            "F1 score =  0.803921568627451\n",
            "Precision =  0.7454545454545455\n",
            "Recall =  0.8723404255319149\n",
            "              precision    recall  f1-score   support\n",
            "\n",
            "           0       0.37      0.20      0.26        35\n",
            "           1       0.75      0.87      0.80        94\n",
            "\n",
            "    accuracy                           0.69       129\n",
            "   macro avg       0.56      0.54      0.53       129\n",
            "weighted avg       0.64      0.69      0.66       129\n",
            "\n"
          ]
        },
        {
          "output_type": "display_data",
          "data": {
            "text/plain": [
              "<Figure size 640x480 with 2 Axes>"
            ],
            "image/png": "[encoded data removed]"
          },
          "metadata": {}
        }
      ],
      "source": [
        "# load the model from disk\n",
        "filename = location + 'biospec_SVM' + '.sav'\n",
        "clf = pickle.load(open(filename, 'rb'))\n",
        "clf_svm = clf\n",
        "\n",
        "y_pred = clf_svm.predict(X_test)\n",
        "\n",
        "fpr, tpr, _ = roc_curve(y_test, y_pred)\n",
        "print(\"AUC-ROC = \", auc(fpr,tpr))\n",
        "prec, rec, thresholds = precision_recall_curve(y_test, y_pred)\n",
        "print(\"AUC-PR = \", auc(rec, prec))\n",
        "print(\"F1 score = \", f1_score(y_test, y_pred))\n",
        "print(\"Precision = \", precision_score(y_test, y_pred))\n",
        "print(\"Recall = \", recall_score(y_test, y_pred))\n",
        "print(classification_report(y_test, y_pred))\n",
        "\n",
        "\n",
        "#Ploting the confusion matrix\n",
        "cf_matrix = confusion_matrix(y_test, y_pred)\n",
        "sns.heatmap(cf_matrix, annot=True)\n",
        "plt.show()"
      ]
    },
    {
      "cell_type": "code",
      "execution_count": null,
      "metadata": {
        "colab": {
          "base_uri": "https://localhost:8080/",
          "height": 524
        },
        "id": "A0Ne44O6dNI1",
        "outputId": "72b6c323-7d88-46fb-aa1c-4fd45a25846d"
      },
      "outputs": [
        {
          "output_type": "stream",
          "name": "stdout",
          "text": [
            "SVC(C=100, class_weight={0: 0.7273469387755102, 1: 0.27265306122448985},\n",
            "    gamma='auto', kernel='poly', probability=True, random_state=42,\n",
            "    shrinking=False)\n"
          ]
        },
        {
          "output_type": "display_data",
          "data": {
            "text/plain": [
              "<Figure size 640x480 with 1 Axes>"
            ],
            "image/png": "[encoded data removed]"
          },
          "metadata": {}
        }
      ],
      "source": [
        "ax = plt.gca()\n",
        "X_list = [X, X_test]\n",
        "y_list = [y, y_test]\n",
        "name_list = [\"Train\", \"Test\"]\n",
        "\n",
        "print(clf_svm)\n",
        "\n",
        "for i in range(2):\n",
        "  RocCurveDisplay.from_estimator(clf_svm, X_list[i], y_list[i], name=name_list[i], ax=ax)\n",
        "plt.plot([0,1],[0,1],'g--')\n",
        "plt.legend()\n",
        "plt.xlabel(\"True Positive Rate\")\n",
        "plt.ylabel(\"False Positive Rate\")\n",
        "plt.title(\"AUC (ROC curve) - SVM\")\n",
        "plt.show()"
      ]
    },
    {
      "cell_type": "markdown",
      "metadata": {
        "id": "YpgcveiCkkV-"
      },
      "source": [
        "## **Logistic Regression**\n",
        "\n",
        "---"
      ]
    },
    {
      "cell_type": "code",
      "execution_count": null,
      "metadata": {
        "colab": {
          "base_uri": "https://localhost:8080/"
        },
        "id": "65OdtM-SdNFW",
        "outputId": "916a6fc6-f56b-44be-ef9c-e380b4fe027d"
      },
      "outputs": [
        {
          "output_type": "stream",
          "name": "stdout",
          "text": [
            "\n",
            "Starting randomized search\n",
            "\n",
            "Fitting 5 folds for each of 1500 candidates, totalling 7500 fits\n"
          ]
        },
        {
          "output_type": "stream",
          "name": "stderr",
          "text": [
            "/usr/local/lib/python3.10/dist-packages/sklearn/model_selection/_validation.py:540: FitFailedWarning: \n",
            "3570 fits failed out of a total of 7500.\n",
            "The score on these train-test partitions for these parameters will be set to nan.\n",
            "If these failures are not expected, you can try to debug them by setting error_score='raise'.\n",
            "\n",
            "Below are more details about the failures:\n",
            "--------------------------------------------------------------------------------\n",
            "450 fits failed with the following error:\n",
            "Traceback (most recent call last):\n",
            "  File \"/usr/local/lib/python3.10/dist-packages/sklearn/model_selection/_validation.py\", line 888, in _fit_and_score\n",
            "    estimator.fit(X_train, y_train, **fit_params)\n",
            "  File \"/usr/local/lib/python3.10/dist-packages/sklearn/base.py\", line 1473, in wrapper\n",
            "    return fit_method(estimator, *args, **kwargs)\n",
            "  File \"/usr/local/lib/python3.10/dist-packages/sklearn/linear_model/_logistic.py\", line 1194, in fit\n",
            "    solver = _check_solver(self.solver, self.penalty, self.dual)\n",
            "  File \"/usr/local/lib/python3.10/dist-packages/sklearn/linear_model/_logistic.py\", line 67, in _check_solver\n",
            "    raise ValueError(\n",
            "ValueError: Solver newton-cg supports only 'l2' or None penalties, got l1 penalty.\n",
            "\n",
            "--------------------------------------------------------------------------------\n",
            "495 fits failed with the following error:\n",
            "Traceback (most recent call last):\n",
            "  File \"/usr/local/lib/python3.10/dist-packages/sklearn/model_selection/_validation.py\", line 888, in _fit_and_score\n",
            "    estimator.fit(X_train, y_train, **fit_params)\n",
            "  File \"/usr/local/lib/python3.10/dist-packages/sklearn/base.py\", line 1473, in wrapper\n",
            "    return fit_method(estimator, *args, **kwargs)\n",
            "  File \"/usr/local/lib/python3.10/dist-packages/sklearn/linear_model/_logistic.py\", line 1194, in fit\n",
            "    solver = _check_solver(self.solver, self.penalty, self.dual)\n",
            "  File \"/usr/local/lib/python3.10/dist-packages/sklearn/linear_model/_logistic.py\", line 67, in _check_solver\n",
            "    raise ValueError(\n",
            "ValueError: Solver newton-cg supports only 'l2' or None penalties, got elasticnet penalty.\n",
            "\n",
            "--------------------------------------------------------------------------------\n",
            "490 fits failed with the following error:\n",
            "Traceback (most recent call last):\n",
            "  File \"/usr/local/lib/python3.10/dist-packages/sklearn/model_selection/_validation.py\", line 888, in _fit_and_score\n",
            "    estimator.fit(X_train, y_train, **fit_params)\n",
            "  File \"/usr/local/lib/python3.10/dist-packages/sklearn/base.py\", line 1473, in wrapper\n",
            "    return fit_method(estimator, *args, **kwargs)\n",
            "  File \"/usr/local/lib/python3.10/dist-packages/sklearn/linear_model/_logistic.py\", line 1194, in fit\n",
            "    solver = _check_solver(self.solver, self.penalty, self.dual)\n",
            "  File \"/usr/local/lib/python3.10/dist-packages/sklearn/linear_model/_logistic.py\", line 67, in _check_solver\n",
            "    raise ValueError(\n",
            "ValueError: Solver sag supports only 'l2' or None penalties, got elasticnet penalty.\n",
            "\n",
            "--------------------------------------------------------------------------------\n",
            "510 fits failed with the following error:\n",
            "Traceback (most recent call last):\n",
            "  File \"/usr/local/lib/python3.10/dist-packages/sklearn/model_selection/_validation.py\", line 888, in _fit_and_score\n",
            "    estimator.fit(X_train, y_train, **fit_params)\n",
            "  File \"/usr/local/lib/python3.10/dist-packages/sklearn/base.py\", line 1473, in wrapper\n",
            "    return fit_method(estimator, *args, **kwargs)\n",
            "  File \"/usr/local/lib/python3.10/dist-packages/sklearn/linear_model/_logistic.py\", line 1194, in fit\n",
            "    solver = _check_solver(self.solver, self.penalty, self.dual)\n",
            "  File \"/usr/local/lib/python3.10/dist-packages/sklearn/linear_model/_logistic.py\", line 67, in _check_solver\n",
            "    raise ValueError(\n",
            "ValueError: Solver lbfgs supports only 'l2' or None penalties, got l1 penalty.\n",
            "\n",
            "--------------------------------------------------------------------------------\n",
            "500 fits failed with the following error:\n",
            "Traceback (most recent call last):\n",
            "  File \"/usr/local/lib/python3.10/dist-packages/sklearn/model_selection/_validation.py\", line 888, in _fit_and_score\n",
            "    estimator.fit(X_train, y_train, **fit_params)\n",
            "  File \"/usr/local/lib/python3.10/dist-packages/sklearn/base.py\", line 1473, in wrapper\n",
            "    return fit_method(estimator, *args, **kwargs)\n",
            "  File \"/usr/local/lib/python3.10/dist-packages/sklearn/linear_model/_logistic.py\", line 1194, in fit\n",
            "    solver = _check_solver(self.solver, self.penalty, self.dual)\n",
            "  File \"/usr/local/lib/python3.10/dist-packages/sklearn/linear_model/_logistic.py\", line 67, in _check_solver\n",
            "    raise ValueError(\n",
            "ValueError: Solver lbfgs supports only 'l2' or None penalties, got elasticnet penalty.\n",
            "\n",
            "--------------------------------------------------------------------------------\n",
            "525 fits failed with the following error:\n",
            "Traceback (most recent call last):\n",
            "  File \"/usr/local/lib/python3.10/dist-packages/sklearn/model_selection/_validation.py\", line 888, in _fit_and_score\n",
            "    estimator.fit(X_train, y_train, **fit_params)\n",
            "  File \"/usr/local/lib/python3.10/dist-packages/sklearn/base.py\", line 1473, in wrapper\n",
            "    return fit_method(estimator, *args, **kwargs)\n",
            "  File \"/usr/local/lib/python3.10/dist-packages/sklearn/linear_model/_logistic.py\", line 1194, in fit\n",
            "    solver = _check_solver(self.solver, self.penalty, self.dual)\n",
            "  File \"/usr/local/lib/python3.10/dist-packages/sklearn/linear_model/_logistic.py\", line 67, in _check_solver\n",
            "    raise ValueError(\n",
            "ValueError: Solver sag supports only 'l2' or None penalties, got l1 penalty.\n",
            "\n",
            "--------------------------------------------------------------------------------\n",
            "600 fits failed with the following error:\n",
            "Traceback (most recent call last):\n",
            "  File \"/usr/local/lib/python3.10/dist-packages/sklearn/model_selection/_validation.py\", line 888, in _fit_and_score\n",
            "    estimator.fit(X_train, y_train, **fit_params)\n",
            "  File \"/usr/local/lib/python3.10/dist-packages/sklearn/base.py\", line 1473, in wrapper\n",
            "    return fit_method(estimator, *args, **kwargs)\n",
            "  File \"/usr/local/lib/python3.10/dist-packages/sklearn/linear_model/_logistic.py\", line 1194, in fit\n",
            "    solver = _check_solver(self.solver, self.penalty, self.dual)\n",
            "  File \"/usr/local/lib/python3.10/dist-packages/sklearn/linear_model/_logistic.py\", line 75, in _check_solver\n",
            "    raise ValueError(\n",
            "ValueError: Only 'saga' solver supports elasticnet penalty, got solver=liblinear.\n",
            "\n",
            "  warnings.warn(some_fits_failed_message, FitFailedWarning)\n",
            "/usr/local/lib/python3.10/dist-packages/numpy/ma/core.py:2820: RuntimeWarning: invalid value encountered in cast\n",
            "  _data = np.array(data, dtype=dtype, copy=copy,\n",
            "/usr/local/lib/python3.10/dist-packages/sklearn/model_selection/_search.py:1103: UserWarning: One or more of the test scores are non-finite: [       nan 0.46372735 0.41418495 ...        nan        nan 0.45837138]\n",
            "  warnings.warn(\n",
            "/usr/local/lib/python3.10/dist-packages/sklearn/model_selection/_search.py:1103: UserWarning: One or more of the train scores are non-finite: [       nan 0.47613969 0.41418747 ...        nan        nan 0.4705823 ]\n",
            "  warnings.warn(\n",
            "/usr/local/lib/python3.10/dist-packages/sklearn/linear_model/_logistic.py:1197: UserWarning: l1_ratio parameter is only used when penalty is 'elasticnet'. Got (penalty=l2)\n",
            "  warnings.warn(\n",
            "/usr/local/lib/python3.10/dist-packages/sklearn/linear_model/_logistic.py:1256: FutureWarning: 'multi_class' was deprecated in version 1.5 and will be removed in 1.7. Use OneVsRestClassifier(LogisticRegression(..)) instead. Leave it to its default value to avoid this warning.\n",
            "  warnings.warn(\n"
          ]
        },
        {
          "output_type": "stream",
          "name": "stdout",
          "text": [
            "LogisticRegression(C=0.1,\n",
            "                   class_weight={0: 0.7000000000000001, 1: 0.29999999999999993},\n",
            "                   l1_ratio=0.5, multi_class='ovr', random_state=81,\n",
            "                   solver='liblinear', warm_start=True)\n",
            "{'C': 0.1,\n",
            " 'class_weight': {0: 0.7000000000000001, 1: 0.29999999999999993},\n",
            " 'l1_ratio': 0.5,\n",
            " 'multi_class': 'ovr',\n",
            " 'penalty': 'l2',\n",
            " 'random_state': 81,\n",
            " 'solver': 'liblinear',\n",
            " 'warm_start': True}\n",
            "\n",
            "Saving model\n",
            "\n"
          ]
        },
        {
          "output_type": "stream",
          "name": "stderr",
          "text": [
            "/usr/local/lib/python3.10/dist-packages/sklearn/linear_model/_logistic.py:1197: UserWarning: l1_ratio parameter is only used when penalty is 'elasticnet'. Got (penalty=l2)\n",
            "  warnings.warn(\n",
            "/usr/local/lib/python3.10/dist-packages/sklearn/linear_model/_logistic.py:1256: FutureWarning: 'multi_class' was deprecated in version 1.5 and will be removed in 1.7. Use OneVsRestClassifier(LogisticRegression(..)) instead. Leave it to its default value to avoid this warning.\n",
            "  warnings.warn(\n"
          ]
        }
      ],
      "source": [
        "clf = LogisticRegression()\n",
        "\n",
        "# # Parameters used by our current forest\n",
        "# print('Parameters initial\\n')\n",
        "# pprint(clf.get_params())\n",
        "\n",
        "# specify parameters and distributions to sample from\n",
        "hp = {\n",
        "    'C': [0.0001, 0.001, 0.01, 0.1, 1, 10, 25, 50, 75, 100],\n",
        "    'penalty': ['l1', 'l2', 'elasticnet'],  # elasticnet only with saga\n",
        "    'solver': ['liblinear', 'saga', 'lbfgs', 'newton-cg', 'sag'],  # Correct solvers\n",
        "    'class_weight': [{0: x, 1: 1.0 - x} for x in np.linspace(0.1, 0.9, 9)],  # Adjusted weight distribution\n",
        "    'multi_class': ['ovr'],  # ovr for binary classifiers with liblinear\n",
        "    'warm_start': [True, False],\n",
        "    'l1_ratio': np.arange(0, 1.1, 0.1),  # Only relevant for elasticnet\n",
        "    'random_state': [81]\n",
        "}\n",
        "\n",
        "# pprint(hp)\n",
        "\n",
        "# run randomized search\n",
        "print(\"\\nStarting randomized search\\n\")\n",
        "n_iter_search = 1500\n",
        "n_jobs_val = -1\n",
        "random_search = RandomizedSearchCV(clf,\n",
        "                                    param_distributions=hp,\n",
        "                                    n_iter=n_iter_search,\n",
        "                                    cv=StratifiedKFold(),\n",
        "                                    verbose = 5,\n",
        "                                    scoring=custom_scorer,\n",
        "                                    return_train_score = True,\n",
        "                                    n_jobs = n_jobs_val)\n",
        "\n",
        "#Train the model using the training sets y_pred=clf.predict(X_test)\n",
        "random_search.fit(X,y)\n",
        "\n",
        "pprint(random_search.best_estimator_)\n",
        "pprint(random_search.best_params_)\n",
        "pd.DataFrame(random_search.cv_results_)\n",
        "\n",
        "print(\"\\nSaving model\\n\")\n",
        "\n",
        "clf = random_search.best_estimator_\n",
        "\n",
        "#Train the model using the training sets y_pred=clf.predict(X_test)\n",
        "clf.fit(X,y)\n",
        "\n",
        "# save the model to disk\n",
        "filename = location + 'biospec_logReg' + '.sav'\n",
        "pickle.dump(clf, open(filename, 'wb'))"
      ]
    },
    {
      "cell_type": "code",
      "execution_count": null,
      "metadata": {
        "colab": {
          "base_uri": "https://localhost:8080/",
          "height": 673
        },
        "id": "0UpEJuBqdNB-",
        "outputId": "2ce1be80-8000-4a9b-f153-0c2965d0609f"
      },
      "outputs": [
        {
          "output_type": "stream",
          "name": "stdout",
          "text": [
            "AUC-ROC =  0.6507598784194529\n",
            "AUC-PR =  0.8471403439050604\n",
            "F1 score =  0.7582417582417582\n",
            "Precision =  0.7840909090909091\n",
            "Recall =  0.7340425531914894\n",
            "              precision    recall  f1-score   support\n",
            "\n",
            "           0       0.39      0.46      0.42        35\n",
            "           1       0.78      0.73      0.76        94\n",
            "\n",
            "    accuracy                           0.66       129\n",
            "   macro avg       0.59      0.60      0.59       129\n",
            "weighted avg       0.68      0.66      0.67       129\n",
            "\n"
          ]
        },
        {
          "output_type": "display_data",
          "data": {
            "text/plain": [
              "<Figure size 640x480 with 2 Axes>"
            ],
            "image/png": "[encoded data removed]"
          },
          "metadata": {}
        }
      ],
      "source": [
        "# load the model from disk\n",
        "filename = location + 'biospec_logReg' + '.sav'\n",
        "clf_logReg = pickle.load(open(filename, 'rb'))\n",
        "\n",
        "y_pred = clf_logReg.predict(X_test)\n",
        "y_pred_proba = clf_logReg.predict_proba(X_test)[:,1]\n",
        "\n",
        "print(\"AUC-ROC = \", roc_auc_score(y_test, y_pred_proba))\n",
        "print(\"AUC-PR = \", average_precision_score(y_test, y_pred_proba))\n",
        "print(\"F1 score = \", f1_score(y_test, y_pred))\n",
        "print(\"Precision = \", precision_score(y_test, y_pred))\n",
        "print(\"Recall = \", recall_score(y_test, y_pred))\n",
        "print(classification_report(y_test, y_pred))\n",
        "\n",
        "#Ploting the confusion matrix\n",
        "cf_matrix = confusion_matrix(y_test, y_pred)\n",
        "sns.heatmap(cf_matrix, annot=True)\n",
        "plt.show()"
      ]
    },
    {
      "cell_type": "code",
      "execution_count": null,
      "metadata": {
        "colab": {
          "base_uri": "https://localhost:8080/",
          "height": 541
        },
        "id": "ckMO783ZdM9x",
        "outputId": "3f0a77f0-abb8-4af1-9875-3c1cf36a0342"
      },
      "outputs": [
        {
          "output_type": "stream",
          "name": "stdout",
          "text": [
            "LogisticRegression(C=0.1,\n",
            "                   class_weight={0: 0.7000000000000001, 1: 0.29999999999999993},\n",
            "                   l1_ratio=0.5, multi_class='ovr', random_state=81,\n",
            "                   solver='liblinear', warm_start=True)\n"
          ]
        },
        {
          "output_type": "display_data",
          "data": {
            "text/plain": [
              "<Figure size 640x480 with 1 Axes>"
            ],
            "image/png": "[encoded data removed]"
          },
          "metadata": {}
        }
      ],
      "source": [
        "ax = plt.gca()\n",
        "X_list = [X, X_test]\n",
        "y_list = [y, y_test]\n",
        "name_list = [\"Train\", \"Test\"]\n",
        "\n",
        "print(clf_logReg)\n",
        "\n",
        "for i in range(2):\n",
        "  RocCurveDisplay.from_estimator(clf_logReg, X_list[i], y_list[i], name=name_list[i], ax=ax)\n",
        "plt.plot([0,1],[0,1],'g--')\n",
        "plt.legend()\n",
        "plt.xlabel(\"True Positive Rate\")\n",
        "plt.ylabel(\"False Positive Rate\")\n",
        "plt.title(\"AUC (ROC curve) - Logistic Regression\")\n",
        "plt.show()"
      ]
    },
    {
      "cell_type": "markdown",
      "metadata": {
        "id": "7I_awrBtkuYg"
      },
      "source": [
        "## **LightGBM**\n",
        "\n",
        "---"
      ]
    },
    {
      "cell_type": "code",
      "execution_count": null,
      "metadata": {
        "colab": {
          "base_uri": "https://localhost:8080/"
        },
        "id": "fCr8RNE6kvG0",
        "outputId": "e94c1bf4-a4bb-41a8-ccd6-5302d969b4f5",
        "collapsed": true
      },
      "outputs": [
        {
          "output_type": "stream",
          "name": "stdout",
          "text": [
            "\n",
            "Starting randomized search\n",
            "\n",
            "Fitting 5 folds for each of 250 candidates, totalling 1250 fits\n",
            "[LightGBM] [Info] Number of positive: 362, number of negative: 150\n",
            "[LightGBM] [Info] Auto-choosing col-wise multi-threading, the overhead of testing was 0.000069 seconds.\n",
            "You can set `force_col_wise=true` to remove the overhead.\n",
            "[LightGBM] [Info] Total Bins 855\n",
            "[LightGBM] [Info] Number of data points in the train set: 512, number of used features: 5\n",
            "[LightGBM] [Info] [binary:BoostFromScore]: pavg=0.592659 -> initscore=0.374970\n",
            "[LightGBM] [Info] Start training from score 0.374970\n",
            "[LightGBM] [Warning] No further splits with positive gain, best gain: -inf\n",
            "[LightGBM] [Warning] No further splits with positive gain, best gain: -inf\n",
            "[LightGBM] [Warning] No further splits with positive gain, best gain: -inf\n",
            "[LightGBM] [Warning] No further splits with positive gain, best gain: -inf\n",
            "[LightGBM] [Warning] No further splits with positive gain, best gain: -inf\n",
            "[LightGBM] [Warning] No further splits with positive gain, best gain: -inf\n",
            "[LightGBM] [Warning] No further splits with positive gain, best gain: -inf\n",
            "[LightGBM] [Warning] No further splits with positive gain, best gain: -inf\n",
            "[LightGBM] [Warning] No further splits with positive gain, best gain: -inf\n",
            "[LightGBM] [Warning] No further splits with positive gain, best gain: -inf\n",
            "[LightGBM] [Warning] No further splits with positive gain, best gain: -inf\n",
            "[LightGBM] [Warning] No further splits with positive gain, best gain: -inf\n",
            "[LightGBM] [Warning] No further splits with positive gain, best gain: -inf\n",
            "[LightGBM] [Warning] No further splits with positive gain, best gain: -inf\n",
            "[LightGBM] [Warning] No further splits with positive gain, best gain: -inf\n",
            "[LightGBM] [Warning] No further splits with positive gain, best gain: -inf\n",
            "[LightGBM] [Warning] No further splits with positive gain, best gain: -inf\n",
            "[LightGBM] [Warning] No further splits with positive gain, best gain: -inf\n",
            "[LightGBM] [Warning] No further splits with positive gain, best gain: -inf\n",
            "[LightGBM] [Warning] No further splits with positive gain, best gain: -inf\n",
            "[LightGBM] [Warning] No further splits with positive gain, best gain: -inf\n",
            "[LightGBM] [Warning] No further splits with positive gain, best gain: -inf\n",
            "[LightGBM] [Warning] No further splits with positive gain, best gain: -inf\n",
            "[LightGBM] [Warning] No further splits with positive gain, best gain: -inf\n",
            "[LightGBM] [Warning] No further splits with positive gain, best gain: -inf\n",
            "[LightGBM] [Warning] No further splits with positive gain, best gain: -inf\n",
            "[LightGBM] [Warning] No further splits with positive gain, best gain: -inf\n",
            "[LightGBM] [Warning] No further splits with positive gain, best gain: -inf\n",
            "[LightGBM] [Warning] No further splits with positive gain, best gain: -inf\n",
            "[LightGBM] [Warning] No further splits with positive gain, best gain: -inf\n",
            "[LightGBM] [Warning] No further splits with positive gain, best gain: -inf\n",
            "[LightGBM] [Warning] No further splits with positive gain, best gain: -inf\n",
            "[LightGBM] [Warning] No further splits with positive gain, best gain: -inf\n",
            "[LightGBM] [Warning] No further splits with positive gain, best gain: -inf\n",
            "[LightGBM] [Warning] No further splits with positive gain, best gain: -inf\n",
            "[LightGBM] [Warning] No further splits with positive gain, best gain: -inf\n",
            "[LightGBM] [Warning] No further splits with positive gain, best gain: -inf\n",
            "[LightGBM] [Warning] No further splits with positive gain, best gain: -inf\n",
            "[LightGBM] [Warning] No further splits with positive gain, best gain: -inf\n",
            "[LightGBM] [Warning] No further splits with positive gain, best gain: -inf\n",
            "[LightGBM] [Warning] No further splits with positive gain, best gain: -inf\n",
            "[LightGBM] [Warning] No further splits with positive gain, best gain: -inf\n",
            "[LightGBM] [Warning] No further splits with positive gain, best gain: -inf\n",
            "[LightGBM] [Warning] No further splits with positive gain, best gain: -inf\n",
            "[LightGBM] [Warning] No further splits with positive gain, best gain: -inf\n",
            "[LightGBM] [Warning] No further splits with positive gain, best gain: -inf\n",
            "[LightGBM] [Warning] No further splits with positive gain, best gain: -inf\n",
            "[LightGBM] [Warning] No further splits with positive gain, best gain: -inf\n",
            "[LightGBM] [Warning] No further splits with positive gain, best gain: -inf\n",
            "[LightGBM] [Warning] No further splits with positive gain, best gain: -inf\n",
            "[LightGBM] [Warning] No further splits with positive gain, best gain: -inf\n",
            "[LightGBM] [Warning] No further splits with positive gain, best gain: -inf\n",
            "[LightGBM] [Warning] No further splits with positive gain, best gain: -inf\n",
            "[LightGBM] [Warning] No further splits with positive gain, best gain: -inf\n",
            "[LightGBM] [Warning] No further splits with positive gain, best gain: -inf\n",
            "[LightGBM] [Warning] No further splits with positive gain, best gain: -inf\n",
            "[LightGBM] [Warning] No further splits with positive gain, best gain: -inf\n",
            "[LightGBM] [Warning] No further splits with positive gain, best gain: -inf\n",
            "[LightGBM] [Warning] No further splits with positive gain, best gain: -inf\n",
            "[LightGBM] [Warning] No further splits with positive gain, best gain: -inf\n",
            "[LightGBM] [Warning] No further splits with positive gain, best gain: -inf\n",
            "[LightGBM] [Warning] No further splits with positive gain, best gain: -inf\n",
            "[LightGBM] [Warning] No further splits with positive gain, best gain: -inf\n",
            "[LightGBM] [Warning] No further splits with positive gain, best gain: -inf\n",
            "[LightGBM] [Warning] No further splits with positive gain, best gain: -inf\n",
            "[LightGBM] [Warning] No further splits with positive gain, best gain: -inf\n",
            "[LightGBM] [Warning] No further splits with positive gain, best gain: -inf\n",
            "[LightGBM] [Warning] No further splits with positive gain, best gain: -inf\n",
            "[LightGBM] [Warning] No further splits with positive gain, best gain: -inf\n",
            "[LightGBM] [Warning] No further splits with positive gain, best gain: -inf\n",
            "[LightGBM] [Warning] No further splits with positive gain, best gain: -inf\n",
            "[LightGBM] [Warning] No further splits with positive gain, best gain: -inf\n",
            "[LightGBM] [Warning] No further splits with positive gain, best gain: -inf\n",
            "[LightGBM] [Warning] No further splits with positive gain, best gain: -inf\n",
            "[LightGBM] [Warning] No further splits with positive gain, best gain: -inf\n",
            "[LightGBM] [Warning] No further splits with positive gain, best gain: -inf\n",
            "[LightGBM] [Warning] No further splits with positive gain, best gain: -inf\n",
            "[LightGBM] [Warning] No further splits with positive gain, best gain: -inf\n",
            "[LightGBM] [Warning] No further splits with positive gain, best gain: -inf\n",
            "[LightGBM] [Warning] No further splits with positive gain, best gain: -inf\n",
            "[LightGBM] [Warning] No further splits with positive gain, best gain: -inf\n",
            "[LightGBM] [Warning] No further splits with positive gain, best gain: -inf\n",
            "[LightGBM] [Warning] No further splits with positive gain, best gain: -inf\n",
            "[LightGBM] [Warning] No further splits with positive gain, best gain: -inf\n",
            "[LightGBM] [Warning] No further splits with positive gain, best gain: -inf\n",
            "[LightGBM] [Warning] No further splits with positive gain, best gain: -inf\n",
            "[LightGBM] [Warning] No further splits with positive gain, best gain: -inf\n",
            "[LightGBM] [Warning] No further splits with positive gain, best gain: -inf\n",
            "[LightGBM] [Warning] No further splits with positive gain, best gain: -inf\n",
            "[LightGBM] [Warning] No further splits with positive gain, best gain: -inf\n",
            "[LightGBM] [Warning] No further splits with positive gain, best gain: -inf\n",
            "[LightGBM] [Warning] No further splits with positive gain, best gain: -inf\n",
            "[LightGBM] [Warning] No further splits with positive gain, best gain: -inf\n",
            "[LightGBM] [Warning] No further splits with positive gain, best gain: -inf\n",
            "[LightGBM] [Warning] No further splits with positive gain, best gain: -inf\n",
            "[LightGBM] [Warning] No further splits with positive gain, best gain: -inf\n",
            "[LightGBM] [Warning] No further splits with positive gain, best gain: -inf\n",
            "[LightGBM] [Warning] No further splits with positive gain, best gain: -inf\n",
            "[LightGBM] [Warning] No further splits with positive gain, best gain: -inf\n",
            "[LightGBM] [Warning] No further splits with positive gain, best gain: -inf\n",
            "LGBMClassifier(class_weight={0: 0.6238775510204081, 1: 0.3761224489795919},\n",
            "               colsample_bytree=0.6666666666666666,\n",
            "               learning_rate=0.06999999999999999, max_depth=4,\n",
            "               min_child_samples=40, num_leaves=20,\n",
            "               reg_alpha=0.14384498882876628, reg_lambda=0.0001,\n",
            "               subsample=0.6111111111111112)\n",
            "{'class_weight': {0: 0.6238775510204081, 1: 0.3761224489795919},\n",
            " 'colsample_bytree': 0.6666666666666666,\n",
            " 'learning_rate': 0.06999999999999999,\n",
            " 'max_depth': 4,\n",
            " 'min_child_samples': 40,\n",
            " 'n_estimators': 100,\n",
            " 'num_leaves': 20,\n",
            " 'reg_alpha': 0.14384498882876628,\n",
            " 'reg_lambda': 0.0001,\n",
            " 'subsample': 0.6111111111111112}\n",
            "\n",
            "Saving model\n",
            "\n",
            "[LightGBM] [Info] Number of positive: 362, number of negative: 150\n",
            "[LightGBM] [Info] Auto-choosing col-wise multi-threading, the overhead of testing was 0.000072 seconds.\n",
            "You can set `force_col_wise=true` to remove the overhead.\n",
            "[LightGBM] [Info] Total Bins 855\n",
            "[LightGBM] [Info] Number of data points in the train set: 512, number of used features: 5\n",
            "[LightGBM] [Info] [binary:BoostFromScore]: pavg=0.592659 -> initscore=0.374970\n",
            "[LightGBM] [Info] Start training from score 0.374970\n",
            "[LightGBM] [Warning] No further splits with positive gain, best gain: -inf\n",
            "[LightGBM] [Warning] No further splits with positive gain, best gain: -inf\n",
            "[LightGBM] [Warning] No further splits with positive gain, best gain: -inf\n",
            "[LightGBM] [Warning] No further splits with positive gain, best gain: -inf\n",
            "[LightGBM] [Warning] No further splits with positive gain, best gain: -inf\n",
            "[LightGBM] [Warning] No further splits with positive gain, best gain: -inf\n",
            "[LightGBM] [Warning] No further splits with positive gain, best gain: -inf\n",
            "[LightGBM] [Warning] No further splits with positive gain, best gain: -inf\n",
            "[LightGBM] [Warning] No further splits with positive gain, best gain: -inf\n",
            "[LightGBM] [Warning] No further splits with positive gain, best gain: -inf\n",
            "[LightGBM] [Warning] No further splits with positive gain, best gain: -inf\n",
            "[LightGBM] [Warning] No further splits with positive gain, best gain: -inf\n",
            "[LightGBM] [Warning] No further splits with positive gain, best gain: -inf\n",
            "[LightGBM] [Warning] No further splits with positive gain, best gain: -inf\n",
            "[LightGBM] [Warning] No further splits with positive gain, best gain: -inf\n",
            "[LightGBM] [Warning] No further splits with positive gain, best gain: -inf\n",
            "[LightGBM] [Warning] No further splits with positive gain, best gain: -inf\n",
            "[LightGBM] [Warning] No further splits with positive gain, best gain: -inf\n",
            "[LightGBM] [Warning] No further splits with positive gain, best gain: -inf\n",
            "[LightGBM] [Warning] No further splits with positive gain, best gain: -inf\n",
            "[LightGBM] [Warning] No further splits with positive gain, best gain: -inf\n",
            "[LightGBM] [Warning] No further splits with positive gain, best gain: -inf\n",
            "[LightGBM] [Warning] No further splits with positive gain, best gain: -inf\n",
            "[LightGBM] [Warning] No further splits with positive gain, best gain: -inf\n",
            "[LightGBM] [Warning] No further splits with positive gain, best gain: -inf\n",
            "[LightGBM] [Warning] No further splits with positive gain, best gain: -inf\n",
            "[LightGBM] [Warning] No further splits with positive gain, best gain: -inf\n",
            "[LightGBM] [Warning] No further splits with positive gain, best gain: -inf\n",
            "[LightGBM] [Warning] No further splits with positive gain, best gain: -inf\n",
            "[LightGBM] [Warning] No further splits with positive gain, best gain: -inf\n",
            "[LightGBM] [Warning] No further splits with positive gain, best gain: -inf\n",
            "[LightGBM] [Warning] No further splits with positive gain, best gain: -inf\n",
            "[LightGBM] [Warning] No further splits with positive gain, best gain: -inf\n",
            "[LightGBM] [Warning] No further splits with positive gain, best gain: -inf\n",
            "[LightGBM] [Warning] No further splits with positive gain, best gain: -inf\n",
            "[LightGBM] [Warning] No further splits with positive gain, best gain: -inf\n",
            "[LightGBM] [Warning] No further splits with positive gain, best gain: -inf\n",
            "[LightGBM] [Warning] No further splits with positive gain, best gain: -inf\n",
            "[LightGBM] [Warning] No further splits with positive gain, best gain: -inf\n",
            "[LightGBM] [Warning] No further splits with positive gain, best gain: -inf\n",
            "[LightGBM] [Warning] No further splits with positive gain, best gain: -inf\n",
            "[LightGBM] [Warning] No further splits with positive gain, best gain: -inf\n",
            "[LightGBM] [Warning] No further splits with positive gain, best gain: -inf\n",
            "[LightGBM] [Warning] No further splits with positive gain, best gain: -inf\n",
            "[LightGBM] [Warning] No further splits with positive gain, best gain: -inf\n",
            "[LightGBM] [Warning] No further splits with positive gain, best gain: -inf\n",
            "[LightGBM] [Warning] No further splits with positive gain, best gain: -inf\n",
            "[LightGBM] [Warning] No further splits with positive gain, best gain: -inf\n",
            "[LightGBM] [Warning] No further splits with positive gain, best gain: -inf\n",
            "[LightGBM] [Warning] No further splits with positive gain, best gain: -inf\n",
            "[LightGBM] [Warning] No further splits with positive gain, best gain: -inf\n",
            "[LightGBM] [Warning] No further splits with positive gain, best gain: -inf\n",
            "[LightGBM] [Warning] No further splits with positive gain, best gain: -inf\n",
            "[LightGBM] [Warning] No further splits with positive gain, best gain: -inf\n",
            "[LightGBM] [Warning] No further splits with positive gain, best gain: -inf\n",
            "[LightGBM] [Warning] No further splits with positive gain, best gain: -inf\n",
            "[LightGBM] [Warning] No further splits with positive gain, best gain: -inf\n",
            "[LightGBM] [Warning] No further splits with positive gain, best gain: -inf\n",
            "[LightGBM] [Warning] No further splits with positive gain, best gain: -inf\n",
            "[LightGBM] [Warning] No further splits with positive gain, best gain: -inf\n",
            "[LightGBM] [Warning] No further splits with positive gain, best gain: -inf\n",
            "[LightGBM] [Warning] No further splits with positive gain, best gain: -inf\n",
            "[LightGBM] [Warning] No further splits with positive gain, best gain: -inf\n",
            "[LightGBM] [Warning] No further splits with positive gain, best gain: -inf\n",
            "[LightGBM] [Warning] No further splits with positive gain, best gain: -inf\n",
            "[LightGBM] [Warning] No further splits with positive gain, best gain: -inf\n",
            "[LightGBM] [Warning] No further splits with positive gain, best gain: -inf\n",
            "[LightGBM] [Warning] No further splits with positive gain, best gain: -inf\n",
            "[LightGBM] [Warning] No further splits with positive gain, best gain: -inf\n",
            "[LightGBM] [Warning] No further splits with positive gain, best gain: -inf\n",
            "[LightGBM] [Warning] No further splits with positive gain, best gain: -inf\n",
            "[LightGBM] [Warning] No further splits with positive gain, best gain: -inf\n",
            "[LightGBM] [Warning] No further splits with positive gain, best gain: -inf\n",
            "[LightGBM] [Warning] No further splits with positive gain, best gain: -inf\n",
            "[LightGBM] [Warning] No further splits with positive gain, best gain: -inf\n",
            "[LightGBM] [Warning] No further splits with positive gain, best gain: -inf\n",
            "[LightGBM] [Warning] No further splits with positive gain, best gain: -inf\n",
            "[LightGBM] [Warning] No further splits with positive gain, best gain: -inf\n",
            "[LightGBM] [Warning] No further splits with positive gain, best gain: -inf\n",
            "[LightGBM] [Warning] No further splits with positive gain, best gain: -inf\n",
            "[LightGBM] [Warning] No further splits with positive gain, best gain: -inf\n",
            "[LightGBM] [Warning] No further splits with positive gain, best gain: -inf\n",
            "[LightGBM] [Warning] No further splits with positive gain, best gain: -inf\n",
            "[LightGBM] [Warning] No further splits with positive gain, best gain: -inf\n",
            "[LightGBM] [Warning] No further splits with positive gain, best gain: -inf\n",
            "[LightGBM] [Warning] No further splits with positive gain, best gain: -inf\n",
            "[LightGBM] [Warning] No further splits with positive gain, best gain: -inf\n",
            "[LightGBM] [Warning] No further splits with positive gain, best gain: -inf\n",
            "[LightGBM] [Warning] No further splits with positive gain, best gain: -inf\n",
            "[LightGBM] [Warning] No further splits with positive gain, best gain: -inf\n",
            "[LightGBM] [Warning] No further splits with positive gain, best gain: -inf\n",
            "[LightGBM] [Warning] No further splits with positive gain, best gain: -inf\n",
            "[LightGBM] [Warning] No further splits with positive gain, best gain: -inf\n",
            "[LightGBM] [Warning] No further splits with positive gain, best gain: -inf\n",
            "[LightGBM] [Warning] No further splits with positive gain, best gain: -inf\n",
            "[LightGBM] [Warning] No further splits with positive gain, best gain: -inf\n",
            "[LightGBM] [Warning] No further splits with positive gain, best gain: -inf\n",
            "[LightGBM] [Warning] No further splits with positive gain, best gain: -inf\n",
            "[LightGBM] [Warning] No further splits with positive gain, best gain: -inf\n",
            "[LightGBM] [Warning] No further splits with positive gain, best gain: -inf\n"
          ]
        }
      ],
      "source": [
        "clf = LGBMClassifier()\n",
        "\n",
        "# # Parameters used by our current model\n",
        "# print('Parameters initial\\n')\n",
        "# pprint(clf.get_params())\n",
        "\n",
        "# Setting the range for class weights\n",
        "weights = np.linspace(0.6, 0.99, 50)\n",
        "\n",
        "# Specify parameters and distributions to sample from\n",
        "hp = {\n",
        "    'num_leaves': np.arange(20, 150, 10),\n",
        "    'max_depth': np.arange(3, 15, 1),\n",
        "    'learning_rate': np.linspace(0.01, 0.3, 30),\n",
        "    'n_estimators': np.arange(50, 500, 50),\n",
        "    'min_child_samples': np.arange(20, 200, 20),\n",
        "    'subsample': np.linspace(0.5, 1, 10),\n",
        "    'colsample_bytree': np.linspace(0.5, 1, 10),\n",
        "    'reg_alpha': np.logspace(-4, 1, 20),\n",
        "    'reg_lambda': np.logspace(-4, 1, 20),\n",
        "    'class_weight': [{0: x, 1: 1.0 - x} for x in weights]\n",
        "}\n",
        "\n",
        "# # Print the parameter space\n",
        "# pprint(hp)\n",
        "\n",
        "# Run randomized search\n",
        "print(\"\\nStarting randomized search\\n\")\n",
        "n_iter_search = 250\n",
        "n_jobs_val = -1\n",
        "random_search = RandomizedSearchCV(clf,\n",
        "                                   param_distributions=hp,\n",
        "                                   n_iter=n_iter_search,\n",
        "                                   cv=StratifiedKFold(),\n",
        "                                   verbose=2,\n",
        "                                   scoring=custom_scorer,\n",
        "                                   return_train_score=True,\n",
        "                                   n_jobs=n_jobs_val)\n",
        "\n",
        "# Train the model using the training sets\n",
        "random_search.fit(X, y)\n",
        "\n",
        "# Display the best model and its parameters\n",
        "pprint(random_search.best_estimator_)\n",
        "pprint(random_search.best_params_)\n",
        "pd.DataFrame(random_search.cv_results_)\n",
        "\n",
        "print(\"\\nSaving model\\n\")\n",
        "\n",
        "# Save the best estimator\n",
        "clf = random_search.best_estimator_\n",
        "\n",
        "clf.fit(X, y)\n",
        "\n",
        "filename = location + 'biospec_lgbm' + '.sav'\n",
        "pickle.dump(clf, open(filename, 'wb'))\n"
      ]
    },
    {
      "cell_type": "code",
      "execution_count": null,
      "metadata": {
        "colab": {
          "base_uri": "https://localhost:8080/",
          "height": 678
        },
        "id": "zDA2HVpxkvsf",
        "outputId": "dbd705d8-643c-4d72-abc8-c2df48735046"
      },
      "outputs": [
        {
          "output_type": "stream",
          "name": "stdout",
          "text": [
            "AUC-ROC =  0.6028875379939208\n",
            "AUC-PR =  0.8217963196328626\n",
            "F1 score =  0.7446808510638298\n",
            "Precision =  0.7446808510638298\n",
            "Recall =  0.7446808510638298\n",
            "              precision    recall  f1-score   support\n",
            "\n",
            "           0       0.31      0.31      0.31        35\n",
            "           1       0.74      0.74      0.74        94\n",
            "\n",
            "    accuracy                           0.63       129\n",
            "   macro avg       0.53      0.53      0.53       129\n",
            "weighted avg       0.63      0.63      0.63       129\n",
            "\n"
          ]
        },
        {
          "output_type": "display_data",
          "data": {
            "text/plain": [
              "<Figure size 640x480 with 2 Axes>"
            ],
            "image/png": "[encoded data removed]"
          },
          "metadata": {}
        }
      ],
      "source": [
        "# Load the model from disk\n",
        "filename = location + 'biospec_lgbm' + '.sav'\n",
        "clf_lgbm = pickle.load(open(filename, 'rb'))\n",
        "\n",
        "# Predictions and evaluation\n",
        "y_pred = clf_lgbm.predict(X_test)\n",
        "y_pred_proba = clf_lgbm.predict_proba(X_test)[:, 1]\n",
        "\n",
        "# Display metrics\n",
        "print(\"AUC-ROC = \", roc_auc_score(y_test, y_pred_proba))\n",
        "print(\"AUC-PR = \", average_precision_score(y_test, y_pred_proba))\n",
        "print(\"F1 score = \", f1_score(y_test, y_pred))\n",
        "print(\"Precision = \", precision_score(y_test, y_pred))\n",
        "print(\"Recall = \", recall_score(y_test, y_pred))\n",
        "print(classification_report(y_test, y_pred))\n",
        "\n",
        "# Plotting the confusion matrix\n",
        "cf_matrix = confusion_matrix(y_test, y_pred)\n",
        "sns.heatmap(cf_matrix, annot=True)\n",
        "# plt.title(\"Confusion Matrix - LightGBM\")\n",
        "plt.show()\n"
      ]
    },
    {
      "cell_type": "code",
      "execution_count": null,
      "metadata": {
        "colab": {
          "base_uri": "https://localhost:8080/",
          "height": 576
        },
        "id": "mQA3K2u9kvmt",
        "outputId": "80dc9aed-ee2b-44ce-9f3f-ffcd55f0db0b"
      },
      "outputs": [
        {
          "output_type": "stream",
          "name": "stdout",
          "text": [
            "LGBMClassifier(class_weight={0: 0.6238775510204081, 1: 0.3761224489795919},\n",
            "               colsample_bytree=0.6666666666666666,\n",
            "               learning_rate=0.06999999999999999, max_depth=4,\n",
            "               min_child_samples=40, num_leaves=20,\n",
            "               reg_alpha=0.14384498882876628, reg_lambda=0.0001,\n",
            "               subsample=0.6111111111111112)\n"
          ]
        },
        {
          "output_type": "display_data",
          "data": {
            "text/plain": [
              "<Figure size 640x480 with 1 Axes>"
            ],
            "image/png": "[encoded data removed]"
          },
          "metadata": {}
        }
      ],
      "source": [
        "ax = plt.gca()\n",
        "X_list = [X, X_test]\n",
        "y_list = [y, y_test]\n",
        "name_list = [\"Train\", \"Test\"]\n",
        "\n",
        "print(clf_lgbm)\n",
        "\n",
        "for i in range(2):\n",
        "    RocCurveDisplay.from_estimator(clf_lgbm, X_list[i], y_list[i], name=name_list[i], ax=ax)\n",
        "plt.plot([0, 1], [0, 1], linestyle='--', color='green')\n",
        "plt.legend()\n",
        "plt.xlabel(\"False Positive Rate\")\n",
        "plt.ylabel(\"True Positive Rate\")\n",
        "plt.title(\"AUC (ROC Curve) - Light GBM\")\n",
        "plt.show()"
      ]
    },
    {
      "cell_type": "markdown",
      "metadata": {
        "id": "Gxi8i9kGnome"
      },
      "source": [
        "## **NN**\n",
        "\n",
        "---"
      ]
    },
    {
      "cell_type": "code",
      "execution_count": null,
      "metadata": {
        "colab": {
          "base_uri": "https://localhost:8080/"
        },
        "outputId": "264af6a1-e433-4ab8-b571-78c5296ed2e7",
        "collapsed": true,
        "id": "IXR7A5hHnomg"
      },
      "outputs": [
        {
          "output_type": "stream",
          "name": "stdout",
          "text": [
            "\n",
            "Starting randomized search\n",
            "\n",
            "Fitting 5 folds for each of 1500 candidates, totalling 7500 fits\n"
          ]
        },
        {
          "output_type": "stream",
          "name": "stderr",
          "text": [
            "/usr/local/lib/python3.10/dist-packages/sklearn/model_selection/_validation.py:540: FitFailedWarning: \n",
            "7 fits failed out of a total of 7500.\n",
            "The score on these train-test partitions for these parameters will be set to nan.\n",
            "If these failures are not expected, you can try to debug them by setting error_score='raise'.\n",
            "\n",
            "Below are more details about the failures:\n",
            "--------------------------------------------------------------------------------\n",
            "7 fits failed with the following error:\n",
            "Traceback (most recent call last):\n",
            "  File \"/usr/local/lib/python3.10/dist-packages/sklearn/model_selection/_validation.py\", line 888, in _fit_and_score\n",
            "    estimator.fit(X_train, y_train, **fit_params)\n",
            "  File \"/usr/local/lib/python3.10/dist-packages/sklearn/base.py\", line 1473, in wrapper\n",
            "    return fit_method(estimator, *args, **kwargs)\n",
            "  File \"/usr/local/lib/python3.10/dist-packages/sklearn/neural_network/_multilayer_perceptron.py\", line 751, in fit\n",
            "    return self._fit(X, y, incremental=False)\n",
            "  File \"/usr/local/lib/python3.10/dist-packages/sklearn/neural_network/_multilayer_perceptron.py\", line 495, in _fit\n",
            "    raise ValueError(\n",
            "ValueError: Solver produced non-finite parameter weights. The input data may contain large values and need to be preprocessed.\n",
            "\n",
            "  warnings.warn(some_fits_failed_message, FitFailedWarning)\n",
            "/usr/local/lib/python3.10/dist-packages/numpy/ma/core.py:2820: RuntimeWarning: invalid value encountered in cast\n",
            "  _data = np.array(data, dtype=dtype, copy=copy,\n",
            "/usr/local/lib/python3.10/dist-packages/sklearn/model_selection/_search.py:1103: UserWarning: One or more of the test scores are non-finite: [0.41418495 0.41418495 0.41418495 ... 0.47274135 0.41418495 0.2265892 ]\n",
            "  warnings.warn(\n",
            "/usr/local/lib/python3.10/dist-packages/sklearn/model_selection/_search.py:1103: UserWarning: One or more of the train scores are non-finite: [0.41418747 0.41418747 0.41418747 ... 0.46856523 0.41418747 0.2265863 ]\n",
            "  warnings.warn(\n"
          ]
        },
        {
          "output_type": "stream",
          "name": "stdout",
          "text": [
            "MLPClassifier(activation='tanh', alpha=5.179474679231202, batch_size=32,\n",
            "              early_stopping=True, hidden_layer_sizes=(187, 187),\n",
            "              learning_rate='adaptive', learning_rate_init=0.0001, max_iter=500,\n",
            "              momentum=0.5, random_state=42, solver='sgd')\n",
            "{'activation': 'tanh',\n",
            " 'alpha': 5.179474679231202,\n",
            " 'batch_size': 32,\n",
            " 'early_stopping': True,\n",
            " 'hidden_layer_sizes': (187, 187),\n",
            " 'learning_rate': 'adaptive',\n",
            " 'learning_rate_init': 0.0001,\n",
            " 'momentum': 0.5,\n",
            " 'n_iter_no_change': 10,\n",
            " 'solver': 'sgd'}\n",
            "\n",
            "Saving model\n",
            "\n",
            "\n",
            "Saving model\n",
            "\n"
          ]
        }
      ],
      "source": [
        "clf = MLPClassifier(max_iter=500, random_state=42)\n",
        "\n",
        "\n",
        "param_dist = {\n",
        "    'hidden_layer_sizes': [(np.random.randint(50, 200),) * np.random.randint(1, 4) for _ in range(10)],  # Randomly select layer sizes and depths\n",
        "    'activation': ['relu', 'tanh'],\n",
        "    'solver': ['adam', 'sgd'],\n",
        "    'alpha': np.logspace(-5, 3, num=8),\n",
        "    'learning_rate': ['constant', 'invscaling', 'adaptive'],\n",
        "    'learning_rate_init': np.logspace(-4, 0, num=5),\n",
        "    'batch_size': [32, 64, 128, 256],\n",
        "    'early_stopping': [True],\n",
        "    'n_iter_no_change': [5, 10, 15, 20],\n",
        "    'momentum': np.linspace(0.5, 0.95, num=5)\n",
        "}\n",
        "\n",
        "\n",
        "print(\"\\nStarting randomized search\\n\")\n",
        "n_iter_search = 1500\n",
        "n_jobs_val = -1\n",
        "random_search = RandomizedSearchCV(\n",
        "    clf,\n",
        "    param_distributions=param_dist,\n",
        "    n_iter=n_iter_search,\n",
        "    cv=StratifiedKFold(n_splits=5),\n",
        "    verbose=5,\n",
        "    scoring=make_scorer(custom_scorer),\n",
        "    return_train_score=True,\n",
        "    n_jobs=n_jobs_val,\n",
        "    random_state=42\n",
        ")\n",
        "\n",
        "random_search.fit(X,y)\n",
        "\n",
        "pprint(random_search.best_estimator_)\n",
        "pprint(random_search.best_params_)\n",
        "pd.DataFrame(random_search.cv_results_)\n",
        "\n",
        "print(\"\\nSaving model\\n\")\n",
        "\n",
        "clf = random_search.best_estimator_\n",
        "\n",
        "clf.fit(X,y)\n",
        "\n",
        "# Save the best model to disk\n",
        "\n",
        "print(\"\\nSaving model\\n\")\n",
        "\n",
        "filename = location + 'biospec_mlp' + '.sav'\n",
        "pickle.dump(clf, open(filename, 'wb'))"
      ]
    },
    {
      "cell_type": "code",
      "execution_count": null,
      "metadata": {
        "colab": {
          "base_uri": "https://localhost:8080/",
          "height": 673
        },
        "outputId": "1779296d-d785-4568-c365-d73dce2fe5db",
        "id": "LV4z-xidnomh"
      },
      "outputs": [
        {
          "output_type": "stream",
          "name": "stdout",
          "text": [
            "AUC-ROC =  0.6337386018237081\n",
            "AUC-PR =  0.8473417305116604\n",
            "F1 score =  0.784688995215311\n",
            "Precision =  0.7130434782608696\n",
            "Recall =  0.8723404255319149\n",
            "              precision    recall  f1-score   support\n",
            "\n",
            "           0       0.14      0.06      0.08        35\n",
            "           1       0.71      0.87      0.78        94\n",
            "\n",
            "    accuracy                           0.65       129\n",
            "   macro avg       0.43      0.46      0.43       129\n",
            "weighted avg       0.56      0.65      0.59       129\n",
            "\n"
          ]
        },
        {
          "output_type": "display_data",
          "data": {
            "text/plain": [
              "<Figure size 640x480 with 2 Axes>"
            ],
            "image/png": "[encoded data removed]"
          },
          "metadata": {}
        }
      ],
      "source": [
        "# Load the model from disk\n",
        "filename = location + 'biospec_mlp' + '.sav'\n",
        "clf_mlp = pickle.load(open(filename, 'rb'))\n",
        "\n",
        "# Predictions and evaluation\n",
        "y_pred = clf_mlp.predict(X_test)\n",
        "y_pred_proba = clf_mlp.predict_proba(X_test)[:, 1]\n",
        "\n",
        "# Display metrics\n",
        "print(\"AUC-ROC = \", roc_auc_score(y_test, y_pred_proba))\n",
        "print(\"AUC-PR = \", average_precision_score(y_test, y_pred_proba))\n",
        "print(\"F1 score = \", f1_score(y_test, y_pred))\n",
        "print(\"Precision = \", precision_score(y_test, y_pred))\n",
        "print(\"Recall = \", recall_score(y_test, y_pred))\n",
        "print(classification_report(y_test, y_pred))\n",
        "\n",
        "# Plotting the confusion matrix\n",
        "cf_matrix = confusion_matrix(y_test, y_pred)\n",
        "sns.heatmap(cf_matrix, annot=True)\n",
        "# plt.title(\"Confusion Matrix - LightGBM\")\n",
        "plt.show()\n"
      ]
    },
    {
      "cell_type": "code",
      "execution_count": null,
      "metadata": {
        "colab": {
          "base_uri": "https://localhost:8080/",
          "height": 541
        },
        "outputId": "4ec00395-dc4d-4c6a-8235-9922cf19f729",
        "id": "hqDwNxP-nomi"
      },
      "outputs": [
        {
          "output_type": "stream",
          "name": "stdout",
          "text": [
            "MLPClassifier(activation='tanh', alpha=5.179474679231202, batch_size=32,\n",
            "              early_stopping=True, hidden_layer_sizes=(187, 187),\n",
            "              learning_rate='adaptive', learning_rate_init=0.0001, max_iter=500,\n",
            "              momentum=0.5, random_state=42, solver='sgd')\n"
          ]
        },
        {
          "output_type": "display_data",
          "data": {
            "text/plain": [
              "<Figure size 640x480 with 1 Axes>"
            ],
            "image/png": "[encoded data removed]"
          },
          "metadata": {}
        }
      ],
      "source": [
        "ax = plt.gca()\n",
        "X_list = [X, X_test]\n",
        "y_list = [y, y_test]\n",
        "name_list = [\"Train\", \"Test\"]\n",
        "\n",
        "print(clf_mlp)\n",
        "\n",
        "for i in range(2):\n",
        "    RocCurveDisplay.from_estimator(clf_mlp, X_list[i], y_list[i], name=name_list[i], ax=ax)\n",
        "plt.plot([0, 1], [0, 1], linestyle='--', color='green')\n",
        "plt.legend()\n",
        "plt.xlabel(\"False Positive Rate\")\n",
        "plt.ylabel(\"True Positive Rate\")\n",
        "plt.title(\"AUC (ROC Curve) - MLP\")\n",
        "plt.show()"
      ]
    },
    {
      "cell_type": "markdown",
      "source": [
        "NN with SMOTE"
      ],
      "metadata": {
        "id": "UxDZTXwy2qc1"
      }
    },
    {
      "cell_type": "code",
      "source": [
        "from imblearn.over_sampling import SMOTE\n",
        "from imblearn.pipeline import Pipeline"
      ],
      "metadata": {
        "id": "7D14_odf56-P"
      },
      "execution_count": null,
      "outputs": []
    },
    {
      "cell_type": "code",
      "execution_count": null,
      "metadata": {
        "colab": {
          "base_uri": "https://localhost:8080/"
        },
        "outputId": "3866438a-4a9e-47f5-d2ed-ce7348ee4a76",
        "collapsed": true,
        "id": "R_KHQJM02tWq"
      },
      "outputs": [
        {
          "output_type": "stream",
          "name": "stdout",
          "text": [
            "\n",
            "Starting randomized search\n",
            "\n",
            "Fitting 5 folds for each of 1500 candidates, totalling 7500 fits\n"
          ]
        },
        {
          "output_type": "stream",
          "name": "stderr",
          "text": [
            "/usr/local/lib/python3.10/dist-packages/sklearn/model_selection/_validation.py:540: FitFailedWarning: \n",
            "15 fits failed out of a total of 7500.\n",
            "The score on these train-test partitions for these parameters will be set to nan.\n",
            "If these failures are not expected, you can try to debug them by setting error_score='raise'.\n",
            "\n",
            "Below are more details about the failures:\n",
            "--------------------------------------------------------------------------------\n",
            "15 fits failed with the following error:\n",
            "Traceback (most recent call last):\n",
            "  File \"/usr/local/lib/python3.10/dist-packages/sklearn/model_selection/_validation.py\", line 888, in _fit_and_score\n",
            "    estimator.fit(X_train, y_train, **fit_params)\n",
            "  File \"/usr/local/lib/python3.10/dist-packages/sklearn/base.py\", line 1473, in wrapper\n",
            "    return fit_method(estimator, *args, **kwargs)\n",
            "  File \"/usr/local/lib/python3.10/dist-packages/imblearn/pipeline.py\", line 333, in fit\n",
            "    self._final_estimator.fit(Xt, yt, **last_step_params[\"fit\"])\n",
            "  File \"/usr/local/lib/python3.10/dist-packages/sklearn/base.py\", line 1473, in wrapper\n",
            "    return fit_method(estimator, *args, **kwargs)\n",
            "  File \"/usr/local/lib/python3.10/dist-packages/sklearn/neural_network/_multilayer_perceptron.py\", line 751, in fit\n",
            "    return self._fit(X, y, incremental=False)\n",
            "  File \"/usr/local/lib/python3.10/dist-packages/sklearn/neural_network/_multilayer_perceptron.py\", line 495, in _fit\n",
            "    raise ValueError(\n",
            "ValueError: Solver produced non-finite parameter weights. The input data may contain large values and need to be preprocessed.\n",
            "\n",
            "  warnings.warn(some_fits_failed_message, FitFailedWarning)\n",
            "/usr/local/lib/python3.10/dist-packages/numpy/ma/core.py:2820: RuntimeWarning: invalid value encountered in cast\n",
            "  _data = np.array(data, dtype=dtype, copy=copy,\n",
            "/usr/local/lib/python3.10/dist-packages/sklearn/model_selection/_search.py:1103: UserWarning: One or more of the test scores are non-finite: [0.545889   0.54410414 0.50573887 ... 0.53869494 0.43369253 0.54127875]\n",
            "  warnings.warn(\n",
            "/usr/local/lib/python3.10/dist-packages/sklearn/model_selection/_search.py:1103: UserWarning: One or more of the train scores are non-finite: [0.57793803 0.57854087 0.52108613 ... 0.55673772 0.42421804 0.53938732]\n",
            "  warnings.warn(\n"
          ]
        },
        {
          "output_type": "stream",
          "name": "stdout",
          "text": [
            "Pipeline(steps=[('smote', SMOTE(random_state=42, sampling_strategy=1.0)),\n",
            "                ('mlp',\n",
            "                 MLPClassifier(alpha=0.026826957952797246, batch_size=128,\n",
            "                               early_stopping=True,\n",
            "                               hidden_layer_sizes=(60, 60, 60),\n",
            "                               learning_rate='adaptive', max_iter=500,\n",
            "                               momentum=0.5, n_iter_no_change=5,\n",
            "                               random_state=42))])\n",
            "{'mlp__activation': 'relu',\n",
            " 'mlp__alpha': 0.026826957952797246,\n",
            " 'mlp__batch_size': 128,\n",
            " 'mlp__early_stopping': True,\n",
            " 'mlp__hidden_layer_sizes': (60, 60, 60),\n",
            " 'mlp__learning_rate': 'adaptive',\n",
            " 'mlp__learning_rate_init': 0.001,\n",
            " 'mlp__momentum': 0.5,\n",
            " 'mlp__n_iter_no_change': 5,\n",
            " 'mlp__solver': 'adam',\n",
            " 'smote__sampling_strategy': 1.0}\n",
            "\n",
            "Saving model\n",
            "\n",
            "\n",
            "Saving model\n",
            "\n"
          ]
        }
      ],
      "source": [
        "clf = Pipeline([\n",
        "    ('smote', SMOTE(random_state=42)),\n",
        "    ('mlp', MLPClassifier(max_iter=500, random_state=42))\n",
        "])\n",
        "\n",
        "# Define the hyperparameter search space\n",
        "param_dist = {\n",
        "    'mlp__hidden_layer_sizes': [(np.random.randint(50, 200),) * np.random.randint(1, 4) for _ in range(10)],  # Randomly select layer sizes and depths\n",
        "    'mlp__activation': ['relu', 'tanh'],\n",
        "    'mlp__solver': ['adam', 'sgd'],\n",
        "    'mlp__alpha': np.logspace(-5, 3, num=8),\n",
        "    'mlp__learning_rate': ['constant', 'invscaling', 'adaptive'],\n",
        "    'mlp__learning_rate_init': np.logspace(-4, 0, num=5),\n",
        "    'mlp__batch_size': [32, 64, 128, 256],\n",
        "    'mlp__early_stopping': [True],\n",
        "    'mlp__n_iter_no_change': [5, 10, 15, 20],\n",
        "    'mlp__momentum': np.linspace(0.5, 0.95, num=5),\n",
        "    'smote__sampling_strategy': [0.5, 0.75, 1.0]\n",
        "}\n",
        "\n",
        "# Perform RandomizedSearchCV for hyperparameter tuning\n",
        "print(\"\\nStarting randomized search\\n\")\n",
        "n_iter_search = 1500\n",
        "n_jobs_val = -1\n",
        "random_search = RandomizedSearchCV(\n",
        "    clf,\n",
        "    param_distributions=param_dist,\n",
        "    n_iter=n_iter_search,\n",
        "    cv=StratifiedKFold(n_splits=5),\n",
        "    verbose=5,\n",
        "    scoring=custom_scorer,\n",
        "    return_train_score=True,\n",
        "    n_jobs=n_jobs_val,\n",
        "    random_state=42\n",
        ")\n",
        "\n",
        "#Train the model using the training sets y_pred=clf.predict(X_test)\n",
        "random_search.fit(X,y)\n",
        "\n",
        "pprint(random_search.best_estimator_)\n",
        "pprint(random_search.best_params_)\n",
        "pd.DataFrame(random_search.cv_results_)\n",
        "\n",
        "print(\"\\nSaving model\\n\")\n",
        "\n",
        "clf = random_search.best_estimator_\n",
        "\n",
        "clf.fit(X,y)\n",
        "\n",
        "# Save the best model to disk\n",
        "\n",
        "print(\"\\nSaving model\\n\")\n",
        "\n",
        "filename = location + 'biospec_mlp_smote' + '.sav'\n",
        "pickle.dump(clf, open(filename, 'wb'))"
      ]
    },
    {
      "cell_type": "code",
      "execution_count": null,
      "metadata": {
        "colab": {
          "base_uri": "https://localhost:8080/",
          "height": 673
        },
        "outputId": "ccf45a66-541f-4f35-ade5-44d3db6d6dd2",
        "id": "Llnlfkyh2tWq"
      },
      "outputs": [
        {
          "output_type": "stream",
          "name": "stdout",
          "text": [
            "AUC-ROC =  0.648936170212766\n",
            "AUC-PR =  0.8421537699084024\n",
            "F1 score =  0.75\n",
            "Precision =  0.8048780487804879\n",
            "Recall =  0.7021276595744681\n",
            "              precision    recall  f1-score   support\n",
            "\n",
            "           0       0.40      0.54      0.46        35\n",
            "           1       0.80      0.70      0.75        94\n",
            "\n",
            "    accuracy                           0.66       129\n",
            "   macro avg       0.60      0.62      0.61       129\n",
            "weighted avg       0.70      0.66      0.67       129\n",
            "\n"
          ]
        },
        {
          "output_type": "display_data",
          "data": {
            "text/plain": [
              "<Figure size 640x480 with 2 Axes>"
            ],
            "image/png": "[encoded data removed]"
          },
          "metadata": {}
        }
      ],
      "source": [
        "# Load the model from disk\n",
        "filename = location + 'biospec_mlp_smote' + '.sav'\n",
        "clf_mlp_smote = pickle.load(open(filename, 'rb'))\n",
        "\n",
        "# Predictions and evaluation\n",
        "y_pred = clf_mlp_smote.predict(X_test)\n",
        "y_pred_proba = clf_mlp_smote.predict_proba(X_test)[:, 1]\n",
        "\n",
        "# Display metrics\n",
        "print(\"AUC-ROC = \", roc_auc_score(y_test, y_pred_proba))\n",
        "print(\"AUC-PR = \", average_precision_score(y_test, y_pred_proba))\n",
        "print(\"F1 score = \", f1_score(y_test, y_pred))\n",
        "print(\"Precision = \", precision_score(y_test, y_pred))\n",
        "print(\"Recall = \", recall_score(y_test, y_pred))\n",
        "print(classification_report(y_test, y_pred))\n",
        "\n",
        "# Plotting the confusion matrix\n",
        "cf_matrix = confusion_matrix(y_test, y_pred)\n",
        "sns.heatmap(cf_matrix, annot=True)\n",
        "# plt.title(\"Confusion Matrix - MLP with SMOTE\")\n",
        "plt.show()\n"
      ]
    },
    {
      "cell_type": "code",
      "execution_count": null,
      "metadata": {
        "colab": {
          "base_uri": "https://localhost:8080/",
          "height": 611
        },
        "outputId": "f7d4d887-88fe-4891-effa-c3ab86b12205",
        "id": "Riy3UqPW2tWr"
      },
      "outputs": [
        {
          "output_type": "stream",
          "name": "stdout",
          "text": [
            "Pipeline(steps=[('smote', SMOTE(random_state=42, sampling_strategy=1.0)),\n",
            "                ('mlp',\n",
            "                 MLPClassifier(alpha=0.026826957952797246, batch_size=128,\n",
            "                               early_stopping=True,\n",
            "                               hidden_layer_sizes=(60, 60, 60),\n",
            "                               learning_rate='adaptive', max_iter=500,\n",
            "                               momentum=0.5, n_iter_no_change=5,\n",
            "                               random_state=42))])\n"
          ]
        },
        {
          "output_type": "display_data",
          "data": {
            "text/plain": [
              "<Figure size 640x480 with 1 Axes>"
            ],
            "image/png": "[encoded data removed]"
          },
          "metadata": {}
        }
      ],
      "source": [
        "ax = plt.gca()\n",
        "X_list = [X, X_test]\n",
        "y_list = [y, y_test]\n",
        "name_list = [\"Train\", \"Test\"]\n",
        "\n",
        "print(clf_mlp_smote)\n",
        "\n",
        "for i in range(2):\n",
        "    RocCurveDisplay.from_estimator(clf_mlp_smote, X_list[i], y_list[i], name=name_list[i], ax=ax)\n",
        "plt.plot([0, 1], [0, 1], linestyle='--', color='green')\n",
        "plt.legend()\n",
        "plt.xlabel(\"False Positive Rate\")\n",
        "plt.ylabel(\"True Positive Rate\")\n",
        "plt.title(\"AUC (ROC Curve) - MLP with SMOTE\")\n",
        "plt.show()"
      ]
    },
    {
      "cell_type": "markdown",
      "metadata": {
        "id": "r_mzFqdL-E4Y"
      },
      "source": [
        "# **Training the Ensemble Model**\n",
        "\n",
        "---\n",
        "\n"
      ]
    },
    {
      "cell_type": "code",
      "source": [
        "from sklearn.ensemble import VotingClassifier"
      ],
      "metadata": {
        "id": "AaboTYCqnGLK"
      },
      "execution_count": null,
      "outputs": []
    },
    {
      "cell_type": "code",
      "source": [
        "clf_rf = pickle.load(open(location + 'biospec_RF.sav', 'rb'))\n",
        "clf_gnb = pickle.load(open(location + 'biospec_GNB.sav', 'rb'))\n",
        "clf_svm = pickle.load(open(location + 'biospec_SVM.sav', 'rb'))\n",
        "clf_logReg = pickle.load(open(location + 'biospec_logReg.sav', 'rb'))\n",
        "clf_lgbm = pickle.load(open(location + 'biospec_lgbm.sav', 'rb'))\n",
        "clf_mlp = pickle.load(open(location + 'biospec_mlp.sav', 'rb'))\n",
        "clf_mlp_smote = pickle.load(open(location + 'biospec_mlp_smote.sav', 'rb'))\n"
      ],
      "metadata": {
        "id": "TEEA3jqTkUIk"
      },
      "execution_count": null,
      "outputs": []
    },
    {
      "cell_type": "code",
      "source": [
        "clf = VotingClassifier(\n",
        "    estimators=[\n",
        "        ('rf', clf_rf),\n",
        "        ('gnb', clf_gnb),\n",
        "        ('svm', clf_svm),\n",
        "        ('logReg', clf_logReg),\n",
        "        ('lgbm', clf_lgbm),\n",
        "        ('mlp', clf_mlp),\n",
        "        ('mlp_smote', clf_mlp_smote)\n",
        "    ],\n",
        "    voting='soft'\n",
        ")\n",
        "\n",
        "hp = {\n",
        "    'voting': ['hard', 'soft'],\n",
        "    'flatten_transform': [True, False]\n",
        "}\n",
        "\n",
        "# Run randomized search\n",
        "print(\"\\nStarting randomized search for Ensemble\\n\")\n",
        "n_iter_search = 100\n",
        "n_jobs_val = -1\n",
        "random_search = RandomizedSearchCV(clf,\n",
        "                                   param_distributions=hp,\n",
        "                                   n_iter=n_iter_search,\n",
        "                                   cv=StratifiedKFold(n_splits=5),\n",
        "                                   verbose=5,\n",
        "                                   scoring=custom_scorer,\n",
        "                                   return_train_score=True,\n",
        "                                   n_jobs=n_jobs_val)\n",
        "\n",
        "# Train the model\n",
        "random_search.fit(X, y)\n",
        "\n",
        "pprint(random_search.best_estimator_)\n",
        "pprint(random_search.best_params_)\n",
        "pd.DataFrame(random_search.cv_results_)\n",
        "\n",
        "print(\"\\nSaving ensemble model\\n\")\n",
        "\n",
        "clf = random_search.best_estimator_\n",
        "\n",
        "# Train the model using the entire dataset\n",
        "clf.fit(X, y)\n",
        "\n",
        "# Save the model to disk\n",
        "filename = location + 'biospec_Ensemble.sav'\n",
        "pickle.dump(clf, open(filename, 'wb'))"
      ],
      "metadata": {
        "colab": {
          "base_uri": "https://localhost:8080/"
        },
        "id": "NLleRWnrkT7o",
        "outputId": "1fd17668-5793-430b-906f-19ae3001fdd4"
      },
      "execution_count": null,
      "outputs": [
        {
          "output_type": "stream",
          "name": "stdout",
          "text": [
            "\n",
            "Starting randomized search for Ensemble\n",
            "\n",
            "Fitting 5 folds for each of 2 candidates, totalling 10 fits\n"
          ]
        },
        {
          "output_type": "stream",
          "name": "stderr",
          "text": [
            "/usr/local/lib/python3.10/dist-packages/sklearn/model_selection/_search.py:320: UserWarning: The total space of parameters 2 is smaller than n_iter=100. Running 2 iterations. For exhaustive searches, use GridSearchCV.\n",
            "  warnings.warn(\n",
            "/usr/local/lib/python3.10/dist-packages/sklearn/linear_model/_logistic.py:1197: UserWarning: l1_ratio parameter is only used when penalty is 'elasticnet'. Got (penalty=l2)\n",
            "  warnings.warn(\n",
            "/usr/local/lib/python3.10/dist-packages/sklearn/linear_model/_logistic.py:1256: FutureWarning: 'multi_class' was deprecated in version 1.5 and will be removed in 1.7. Use OneVsRestClassifier(LogisticRegression(..)) instead. Leave it to its default value to avoid this warning.\n",
            "  warnings.warn(\n"
          ]
        },
        {
          "output_type": "stream",
          "name": "stdout",
          "text": [
            "[LightGBM] [Info] Number of positive: 362, number of negative: 150\n",
            "[LightGBM] [Info] Auto-choosing col-wise multi-threading, the overhead of testing was 0.000070 seconds.\n",
            "You can set `force_col_wise=true` to remove the overhead.\n",
            "[LightGBM] [Info] Total Bins 855\n",
            "[LightGBM] [Info] Number of data points in the train set: 512, number of used features: 5\n",
            "[LightGBM] [Info] [binary:BoostFromScore]: pavg=0.592659 -> initscore=0.374970\n",
            "[LightGBM] [Info] Start training from score 0.374970\n",
            "[LightGBM] [Warning] No further splits with positive gain, best gain: -inf\n",
            "[LightGBM] [Warning] No further splits with positive gain, best gain: -inf\n",
            "[LightGBM] [Warning] No further splits with positive gain, best gain: -inf\n",
            "[LightGBM] [Warning] No further splits with positive gain, best gain: -inf\n",
            "[LightGBM] [Warning] No further splits with positive gain, best gain: -inf\n",
            "[LightGBM] [Warning] No further splits with positive gain, best gain: -inf\n",
            "[LightGBM] [Warning] No further splits with positive gain, best gain: -inf\n",
            "[LightGBM] [Warning] No further splits with positive gain, best gain: -inf\n",
            "[LightGBM] [Warning] No further splits with positive gain, best gain: -inf\n",
            "[LightGBM] [Warning] No further splits with positive gain, best gain: -inf\n",
            "[LightGBM] [Warning] No further splits with positive gain, best gain: -inf\n",
            "[LightGBM] [Warning] No further splits with positive gain, best gain: -inf\n",
            "[LightGBM] [Warning] No further splits with positive gain, best gain: -inf\n",
            "[LightGBM] [Warning] No further splits with positive gain, best gain: -inf\n",
            "[LightGBM] [Warning] No further splits with positive gain, best gain: -inf\n",
            "[LightGBM] [Warning] No further splits with positive gain, best gain: -inf\n",
            "[LightGBM] [Warning] No further splits with positive gain, best gain: -inf\n",
            "[LightGBM] [Warning] No further splits with positive gain, best gain: -inf\n",
            "[LightGBM] [Warning] No further splits with positive gain, best gain: -inf\n",
            "[LightGBM] [Warning] No further splits with positive gain, best gain: -inf\n",
            "[LightGBM] [Warning] No further splits with positive gain, best gain: -inf\n",
            "[LightGBM] [Warning] No further splits with positive gain, best gain: -inf\n",
            "[LightGBM] [Warning] No further splits with positive gain, best gain: -inf\n",
            "[LightGBM] [Warning] No further splits with positive gain, best gain: -inf\n",
            "[LightGBM] [Warning] No further splits with positive gain, best gain: -inf\n",
            "[LightGBM] [Warning] No further splits with positive gain, best gain: -inf\n",
            "[LightGBM] [Warning] No further splits with positive gain, best gain: -inf\n",
            "[LightGBM] [Warning] No further splits with positive gain, best gain: -inf\n",
            "[LightGBM] [Warning] No further splits with positive gain, best gain: -inf\n",
            "[LightGBM] [Warning] No further splits with positive gain, best gain: -inf\n",
            "[LightGBM] [Warning] No further splits with positive gain, best gain: -inf\n",
            "[LightGBM] [Warning] No further splits with positive gain, best gain: -inf\n",
            "[LightGBM] [Warning] No further splits with positive gain, best gain: -inf\n",
            "[LightGBM] [Warning] No further splits with positive gain, best gain: -inf\n",
            "[LightGBM] [Warning] No further splits with positive gain, best gain: -inf\n",
            "[LightGBM] [Warning] No further splits with positive gain, best gain: -inf\n",
            "[LightGBM] [Warning] No further splits with positive gain, best gain: -inf\n",
            "[LightGBM] [Warning] No further splits with positive gain, best gain: -inf\n",
            "[LightGBM] [Warning] No further splits with positive gain, best gain: -inf\n",
            "[LightGBM] [Warning] No further splits with positive gain, best gain: -inf\n",
            "[LightGBM] [Warning] No further splits with positive gain, best gain: -inf\n",
            "[LightGBM] [Warning] No further splits with positive gain, best gain: -inf\n",
            "[LightGBM] [Warning] No further splits with positive gain, best gain: -inf\n",
            "[LightGBM] [Warning] No further splits with positive gain, best gain: -inf\n",
            "[LightGBM] [Warning] No further splits with positive gain, best gain: -inf\n",
            "[LightGBM] [Warning] No further splits with positive gain, best gain: -inf\n",
            "[LightGBM] [Warning] No further splits with positive gain, best gain: -inf\n",
            "[LightGBM] [Warning] No further splits with positive gain, best gain: -inf\n",
            "[LightGBM] [Warning] No further splits with positive gain, best gain: -inf\n",
            "[LightGBM] [Warning] No further splits with positive gain, best gain: -inf\n",
            "[LightGBM] [Warning] No further splits with positive gain, best gain: -inf\n",
            "[LightGBM] [Warning] No further splits with positive gain, best gain: -inf\n",
            "[LightGBM] [Warning] No further splits with positive gain, best gain: -inf\n",
            "[LightGBM] [Warning] No further splits with positive gain, best gain: -inf\n",
            "[LightGBM] [Warning] No further splits with positive gain, best gain: -inf\n",
            "[LightGBM] [Warning] No further splits with positive gain, best gain: -inf\n",
            "[LightGBM] [Warning] No further splits with positive gain, best gain: -inf\n",
            "[LightGBM] [Warning] No further splits with positive gain, best gain: -inf\n",
            "[LightGBM] [Warning] No further splits with positive gain, best gain: -inf\n",
            "[LightGBM] [Warning] No further splits with positive gain, best gain: -inf\n",
            "[LightGBM] [Warning] No further splits with positive gain, best gain: -inf\n",
            "[LightGBM] [Warning] No further splits with positive gain, best gain: -inf\n",
            "[LightGBM] [Warning] No further splits with positive gain, best gain: -inf\n",
            "[LightGBM] [Warning] No further splits with positive gain, best gain: -inf\n",
            "[LightGBM] [Warning] No further splits with positive gain, best gain: -inf\n",
            "[LightGBM] [Warning] No further splits with positive gain, best gain: -inf\n",
            "[LightGBM] [Warning] No further splits with positive gain, best gain: -inf\n",
            "[LightGBM] [Warning] No further splits with positive gain, best gain: -inf\n",
            "[LightGBM] [Warning] No further splits with positive gain, best gain: -inf\n",
            "[LightGBM] [Warning] No further splits with positive gain, best gain: -inf\n",
            "[LightGBM] [Warning] No further splits with positive gain, best gain: -inf\n",
            "[LightGBM] [Warning] No further splits with positive gain, best gain: -inf\n",
            "[LightGBM] [Warning] No further splits with positive gain, best gain: -inf\n",
            "[LightGBM] [Warning] No further splits with positive gain, best gain: -inf\n",
            "[LightGBM] [Warning] No further splits with positive gain, best gain: -inf\n",
            "[LightGBM] [Warning] No further splits with positive gain, best gain: -inf\n",
            "[LightGBM] [Warning] No further splits with positive gain, best gain: -inf\n",
            "[LightGBM] [Warning] No further splits with positive gain, best gain: -inf\n",
            "[LightGBM] [Warning] No further splits with positive gain, best gain: -inf\n",
            "[LightGBM] [Warning] No further splits with positive gain, best gain: -inf\n",
            "[LightGBM] [Warning] No further splits with positive gain, best gain: -inf\n",
            "[LightGBM] [Warning] No further splits with positive gain, best gain: -inf\n",
            "[LightGBM] [Warning] No further splits with positive gain, best gain: -inf\n",
            "[LightGBM] [Warning] No further splits with positive gain, best gain: -inf\n",
            "[LightGBM] [Warning] No further splits with positive gain, best gain: -inf\n",
            "[LightGBM] [Warning] No further splits with positive gain, best gain: -inf\n",
            "[LightGBM] [Warning] No further splits with positive gain, best gain: -inf\n",
            "[LightGBM] [Warning] No further splits with positive gain, best gain: -inf\n",
            "[LightGBM] [Warning] No further splits with positive gain, best gain: -inf\n",
            "[LightGBM] [Warning] No further splits with positive gain, best gain: -inf\n",
            "[LightGBM] [Warning] No further splits with positive gain, best gain: -inf\n",
            "[LightGBM] [Warning] No further splits with positive gain, best gain: -inf\n",
            "[LightGBM] [Warning] No further splits with positive gain, best gain: -inf\n",
            "[LightGBM] [Warning] No further splits with positive gain, best gain: -inf\n",
            "[LightGBM] [Warning] No further splits with positive gain, best gain: -inf\n",
            "[LightGBM] [Warning] No further splits with positive gain, best gain: -inf\n",
            "[LightGBM] [Warning] No further splits with positive gain, best gain: -inf\n",
            "[LightGBM] [Warning] No further splits with positive gain, best gain: -inf\n",
            "[LightGBM] [Warning] No further splits with positive gain, best gain: -inf\n",
            "[LightGBM] [Warning] No further splits with positive gain, best gain: -inf\n",
            "VotingClassifier(estimators=[('rf',\n",
            "                              RandomForestClassifier(bootstrap=False,\n",
            "                                                     class_weight={0: 0.7353061224489796,\n",
            "                                                                   1: 0.26469387755102036},\n",
            "                                                     criterion='entropy',\n",
            "                                                     max_depth=1,\n",
            "                                                     max_features=4,\n",
            "                                                     n_estimators=180)),\n",
            "                             ('gnb',\n",
            "                              GaussianNB(var_smoothing=0.12067926406393285)),\n",
            "                             ('svm',\n",
            "                              SVC(C=100,\n",
            "                                  class_weight={0: 0.7273469387755102,\n",
            "                                                1: 0.27265306122448985},\n",
            "                                  gamma='auto', kernel='po...\n",
            "                                            max_iter=500, momentum=0.5,\n",
            "                                            random_state=42, solver='sgd')),\n",
            "                             ('mlp_smote',\n",
            "                              Pipeline(steps=[('smote',\n",
            "                                               SMOTE(random_state=42,\n",
            "                                                     sampling_strategy=1.0)),\n",
            "                                              ('mlp',\n",
            "                                               MLPClassifier(alpha=0.026826957952797246,\n",
            "                                                             batch_size=128,\n",
            "                                                             early_stopping=True,\n",
            "                                                             hidden_layer_sizes=(60,\n",
            "                                                                                 60,\n",
            "                                                                                 60),\n",
            "                                                             learning_rate='adaptive',\n",
            "                                                             max_iter=500,\n",
            "                                                             momentum=0.5,\n",
            "                                                             n_iter_no_change=5,\n",
            "                                                             random_state=42))]))],\n",
            "                 voting='soft')\n",
            "{'flatten_transform': True, 'voting': 'soft'}\n",
            "\n",
            "Saving ensemble model\n",
            "\n"
          ]
        },
        {
          "output_type": "stream",
          "name": "stderr",
          "text": [
            "/usr/local/lib/python3.10/dist-packages/sklearn/linear_model/_logistic.py:1197: UserWarning: l1_ratio parameter is only used when penalty is 'elasticnet'. Got (penalty=l2)\n",
            "  warnings.warn(\n",
            "/usr/local/lib/python3.10/dist-packages/sklearn/linear_model/_logistic.py:1256: FutureWarning: 'multi_class' was deprecated in version 1.5 and will be removed in 1.7. Use OneVsRestClassifier(LogisticRegression(..)) instead. Leave it to its default value to avoid this warning.\n",
            "  warnings.warn(\n"
          ]
        },
        {
          "output_type": "stream",
          "name": "stdout",
          "text": [
            "[LightGBM] [Info] Number of positive: 362, number of negative: 150\n",
            "[LightGBM] [Info] Auto-choosing col-wise multi-threading, the overhead of testing was 0.000065 seconds.\n",
            "You can set `force_col_wise=true` to remove the overhead.\n",
            "[LightGBM] [Info] Total Bins 855\n",
            "[LightGBM] [Info] Number of data points in the train set: 512, number of used features: 5\n",
            "[LightGBM] [Info] [binary:BoostFromScore]: pavg=0.592659 -> initscore=0.374970\n",
            "[LightGBM] [Info] Start training from score 0.374970\n",
            "[LightGBM] [Warning] No further splits with positive gain, best gain: -inf\n",
            "[LightGBM] [Warning] No further splits with positive gain, best gain: -inf\n",
            "[LightGBM] [Warning] No further splits with positive gain, best gain: -inf\n",
            "[LightGBM] [Warning] No further splits with positive gain, best gain: -inf\n",
            "[LightGBM] [Warning] No further splits with positive gain, best gain: -inf\n",
            "[LightGBM] [Warning] No further splits with positive gain, best gain: -inf\n",
            "[LightGBM] [Warning] No further splits with positive gain, best gain: -inf\n",
            "[LightGBM] [Warning] No further splits with positive gain, best gain: -inf\n",
            "[LightGBM] [Warning] No further splits with positive gain, best gain: -inf\n",
            "[LightGBM] [Warning] No further splits with positive gain, best gain: -inf\n",
            "[LightGBM] [Warning] No further splits with positive gain, best gain: -inf\n",
            "[LightGBM] [Warning] No further splits with positive gain, best gain: -inf\n",
            "[LightGBM] [Warning] No further splits with positive gain, best gain: -inf\n",
            "[LightGBM] [Warning] No further splits with positive gain, best gain: -inf\n",
            "[LightGBM] [Warning] No further splits with positive gain, best gain: -inf\n",
            "[LightGBM] [Warning] No further splits with positive gain, best gain: -inf\n",
            "[LightGBM] [Warning] No further splits with positive gain, best gain: -inf\n",
            "[LightGBM] [Warning] No further splits with positive gain, best gain: -inf\n",
            "[LightGBM] [Warning] No further splits with positive gain, best gain: -inf\n",
            "[LightGBM] [Warning] No further splits with positive gain, best gain: -inf\n",
            "[LightGBM] [Warning] No further splits with positive gain, best gain: -inf\n",
            "[LightGBM] [Warning] No further splits with positive gain, best gain: -inf\n",
            "[LightGBM] [Warning] No further splits with positive gain, best gain: -inf\n",
            "[LightGBM] [Warning] No further splits with positive gain, best gain: -inf\n",
            "[LightGBM] [Warning] No further splits with positive gain, best gain: -inf\n",
            "[LightGBM] [Warning] No further splits with positive gain, best gain: -inf\n",
            "[LightGBM] [Warning] No further splits with positive gain, best gain: -inf\n",
            "[LightGBM] [Warning] No further splits with positive gain, best gain: -inf\n",
            "[LightGBM] [Warning] No further splits with positive gain, best gain: -inf\n",
            "[LightGBM] [Warning] No further splits with positive gain, best gain: -inf\n",
            "[LightGBM] [Warning] No further splits with positive gain, best gain: -inf\n",
            "[LightGBM] [Warning] No further splits with positive gain, best gain: -inf\n",
            "[LightGBM] [Warning] No further splits with positive gain, best gain: -inf\n",
            "[LightGBM] [Warning] No further splits with positive gain, best gain: -inf\n",
            "[LightGBM] [Warning] No further splits with positive gain, best gain: -inf\n",
            "[LightGBM] [Warning] No further splits with positive gain, best gain: -inf\n",
            "[LightGBM] [Warning] No further splits with positive gain, best gain: -inf\n",
            "[LightGBM] [Warning] No further splits with positive gain, best gain: -inf\n",
            "[LightGBM] [Warning] No further splits with positive gain, best gain: -inf\n",
            "[LightGBM] [Warning] No further splits with positive gain, best gain: -inf\n",
            "[LightGBM] [Warning] No further splits with positive gain, best gain: -inf\n",
            "[LightGBM] [Warning] No further splits with positive gain, best gain: -inf\n",
            "[LightGBM] [Warning] No further splits with positive gain, best gain: -inf\n",
            "[LightGBM] [Warning] No further splits with positive gain, best gain: -inf\n",
            "[LightGBM] [Warning] No further splits with positive gain, best gain: -inf\n",
            "[LightGBM] [Warning] No further splits with positive gain, best gain: -inf\n",
            "[LightGBM] [Warning] No further splits with positive gain, best gain: -inf\n",
            "[LightGBM] [Warning] No further splits with positive gain, best gain: -inf\n",
            "[LightGBM] [Warning] No further splits with positive gain, best gain: -inf\n",
            "[LightGBM] [Warning] No further splits with positive gain, best gain: -inf\n",
            "[LightGBM] [Warning] No further splits with positive gain, best gain: -inf\n",
            "[LightGBM] [Warning] No further splits with positive gain, best gain: -inf\n",
            "[LightGBM] [Warning] No further splits with positive gain, best gain: -inf\n",
            "[LightGBM] [Warning] No further splits with positive gain, best gain: -inf\n",
            "[LightGBM] [Warning] No further splits with positive gain, best gain: -inf\n",
            "[LightGBM] [Warning] No further splits with positive gain, best gain: -inf\n",
            "[LightGBM] [Warning] No further splits with positive gain, best gain: -inf\n",
            "[LightGBM] [Warning] No further splits with positive gain, best gain: -inf\n",
            "[LightGBM] [Warning] No further splits with positive gain, best gain: -inf\n",
            "[LightGBM] [Warning] No further splits with positive gain, best gain: -inf\n",
            "[LightGBM] [Warning] No further splits with positive gain, best gain: -inf\n",
            "[LightGBM] [Warning] No further splits with positive gain, best gain: -inf\n",
            "[LightGBM] [Warning] No further splits with positive gain, best gain: -inf\n",
            "[LightGBM] [Warning] No further splits with positive gain, best gain: -inf\n",
            "[LightGBM] [Warning] No further splits with positive gain, best gain: -inf\n",
            "[LightGBM] [Warning] No further splits with positive gain, best gain: -inf\n",
            "[LightGBM] [Warning] No further splits with positive gain, best gain: -inf\n",
            "[LightGBM] [Warning] No further splits with positive gain, best gain: -inf\n",
            "[LightGBM] [Warning] No further splits with positive gain, best gain: -inf\n",
            "[LightGBM] [Warning] No further splits with positive gain, best gain: -inf\n",
            "[LightGBM] [Warning] No further splits with positive gain, best gain: -inf\n",
            "[LightGBM] [Warning] No further splits with positive gain, best gain: -inf\n",
            "[LightGBM] [Warning] No further splits with positive gain, best gain: -inf\n",
            "[LightGBM] [Warning] No further splits with positive gain, best gain: -inf\n",
            "[LightGBM] [Warning] No further splits with positive gain, best gain: -inf\n",
            "[LightGBM] [Warning] No further splits with positive gain, best gain: -inf\n",
            "[LightGBM] [Warning] No further splits with positive gain, best gain: -inf\n",
            "[LightGBM] [Warning] No further splits with positive gain, best gain: -inf\n",
            "[LightGBM] [Warning] No further splits with positive gain, best gain: -inf\n",
            "[LightGBM] [Warning] No further splits with positive gain, best gain: -inf\n",
            "[LightGBM] [Warning] No further splits with positive gain, best gain: -inf\n",
            "[LightGBM] [Warning] No further splits with positive gain, best gain: -inf\n",
            "[LightGBM] [Warning] No further splits with positive gain, best gain: -inf\n",
            "[LightGBM] [Warning] No further splits with positive gain, best gain: -inf\n",
            "[LightGBM] [Warning] No further splits with positive gain, best gain: -inf\n",
            "[LightGBM] [Warning] No further splits with positive gain, best gain: -inf\n",
            "[LightGBM] [Warning] No further splits with positive gain, best gain: -inf\n",
            "[LightGBM] [Warning] No further splits with positive gain, best gain: -inf\n",
            "[LightGBM] [Warning] No further splits with positive gain, best gain: -inf\n",
            "[LightGBM] [Warning] No further splits with positive gain, best gain: -inf\n",
            "[LightGBM] [Warning] No further splits with positive gain, best gain: -inf\n",
            "[LightGBM] [Warning] No further splits with positive gain, best gain: -inf\n",
            "[LightGBM] [Warning] No further splits with positive gain, best gain: -inf\n",
            "[LightGBM] [Warning] No further splits with positive gain, best gain: -inf\n",
            "[LightGBM] [Warning] No further splits with positive gain, best gain: -inf\n",
            "[LightGBM] [Warning] No further splits with positive gain, best gain: -inf\n",
            "[LightGBM] [Warning] No further splits with positive gain, best gain: -inf\n",
            "[LightGBM] [Warning] No further splits with positive gain, best gain: -inf\n",
            "[LightGBM] [Warning] No further splits with positive gain, best gain: -inf\n",
            "[LightGBM] [Warning] No further splits with positive gain, best gain: -inf\n"
          ]
        }
      ]
    },
    {
      "cell_type": "code",
      "source": [
        "# Load the model from disk\n",
        "filename = location + 'biospec_Ensemble.sav'\n",
        "clf_ensemble = pickle.load(open(filename, 'rb'))\n",
        "\n",
        "# Make predictions\n",
        "y_pred = clf_ensemble.predict(X_test)\n",
        "y_pred_proba = clf_ensemble.predict_proba(X_test)[:, 1]\n",
        "\n",
        "# Print performance metrics\n",
        "print(\"AUC-ROC = \", roc_auc_score(y_test, y_pred_proba))\n",
        "print(\"AUC-PR = \", average_precision_score(y_test, y_pred_proba))\n",
        "print(\"F1 score = \", f1_score(y_test, y_pred))\n",
        "print(\"Precision = \", precision_score(y_test, y_pred))\n",
        "print(\"Recall = \", recall_score(y_test, y_pred))\n",
        "print(classification_report(y_test, y_pred))\n",
        "\n",
        "# Plot confusion matrix\n",
        "cf_matrix = confusion_matrix(y_test, y_pred)\n",
        "sns.heatmap(cf_matrix, annot=True)\n",
        "plt.title(\"Confusion Matrix - Ensemble\")\n",
        "plt.show()\n"
      ],
      "metadata": {
        "colab": {
          "base_uri": "https://localhost:8080/",
          "height": 695
        },
        "id": "ZPgFwZmhqRlW",
        "outputId": "e275e3c0-fa26-4a9e-ebec-a5e8807c3baa"
      },
      "execution_count": null,
      "outputs": [
        {
          "output_type": "stream",
          "name": "stdout",
          "text": [
            "AUC-ROC =  0.6829787234042553\n",
            "AUC-PR =  0.8741944675450521\n",
            "F1 score =  0.8095238095238095\n",
            "Precision =  0.7327586206896551\n",
            "Recall =  0.9042553191489362\n",
            "              precision    recall  f1-score   support\n",
            "\n",
            "           0       0.31      0.11      0.17        35\n",
            "           1       0.73      0.90      0.81        94\n",
            "\n",
            "    accuracy                           0.69       129\n",
            "   macro avg       0.52      0.51      0.49       129\n",
            "weighted avg       0.62      0.69      0.64       129\n",
            "\n"
          ]
        },
        {
          "output_type": "display_data",
          "data": {
            "text/plain": [
              "<Figure size 640x480 with 2 Axes>"
            ],
            "image/png": "[encoded data removed]"
          },
          "metadata": {}
        }
      ]
    },
    {
      "cell_type": "code",
      "source": [
        "ax = plt.gca()\n",
        "X_list = [X, X_test]\n",
        "y_list = [y, y_test]\n",
        "name_list = [\"Train\", \"Test\"]\n",
        "\n",
        "print(clf_ensemble)\n",
        "\n",
        "for i in range(2):\n",
        "    RocCurveDisplay.from_estimator(clf_ensemble, X_list[i], y_list[i], name=name_list[i], ax=ax)\n",
        "plt.plot([0, 1], [0, 1], linestyle='--', color='green')\n",
        "plt.legend()\n",
        "plt.xlabel(\"False Positive Rate\")\n",
        "plt.ylabel(\"True Positive Rate\")\n",
        "plt.title(\"AUC (ROC Curve) - Ensemble\")\n",
        "plt.show()"
      ],
      "metadata": {
        "colab": {
          "base_uri": "https://localhost:8080/",
          "height": 1000
        },
        "id": "naPXtkj0qRdR",
        "outputId": "cae94e0c-d69d-4ba8-983c-7be12b487c01"
      },
      "execution_count": null,
      "outputs": [
        {
          "output_type": "stream",
          "name": "stdout",
          "text": [
            "VotingClassifier(estimators=[('rf',\n",
            "                              RandomForestClassifier(bootstrap=False,\n",
            "                                                     class_weight={0: 0.7353061224489796,\n",
            "                                                                   1: 0.26469387755102036},\n",
            "                                                     criterion='entropy',\n",
            "                                                     max_depth=1,\n",
            "                                                     max_features=4,\n",
            "                                                     n_estimators=180)),\n",
            "                             ('gnb',\n",
            "                              GaussianNB(var_smoothing=0.12067926406393285)),\n",
            "                             ('svm',\n",
            "                              SVC(C=100,\n",
            "                                  class_weight={0: 0.7273469387755102,\n",
            "                                                1: 0.27265306122448985},\n",
            "                                  gamma='auto', kernel='po...\n",
            "                                            max_iter=500, momentum=0.5,\n",
            "                                            random_state=42, solver='sgd')),\n",
            "                             ('mlp_smote',\n",
            "                              Pipeline(steps=[('smote',\n",
            "                                               SMOTE(random_state=42,\n",
            "                                                     sampling_strategy=1.0)),\n",
            "                                              ('mlp',\n",
            "                                               MLPClassifier(alpha=0.026826957952797246,\n",
            "                                                             batch_size=128,\n",
            "                                                             early_stopping=True,\n",
            "                                                             hidden_layer_sizes=(60,\n",
            "                                                                                 60,\n",
            "                                                                                 60),\n",
            "                                                             learning_rate='adaptive',\n",
            "                                                             max_iter=500,\n",
            "                                                             momentum=0.5,\n",
            "                                                             n_iter_no_change=5,\n",
            "                                                             random_state=42))]))],\n",
            "                 voting='soft')\n"
          ]
        },
        {
          "output_type": "display_data",
          "data": {
            "text/plain": [
              "<Figure size 640x480 with 1 Axes>"
            ],
            "image/png": "[encoded data removed]"
          },
          "metadata": {}
        }
      ]
    },
    {
      "cell_type": "markdown",
      "metadata": {
        "id": "ppOf6wdilEhb"
      },
      "source": [
        "## **ROC Curve**\n",
        "\n",
        "---"
      ]
    },
    {
      "cell_type": "code",
      "execution_count": null,
      "metadata": {
        "colab": {
          "base_uri": "https://localhost:8080/",
          "height": 472
        },
        "id": "BcbRvm23kvhW",
        "outputId": "4bfc6750-9699-4018-fb19-258b42174f14"
      },
      "outputs": [
        {
          "output_type": "display_data",
          "data": {
            "text/plain": [
              "<Figure size 640x480 with 1 Axes>"
            ],
            "image/png": "[encoded data removed]"
          },
          "metadata": {}
        }
      ],
      "source": [
        "ax = plt.gca()\n",
        "classifiers = [clf_rf, clf_gnb, clf_svm, clf_logReg, clf_lgbm, clf_mlp, clf_mlp_smote, clf_ensemble]\n",
        "\n",
        "for i in classifiers:\n",
        "    RocCurveDisplay.from_estimator(i, X_test, y_test, ax=ax)\n",
        "# plt.plot(fpr_test, tpr_test, label='ANN (AUC = {:.2f})'.format(auc_test))\n",
        "plt.plot([0,1],[0,1],'g--')\n",
        "plt.legend()\n",
        "plt.xlabel(\"True Positive Rate\")\n",
        "plt.ylabel(\"False Positive Rate\")\n",
        "plt.title(\"AUC (ROC curve)\")\n",
        "plt.show()"
      ]
    },
    {
      "cell_type": "code",
      "source": [],
      "metadata": {
        "id": "4E3XiwUcHdKa"
      },
      "execution_count": null,
      "outputs": []
    },
    {
      "cell_type": "markdown",
      "metadata": {
        "id": "SVfWDPeKeeYn"
      },
      "source": [
        "# **NN**\n",
        "\n",
        "---\n",
        "\n"
      ]
    },
    {
      "cell_type": "markdown",
      "metadata": {
        "id": "Cq0gF888lsts"
      },
      "source": [
        "#### **Defining Train_data, Val_data and Test data**\n",
        "\n",
        "---\n",
        "\n"
      ]
    },
    {
      "cell_type": "code",
      "execution_count": null,
      "metadata": {
        "colab": {
          "base_uri": "https://localhost:8080/"
        },
        "id": "xX0kCnqGeVMr",
        "outputId": "d7bb2a54-b37d-48c9-89f0-be8e33c40a88"
      },
      "outputs": [
        {
          "output_type": "stream",
          "name": "stdout",
          "text": [
            "384 128 129\n"
          ]
        }
      ],
      "source": [
        "# dataset = df.values\n",
        "\n",
        "# train_length = int(0.6*len(df))\n",
        "# val_length = int(0.2*len(df))\n",
        "# test_length = int(0.2*len(df))+1\n",
        "\n",
        "# X = dataset[:train_length,0:input_columns]\n",
        "# y = dataset[:train_length, -1].reshape(train_length, 1)\n",
        "\n",
        "# X_valid = dataset[train_length: (train_length + val_length), 0:input_columns]\n",
        "# y_valid = dataset[train_length: (train_length + val_length), -1].reshape(val_length, 1)\n",
        "\n",
        "# X_test = dataset[(train_length + val_length): (train_length + val_length + test_length), 0:input_columns]\n",
        "# y_test = dataset[(train_length + val_length): (train_length + val_length + test_length), -1].reshape(test_length, 1)\n",
        "\n",
        "# # USING CLASS WEIGHTS\n",
        "# # class_weights = dict(zip(np.unique(y.flatten()), class_weight.compute_class_weight('balanced', np.unique(y.flatten()), y.flatten())))\n",
        "\n",
        "# scalarX = MinMaxScaler()\n",
        "# scalarX.fit(X)\n",
        "\n",
        "# X = scalarX.transform(X)\n",
        "# X_valid = scalarX.transform(X_valid)\n",
        "# X_test = scalarX.transform(X_test)\n",
        "\n",
        "# print(len(X), len(X_valid), len(X_test))"
      ]
    },
    {
      "cell_type": "code",
      "execution_count": null,
      "metadata": {
        "colab": {
          "base_uri": "https://localhost:8080/",
          "height": 582
        },
        "id": "h9keP8RglvQK",
        "outputId": "989edf7a-1092-4206-a1db-078d7037043b"
      },
      "outputs": [
        {
          "output_type": "stream",
          "name": "stdout",
          "text": [
            "Train Data distribtuion:\n",
            "STATUS\n",
            "PD    275\n",
            "HC    109\n",
            "Name: count, dtype: int64\n"
          ]
        },
        {
          "output_type": "execute_result",
          "data": {
            "text/plain": [
              "<Axes: title={'center': 'Train Data class histogram'}, xlabel='STATUS', ylabel='Frequency'>"
            ]
          },
          "metadata": {},
          "execution_count": 76
        },
        {
          "output_type": "display_data",
          "data": {
            "text/plain": [
              "<Figure size 640x480 with 1 Axes>"
            ],
            "image/png": "[encoded data removed]"
          },
          "metadata": {}
        }
      ],
      "source": [
        "# # Train data distribution\n",
        "# count_classes = df.iloc[:train_length, -1].replace({0:\"HC\", 1:\"PD\"}).value_counts()\n",
        "# print(\"Train Data distribtuion:\")\n",
        "# print(count_classes)\n",
        "# plt.title(\"Train Data class histogram\")\n",
        "# plt.xlabel(\"Class\")\n",
        "# plt.ylabel(\"Frequency\")\n",
        "# count_classes.plot(kind = 'bar')"
      ]
    },
    {
      "cell_type": "code",
      "execution_count": null,
      "metadata": {
        "colab": {
          "base_uri": "https://localhost:8080/",
          "height": 582
        },
        "id": "1pwbteDQlvJ1",
        "outputId": "15cbf8aa-4bc3-45f0-d201-25a8b1547e3d"
      },
      "outputs": [
        {
          "output_type": "stream",
          "name": "stdout",
          "text": [
            "Val Data distribtuion:\n",
            "STATUS\n",
            "PD    92\n",
            "HC    36\n",
            "Name: count, dtype: int64\n"
          ]
        },
        {
          "output_type": "execute_result",
          "data": {
            "text/plain": [
              "<Axes: title={'center': 'Val Data class histogram'}, xlabel='STATUS', ylabel='Frequency'>"
            ]
          },
          "metadata": {},
          "execution_count": 77
        },
        {
          "output_type": "display_data",
          "data": {
            "text/plain": [
              "<Figure size 640x480 with 1 Axes>"
            ],
            "image/png": "[encoded data removed]"
          },
          "metadata": {}
        }
      ],
      "source": [
        "# # Val data distribution\n",
        "# count_classes = df.iloc[train_length: (train_length + val_length), -1].replace({0:\"HC\", 1:\"PD\"}).value_counts()\n",
        "# print(\"Val Data distribtuion:\")\n",
        "# print(count_classes)\n",
        "# plt.title(\"Val Data class histogram\")\n",
        "# plt.xlabel(\"Class\")\n",
        "# plt.ylabel(\"Frequency\")\n",
        "# count_classes.plot(kind = 'bar')"
      ]
    },
    {
      "cell_type": "code",
      "execution_count": null,
      "metadata": {
        "colab": {
          "base_uri": "https://localhost:8080/",
          "height": 571
        },
        "id": "ozWiQLzYlvB8",
        "outputId": "7ceee01e-c603-4755-f1e6-5fe5f43df7cc"
      },
      "outputs": [
        {
          "output_type": "stream",
          "name": "stdout",
          "text": [
            "Test Data distribtuion:\n",
            "STATUS\n",
            "1    89\n",
            "0    40\n",
            "Name: count, dtype: int64\n"
          ]
        },
        {
          "output_type": "execute_result",
          "data": {
            "text/plain": [
              "<Axes: title={'center': 'Test Data class histogram'}, xlabel='STATUS', ylabel='Frequency'>"
            ]
          },
          "metadata": {},
          "execution_count": 78
        },
        {
          "output_type": "display_data",
          "data": {
            "text/plain": [
              "<Figure size 640x480 with 1 Axes>"
            ],
            "image/png": "[encoded data removed]"
          },
          "metadata": {}
        }
      ],
      "source": [
        "# # Test data distribution\n",
        "# count_classes = df.iloc[(train_length + val_length): (train_length + val_length + test_length), -1].value_counts()\n",
        "# print(\"Test Data distribtuion:\")\n",
        "# print(count_classes)\n",
        "# plt.title(\"Test Data class histogram\")\n",
        "# plt.xlabel(\"Class\")\n",
        "# plt.ylabel(\"Frequency\")\n",
        "# count_classes.plot(kind = 'bar')"
      ]
    },
    {
      "cell_type": "markdown",
      "metadata": {
        "id": "4po7ORwoe-B4"
      },
      "source": [
        "# **Training the Model**\n",
        "\n",
        "---\n",
        "\n"
      ]
    },
    {
      "cell_type": "code",
      "execution_count": null,
      "metadata": {
        "colab": {
          "base_uri": "https://localhost:8080/"
        },
        "id": "tnBAA5MQe7y2",
        "outputId": "8e1e3a11-784d-405c-fac8-9fb3485de239"
      },
      "outputs": [
        {
          "name": "stdout",
          "output_type": "stream",
          "text": [
            "Model: \"sequential_8\"\n",
            "_________________________________________________________________\n",
            "Layer (type)                 Output Shape              Param #   \n",
            "=================================================================\n",
            "dense_23 (Dense)             (None, 2)                 12        \n",
            "_________________________________________________________________\n",
            "dense_24 (Dense)             (None, 1)                 3         \n",
            "=================================================================\n",
            "Total params: 15\n",
            "Trainable params: 15\n",
            "Non-trainable params: 0\n",
            "_________________________________________________________________\n",
            "None\n"
          ]
        }
      ],
      "source": [
        "# Define the model and hyperparameter search space\n",
        "mlp = MLPClassifier(max_iter=200, random_state=42)\n",
        "\n",
        "param_dist = {\n",
        "    'hidden_layer_sizes': [(np.random.randint(50, 200),) * np.random.randint(1, 4) for _ in range(10)],  # Randomly select layer sizes and depths\n",
        "    'activation': ['relu', 'tanh', 'logistic'],\n",
        "    'solver': ['adam', 'sgd'],\n",
        "    'alpha': np.logspace(-5, 3, num=8),\n",
        "    'learning_rate': ['constant', 'invscaling', 'adaptive'],\n",
        "    'learning_rate_init': np.logspace(-4, 0, num=5),\n",
        "    'batch_size': [32, 64, 128, 256],\n",
        "    'early_stopping': [True],\n",
        "    'n_iter_no_change': [5, 10, 15],\n",
        "    'momentum': np.linspace(0.5, 0.95, num=5),\n",
        "}\n",
        "\n",
        "# param_dist = {\n",
        "#     'hidden_layer_sizes': [(x,) * y for x in range(10, 101, 10) for y in range(1, 5)],\n",
        "#     'activation': ['tanh', 'relu'],\n",
        "#     'solver': ['sgd', 'adam'],\n",
        "#     'alpha': uniform(0.0001, 0.001),\n",
        "#     'learning_rate': ['constant', 'adaptive'],\n",
        "#     'learning_rate_init': uniform(0.001, 0.01),\n",
        "#     'max_iter': randint(100, 500),\n",
        "#     'early_stopping': [True, False],\n",
        "#     'validation_fraction': uniform(0.1, 0.2),\n",
        "#     'beta_1': uniform(0.8, 0.999),\n",
        "#     'beta_2': uniform(0.9, 0.9999),\n",
        "#     'epsilon': uniform(1e-8, 1e-7),\n",
        "#     'n_iter_no_change': randint(5, 20),\n",
        "#     'momentum': uniform(0.8, 0.99),\n",
        "#     'nesterovs_momentum': [True, False],\n",
        "#     'dropout': uniform(0, 0.5)\n",
        "# }\n",
        "\n",
        "# RandomizedSearchCV for hyperparameter tuning\n",
        "random_search = RandomizedSearchCV(mlp, param_distributions=param_dist, n_iter=20, scoring='accuracy',\n",
        "                                   n_jobs=-1, cv=5, verbose=1, random_state=42)\n",
        "\n",
        "# Fit model with random search\n",
        "random_search.fit(X, y)\n",
        "\n",
        "# Best model from RandomizedSearchCV\n",
        "best_model = random_search.best_estimator_\n",
        "print(\"Best model parameters:\", random_search.best_params_)"
      ]
    },
    {
      "cell_type": "markdown",
      "metadata": {
        "id": "cjXz7ZiCvLCc"
      },
      "source": [
        "### **Save Model**"
      ]
    },
    {
      "cell_type": "code",
      "execution_count": null,
      "metadata": {
        "colab": {
          "base_uri": "https://localhost:8080/"
        },
        "id": "exHUXSYAvK3K",
        "outputId": "7338dffc-63e3-4f5a-ec47-5c508c7476bf"
      },
      "outputs": [
        {
          "name": "stdout",
          "output_type": "stream",
          "text": [
            "\n",
            "Saving model\n",
            "Saved model as json\n",
            "Saved model weights\n"
          ]
        }
      ],
      "source": [
        "print(\"\\nSaving the best model and scaler...\")\n",
        "joblib.dump(best_model, model_save_path)\n",
        "joblib.dump(scaler, scaler_save_path)\n",
        "print(f\"Model saved to {model_save_path}\")\n",
        "print(f\"Scaler saved to {scaler_save_path}\")"
      ]
    },
    {
      "cell_type": "markdown",
      "metadata": {
        "id": "iZ_l8WmHwmav"
      },
      "source": [
        "### **Load Model**"
      ]
    },
    {
      "cell_type": "code",
      "source": [
        "# Load the model and scaler for future use\n",
        "print(\"\\nLoading the saved model and scaler...\")\n",
        "model = joblib.load(model_save_path)\n",
        "scaler = joblib.load(scaler_save_path)\n",
        "print(\"Model and scaler loaded successfully.\")"
      ],
      "metadata": {
        "id": "E-bxPJhgeBZk"
      },
      "execution_count": null,
      "outputs": []
    },
    {
      "cell_type": "markdown",
      "metadata": {
        "id": "h-w5YilWf5jl"
      },
      "source": [
        "# **Model Evaluation**\n",
        "\n",
        "---\n",
        "\n"
      ]
    },
    {
      "cell_type": "code",
      "execution_count": null,
      "metadata": {
        "colab": {
          "base_uri": "https://localhost:8080/",
          "height": 347
        },
        "id": "LLZkhsghvcrw",
        "outputId": "a872478c-edb7-42f7-c7b7-22ff3e6dd45b"
      },
      "outputs": [
        {
          "name": "stdout",
          "output_type": "stream",
          "text": [
            "Train AUC-ROC = 0.63\n",
            "Validation AUC-ROC = 0.52\n",
            "Test AUC-ROC = 0.62\n"
          ]
        },
        {
          "data": {
            "image/png": "[encoded data removed]",
            "text/plain": [
              "<Figure size 432x288 with 1 Axes>"
            ]
          },
          "metadata": {
            "needs_background": "light",
            "tags": []
          },
          "output_type": "display_data"
        }
      ],
      "source": [
        "def evaluate_model(model, X, y, dataset_name):\n",
        "    pred = model.predict_proba(X)[:, 1]  # Predict probabilities for ROC AUC\n",
        "    fpr, tpr, _ = roc_curve(y, pred)\n",
        "    auc_value = auc(fpr, tpr).round(2)\n",
        "    print(f\"{dataset_name} AUC-ROC = {auc_value}\")\n",
        "\n",
        "    y_pred = np.where(pred > 0.5, 1, 0)\n",
        "    print(f\"Confusion Matrix for {dataset_name}:\")\n",
        "    print(confusion_matrix(y, y_pred))\n",
        "    print(f\"Classification Report for {dataset_name}:\")\n",
        "    print(classification_report(y, y_pred))\n",
        "\n",
        "    return fpr, tpr, auc_value\n",
        "\n",
        "# Evaluate the loaded model\n",
        "fpr_train, tpr_train, auc_train = evaluate_model(model, X, y, \"Train\")\n",
        "fpr_val, tpr_val, auc_val = evaluate_model(model, X_valid, y_valid, \"Validation\")\n",
        "fpr_test, tpr_test, auc_test = evaluate_model(model, X_test, y_test, \"Test\")\n",
        "\n",
        "# Plotting ROC curves for train, validation, and test sets\n",
        "plt.figure(figsize=(8, 6))\n",
        "plt.plot(fpr_train, tpr_train, label=f'Train (AUC = {auc_train:.2f})')\n",
        "plt.plot(fpr_val, tpr_val, label=f'Validation (AUC = {auc_val:.2f})')\n",
        "plt.plot(fpr_test, tpr_test, label=f'Test (AUC = {auc_test:.2f})')\n",
        "plt.plot([0, 1], [0, 1], 'k--')\n",
        "plt.xlabel('False Positive Rate')\n",
        "plt.ylabel('True Positive Rate')\n",
        "plt.title('AUC (ROC Curve) - Neural Network with RandomizedSearchCV')\n",
        "plt.legend(loc='lower right')\n",
        "plt.grid(True)\n",
        "plt.tight_layout()\n",
        "plt.show()"
      ]
    },
    {
      "cell_type": "code",
      "execution_count": null,
      "metadata": {
        "id": "n1GNNkMaf3VV"
      },
      "outputs": [],
      "source": [
        "def check_metrics(model, testX, testY):\n",
        "\n",
        "  pred = model.predict(testX)\n",
        "  y_pred = np.where(pred > 0.5, 1, 0)\n",
        "  print('##############  Confusion Matrix  ##############')\n",
        "  print()\n",
        "  np.set_printoptions(threshold=np.inf)\n",
        "  print(confusion_matrix(testY, y_pred))\n",
        "  np.set_printoptions(threshold=100)\n",
        "  print()\n",
        "  print('##############  Classification Report  ##############')\n",
        "  print()\n",
        "  print(classification_report(testY, y_pred))"
      ]
    },
    {
      "cell_type": "code",
      "execution_count": null,
      "metadata": {
        "colab": {
          "base_uri": "https://localhost:8080/"
        },
        "id": "HSZ_JsQif9fZ",
        "outputId": "70c3ec7d-2839-45f5-d013-c97a65f51ef8"
      },
      "outputs": [
        {
          "name": "stdout",
          "output_type": "stream",
          "text": [
            "##############  Confusion Matrix  ##############\n",
            "\n",
            "[[17 17]\n",
            " [53 41]]\n",
            "\n",
            "##############  Classification Report  ##############\n",
            "\n",
            "              precision    recall  f1-score   support\n",
            "\n",
            "         0.0       0.24      0.50      0.33        34\n",
            "         1.0       0.71      0.44      0.54        94\n",
            "\n",
            "    accuracy                           0.45       128\n",
            "   macro avg       0.47      0.47      0.43       128\n",
            "weighted avg       0.58      0.45      0.48       128\n",
            "\n"
          ]
        }
      ],
      "source": [
        "check_metrics(model, X_valid, y_valid)"
      ]
    },
    {
      "cell_type": "code",
      "execution_count": null,
      "metadata": {
        "colab": {
          "base_uri": "https://localhost:8080/"
        },
        "id": "0L32pF1Tf_-j",
        "outputId": "f1ec49da-632b-49e8-f9ac-cc90cad84028"
      },
      "outputs": [
        {
          "name": "stdout",
          "output_type": "stream",
          "text": [
            "##############  Confusion Matrix  ##############\n",
            "\n",
            "[[ 60  56]\n",
            " [105 163]]\n",
            "\n",
            "##############  Classification Report  ##############\n",
            "\n",
            "              precision    recall  f1-score   support\n",
            "\n",
            "         0.0       0.36      0.52      0.43       116\n",
            "         1.0       0.74      0.61      0.67       268\n",
            "\n",
            "    accuracy                           0.58       384\n",
            "   macro avg       0.55      0.56      0.55       384\n",
            "weighted avg       0.63      0.58      0.60       384\n",
            "\n"
          ]
        }
      ],
      "source": [
        "check_metrics(model, X, y)"
      ]
    },
    {
      "cell_type": "code",
      "execution_count": null,
      "metadata": {
        "colab": {
          "base_uri": "https://localhost:8080/"
        },
        "id": "-GDrT8dcv0ff",
        "outputId": "53872734-f897-45a0-ec85-f006bf64b60a"
      },
      "outputs": [
        {
          "name": "stdout",
          "output_type": "stream",
          "text": [
            "##############  Confusion Matrix  ##############\n",
            "\n",
            "[[20 15]\n",
            " [35 59]]\n",
            "\n",
            "##############  Classification Report  ##############\n",
            "\n",
            "              precision    recall  f1-score   support\n",
            "\n",
            "         0.0       0.36      0.57      0.44        35\n",
            "         1.0       0.80      0.63      0.70        94\n",
            "\n",
            "    accuracy                           0.61       129\n",
            "   macro avg       0.58      0.60      0.57       129\n",
            "weighted avg       0.68      0.61      0.63       129\n",
            "\n"
          ]
        }
      ],
      "source": [
        "check_metrics(model, X_test, y_test)"
      ]
    },
    {
      "cell_type": "code",
      "execution_count": null,
      "metadata": {
        "colab": {
          "base_uri": "https://localhost:8080/"
        },
        "id": "bGvrhOSd923V",
        "outputId": "685b6836-3141-4240-efc6-1394a9b34ff5"
      },
      "outputs": [
        {
          "name": "stdout",
          "output_type": "stream",
          "text": [
            "[[0.34214024 0.27632735 0.07505419 0.14754164 0.13106796]]\n",
            "PREDICTION BY MODEL: [0.45257032]\n",
            "CLASS IS HC\n",
            "TRUE VALUE: [1.]\n"
          ]
        }
      ],
      "source": [
        "index = 2\n",
        "\n",
        "testing = (X_valid[index, :]).reshape(1,input_columns)\n",
        "print(testing)\n",
        "pred = model.predict(testing)\n",
        "print(\"PREDICTION BY MODEL:\", pred[0])\n",
        "if (pred > 0.5):\n",
        "  print(\"CLASS IS PD\")\n",
        "else:\n",
        "  print(\"CLASS IS HC\")\n",
        "print(\"TRUE VALUE:\", y_valid[index])"
      ]
    },
    {
      "cell_type": "markdown",
      "metadata": {
        "id": "64-UsZsMeEfp"
      },
      "source": [
        "# **Checking Correlations**\n",
        "\n",
        "---\n",
        "\n"
      ]
    },
    {
      "cell_type": "code",
      "execution_count": null,
      "metadata": {
        "colab": {
          "base_uri": "https://localhost:8080/",
          "height": 285
        },
        "id": "SH1dtrwIeDA2",
        "outputId": "89d63466-f83d-4b4a-a7c9-1f0f10aba760"
      },
      "outputs": [
        {
          "data": {
            "image/png": "[encoded data removed]",
            "text/plain": [
              "<Figure size 216x216 with 2 Axes>"
            ]
          },
          "metadata": {
            "tags": []
          },
          "output_type": "display_data"
        }
      ],
      "source": [
        "plt.figure(figsize=(3,3))\n",
        "cor = df.corr()\n",
        "sns.heatmap(cor, cmap=plt.cm.Spectral)\n",
        "plt.show()"
      ]
    },
    {
      "cell_type": "code",
      "execution_count": null,
      "metadata": {
        "colab": {
          "base_uri": "https://localhost:8080/"
        },
        "id": "FA1qsUK7eKpr",
        "outputId": "18313d70-b961-4d71-9f32-ce71ddbbd7e4"
      },
      "outputs": [
        {
          "name": "stdout",
          "output_type": "stream",
          "text": [
            "IMPORTANT FEATURES\n",
            "\n",
            "ABETA42:\t\t Spearmans correlation: 0.136 Pearsons correlation: 0.150\n",
            "A_SYN:\t\t Spearmans correlation: 0.166 Pearsons correlation: 0.145\n",
            "P_TAU:\t\t Spearmans correlation: 0.151 Pearsons correlation: 0.162\n",
            "T_TAU:\t\t Spearmans correlation: 0.127 Pearsons correlation: 0.140\n",
            "P_TAU/T_TAU:\t\t Spearmans correlation: 0.176 Pearsons correlation: 0.160\n",
            "T_TAU/ABETA42:\t\t Spearmans correlation: 0.100 Pearsons correlation: 0.025\n",
            "\n",
            "REDUNDANT FEATURES\n",
            "\n",
            "URATE:\t\t Spearmans correlation: 0.067 Pearsons correlation: 0.059\n",
            "P_TAU/ABETA42:\t\t Spearmans correlation: 0.054 Pearsons correlation: 0.057\n",
            "T_TAU/ABETA42:\t\t Spearmans correlation: 0.100 Pearsons correlation: 0.025\n",
            "ABETA42/A_SYN:\t\t Spearmans correlation: 0.036 Pearsons correlation: 0.023\n",
            "P_TAU/A_SYN:\t\t Spearmans correlation: 0.001 Pearsons correlation: 0.025\n",
            "T_TAU/A_SYN:\t\t Spearmans correlation: 0.069 Pearsons correlation: 0.048\n",
            "\n"
          ]
        }
      ],
      "source": [
        "print(\"IMPORTANT FEATURES\")\n",
        "print()\n",
        "for i in range(input_columns):\n",
        "    corr1, _ = spearmanr(X[:,i], y[:, 0])\n",
        "    corr2, _ = pearsonr(X[:,i], y[:, 0])\n",
        "    if(abs(corr1) > 0.1 or abs(corr2) > 0.1 ):\n",
        "        print(df.columns[i]+\":\\t\\t\",'Spearmans correlation: %.3f' % abs(corr1), 'Pearsons correlation: %.3f' % abs(corr2) )\n",
        "print()\n",
        "\n",
        "print(\"REDUNDANT FEATURES\")\n",
        "print()\n",
        "for i in range(input_columns):\n",
        "    corr1, _ = spearmanr(X[:,i], y[:, 0])\n",
        "    corr2, _ = pearsonr(X[:,i], y[:, 0])\n",
        "    if(abs(corr1)< 0.1 or abs(corr2) < 0.1 ):\n",
        "        print(df.columns[i]+\":\\t\\t\",'Spearmans correlation: %.3f' % abs(corr1), 'Pearsons correlation: %.3f' % abs(corr2) )\n",
        "print()"
      ]
    }
  ],
  "metadata": {
    "accelerator": "GPU",
    "colab": {
      "provenance": []
    },
    "kernelspec": {
      "display_name": "Python 3 (ipykernel)",
      "language": "python",
      "name": "python3"
    },
    "language_info": {
      "codemirror_mode": {
        "name": "ipython",
        "version": 3
      },
      "file_extension": ".py",
      "mimetype": "text/x-python",
      "name": "python",
      "nbconvert_exporter": "python",
      "pygments_lexer": "ipython3",
      "version": "3.12.4"
    }
  },
  "nbformat": 4,
  "nbformat_minor": 0
}