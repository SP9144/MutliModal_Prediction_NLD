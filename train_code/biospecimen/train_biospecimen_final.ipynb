{
  "nbformat": 4,
  "nbformat_minor": 0,
  "metadata": {
    "accelerator": "GPU",
    "colab": {
      "name": "train_biospecimen_final.ipynb",
      "provenance": [],
      "collapsed_sections": []
    },
    "kernelspec": {
      "display_name": "Python 3",
      "name": "python3"
    },
    "language_info": {
      "name": "python"
    }
  },
  "cells": [
    {
      "cell_type": "code",
      "metadata": {
        "colab": {
          "base_uri": "https://localhost:8080/"
        },
        "id": "kTA8G7s0cmIc",
        "outputId": "4b1aec96-4012-4ace-8955-9c95eea0b220"
      },
      "source": [
        "import pandas as pd\n",
        "from pandas import read_excel\n",
        "from keras.models import Sequential\n",
        "from keras.layers import Dense, Dropout\n",
        "from keras.optimizers import Adam\n",
        "from sklearn.preprocessing import MinMaxScaler\n",
        "from sklearn.preprocessing import StandardScaler\n",
        "from sklearn.metrics import r2_score\n",
        "from sklearn.utils import shuffle\n",
        "from sklearn.metrics import mean_squared_error \n",
        "from sklearn.metrics import classification_report, confusion_matrix\n",
        "import numpy as np\n",
        "from scipy.stats import pearsonr\n",
        "from scipy.stats import spearmanr\n",
        "import seaborn as sns\n",
        "import matplotlib.pyplot as plt\n",
        "import keras\n",
        "from keras.models import model_from_json\n",
        "import tensorflow as tf\n",
        "from imblearn.over_sampling import SMOTE\n",
        "from imblearn.over_sampling import ADASYN\n",
        "from imblearn.combine import SMOTEENN\n",
        "from imblearn.combine import SMOTETomek\n",
        "from sklearn.utils import class_weight\n",
        "from google.colab import drive"
      ],
      "execution_count": null,
      "outputs": [
        {
          "output_type": "stream",
          "text": [
            "/usr/local/lib/python3.7/dist-packages/sklearn/externals/six.py:31: FutureWarning: The module is deprecated in version 0.21 and will be removed in version 0.23 since we've dropped support for Python 2.7. Please rely on the official version of six (https://pypi.org/project/six/).\n",
            "  \"(https://pypi.org/project/six/).\", FutureWarning)\n",
            "/usr/local/lib/python3.7/dist-packages/sklearn/utils/deprecation.py:144: FutureWarning: The sklearn.neighbors.base module is  deprecated in version 0.22 and will be removed in version 0.24. The corresponding classes / functions should instead be imported from sklearn.neighbors. Anything that cannot be imported from sklearn.neighbors is now part of the private API.\n",
            "  warnings.warn(message, FutureWarning)\n"
          ],
          "name": "stderr"
        }
      ]
    },
    {
      "cell_type": "code",
      "metadata": {
        "id": "c_go9MtfZJQ7"
      },
      "source": [
        "import pickle\n",
        "from pprint import pprint\n",
        "from sklearn.ensemble import RandomForestClassifier\n",
        "import xgboost as xgb\n",
        "from sklearn.naive_bayes import GaussianNB\n",
        "from sklearn.svm import SVC\n",
        "from sklearn.linear_model import LogisticRegression\n",
        "from sklearn.linear_model import SGDClassifier\n",
        "from sklearn.model_selection import RandomizedSearchCV, StratifiedKFold\n",
        "from sklearn.metrics import classification_report\n",
        "from sklearn.metrics import confusion_matrix\n",
        "from sklearn.metrics import f1_score, precision_score, recall_score\n",
        "from sklearn.metrics import roc_curve, auc, precision_recall_curve\n",
        "from sklearn.metrics import roc_auc_score, average_precision_score, plot_roc_curve "
      ],
      "execution_count": null,
      "outputs": []
    },
    {
      "cell_type": "code",
      "metadata": {
        "colab": {
          "base_uri": "https://localhost:8080/",
          "height": 53
        },
        "id": "ZxrNno5ucug0",
        "outputId": "3032ce7e-43c8-43e7-8012-e6a73d2c0f4b"
      },
      "source": [
        "drive.mount(\"/content/gdrive\")\n",
        "\n",
        "tf.test.gpu_device_name()"
      ],
      "execution_count": null,
      "outputs": [
        {
          "output_type": "stream",
          "text": [
            "Mounted at /content/gdrive\n"
          ],
          "name": "stdout"
        },
        {
          "output_type": "execute_result",
          "data": {
            "application/vnd.google.colaboratory.intrinsic+json": {
              "type": "string"
            },
            "text/plain": [
              "'/device:GPU:0'"
            ]
          },
          "metadata": {
            "tags": []
          },
          "execution_count": 4
        }
      ]
    },
    {
      "cell_type": "code",
      "metadata": {
        "id": "gGLxVF2bc2AL"
      },
      "source": [
        "location = \"/content/gdrive/My Drive/Colab Notebooks/MultiModal_PD/\""
      ],
      "execution_count": null,
      "outputs": []
    },
    {
      "cell_type": "markdown",
      "metadata": {
        "id": "wBi3cJICdSus"
      },
      "source": [
        "# **Extra Preprocessing**\n",
        "\n",
        "---\n",
        "\n"
      ]
    },
    {
      "cell_type": "code",
      "metadata": {
        "colab": {
          "base_uri": "https://localhost:8080/",
          "height": 206
        },
        "id": "OuBeNesHdQtT",
        "outputId": "68d86d59-2e3c-465f-a26f-052230d8499e"
      },
      "source": [
        "df = pd.read_csv(location + \"biospecimen_masterDB.csv\", sep=\",\")\n",
        "df.head()"
      ],
      "execution_count": null,
      "outputs": [
        {
          "output_type": "execute_result",
          "data": {
            "text/html": [
              "<div>\n",
              "<style scoped>\n",
              "    .dataframe tbody tr th:only-of-type {\n",
              "        vertical-align: middle;\n",
              "    }\n",
              "\n",
              "    .dataframe tbody tr th {\n",
              "        vertical-align: top;\n",
              "    }\n",
              "\n",
              "    .dataframe thead th {\n",
              "        text-align: right;\n",
              "    }\n",
              "</style>\n",
              "<table border=\"1\" class=\"dataframe\">\n",
              "  <thead>\n",
              "    <tr style=\"text-align: right;\">\n",
              "      <th></th>\n",
              "      <th>PATNO</th>\n",
              "      <th>ABETA42</th>\n",
              "      <th>A_SYN</th>\n",
              "      <th>P_TAU</th>\n",
              "      <th>T_TAU</th>\n",
              "      <th>URATE</th>\n",
              "      <th>STATUS</th>\n",
              "    </tr>\n",
              "  </thead>\n",
              "  <tbody>\n",
              "    <tr>\n",
              "      <th>0</th>\n",
              "      <td>3915.0</td>\n",
              "      <td>1119.375</td>\n",
              "      <td>1719.650</td>\n",
              "      <td>13.1200</td>\n",
              "      <td>158.350</td>\n",
              "      <td>237.000000</td>\n",
              "      <td>1</td>\n",
              "    </tr>\n",
              "    <tr>\n",
              "      <th>1</th>\n",
              "      <td>3914.0</td>\n",
              "      <td>614.150</td>\n",
              "      <td>1584.650</td>\n",
              "      <td>14.0825</td>\n",
              "      <td>174.325</td>\n",
              "      <td>270.285714</td>\n",
              "      <td>1</td>\n",
              "    </tr>\n",
              "    <tr>\n",
              "      <th>2</th>\n",
              "      <td>3838.0</td>\n",
              "      <td>746.900</td>\n",
              "      <td>1256.775</td>\n",
              "      <td>10.9825</td>\n",
              "      <td>137.050</td>\n",
              "      <td>234.571429</td>\n",
              "      <td>1</td>\n",
              "    </tr>\n",
              "    <tr>\n",
              "      <th>3</th>\n",
              "      <td>3819.0</td>\n",
              "      <td>612.020</td>\n",
              "      <td>1136.380</td>\n",
              "      <td>8.4880</td>\n",
              "      <td>109.100</td>\n",
              "      <td>231.875000</td>\n",
              "      <td>1</td>\n",
              "    </tr>\n",
              "    <tr>\n",
              "      <th>4</th>\n",
              "      <td>3900.0</td>\n",
              "      <td>511.280</td>\n",
              "      <td>1263.540</td>\n",
              "      <td>11.3980</td>\n",
              "      <td>145.260</td>\n",
              "      <td>400.666667</td>\n",
              "      <td>1</td>\n",
              "    </tr>\n",
              "  </tbody>\n",
              "</table>\n",
              "</div>"
            ],
            "text/plain": [
              "    PATNO   ABETA42     A_SYN    P_TAU    T_TAU       URATE  STATUS\n",
              "0  3915.0  1119.375  1719.650  13.1200  158.350  237.000000       1\n",
              "1  3914.0   614.150  1584.650  14.0825  174.325  270.285714       1\n",
              "2  3838.0   746.900  1256.775  10.9825  137.050  234.571429       1\n",
              "3  3819.0   612.020  1136.380   8.4880  109.100  231.875000       1\n",
              "4  3900.0   511.280  1263.540  11.3980  145.260  400.666667       1"
            ]
          },
          "metadata": {
            "tags": []
          },
          "execution_count": 14
        }
      ]
    },
    {
      "cell_type": "code",
      "metadata": {
        "colab": {
          "base_uri": "https://localhost:8080/",
          "height": 206
        },
        "id": "jUCfdq1OdfsV",
        "outputId": "2fef0ef6-0ab3-4fd9-82a1-e920d4c3cc2d"
      },
      "source": [
        "df = df.drop(columns = [\"PATNO\"], axis = 1)\n",
        "df.head()"
      ],
      "execution_count": null,
      "outputs": [
        {
          "output_type": "execute_result",
          "data": {
            "text/html": [
              "<div>\n",
              "<style scoped>\n",
              "    .dataframe tbody tr th:only-of-type {\n",
              "        vertical-align: middle;\n",
              "    }\n",
              "\n",
              "    .dataframe tbody tr th {\n",
              "        vertical-align: top;\n",
              "    }\n",
              "\n",
              "    .dataframe thead th {\n",
              "        text-align: right;\n",
              "    }\n",
              "</style>\n",
              "<table border=\"1\" class=\"dataframe\">\n",
              "  <thead>\n",
              "    <tr style=\"text-align: right;\">\n",
              "      <th></th>\n",
              "      <th>ABETA42</th>\n",
              "      <th>A_SYN</th>\n",
              "      <th>P_TAU</th>\n",
              "      <th>T_TAU</th>\n",
              "      <th>URATE</th>\n",
              "      <th>STATUS</th>\n",
              "    </tr>\n",
              "  </thead>\n",
              "  <tbody>\n",
              "    <tr>\n",
              "      <th>0</th>\n",
              "      <td>1119.375</td>\n",
              "      <td>1719.650</td>\n",
              "      <td>13.1200</td>\n",
              "      <td>158.350</td>\n",
              "      <td>237.000000</td>\n",
              "      <td>1</td>\n",
              "    </tr>\n",
              "    <tr>\n",
              "      <th>1</th>\n",
              "      <td>614.150</td>\n",
              "      <td>1584.650</td>\n",
              "      <td>14.0825</td>\n",
              "      <td>174.325</td>\n",
              "      <td>270.285714</td>\n",
              "      <td>1</td>\n",
              "    </tr>\n",
              "    <tr>\n",
              "      <th>2</th>\n",
              "      <td>746.900</td>\n",
              "      <td>1256.775</td>\n",
              "      <td>10.9825</td>\n",
              "      <td>137.050</td>\n",
              "      <td>234.571429</td>\n",
              "      <td>1</td>\n",
              "    </tr>\n",
              "    <tr>\n",
              "      <th>3</th>\n",
              "      <td>612.020</td>\n",
              "      <td>1136.380</td>\n",
              "      <td>8.4880</td>\n",
              "      <td>109.100</td>\n",
              "      <td>231.875000</td>\n",
              "      <td>1</td>\n",
              "    </tr>\n",
              "    <tr>\n",
              "      <th>4</th>\n",
              "      <td>511.280</td>\n",
              "      <td>1263.540</td>\n",
              "      <td>11.3980</td>\n",
              "      <td>145.260</td>\n",
              "      <td>400.666667</td>\n",
              "      <td>1</td>\n",
              "    </tr>\n",
              "  </tbody>\n",
              "</table>\n",
              "</div>"
            ],
            "text/plain": [
              "    ABETA42     A_SYN    P_TAU    T_TAU       URATE  STATUS\n",
              "0  1119.375  1719.650  13.1200  158.350  237.000000       1\n",
              "1   614.150  1584.650  14.0825  174.325  270.285714       1\n",
              "2   746.900  1256.775  10.9825  137.050  234.571429       1\n",
              "3   612.020  1136.380   8.4880  109.100  231.875000       1\n",
              "4   511.280  1263.540  11.3980  145.260  400.666667       1"
            ]
          },
          "metadata": {
            "tags": []
          },
          "execution_count": 15
        }
      ]
    },
    {
      "cell_type": "code",
      "metadata": {
        "colab": {
          "base_uri": "https://localhost:8080/",
          "height": 206
        },
        "id": "qQkvusX0dfwE",
        "outputId": "3192b3d0-b833-4622-c9e0-1001d8dc642c"
      },
      "source": [
        "df = df.sample(frac=1).reset_index(drop=True)\n",
        "df[\"P_TAU/T_TAU\"] = df[\"P_TAU\"]/df[\"T_TAU\"]\n",
        "df[\"P_TAU/ABETA42\"] = df[\"P_TAU\"]/df[\"ABETA42\"]\n",
        "df[\"T_TAU/ABETA42\"] = df[\"T_TAU\"]/df[\"ABETA42\"]\n",
        "df[\"ABETA42/A_SYN\"] = df[\"ABETA42\"]/df[\"A_SYN\"]\n",
        "df[\"P_TAU/A_SYN\"] = df[\"P_TAU\"]/df[\"A_SYN\"]\n",
        "df[\"T_TAU/A_SYN\"] = df[\"T_TAU\"]/df[\"A_SYN\"]\n",
        "df.head()"
      ],
      "execution_count": null,
      "outputs": [
        {
          "output_type": "execute_result",
          "data": {
            "text/html": [
              "<div>\n",
              "<style scoped>\n",
              "    .dataframe tbody tr th:only-of-type {\n",
              "        vertical-align: middle;\n",
              "    }\n",
              "\n",
              "    .dataframe tbody tr th {\n",
              "        vertical-align: top;\n",
              "    }\n",
              "\n",
              "    .dataframe thead th {\n",
              "        text-align: right;\n",
              "    }\n",
              "</style>\n",
              "<table border=\"1\" class=\"dataframe\">\n",
              "  <thead>\n",
              "    <tr style=\"text-align: right;\">\n",
              "      <th></th>\n",
              "      <th>ABETA42</th>\n",
              "      <th>A_SYN</th>\n",
              "      <th>P_TAU</th>\n",
              "      <th>T_TAU</th>\n",
              "      <th>URATE</th>\n",
              "      <th>STATUS</th>\n",
              "      <th>P_TAU/T_TAU</th>\n",
              "      <th>P_TAU/ABETA42</th>\n",
              "      <th>T_TAU/ABETA42</th>\n",
              "      <th>ABETA42/A_SYN</th>\n",
              "      <th>P_TAU/A_SYN</th>\n",
              "      <th>T_TAU/A_SYN</th>\n",
              "    </tr>\n",
              "  </thead>\n",
              "  <tbody>\n",
              "    <tr>\n",
              "      <th>0</th>\n",
              "      <td>651.940</td>\n",
              "      <td>1137.98</td>\n",
              "      <td>10.015</td>\n",
              "      <td>121.018</td>\n",
              "      <td>338.250000</td>\n",
              "      <td>1</td>\n",
              "      <td>0.082756</td>\n",
              "      <td>0.015362</td>\n",
              "      <td>0.185628</td>\n",
              "      <td>0.572892</td>\n",
              "      <td>0.008801</td>\n",
              "      <td>0.106345</td>\n",
              "    </tr>\n",
              "    <tr>\n",
              "      <th>1</th>\n",
              "      <td>1014.900</td>\n",
              "      <td>1220.62</td>\n",
              "      <td>11.824</td>\n",
              "      <td>142.160</td>\n",
              "      <td>274.600000</td>\n",
              "      <td>0</td>\n",
              "      <td>0.083174</td>\n",
              "      <td>0.011650</td>\n",
              "      <td>0.140073</td>\n",
              "      <td>0.831463</td>\n",
              "      <td>0.009687</td>\n",
              "      <td>0.116465</td>\n",
              "    </tr>\n",
              "    <tr>\n",
              "      <th>2</th>\n",
              "      <td>1379.000</td>\n",
              "      <td>2193.90</td>\n",
              "      <td>16.360</td>\n",
              "      <td>206.100</td>\n",
              "      <td>258.428571</td>\n",
              "      <td>1</td>\n",
              "      <td>0.079379</td>\n",
              "      <td>0.011864</td>\n",
              "      <td>0.149456</td>\n",
              "      <td>0.628561</td>\n",
              "      <td>0.007457</td>\n",
              "      <td>0.093942</td>\n",
              "    </tr>\n",
              "    <tr>\n",
              "      <th>3</th>\n",
              "      <td>1119.375</td>\n",
              "      <td>1719.65</td>\n",
              "      <td>13.120</td>\n",
              "      <td>158.350</td>\n",
              "      <td>237.000000</td>\n",
              "      <td>1</td>\n",
              "      <td>0.082854</td>\n",
              "      <td>0.011721</td>\n",
              "      <td>0.141463</td>\n",
              "      <td>0.650932</td>\n",
              "      <td>0.007629</td>\n",
              "      <td>0.092083</td>\n",
              "    </tr>\n",
              "    <tr>\n",
              "      <th>4</th>\n",
              "      <td>765.100</td>\n",
              "      <td>870.90</td>\n",
              "      <td>9.450</td>\n",
              "      <td>112.520</td>\n",
              "      <td>205.333333</td>\n",
              "      <td>1</td>\n",
              "      <td>0.083985</td>\n",
              "      <td>0.012351</td>\n",
              "      <td>0.147066</td>\n",
              "      <td>0.878516</td>\n",
              "      <td>0.010851</td>\n",
              "      <td>0.129200</td>\n",
              "    </tr>\n",
              "  </tbody>\n",
              "</table>\n",
              "</div>"
            ],
            "text/plain": [
              "    ABETA42    A_SYN   P_TAU  ...  ABETA42/A_SYN  P_TAU/A_SYN  T_TAU/A_SYN\n",
              "0   651.940  1137.98  10.015  ...       0.572892     0.008801     0.106345\n",
              "1  1014.900  1220.62  11.824  ...       0.831463     0.009687     0.116465\n",
              "2  1379.000  2193.90  16.360  ...       0.628561     0.007457     0.093942\n",
              "3  1119.375  1719.65  13.120  ...       0.650932     0.007629     0.092083\n",
              "4   765.100   870.90   9.450  ...       0.878516     0.010851     0.129200\n",
              "\n",
              "[5 rows x 12 columns]"
            ]
          },
          "metadata": {
            "tags": []
          },
          "execution_count": 8
        }
      ]
    },
    {
      "cell_type": "code",
      "metadata": {
        "colab": {
          "base_uri": "https://localhost:8080/",
          "height": 206
        },
        "id": "DGil5UQ8HuPS",
        "outputId": "d1c52408-7663-4a7e-8c01-18ebca689ea4"
      },
      "source": [
        "cols = ['ABETA42', 'A_SYN', 'P_TAU', 'T_TAU', 'URATE', \"P_TAU/T_TAU\",\t\"P_TAU/ABETA42\", \"T_TAU/ABETA42\",\t\"ABETA42/A_SYN\", \"P_TAU/A_SYN\", \"T_TAU/A_SYN\",'STATUS']\n",
        "df = df[cols]\n",
        "df.head()"
      ],
      "execution_count": null,
      "outputs": [
        {
          "output_type": "execute_result",
          "data": {
            "text/html": [
              "<div>\n",
              "<style scoped>\n",
              "    .dataframe tbody tr th:only-of-type {\n",
              "        vertical-align: middle;\n",
              "    }\n",
              "\n",
              "    .dataframe tbody tr th {\n",
              "        vertical-align: top;\n",
              "    }\n",
              "\n",
              "    .dataframe thead th {\n",
              "        text-align: right;\n",
              "    }\n",
              "</style>\n",
              "<table border=\"1\" class=\"dataframe\">\n",
              "  <thead>\n",
              "    <tr style=\"text-align: right;\">\n",
              "      <th></th>\n",
              "      <th>ABETA42</th>\n",
              "      <th>A_SYN</th>\n",
              "      <th>P_TAU</th>\n",
              "      <th>T_TAU</th>\n",
              "      <th>URATE</th>\n",
              "      <th>P_TAU/T_TAU</th>\n",
              "      <th>P_TAU/ABETA42</th>\n",
              "      <th>T_TAU/ABETA42</th>\n",
              "      <th>ABETA42/A_SYN</th>\n",
              "      <th>P_TAU/A_SYN</th>\n",
              "      <th>T_TAU/A_SYN</th>\n",
              "      <th>STATUS</th>\n",
              "    </tr>\n",
              "  </thead>\n",
              "  <tbody>\n",
              "    <tr>\n",
              "      <th>0</th>\n",
              "      <td>651.940</td>\n",
              "      <td>1137.98</td>\n",
              "      <td>10.015</td>\n",
              "      <td>121.018</td>\n",
              "      <td>338.250000</td>\n",
              "      <td>0.082756</td>\n",
              "      <td>0.015362</td>\n",
              "      <td>0.185628</td>\n",
              "      <td>0.572892</td>\n",
              "      <td>0.008801</td>\n",
              "      <td>0.106345</td>\n",
              "      <td>1</td>\n",
              "    </tr>\n",
              "    <tr>\n",
              "      <th>1</th>\n",
              "      <td>1014.900</td>\n",
              "      <td>1220.62</td>\n",
              "      <td>11.824</td>\n",
              "      <td>142.160</td>\n",
              "      <td>274.600000</td>\n",
              "      <td>0.083174</td>\n",
              "      <td>0.011650</td>\n",
              "      <td>0.140073</td>\n",
              "      <td>0.831463</td>\n",
              "      <td>0.009687</td>\n",
              "      <td>0.116465</td>\n",
              "      <td>0</td>\n",
              "    </tr>\n",
              "    <tr>\n",
              "      <th>2</th>\n",
              "      <td>1379.000</td>\n",
              "      <td>2193.90</td>\n",
              "      <td>16.360</td>\n",
              "      <td>206.100</td>\n",
              "      <td>258.428571</td>\n",
              "      <td>0.079379</td>\n",
              "      <td>0.011864</td>\n",
              "      <td>0.149456</td>\n",
              "      <td>0.628561</td>\n",
              "      <td>0.007457</td>\n",
              "      <td>0.093942</td>\n",
              "      <td>1</td>\n",
              "    </tr>\n",
              "    <tr>\n",
              "      <th>3</th>\n",
              "      <td>1119.375</td>\n",
              "      <td>1719.65</td>\n",
              "      <td>13.120</td>\n",
              "      <td>158.350</td>\n",
              "      <td>237.000000</td>\n",
              "      <td>0.082854</td>\n",
              "      <td>0.011721</td>\n",
              "      <td>0.141463</td>\n",
              "      <td>0.650932</td>\n",
              "      <td>0.007629</td>\n",
              "      <td>0.092083</td>\n",
              "      <td>1</td>\n",
              "    </tr>\n",
              "    <tr>\n",
              "      <th>4</th>\n",
              "      <td>765.100</td>\n",
              "      <td>870.90</td>\n",
              "      <td>9.450</td>\n",
              "      <td>112.520</td>\n",
              "      <td>205.333333</td>\n",
              "      <td>0.083985</td>\n",
              "      <td>0.012351</td>\n",
              "      <td>0.147066</td>\n",
              "      <td>0.878516</td>\n",
              "      <td>0.010851</td>\n",
              "      <td>0.129200</td>\n",
              "      <td>1</td>\n",
              "    </tr>\n",
              "  </tbody>\n",
              "</table>\n",
              "</div>"
            ],
            "text/plain": [
              "    ABETA42    A_SYN   P_TAU  ...  P_TAU/A_SYN  T_TAU/A_SYN  STATUS\n",
              "0   651.940  1137.98  10.015  ...     0.008801     0.106345       1\n",
              "1  1014.900  1220.62  11.824  ...     0.009687     0.116465       0\n",
              "2  1379.000  2193.90  16.360  ...     0.007457     0.093942       1\n",
              "3  1119.375  1719.65  13.120  ...     0.007629     0.092083       1\n",
              "4   765.100   870.90   9.450  ...     0.010851     0.129200       1\n",
              "\n",
              "[5 rows x 12 columns]"
            ]
          },
          "metadata": {
            "tags": []
          },
          "execution_count": 9
        }
      ]
    },
    {
      "cell_type": "markdown",
      "metadata": {
        "id": "nieGBdEp3hFV"
      },
      "source": [
        "# **XGBoost Feature Selection**\n",
        "\n",
        "---"
      ]
    },
    {
      "cell_type": "code",
      "metadata": {
        "colab": {
          "base_uri": "https://localhost:8080/"
        },
        "id": "Y7MiiCrH3k5a",
        "outputId": "10a565b5-e0b9-4454-c1cf-968136bb8ba7"
      },
      "source": [
        "print(len(df))\n",
        "\n",
        "input_columns=len(df.columns)-1\n",
        "output_columns=1\n",
        "\n",
        "X = df.iloc[:, 0:input_columns]\n",
        "y = df.iloc[:, -1]"
      ],
      "execution_count": null,
      "outputs": [
        {
          "output_type": "stream",
          "text": [
            "641\n"
          ],
          "name": "stdout"
        }
      ]
    },
    {
      "cell_type": "code",
      "metadata": {
        "colab": {
          "base_uri": "https://localhost:8080/",
          "height": 686
        },
        "id": "Eklb1J1z3k0O",
        "outputId": "bc0cc92e-5924-45b1-ae58-7fb2f74d6920"
      },
      "source": [
        "xgb_clf = xgb.XGBClassifier()\n",
        "xgb_clf.fit(X, y)\n",
        "\n",
        "feature_imp = pd.Series(xgb_clf.feature_importances_, index=X.columns).sort_values(ascending=False)\n",
        "print(len(feature_imp[feature_imp>0]))\n",
        "print(feature_imp[feature_imp>0])\n",
        "\n",
        "feature_imp.sort_values().tail(30).plot(kind = 'bar', figsize = (18,6))\n",
        "plt.title(\"Visualizing Important Features - XGBoost (Biospecimen)\")\n",
        "plt.show()\n",
        "\n",
        "feaSel_xgb = list(feature_imp[feature_imp>0].index)"
      ],
      "execution_count": null,
      "outputs": [
        {
          "output_type": "stream",
          "text": [
            "11\n",
            "A_SYN            0.128199\n",
            "P_TAU/T_TAU      0.125018\n",
            "P_TAU/ABETA42    0.100478\n",
            "T_TAU/ABETA42    0.088594\n",
            "URATE            0.088161\n",
            "T_TAU/A_SYN      0.085861\n",
            "T_TAU            0.085131\n",
            "P_TAU            0.081397\n",
            "ABETA42/A_SYN    0.077111\n",
            "P_TAU/A_SYN      0.074568\n",
            "ABETA42          0.065480\n",
            "dtype: float32\n"
          ],
          "name": "stdout"
        },
        {
          "output_type": "display_data",
          "data": {
            "image/png": "[encoded data removed]",
            "text/plain": [
              "<Figure size 1296x432 with 1 Axes>"
            ]
          },
          "metadata": {
            "tags": [],
            "needs_background": "light"
          }
        }
      ]
    },
    {
      "cell_type": "code",
      "metadata": {
        "id": "rdXvJKjR348S"
      },
      "source": [
        "file = location + \"feaSel_xgb_Biospec.txt\"\n",
        "with open(file, 'w') as file:\n",
        "        for row in feaSel_xgb:\n",
        "            s = \"\".join(map(str, row))\n",
        "            file.write(s+'\\n')"
      ],
      "execution_count": null,
      "outputs": []
    },
    {
      "cell_type": "markdown",
      "metadata": {
        "id": "7dtltvBgZq2k"
      },
      "source": [
        "# **ML Models**\n",
        "\n",
        "---\n",
        "\n"
      ]
    },
    {
      "cell_type": "code",
      "metadata": {
        "colab": {
          "base_uri": "https://localhost:8080/"
        },
        "id": "m08Hf_-ddfzt",
        "outputId": "706c9f90-7420-4932-a8ae-5193d1e73ee7"
      },
      "source": [
        "df = df.sample(frac=1).reset_index(drop=True)\n",
        "print(len(df))\n",
        "\n",
        "input_columns = 5\n",
        "output_columns = 1"
      ],
      "execution_count": null,
      "outputs": [
        {
          "output_type": "stream",
          "text": [
            "641\n"
          ],
          "name": "stdout"
        }
      ]
    },
    {
      "cell_type": "code",
      "metadata": {
        "colab": {
          "base_uri": "https://localhost:8080/"
        },
        "id": "T6Zk4_PiZteA",
        "outputId": "858b524b-b64b-4b25-bff1-bbd3a1f0a28d"
      },
      "source": [
        "train_length = int(0.8*len(df))\n",
        "test_length = int(0.2*len(df))+1\n",
        "print(train_length, test_length)"
      ],
      "execution_count": null,
      "outputs": [
        {
          "output_type": "stream",
          "text": [
            "512 129\n"
          ],
          "name": "stdout"
        }
      ]
    },
    {
      "cell_type": "code",
      "metadata": {
        "id": "wjV1oIveZtS1"
      },
      "source": [
        "# dataset = df.values\n",
        "X = df.iloc[:train_length,0:input_columns]\n",
        "y = df.iloc[:train_length, -1]\n",
        "\n",
        "X_test = df.iloc[train_length: (train_length + test_length), 0:input_columns]\n",
        "y_test = df.iloc[train_length: (train_length + test_length), -1]"
      ],
      "execution_count": null,
      "outputs": []
    },
    {
      "cell_type": "code",
      "metadata": {
        "colab": {
          "base_uri": "https://localhost:8080/",
          "height": 387
        },
        "id": "G7NQBPdkZtJQ",
        "outputId": "f7c5d77d-3be0-407c-bb76-e8a933a1c6aa"
      },
      "source": [
        "# Train data distribution\n",
        "count_classes = y.replace({0:\"HC\", 1:\"PD\"}).value_counts()\n",
        "print(\"Train Data distribtuion:\")\n",
        "print(count_classes)\n",
        "plt.title(\"Train Data class histogram\")\n",
        "plt.xlabel(\"Class\")\n",
        "plt.ylabel(\"Frequency\") \n",
        "count_classes.plot(kind = 'bar')"
      ],
      "execution_count": null,
      "outputs": [
        {
          "output_type": "stream",
          "text": [
            "Train Data distribtuion:\n",
            "PD    362\n",
            "HC    150\n",
            "Name: STATUS, dtype: int64\n"
          ],
          "name": "stdout"
        },
        {
          "output_type": "execute_result",
          "data": {
            "text/plain": [
              "<matplotlib.axes._subplots.AxesSubplot at 0x7f1ff4d254d0>"
            ]
          },
          "metadata": {
            "tags": []
          },
          "execution_count": 117
        },
        {
          "output_type": "display_data",
          "data": {
            "image/png": "[encoded data removed]",
            "text/plain": [
              "<Figure size 432x288 with 1 Axes>"
            ]
          },
          "metadata": {
            "tags": [],
            "needs_background": "light"
          }
        }
      ]
    },
    {
      "cell_type": "code",
      "metadata": {
        "colab": {
          "base_uri": "https://localhost:8080/",
          "height": 387
        },
        "id": "O1C4mRFJZs-o",
        "outputId": "64ba37e7-4113-464f-e704-d6fb9478b245"
      },
      "source": [
        "# Test data distribution\n",
        "count_classes = y_test.replace({0:\"HC\", 1:\"PD\"}).value_counts()\n",
        "print(\"Test Data distribtuion:\")\n",
        "print(count_classes)\n",
        "plt.title(\"Test Data class histogram\")\n",
        "plt.xlabel(\"Class\")\n",
        "plt.ylabel(\"Frequency\") \n",
        "count_classes.plot(kind = 'bar')"
      ],
      "execution_count": null,
      "outputs": [
        {
          "output_type": "stream",
          "text": [
            "Test Data distribtuion:\n",
            "PD    94\n",
            "HC    35\n",
            "Name: STATUS, dtype: int64\n"
          ],
          "name": "stdout"
        },
        {
          "output_type": "execute_result",
          "data": {
            "text/plain": [
              "<matplotlib.axes._subplots.AxesSubplot at 0x7f1ff4e56150>"
            ]
          },
          "metadata": {
            "tags": []
          },
          "execution_count": 118
        },
        {
          "output_type": "display_data",
          "data": {
            "image/png": "[encoded data removed]",
            "text/plain": [
              "<Figure size 432x288 with 1 Axes>"
            ]
          },
          "metadata": {
            "tags": [],
            "needs_background": "light"
          }
        }
      ]
    },
    {
      "cell_type": "code",
      "metadata": {
        "id": "h1MONZ49Z51V"
      },
      "source": [
        "scalarX = MinMaxScaler() # Normalising\n",
        "scalarX.fit(X)\n",
        "\n",
        "X = scalarX.transform(X)\n",
        "X_test = scalarX.transform(X_test)"
      ],
      "execution_count": null,
      "outputs": []
    },
    {
      "cell_type": "markdown",
      "metadata": {
        "id": "L1ypo8-mZ88H"
      },
      "source": [
        "## **Random Forest**\n",
        "\n",
        "---"
      ]
    },
    {
      "cell_type": "code",
      "metadata": {
        "colab": {
          "base_uri": "https://localhost:8080/"
        },
        "id": "LKkoXLD8Z8tf",
        "outputId": "fda0893e-ddc7-4d61-9a80-f78f070e827b"
      },
      "source": [
        "clf = RandomForestClassifier()\n",
        "\n",
        "# # Parameters used by our current forest\n",
        "# print('Parameters initial\\n')\n",
        "# pprint(clf.get_params())\n",
        "\n",
        "#Setting the range for class weights\n",
        "weights = np.linspace(0.6,0.99,50)\n",
        "\n",
        "\n",
        "# specify parameters and distributions to sample from\n",
        "hp = {\n",
        "    'bootstrap': [True, False],\n",
        "      'criterion': ['gini', 'entropy'],\n",
        "      # 'n_estimators': [10, 25], \n",
        "      # 'max_features': [5, 10], \n",
        "      # 'max_depth': [10, 50, None], \n",
        "      'max_depth': np.arange(1, 5, 1),\n",
        "      'max_features': ['auto', 'sqrt', 'log2', 1, 2, 3, 4, 5],\n",
        "      # 'min_samples_leaf': [0, 1, 2, 3, 4, 5],\n",
        "      # 'min_samples_split': [1, 2, 5, 10],\n",
        "      'n_estimators': np.arange(10, 200, 10),\n",
        "      'warm_start': [True, False],\n",
        "      'class_weight': [{0:x, 1:1.0-x} for x in weights]\n",
        "      }\n",
        "# pprint(hp)\n",
        "\n",
        "# run randomized search\n",
        "print(\"\\nStarting randomized search\\n\")\n",
        "n_iter_search = 250\n",
        "n_jobs_val = -1\n",
        "random_search = RandomizedSearchCV(clf, \n",
        "                                    param_distributions=hp,\n",
        "                                    n_iter=n_iter_search,\n",
        "                                    cv=StratifiedKFold(),\n",
        "                                    verbose = 5,\n",
        "                                    scoring='roc_auc',\n",
        "                                    return_train_score = True,\n",
        "                                    n_jobs = n_jobs_val)\n",
        "\n",
        "#Train the model using the training sets y_pred=clf.predict(X_test)\n",
        "random_search.fit(X,y)\n",
        "\n",
        "pprint(random_search.best_estimator_)\n",
        "pprint(random_search.best_params_)\n",
        "pd.DataFrame(random_search.cv_results_)\n",
        "\n",
        "print(\"\\nSaving model\\n\")\n",
        "\n",
        "clf = random_search.best_estimator_\n",
        "\n",
        "#Train the model using the training sets y_pred=clf.predict(X_test)\n",
        "clf.fit(X,y)\n",
        "\n",
        "# save the model to disk\n",
        "filename = location + 'biospec_RF' + '.sav'\n",
        "pickle.dump(clf, open(filename, 'wb'))"
      ],
      "execution_count": null,
      "outputs": [
        {
          "output_type": "stream",
          "text": [
            "\n",
            "Starting randomized search\n",
            "\n",
            "Fitting 5 folds for each of 250 candidates, totalling 1250 fits\n"
          ],
          "name": "stdout"
        },
        {
          "output_type": "stream",
          "text": [
            "[Parallel(n_jobs=-1)]: Using backend LokyBackend with 2 concurrent workers.\n",
            "[Parallel(n_jobs=-1)]: Done  14 tasks      | elapsed:    3.5s\n",
            "[Parallel(n_jobs=-1)]: Done  68 tasks      | elapsed:   11.9s\n",
            "[Parallel(n_jobs=-1)]: Done 158 tasks      | elapsed:   24.2s\n",
            "[Parallel(n_jobs=-1)]: Done 384 tasks      | elapsed:   54.6s\n",
            "[Parallel(n_jobs=-1)]: Done 708 tasks      | elapsed:  1.6min\n",
            "[Parallel(n_jobs=-1)]: Done 1104 tasks      | elapsed:  2.5min\n",
            "[Parallel(n_jobs=-1)]: Done 1250 out of 1250 | elapsed:  2.8min finished\n"
          ],
          "name": "stderr"
        },
        {
          "output_type": "stream",
          "text": [
            "RandomForestClassifier(bootstrap=False, ccp_alpha=0.0,\n",
            "                       class_weight={0: 0.6557142857142857,\n",
            "                                     1: 0.3442857142857143},\n",
            "                       criterion='gini', max_depth=3, max_features=4,\n",
            "                       max_leaf_nodes=None, max_samples=None,\n",
            "                       min_impurity_decrease=0.0, min_impurity_split=None,\n",
            "                       min_samples_leaf=1, min_samples_split=2,\n",
            "                       min_weight_fraction_leaf=0.0, n_estimators=180,\n",
            "                       n_jobs=None, oob_score=False, random_state=None,\n",
            "                       verbose=0, warm_start=False)\n",
            "{'bootstrap': False,\n",
            " 'class_weight': {0: 0.6557142857142857, 1: 0.3442857142857143},\n",
            " 'criterion': 'gini',\n",
            " 'max_depth': 3,\n",
            " 'max_features': 4,\n",
            " 'n_estimators': 180,\n",
            " 'warm_start': False}\n",
            "\n",
            "Saving model\n",
            "\n"
          ],
          "name": "stdout"
        }
      ]
    },
    {
      "cell_type": "code",
      "metadata": {
        "colab": {
          "base_uri": "https://localhost:8080/",
          "height": 508
        },
        "id": "KxspTcYRZ8oh",
        "outputId": "cd2f5620-7e43-457a-9c41-8438b4e11216"
      },
      "source": [
        "# load the model from disk\n",
        "filename = location + 'biospec_RF' + '.sav'\n",
        "clf = pickle.load(open(filename, 'rb'))\n",
        "clf_rf = clf\n",
        "\n",
        "\n",
        "y_pred = clf.predict(X_test)\n",
        "y_pred_proba = clf.predict_proba(X_test)[:,1]\n",
        "\n",
        "print(\"AUC-ROC = \", roc_auc_score(y_test, y_pred_proba))\n",
        "print(\"AUC-PR = \", average_precision_score(y_test, y_pred_proba))\n",
        "print(\"F1 score = \", f1_score(y_test, y_pred))\n",
        "print(\"Precision = \", precision_score(y_test, y_pred))\n",
        "print(\"Recall = \", recall_score(y_test, y_pred))\n",
        "print(classification_report(y_test, y_pred))\n",
        "\n",
        "#Ploting the confusion matrix\n",
        "cf_matrix = confusion_matrix(y_test, y_pred)\n",
        "sns.heatmap(cf_matrix, annot=True)\n",
        "plt.show()"
      ],
      "execution_count": null,
      "outputs": [
        {
          "output_type": "stream",
          "text": [
            "AUC-ROC =  0.6528875379939209\n",
            "AUC-PR =  0.8298564005912351\n",
            "F1 score =  0.7914438502673796\n",
            "Precision =  0.7956989247311828\n",
            "Recall =  0.7872340425531915\n",
            "              precision    recall  f1-score   support\n",
            "\n",
            "           0       0.44      0.46      0.45        35\n",
            "           1       0.80      0.79      0.79        94\n",
            "\n",
            "    accuracy                           0.70       129\n",
            "   macro avg       0.62      0.62      0.62       129\n",
            "weighted avg       0.70      0.70      0.70       129\n",
            "\n"
          ],
          "name": "stdout"
        },
        {
          "output_type": "display_data",
          "data": {
            "image/png": "[encoded data removed]",
            "text/plain": [
              "<Figure size 432x288 with 2 Axes>"
            ]
          },
          "metadata": {
            "tags": [],
            "needs_background": "light"
          }
        }
      ]
    },
    {
      "cell_type": "code",
      "metadata": {
        "colab": {
          "base_uri": "https://localhost:8080/",
          "height": 295
        },
        "id": "h1fF0fobZ8kw",
        "outputId": "c25e71ee-1a49-4d82-adec-001fa3daeae9"
      },
      "source": [
        "ax = plt.gca()\n",
        "X_list = [X, X_test]\n",
        "y_list = [y, y_test]\n",
        "name_list = [\"Train\", \"Test\"]\n",
        "\n",
        "for i in range(2):\n",
        "    plot_roc_curve(clf, X_list[i], y_list[i], name=name_list[i], ax=ax) \n",
        "plt.plot([0,1],[0,1],'g--')\n",
        "plt.legend()\n",
        "plt.xlabel(\"True Positive Rate\")\n",
        "plt.ylabel(\"False Positive Rate\")\n",
        "plt.title(\"AUC (ROC curve) - Random Forest\")\n",
        "plt.show()"
      ],
      "execution_count": null,
      "outputs": [
        {
          "output_type": "display_data",
          "data": {
            "image/png": "[encoded data removed]",
            "text/plain": [
              "<Figure size 432x288 with 1 Axes>"
            ]
          },
          "metadata": {
            "tags": [],
            "needs_background": "light"
          }
        }
      ]
    },
    {
      "cell_type": "markdown",
      "metadata": {
        "id": "Ubovytchb69_"
      },
      "source": [
        "## **Gaussian Naive Bayes**\n",
        "\n",
        "---"
      ]
    },
    {
      "cell_type": "code",
      "metadata": {
        "colab": {
          "base_uri": "https://localhost:8080/"
        },
        "id": "qcg6-mwCZ8ge",
        "outputId": "cf2cc6b9-2beb-4268-f23c-7e7b150bf650"
      },
      "source": [
        "clf = GaussianNB()\n",
        " \n",
        "# # Parameters used by our current forest\n",
        "# print('Parameters initial\\n')\n",
        "# pprint(clf.get_params())\n",
        " \n",
        "# specify parameters and distributions to sample from\n",
        "hp = {'var_smoothing': np.logspace(0,-9, num=50)}\n",
        "# pprint(hp)\n",
        " \n",
        "# run randomized search\n",
        "print(\"\\nStarting randomized search\\n\")\n",
        "n_iter_search = 200\n",
        "n_jobs_val = -1\n",
        "random_search = RandomizedSearchCV(clf, \n",
        "                                    param_distributions=hp,\n",
        "                                    n_iter=n_iter_search, \n",
        "                                    cv=StratifiedKFold(),\n",
        "                                    verbose = 5, \n",
        "                                    scoring='roc_auc',\n",
        "                                    return_train_score = True,\n",
        "                                    n_jobs = n_jobs_val)\n",
        " \n",
        "#Train the model using the training sets y_pred=clf.predict(X_test)\n",
        "random_search.fit(X,y)\n",
        " \n",
        "pprint(random_search.best_estimator_)\n",
        "pprint(random_search.best_params_)\n",
        "pd.DataFrame(random_search.cv_results_)\n",
        " \n",
        "print(\"\\nSaving model\\n\")\n",
        " \n",
        "clf = random_search.best_estimator_\n",
        " \n",
        "#Train the model using the training sets y_pred=clf.predict(X_test)\n",
        "clf.fit(X,y)\n",
        " \n",
        "# save the model to disk\n",
        "filename = location + 'biospec_GNB' + '.sav'\n",
        "pickle.dump(clf, open(filename, 'wb'))"
      ],
      "execution_count": null,
      "outputs": [
        {
          "output_type": "stream",
          "text": [
            "\n",
            "Starting randomized search\n",
            "\n",
            "Fitting 5 folds for each of 50 candidates, totalling 250 fits\n"
          ],
          "name": "stdout"
        },
        {
          "output_type": "stream",
          "text": [
            "/usr/local/lib/python3.7/dist-packages/sklearn/model_selection/_search.py:281: UserWarning: The total space of parameters 50 is smaller than n_iter=200. Running 50 iterations. For exhaustive searches, use GridSearchCV.\n",
            "  % (grid_size, self.n_iter, grid_size), UserWarning)\n",
            "[Parallel(n_jobs=-1)]: Using backend LokyBackend with 2 concurrent workers.\n",
            "[Parallel(n_jobs=-1)]: Done  44 tasks      | elapsed:    0.2s\n"
          ],
          "name": "stderr"
        },
        {
          "output_type": "stream",
          "text": [
            "GaussianNB(priors=None, var_smoothing=1.0)\n",
            "{'var_smoothing': 1.0}\n",
            "\n",
            "Saving model\n",
            "\n"
          ],
          "name": "stdout"
        },
        {
          "output_type": "stream",
          "text": [
            "[Parallel(n_jobs=-1)]: Done 250 out of 250 | elapsed:    0.8s finished\n"
          ],
          "name": "stderr"
        }
      ]
    },
    {
      "cell_type": "code",
      "metadata": {
        "colab": {
          "base_uri": "https://localhost:8080/",
          "height": 508
        },
        "id": "Qf2HK_ATZ8YQ",
        "outputId": "447c045f-1777-4966-c3b3-8b01c8968f06"
      },
      "source": [
        "# load the model from disk\n",
        "filename = location + 'biospec_GNB' + '.sav'\n",
        "clf = pickle.load(open(filename, 'rb'))\n",
        "clf_gnb = clf\n",
        "\n",
        "y_pred = clf.predict(X_test)\n",
        "y_pred_proba = clf.predict_proba(X_test)[:,1]\n",
        "\n",
        "print(\"AUC-ROC = \", roc_auc_score(y_test, y_pred_proba))\n",
        "print(\"AUC-PR = \", average_precision_score(y_test, y_pred_proba))\n",
        "print(\"F1 score = \", f1_score(y_test, y_pred))\n",
        "print(\"Precision = \", precision_score(y_test, y_pred))\n",
        "print(\"Recall = \", recall_score(y_test, y_pred))\n",
        "print(classification_report(y_test, y_pred))\n",
        "\n",
        "#Ploting the confusion matrix\n",
        "cf_matrix = confusion_matrix(y_test, y_pred)\n",
        "sns.heatmap(cf_matrix, annot=True)\n",
        "plt.show()"
      ],
      "execution_count": null,
      "outputs": [
        {
          "output_type": "stream",
          "text": [
            "AUC-ROC =  0.739209726443769\n",
            "AUC-PR =  0.8766076592512928\n",
            "F1 score =  0.8611111111111112\n",
            "Precision =  0.7622950819672131\n",
            "Recall =  0.9893617021276596\n",
            "              precision    recall  f1-score   support\n",
            "\n",
            "           0       0.86      0.17      0.29        35\n",
            "           1       0.76      0.99      0.86        94\n",
            "\n",
            "    accuracy                           0.77       129\n",
            "   macro avg       0.81      0.58      0.57       129\n",
            "weighted avg       0.79      0.77      0.70       129\n",
            "\n"
          ],
          "name": "stdout"
        },
        {
          "output_type": "display_data",
          "data": {
            "image/png": "[encoded data removed]",
            "text/plain": [
              "<Figure size 432x288 with 2 Axes>"
            ]
          },
          "metadata": {
            "tags": [],
            "needs_background": "light"
          }
        }
      ]
    },
    {
      "cell_type": "code",
      "metadata": {
        "colab": {
          "base_uri": "https://localhost:8080/",
          "height": 295
        },
        "id": "7fV41HV2Z8O-",
        "outputId": "991496ec-da6a-4774-ef7f-4aaf8ac43c7e"
      },
      "source": [
        "ax = plt.gca()\n",
        "X_list = [X, X_test]\n",
        "y_list = [y, y_test]\n",
        "name_list = [\"Train\", \"Test\"]\n",
        "\n",
        "for i in range(2):\n",
        "    plot_roc_curve(clf, X_list[i], y_list[i], name=name_list[i], ax=ax) \n",
        "plt.plot([0,1],[0,1],'g--')\n",
        "plt.legend()\n",
        "plt.xlabel(\"True Positive Rate\")\n",
        "plt.ylabel(\"False Positive Rate\")\n",
        "plt.title(\"AUC (ROC curve) - Gaussian Naive Bayes\")\n",
        "plt.show()"
      ],
      "execution_count": null,
      "outputs": [
        {
          "output_type": "display_data",
          "data": {
            "image/png": "[encoded data removed]",
            "text/plain": [
              "<Figure size 432x288 with 1 Axes>"
            ]
          },
          "metadata": {
            "tags": [],
            "needs_background": "light"
          }
        }
      ]
    },
    {
      "cell_type": "markdown",
      "metadata": {
        "id": "VlCCcqNCdNcb"
      },
      "source": [
        "## **SVM**\n",
        "\n",
        "---"
      ]
    },
    {
      "cell_type": "code",
      "metadata": {
        "colab": {
          "base_uri": "https://localhost:8080/"
        },
        "id": "m74Ss-w4dNQr",
        "outputId": "a78ea9a5-e7eb-4f7d-ea9d-1786ae78cc42"
      },
      "source": [
        "clf = SVC()\n",
        "\n",
        "# # Parameters used by our current forest\n",
        "# print('Parameters initial\\n')\n",
        "# pprint(clf.get_params())\n",
        "\n",
        "# specify parameters and distributions to sample from\n",
        "hp = {'C': [0.0001, 0.001, 0.01, 0.1, 0, 1, 10, 25, 50, 75, 100],\n",
        "      'kernel': ['linear', 'poly', 'rbf', 'sigmoid'],\n",
        "      'gamma': ['scale', 'auto'],\n",
        "      'shrinking': [True, False],\n",
        "      'class_weight': [{0:x, 1:1.0-x} for x in weights],\n",
        "      # 'decision_function_shape': ['ovo', 'ovr']\n",
        "      }\n",
        "# pprint(hp)\n",
        "\n",
        "# run randomized search\n",
        "print(\"\\nStarting randomized search\\n\")\n",
        "n_iter_search = 200\n",
        "n_jobs_val = -1\n",
        "random_search = RandomizedSearchCV(clf, \n",
        "                                    param_distributions=hp,\n",
        "                                    n_iter=n_iter_search, \n",
        "                                    cv=StratifiedKFold(),\n",
        "                                    verbose = 5, \n",
        "                                    scoring='balanced_accuracy',\n",
        "                                    return_train_score = True,\n",
        "                                    n_jobs = n_jobs_val)\n",
        "\n",
        "#Train the model using the training sets y_pred=clf.predict(X_test)\n",
        "random_search.fit(X,y)\n",
        "\n",
        "pprint(random_search.best_estimator_)\n",
        "pprint(random_search.best_params_)\n",
        "pd.DataFrame(random_search.cv_results_)\n",
        "\n",
        "print(\"\\nSaving model\\n\")\n",
        "\n",
        "clf = random_search.best_estimator_\n",
        "\n",
        "#Train the model using the training sets y_pred=clf.predict(X_test)\n",
        "clf.fit(X,y)\n",
        "\n",
        "# save the model to disk\n",
        "filename = location + 'biospec_SVM_1' + '.sav'\n",
        "pickle.dump(clf, open(filename, 'wb'))"
      ],
      "execution_count": null,
      "outputs": [
        {
          "output_type": "stream",
          "text": [
            "\n",
            "Starting randomized search\n",
            "\n",
            "Fitting 5 folds for each of 200 candidates, totalling 1000 fits\n"
          ],
          "name": "stdout"
        },
        {
          "output_type": "stream",
          "text": [
            "[Parallel(n_jobs=-1)]: Using backend LokyBackend with 2 concurrent workers.\n",
            "[Parallel(n_jobs=-1)]: Done  48 tasks      | elapsed:    2.8s\n",
            "[Parallel(n_jobs=-1)]: Done 284 tasks      | elapsed:   23.3s\n",
            "[Parallel(n_jobs=-1)]: Done 751 tasks      | elapsed:  1.1min\n"
          ],
          "name": "stderr"
        },
        {
          "output_type": "stream",
          "text": [
            "SVC(C=100, break_ties=False, cache_size=200,\n",
            "    class_weight={0: 0.7114285714285714, 1: 0.2885714285714286}, coef0=0.0,\n",
            "    decision_function_shape='ovr', degree=3, gamma='auto', kernel='rbf',\n",
            "    max_iter=-1, probability=False, random_state=None, shrinking=True,\n",
            "    tol=0.001, verbose=False)\n",
            "{'C': 100,\n",
            " 'class_weight': {0: 0.7114285714285714, 1: 0.2885714285714286},\n",
            " 'gamma': 'auto',\n",
            " 'kernel': 'rbf',\n",
            " 'shrinking': True}\n",
            "\n",
            "Saving model\n",
            "\n"
          ],
          "name": "stdout"
        },
        {
          "output_type": "stream",
          "text": [
            "[Parallel(n_jobs=-1)]: Done 1000 out of 1000 | elapsed:  1.8min finished\n"
          ],
          "name": "stderr"
        }
      ]
    },
    {
      "cell_type": "code",
      "metadata": {
        "colab": {
          "base_uri": "https://localhost:8080/",
          "height": 508
        },
        "id": "wc8Ib1ERdNM5",
        "outputId": "9cbd4b3c-d7b7-48ff-bdbe-d2cbd7a828aa"
      },
      "source": [
        "# load the model from disk\n",
        "filename = location + 'biospec_SVM_1' + '.sav'\n",
        "clf = pickle.load(open(filename, 'rb'))\n",
        "clf_svm = clf\n",
        "\n",
        "y_pred = clf.predict(X_test)\n",
        "\n",
        "fpr, tpr, _ = roc_curve(y_test, y_pred)\n",
        "print(\"AUC-ROC = \", auc(fpr,tpr))\n",
        "prec, rec, thresholds = precision_recall_curve(y_test, y_pred)\n",
        "print(\"AUC-PR = \", auc(rec, prec))\n",
        "print(\"F1 score = \", f1_score(y_test, y_pred))\n",
        "print(\"Precision = \", precision_score(y_test, y_pred))\n",
        "print(\"Recall = \", recall_score(y_test, y_pred))\n",
        "print(classification_report(y_test, y_pred))\n",
        "\n",
        "\n",
        "#Ploting the confusion matrix\n",
        "cf_matrix = confusion_matrix(y_test, y_pred)\n",
        "sns.heatmap(cf_matrix, annot=True)\n",
        "plt.show()"
      ],
      "execution_count": null,
      "outputs": [
        {
          "output_type": "stream",
          "text": [
            "AUC-ROC =  0.646048632218845\n",
            "AUC-PR =  0.865719989133704\n",
            "F1 score =  0.7037037037037038\n",
            "Precision =  0.8382352941176471\n",
            "Recall =  0.6063829787234043\n",
            "              precision    recall  f1-score   support\n",
            "\n",
            "           0       0.39      0.69      0.50        35\n",
            "           1       0.84      0.61      0.70        94\n",
            "\n",
            "    accuracy                           0.63       129\n",
            "   macro avg       0.62      0.65      0.60       129\n",
            "weighted avg       0.72      0.63      0.65       129\n",
            "\n"
          ],
          "name": "stdout"
        },
        {
          "output_type": "display_data",
          "data": {
            "image/png": "[encoded data removed]",
            "text/plain": [
              "<Figure size 432x288 with 2 Axes>"
            ]
          },
          "metadata": {
            "tags": [],
            "needs_background": "light"
          }
        }
      ]
    },
    {
      "cell_type": "code",
      "metadata": {
        "colab": {
          "base_uri": "https://localhost:8080/",
          "height": 382
        },
        "id": "A0Ne44O6dNI1",
        "outputId": "30104fee-dccb-447a-fce9-2d55ebedaaf3"
      },
      "source": [
        "ax = plt.gca()\n",
        "X_list = [X, X_test]\n",
        "y_list = [y, y_test]\n",
        "name_list = [\"Train\", \"Test\"]\n",
        "\n",
        "print(clf)\n",
        "\n",
        "for i in range(2):\n",
        "  plot_roc_curve(clf, X_list[i], y_list[i], name=name_list[i], ax=ax) \n",
        "plt.plot([0,1],[0,1],'g--')\n",
        "plt.legend()\n",
        "plt.xlabel(\"True Positive Rate\")\n",
        "plt.ylabel(\"False Positive Rate\")\n",
        "plt.title(\"AUC (ROC curve) - SVM\")\n",
        "plt.show()"
      ],
      "execution_count": null,
      "outputs": [
        {
          "output_type": "stream",
          "text": [
            "SVC(C=100, break_ties=False, cache_size=200,\n",
            "    class_weight={0: 0.7114285714285714, 1: 0.2885714285714286}, coef0=0.0,\n",
            "    decision_function_shape='ovr', degree=3, gamma='auto', kernel='rbf',\n",
            "    max_iter=-1, probability=False, random_state=None, shrinking=True,\n",
            "    tol=0.001, verbose=False)\n"
          ],
          "name": "stdout"
        },
        {
          "output_type": "display_data",
          "data": {
            "image/png": "[encoded data removed]",
            "text/plain": [
              "<Figure size 432x288 with 1 Axes>"
            ]
          },
          "metadata": {
            "tags": [],
            "needs_background": "light"
          }
        }
      ]
    },
    {
      "cell_type": "markdown",
      "metadata": {
        "id": "YpgcveiCkkV-"
      },
      "source": [
        "## **Logistic Regression**\n",
        "\n",
        "---"
      ]
    },
    {
      "cell_type": "code",
      "metadata": {
        "colab": {
          "base_uri": "https://localhost:8080/"
        },
        "id": "65OdtM-SdNFW",
        "outputId": "379cbf0c-9c4c-4fd8-a7f2-dd3be836d258"
      },
      "source": [
        "clf = LogisticRegression()\n",
        "\n",
        "# # Parameters used by our current forest\n",
        "# print('Parameters initial\\n')\n",
        "# pprint(clf.get_params())\n",
        "\n",
        "# specify parameters and distributions to sample from\n",
        "hp = {'C': [0.0001, 0.001, 0.01, 0.1, 0, 1, 10, 25, 50, 75, 100],\n",
        "      'penalty': ['l1', 'l2', 'elasticnet'],\n",
        "      'solver': ['newton-cg', 'lbfgs', 'liblinear', 'sag', 'saga'],\n",
        "      'class_weight': [{0:x, 1:1.0-x} for x in weights],\n",
        "      'multi_class': ['multinomial', 'ovr', 'auto'],\n",
        "      'warm_start': [True, False],\n",
        "      'l1_ratio': np.arange(0, 1.1, 0.1),\n",
        "      'random_state': [81]\n",
        "      }\n",
        "# pprint(hp)\n",
        "\n",
        "# run randomized search\n",
        "print(\"\\nStarting randomized search\\n\")\n",
        "n_iter_search = 1500\n",
        "n_jobs_val = -1\n",
        "random_search = RandomizedSearchCV(clf, \n",
        "                                    param_distributions=hp,\n",
        "                                    n_iter=n_iter_search, \n",
        "                                    cv=StratifiedKFold(),\n",
        "                                    verbose = 5, \n",
        "                                    scoring='balanced_accuracy',\n",
        "                                    return_train_score = True,\n",
        "                                    n_jobs = n_jobs_val)\n",
        "\n",
        "#Train the model using the training sets y_pred=clf.predict(X_test)\n",
        "random_search.fit(X,y)\n",
        "\n",
        "pprint(random_search.best_estimator_)\n",
        "pprint(random_search.best_params_)\n",
        "pd.DataFrame(random_search.cv_results_)\n",
        "\n",
        "print(\"\\nSaving model\\n\")\n",
        "\n",
        "clf = random_search.best_estimator_\n",
        "\n",
        "#Train the model using the training sets y_pred=clf.predict(X_test)\n",
        "clf.fit(X,y)\n",
        "\n",
        "# save the model to disk\n",
        "filename = location + 'biospec_logReg_1' + '.sav'\n",
        "pickle.dump(clf, open(filename, 'wb'))"
      ],
      "execution_count": null,
      "outputs": [
        {
          "output_type": "stream",
          "text": [
            "\n",
            "Starting randomized search\n",
            "\n",
            "Fitting 5 folds for each of 1500 candidates, totalling 7500 fits\n"
          ],
          "name": "stdout"
        },
        {
          "output_type": "stream",
          "text": [
            "[Parallel(n_jobs=-1)]: Using backend LokyBackend with 2 concurrent workers.\n",
            "[Parallel(n_jobs=-1)]: Done  14 tasks      | elapsed:    0.9s\n",
            "[Parallel(n_jobs=-1)]: Done 1350 tasks      | elapsed:    5.3s\n",
            "[Parallel(n_jobs=-1)]: Done 4230 tasks      | elapsed:   14.5s\n"
          ],
          "name": "stderr"
        },
        {
          "output_type": "stream",
          "text": [
            "LogisticRegression(C=50,\n",
            "                   class_weight={0: 0.703469387755102, 1: 0.29653061224489796},\n",
            "                   dual=False, fit_intercept=True, intercept_scaling=1,\n",
            "                   l1_ratio=0.2, max_iter=100, multi_class='ovr', n_jobs=None,\n",
            "                   penalty='l1', random_state=81, solver='liblinear',\n",
            "                   tol=0.0001, verbose=0, warm_start=False)\n",
            "{'C': 50,\n",
            " 'class_weight': {0: 0.703469387755102, 1: 0.29653061224489796},\n",
            " 'l1_ratio': 0.2,\n",
            " 'multi_class': 'ovr',\n",
            " 'penalty': 'l1',\n",
            " 'random_state': 81,\n",
            " 'solver': 'liblinear',\n",
            " 'warm_start': False}\n",
            "\n",
            "Saving model\n",
            "\n"
          ],
          "name": "stdout"
        },
        {
          "output_type": "stream",
          "text": [
            "[Parallel(n_jobs=-1)]: Done 7500 out of 7500 | elapsed:   24.4s finished\n",
            "/usr/local/lib/python3.7/dist-packages/sklearn/linear_model/_logistic.py:1501: UserWarning: l1_ratio parameter is only used when penalty is 'elasticnet'. Got (penalty=l1)\n",
            "  \"(penalty={})\".format(self.penalty))\n",
            "/usr/local/lib/python3.7/dist-packages/sklearn/linear_model/_logistic.py:1501: UserWarning: l1_ratio parameter is only used when penalty is 'elasticnet'. Got (penalty=l1)\n",
            "  \"(penalty={})\".format(self.penalty))\n"
          ],
          "name": "stderr"
        }
      ]
    },
    {
      "cell_type": "code",
      "metadata": {
        "colab": {
          "base_uri": "https://localhost:8080/",
          "height": 508
        },
        "id": "0UpEJuBqdNB-",
        "outputId": "f42a2209-f9f6-4137-95a7-9ff0cc4a6b89"
      },
      "source": [
        "# load the model from disk\n",
        "filename = location + 'biospec_logReg_1' + '.sav'\n",
        "clf = pickle.load(open(filename, 'rb'))\n",
        "clf_logReg = clf\n",
        "\n",
        "y_pred = clf.predict(X_test)\n",
        "y_pred_proba = clf.predict_proba(X_test)[:,1]\n",
        "\n",
        "print(\"AUC-ROC = \", roc_auc_score(y_test, y_pred_proba))\n",
        "print(\"AUC-PR = \", average_precision_score(y_test, y_pred_proba))\n",
        "print(\"F1 score = \", f1_score(y_test, y_pred))\n",
        "print(\"Precision = \", precision_score(y_test, y_pred))\n",
        "print(\"Recall = \", recall_score(y_test, y_pred))\n",
        "print(classification_report(y_test, y_pred))\n",
        "\n",
        "#Ploting the confusion matrix\n",
        "cf_matrix = confusion_matrix(y_test, y_pred)\n",
        "sns.heatmap(cf_matrix, annot=True)\n",
        "plt.show()"
      ],
      "execution_count": null,
      "outputs": [
        {
          "output_type": "stream",
          "text": [
            "AUC-ROC =  0.6711246200607902\n",
            "AUC-PR =  0.8282634688497433\n",
            "F1 score =  0.7065868263473053\n",
            "Precision =  0.8082191780821918\n",
            "Recall =  0.6276595744680851\n",
            "              precision    recall  f1-score   support\n",
            "\n",
            "           0       0.38      0.60      0.46        35\n",
            "           1       0.81      0.63      0.71        94\n",
            "\n",
            "    accuracy                           0.62       129\n",
            "   macro avg       0.59      0.61      0.58       129\n",
            "weighted avg       0.69      0.62      0.64       129\n",
            "\n"
          ],
          "name": "stdout"
        },
        {
          "output_type": "display_data",
          "data": {
            "image/png": "[encoded data removed]",
            "text/plain": [
              "<Figure size 432x288 with 2 Axes>"
            ]
          },
          "metadata": {
            "tags": [],
            "needs_background": "light"
          }
        }
      ]
    },
    {
      "cell_type": "code",
      "metadata": {
        "colab": {
          "base_uri": "https://localhost:8080/",
          "height": 399
        },
        "id": "ckMO783ZdM9x",
        "outputId": "73aa76dd-025a-4e5c-a089-6e23cc282013"
      },
      "source": [
        "ax = plt.gca()\n",
        "X_list = [X, X_test]\n",
        "y_list = [y, y_test]\n",
        "name_list = [\"Train\", \"Test\"]\n",
        "\n",
        "print(clf)\n",
        "\n",
        "for i in range(2):\n",
        "  plot_roc_curve(clf, X_list[i], y_list[i], name=name_list[i], ax=ax) \n",
        "plt.plot([0,1],[0,1],'g--')\n",
        "plt.legend()\n",
        "plt.xlabel(\"True Positive Rate\")\n",
        "plt.ylabel(\"False Positive Rate\")\n",
        "plt.title(\"AUC (ROC curve) - Logistic Regression\")\n",
        "plt.show()"
      ],
      "execution_count": null,
      "outputs": [
        {
          "output_type": "stream",
          "text": [
            "LogisticRegression(C=50,\n",
            "                   class_weight={0: 0.703469387755102, 1: 0.29653061224489796},\n",
            "                   dual=False, fit_intercept=True, intercept_scaling=1,\n",
            "                   l1_ratio=0.2, max_iter=100, multi_class='ovr', n_jobs=None,\n",
            "                   penalty='l1', random_state=81, solver='liblinear',\n",
            "                   tol=0.0001, verbose=0, warm_start=False)\n"
          ],
          "name": "stdout"
        },
        {
          "output_type": "display_data",
          "data": {
            "image/png": "[encoded data removed]",
            "text/plain": [
              "<Figure size 432x288 with 1 Axes>"
            ]
          },
          "metadata": {
            "tags": [],
            "needs_background": "light"
          }
        }
      ]
    },
    {
      "cell_type": "markdown",
      "metadata": {
        "id": "7I_awrBtkuYg"
      },
      "source": [
        "## **Stochastic Gradient Descent**\n",
        "\n",
        "---"
      ]
    },
    {
      "cell_type": "code",
      "metadata": {
        "colab": {
          "base_uri": "https://localhost:8080/"
        },
        "id": "fCr8RNE6kvG0",
        "outputId": "cde3f889-691b-4286-fb7e-b99483112930"
      },
      "source": [
        "clf = SGDClassifier()\n",
        "\n",
        "# # Parameters used by our current forest\n",
        "# print('Parameters initial\\n')\n",
        "# pprint(clf.get_params())\n",
        "\n",
        "# specify parameters and distributions to sample from\n",
        "hp = {'alpha': [0.0001, 0.001, 0.01, 0.1,0.15,0.2,0.5,0.8,1],\n",
        "      'l1_ratio': [0,0.1,0.15,0.18,0.2,0.3],\n",
        "      'loss': ['log'],\n",
        "      'class_weight': [{0:x, 1:1.0-x} for x in weights],\n",
        "      'random_state': [81],\n",
        "      'tol': [None]\n",
        "      }\n",
        "# pprint(hp)\n",
        "\n",
        "# run randomized search\n",
        "print(\"\\nStarting randomized search\\n\")\n",
        "n_iter_search = 500\n",
        "n_jobs_val = -1\n",
        "random_search = RandomizedSearchCV(clf, \n",
        "                                    param_distributions=hp,\n",
        "                                    n_iter=n_iter_search, \n",
        "                                    cv=StratifiedKFold(),\n",
        "                                    verbose = 5, \n",
        "                                    scoring='balanced_accuracy',\n",
        "                                    return_train_score = True,\n",
        "                                    n_jobs = n_jobs_val)\n",
        "\n",
        "#Train the model using the training sets y_pred=clf.predict(X_test)\n",
        "random_search.fit(X,y)\n",
        "\n",
        "pprint(random_search.best_estimator_)\n",
        "pprint(random_search.best_params_)\n",
        "pd.DataFrame(random_search.cv_results_)\n",
        "\n",
        "print(\"\\nSaving model\\n\")\n",
        "\n",
        "clf = random_search.best_estimator_\n",
        "\n",
        "#Train the model using the training sets y_pred=clf.predict(X_test)\n",
        "clf.fit(X,y)\n",
        "\n",
        "# save the model to disk\n",
        "filename = location + 'biospec_SGD_1' + '.sav'\n",
        "pickle.dump(clf, open(filename, 'wb'))"
      ],
      "execution_count": null,
      "outputs": [
        {
          "output_type": "stream",
          "text": [
            "\n",
            "Starting randomized search\n",
            "\n",
            "Fitting 5 folds for each of 500 candidates, totalling 2500 fits\n"
          ],
          "name": "stdout"
        },
        {
          "output_type": "stream",
          "text": [
            "[Parallel(n_jobs=-1)]: Using backend LokyBackend with 2 concurrent workers.\n",
            "[Parallel(n_jobs=-1)]: Done  24 tasks      | elapsed:    1.0s\n",
            "[Parallel(n_jobs=-1)]: Done 132 tasks      | elapsed:    5.3s\n",
            "[Parallel(n_jobs=-1)]: Done 312 tasks      | elapsed:   12.5s\n",
            "[Parallel(n_jobs=-1)]: Done 564 tasks      | elapsed:   22.6s\n",
            "[Parallel(n_jobs=-1)]: Done 888 tasks      | elapsed:   35.5s\n",
            "[Parallel(n_jobs=-1)]: Done 1284 tasks      | elapsed:   51.5s\n",
            "[Parallel(n_jobs=-1)]: Done 1752 tasks      | elapsed:  1.2min\n",
            "[Parallel(n_jobs=-1)]: Done 2292 tasks      | elapsed:  1.5min\n"
          ],
          "name": "stderr"
        },
        {
          "output_type": "stream",
          "text": [
            "SGDClassifier(alpha=0.0001, average=False,\n",
            "              class_weight={0: 0.7193877551020408, 1: 0.2806122448979592},\n",
            "              early_stopping=False, epsilon=0.1, eta0=0.0, fit_intercept=True,\n",
            "              l1_ratio=0.1, learning_rate='optimal', loss='log', max_iter=1000,\n",
            "              n_iter_no_change=5, n_jobs=None, penalty='l2', power_t=0.5,\n",
            "              random_state=81, shuffle=True, tol=None, validation_fraction=0.1,\n",
            "              verbose=0, warm_start=False)\n",
            "{'alpha': 0.0001,\n",
            " 'class_weight': {0: 0.7193877551020408, 1: 0.2806122448979592},\n",
            " 'l1_ratio': 0.1,\n",
            " 'loss': 'log',\n",
            " 'random_state': 81,\n",
            " 'tol': None}\n",
            "\n",
            "Saving model\n",
            "\n"
          ],
          "name": "stdout"
        },
        {
          "output_type": "stream",
          "text": [
            "[Parallel(n_jobs=-1)]: Done 2500 out of 2500 | elapsed:  1.7min finished\n"
          ],
          "name": "stderr"
        }
      ]
    },
    {
      "cell_type": "code",
      "metadata": {
        "colab": {
          "base_uri": "https://localhost:8080/",
          "height": 508
        },
        "id": "zDA2HVpxkvsf",
        "outputId": "13aac773-39d5-469a-e80b-ad5eec692305"
      },
      "source": [
        "# load the model from disk\n",
        "filename = location + 'biospec_SGD_1' + '.sav'\n",
        "clf = pickle.load(open(filename, 'rb'))\n",
        "clf_SGD = clf\n",
        "\n",
        "y_pred = clf.predict(X_test)\n",
        "y_pred_proba = clf.predict_proba(X_test)[:,1]\n",
        "\n",
        "print(\"AUC-ROC = \", roc_auc_score(y_test, y_pred_proba))\n",
        "print(\"AUC-PR = \", average_precision_score(y_test, y_pred_proba))\n",
        "print(\"F1 score = \", f1_score(y_test, y_pred))\n",
        "print(\"Precision = \", precision_score(y_test, y_pred))\n",
        "print(\"Recall = \", recall_score(y_test, y_pred))\n",
        "print(classification_report(y_test, y_pred))\n",
        "\n",
        "#Ploting the confusion matrix\n",
        "cf_matrix = confusion_matrix(y_test, y_pred)\n",
        "sns.heatmap(cf_matrix, annot=True)\n",
        "plt.show()"
      ],
      "execution_count": null,
      "outputs": [
        {
          "output_type": "stream",
          "text": [
            "AUC-ROC =  0.6872340425531914\n",
            "AUC-PR =  0.8436504838485799\n",
            "F1 score =  0.6987951807228916\n",
            "Precision =  0.8055555555555556\n",
            "Recall =  0.6170212765957447\n",
            "              precision    recall  f1-score   support\n",
            "\n",
            "           0       0.37      0.60      0.46        35\n",
            "           1       0.81      0.62      0.70        94\n",
            "\n",
            "    accuracy                           0.61       129\n",
            "   macro avg       0.59      0.61      0.58       129\n",
            "weighted avg       0.69      0.61      0.63       129\n",
            "\n"
          ],
          "name": "stdout"
        },
        {
          "output_type": "display_data",
          "data": {
            "image/png": "[encoded data removed]",
            "text/plain": [
              "<Figure size 432x288 with 2 Axes>"
            ]
          },
          "metadata": {
            "tags": [],
            "needs_background": "light"
          }
        }
      ]
    },
    {
      "cell_type": "code",
      "metadata": {
        "colab": {
          "base_uri": "https://localhost:8080/",
          "height": 417
        },
        "id": "mQA3K2u9kvmt",
        "outputId": "f33dd39c-92a7-4ee6-de42-3a567bf413be"
      },
      "source": [
        "ax = plt.gca()\n",
        "X_list = [X, X_test]\n",
        "y_list = [y, y_test]\n",
        "name_list = [\"Train\", \"Test\"]\n",
        "\n",
        "print(clf)\n",
        "\n",
        "for i in range(2):\n",
        "  plot_roc_curve(clf, X_list[i], y_list[i], name=name_list[i], ax=ax) \n",
        "plt.plot([0,1],[0,1],'g--')\n",
        "plt.legend()\n",
        "plt.xlabel(\"True Positive Rate\")\n",
        "plt.ylabel(\"False Positive Rate\")\n",
        "plt.title(\"AUC (ROC curve) - SGD\")\n",
        "plt.show()"
      ],
      "execution_count": null,
      "outputs": [
        {
          "output_type": "stream",
          "text": [
            "SGDClassifier(alpha=0.0001, average=False,\n",
            "              class_weight={0: 0.7193877551020408, 1: 0.2806122448979592},\n",
            "              early_stopping=False, epsilon=0.1, eta0=0.0, fit_intercept=True,\n",
            "              l1_ratio=0.1, learning_rate='optimal', loss='log', max_iter=1000,\n",
            "              n_iter_no_change=5, n_jobs=None, penalty='l2', power_t=0.5,\n",
            "              random_state=81, shuffle=True, tol=None, validation_fraction=0.1,\n",
            "              verbose=0, warm_start=False)\n"
          ],
          "name": "stdout"
        },
        {
          "output_type": "display_data",
          "data": {
            "image/png": "[encoded data removed]",
            "text/plain": [
              "<Figure size 432x288 with 1 Axes>"
            ]
          },
          "metadata": {
            "tags": [],
            "needs_background": "light"
          }
        }
      ]
    },
    {
      "cell_type": "markdown",
      "metadata": {
        "id": "ppOf6wdilEhb"
      },
      "source": [
        "## **ROC Curve**\n",
        "\n",
        "---"
      ]
    },
    {
      "cell_type": "code",
      "metadata": {
        "colab": {
          "base_uri": "https://localhost:8080/",
          "height": 295
        },
        "id": "BcbRvm23kvhW",
        "outputId": "1932adf9-de48-4f35-fe2c-7a8d69ff5a0e"
      },
      "source": [
        "ax = plt.gca()\n",
        "classifiers = [clf_rf, clf_gnb, clf_svm, clf_logReg, clf_SGD]\n",
        "\n",
        "for i in classifiers:\n",
        "    plot_roc_curve(i, X_test, y_test, ax=ax)\n",
        "plt.plot(fpr_test, tpr_test, label='ANN (AUC = {:.2f})'.format(auc_test))\n",
        "plt.plot([0,1],[0,1],'g--')\n",
        "plt.legend()\n",
        "plt.xlabel(\"True Positive Rate\")\n",
        "plt.ylabel(\"False Positive Rate\")\n",
        "plt.title(\"AUC (ROC curve)\")\n",
        "plt.show()"
      ],
      "execution_count": null,
      "outputs": [
        {
          "output_type": "display_data",
          "data": {
            "image/png": "[encoded data removed]",
            "text/plain": [
              "<Figure size 432x288 with 1 Axes>"
            ]
          },
          "metadata": {
            "tags": [],
            "needs_background": "light"
          }
        }
      ]
    },
    {
      "cell_type": "code",
      "metadata": {
        "id": "AauSefi5oSSD"
      },
      "source": [
        "# def remove_imbalance(X, y, flag):\n",
        "\n",
        "#   y = y.reshape(len(y),1)\n",
        "\n",
        "#   print(\"Before Sampling, counts of label '1': {}\".format(sum(y == 1)))\n",
        "#   print(\"Before Sampling, counts of label '0': {} \\n\".format(sum(y == 0)))\n",
        "\n",
        "#   if(flag == 1):\n",
        "#     smt = SMOTE()\n",
        "#     X, y = smt.fit_resample(X, y)\n",
        "  \n",
        "#   if(flag == 2):\n",
        "#     ada = ADASYN()\n",
        "#     X, y = ada.fit_resample(X, y)\n",
        "\n",
        "#   if(flag == 3):\n",
        "#     smtom = SMOTETomek()\n",
        "#     X,y = smtom.fit_resample(X, y)\n",
        "\n",
        "#   if(flag == 4):\n",
        "#     smenn = SMOTEENN()\n",
        "#     X, y = smenn.fit_resample(X, y)\n",
        "\n",
        "#   y = y.reshape(len(y), 1)\n",
        "\n",
        "#   print(\"After Sampling, counts of label '1': {}\".format(sum(y == 1)))\n",
        "#   print(\"After Sampling, counts of label '0': {} \\n\".format(sum(y == 0)))\n",
        "\n",
        "#   return (X, y)  "
      ],
      "execution_count": null,
      "outputs": []
    },
    {
      "cell_type": "code",
      "metadata": {
        "id": "Xb2ci5bfiloy"
      },
      "source": [
        "# (X, y) = remove_imbalance(X, y, int(2))"
      ],
      "execution_count": null,
      "outputs": []
    },
    {
      "cell_type": "markdown",
      "metadata": {
        "id": "SVfWDPeKeeYn"
      },
      "source": [
        "# **ANN**\n",
        "\n",
        "---\n",
        "\n"
      ]
    },
    {
      "cell_type": "markdown",
      "metadata": {
        "id": "Cq0gF888lsts"
      },
      "source": [
        "#### **Defining Train_data, Val_data and Test data**\n",
        "\n",
        "---\n",
        "\n"
      ]
    },
    {
      "cell_type": "code",
      "metadata": {
        "colab": {
          "base_uri": "https://localhost:8080/"
        },
        "id": "xX0kCnqGeVMr",
        "outputId": "192f1e8f-0d3e-4651-f777-b47e614b9b48"
      },
      "source": [
        "dataset = df.values\n",
        "\n",
        "train_length = int(0.6*len(df))\n",
        "val_length = int(0.2*len(df))\n",
        "test_length = int(0.2*len(df))+1\n",
        "\n",
        "X = dataset[:train_length,0:input_columns]\n",
        "y = dataset[:train_length, -1].reshape(train_length, 1)\n",
        "\n",
        "X_valid = dataset[train_length: (train_length + val_length), 0:input_columns]\n",
        "y_valid = dataset[train_length: (train_length + val_length), -1].reshape(val_length, 1)\n",
        "\n",
        "X_test = dataset[(train_length + val_length): (train_length + val_length + test_length), 0:input_columns]\n",
        "y_test = dataset[(train_length + val_length): (train_length + val_length + test_length), -1].reshape(test_length, 1)\n",
        "\n",
        "# USING CLASS WEIGHTS\n",
        "class_weights = dict(zip(np.unique(y.flatten()), class_weight.compute_class_weight('balanced', np.unique(y.flatten()), y.flatten())))\n",
        "\n",
        "scalarX = MinMaxScaler()\n",
        "scalarX.fit(X)\n",
        "\n",
        "X = scalarX.transform(X)\n",
        "X_valid = scalarX.transform(X_valid)\n",
        "X_test = scalarX.transform(X_test)\n",
        "\n",
        "print(len(X), len(X_valid), len(X_test))"
      ],
      "execution_count": null,
      "outputs": [
        {
          "output_type": "stream",
          "text": [
            "384 128 129\n"
          ],
          "name": "stdout"
        }
      ]
    },
    {
      "cell_type": "code",
      "metadata": {
        "colab": {
          "base_uri": "https://localhost:8080/",
          "height": 387
        },
        "id": "h9keP8RglvQK",
        "outputId": "488eb5a2-088c-4ee2-8784-b9fa034c2077"
      },
      "source": [
        "# Train data distribution\n",
        "count_classes = df.iloc[:train_length, -1].replace({0:\"HC\", 1:\"PD\"}).value_counts()\n",
        "print(\"Train Data distribtuion:\")\n",
        "print(count_classes)\n",
        "plt.title(\"Train Data class histogram\")\n",
        "plt.xlabel(\"Class\")\n",
        "plt.ylabel(\"Frequency\") \n",
        "count_classes.plot(kind = 'bar')"
      ],
      "execution_count": null,
      "outputs": [
        {
          "output_type": "stream",
          "text": [
            "Train Data distribtuion:\n",
            "PD    268\n",
            "HC    116\n",
            "Name: STATUS, dtype: int64\n"
          ],
          "name": "stdout"
        },
        {
          "output_type": "execute_result",
          "data": {
            "text/plain": [
              "<matplotlib.axes._subplots.AxesSubplot at 0x7f1ff58bfbd0>"
            ]
          },
          "metadata": {
            "tags": []
          },
          "execution_count": 73
        },
        {
          "output_type": "display_data",
          "data": {
            "image/png": "[encoded data removed]",
            "text/plain": [
              "<Figure size 432x288 with 1 Axes>"
            ]
          },
          "metadata": {
            "tags": [],
            "needs_background": "light"
          }
        }
      ]
    },
    {
      "cell_type": "code",
      "metadata": {
        "colab": {
          "base_uri": "https://localhost:8080/",
          "height": 387
        },
        "id": "1pwbteDQlvJ1",
        "outputId": "a4a89ed1-9d0d-427c-f8d4-0074f1ceb600"
      },
      "source": [
        "# Val data distribution\n",
        "count_classes = df.iloc[train_length: (train_length + val_length), -1].replace({0:\"HC\", 1:\"PD\"}).value_counts()\n",
        "print(\"Val Data distribtuion:\")\n",
        "print(count_classes)\n",
        "plt.title(\"Val Data class histogram\")\n",
        "plt.xlabel(\"Class\")\n",
        "plt.ylabel(\"Frequency\") \n",
        "count_classes.plot(kind = 'bar')"
      ],
      "execution_count": null,
      "outputs": [
        {
          "output_type": "stream",
          "text": [
            "Val Data distribtuion:\n",
            "PD    94\n",
            "HC    34\n",
            "Name: STATUS, dtype: int64\n"
          ],
          "name": "stdout"
        },
        {
          "output_type": "execute_result",
          "data": {
            "text/plain": [
              "<matplotlib.axes._subplots.AxesSubplot at 0x7f1ff55925d0>"
            ]
          },
          "metadata": {
            "tags": []
          },
          "execution_count": 74
        },
        {
          "output_type": "display_data",
          "data": {
            "image/png": "[encoded data removed]",
            "text/plain": [
              "<Figure size 432x288 with 1 Axes>"
            ]
          },
          "metadata": {
            "tags": [],
            "needs_background": "light"
          }
        }
      ]
    },
    {
      "cell_type": "code",
      "metadata": {
        "colab": {
          "base_uri": "https://localhost:8080/",
          "height": 379
        },
        "id": "ozWiQLzYlvB8",
        "outputId": "d6974d8e-f033-40ea-bebd-dfaabb0d2928"
      },
      "source": [
        "# Test data distribution\n",
        "count_classes = df.iloc[(train_length + val_length): (train_length + val_length + test_length), -1].value_counts()\n",
        "print(\"Test Data distribtuion:\")\n",
        "print(count_classes)\n",
        "plt.title(\"Test Data class histogram\")\n",
        "plt.xlabel(\"Class\")\n",
        "plt.ylabel(\"Frequency\") \n",
        "count_classes.plot(kind = 'bar')"
      ],
      "execution_count": null,
      "outputs": [
        {
          "output_type": "stream",
          "text": [
            "Test Data distribtuion:\n",
            "1    94\n",
            "0    35\n",
            "Name: STATUS, dtype: int64\n"
          ],
          "name": "stdout"
        },
        {
          "output_type": "execute_result",
          "data": {
            "text/plain": [
              "<matplotlib.axes._subplots.AxesSubplot at 0x7f1ff588f150>"
            ]
          },
          "metadata": {
            "tags": []
          },
          "execution_count": 75
        },
        {
          "output_type": "display_data",
          "data": {
            "image/png": "[encoded data removed]",
            "text/plain": [
              "<Figure size 432x288 with 1 Axes>"
            ]
          },
          "metadata": {
            "tags": [],
            "needs_background": "light"
          }
        }
      ]
    },
    {
      "cell_type": "markdown",
      "metadata": {
        "id": "4po7ORwoe-B4"
      },
      "source": [
        "# **Training the Model**\n",
        "\n",
        "---\n",
        "\n"
      ]
    },
    {
      "cell_type": "code",
      "metadata": {
        "colab": {
          "base_uri": "https://localhost:8080/"
        },
        "id": "tnBAA5MQe7y2",
        "outputId": "8e1e3a11-784d-405c-fac8-9fb3485de239"
      },
      "source": [
        "model = Sequential()\n",
        "model.add(Dense(2, input_dim=input_columns, activation='relu'))\n",
        "model.add(Dense(output_columns, activation='sigmoid'))\n",
        "model.compile(loss='binary_crossentropy', optimizer='adam')\n",
        "print(model.summary())"
      ],
      "execution_count": null,
      "outputs": [
        {
          "output_type": "stream",
          "text": [
            "Model: \"sequential_8\"\n",
            "_________________________________________________________________\n",
            "Layer (type)                 Output Shape              Param #   \n",
            "=================================================================\n",
            "dense_23 (Dense)             (None, 2)                 12        \n",
            "_________________________________________________________________\n",
            "dense_24 (Dense)             (None, 1)                 3         \n",
            "=================================================================\n",
            "Total params: 15\n",
            "Trainable params: 15\n",
            "Non-trainable params: 0\n",
            "_________________________________________________________________\n",
            "None\n"
          ],
          "name": "stdout"
        }
      ]
    },
    {
      "cell_type": "code",
      "metadata": {
        "colab": {
          "base_uri": "https://localhost:8080/"
        },
        "id": "9xwA_6HpfHth",
        "outputId": "d358485d-7dab-43a3-bd16-975033e9d15c"
      },
      "source": [
        "batch_size = 5\n",
        "num_epoch = 100\n",
        "output = model.fit(X, y, batch_size = batch_size, epochs=num_epoch, verbose=1,\n",
        "                   class_weight=class_weights, validation_data=(X_valid, y_valid))"
      ],
      "execution_count": null,
      "outputs": [
        {
          "output_type": "stream",
          "text": [
            "Epoch 1/100\n",
            "77/77 [==============================] - 1s 4ms/step - loss: 0.7148 - val_loss: 0.8023\n",
            "Epoch 2/100\n",
            "77/77 [==============================] - 0s 3ms/step - loss: 0.7016 - val_loss: 0.7751\n",
            "Epoch 3/100\n",
            "77/77 [==============================] - 0s 3ms/step - loss: 0.7008 - val_loss: 0.7517\n",
            "Epoch 4/100\n",
            "77/77 [==============================] - 0s 3ms/step - loss: 0.6906 - val_loss: 0.7365\n",
            "Epoch 5/100\n",
            "77/77 [==============================] - 0s 3ms/step - loss: 0.6795 - val_loss: 0.7235\n",
            "Epoch 6/100\n",
            "77/77 [==============================] - 0s 3ms/step - loss: 0.6884 - val_loss: 0.7173\n",
            "Epoch 7/100\n",
            "77/77 [==============================] - 0s 2ms/step - loss: 0.6872 - val_loss: 0.7120\n",
            "Epoch 8/100\n",
            "77/77 [==============================] - 0s 3ms/step - loss: 0.6927 - val_loss: 0.7113\n",
            "Epoch 9/100\n",
            "77/77 [==============================] - 0s 2ms/step - loss: 0.6721 - val_loss: 0.7074\n",
            "Epoch 10/100\n",
            "77/77 [==============================] - 0s 3ms/step - loss: 0.6834 - val_loss: 0.7060\n",
            "Epoch 11/100\n",
            "77/77 [==============================] - 0s 3ms/step - loss: 0.6642 - val_loss: 0.7082\n",
            "Epoch 12/100\n",
            "77/77 [==============================] - 0s 2ms/step - loss: 0.6969 - val_loss: 0.7077\n",
            "Epoch 13/100\n",
            "77/77 [==============================] - 0s 3ms/step - loss: 0.6878 - val_loss: 0.7046\n",
            "Epoch 14/100\n",
            "77/77 [==============================] - 0s 2ms/step - loss: 0.6810 - val_loss: 0.7029\n",
            "Epoch 15/100\n",
            "77/77 [==============================] - 0s 3ms/step - loss: 0.6850 - val_loss: 0.7031\n",
            "Epoch 16/100\n",
            "77/77 [==============================] - 0s 2ms/step - loss: 0.6688 - val_loss: 0.7008\n",
            "Epoch 17/100\n",
            "77/77 [==============================] - 0s 3ms/step - loss: 0.6875 - val_loss: 0.7032\n",
            "Epoch 18/100\n",
            "77/77 [==============================] - 0s 3ms/step - loss: 0.6739 - val_loss: 0.7037\n",
            "Epoch 19/100\n",
            "77/77 [==============================] - 0s 3ms/step - loss: 0.6741 - val_loss: 0.7024\n",
            "Epoch 20/100\n",
            "77/77 [==============================] - 0s 3ms/step - loss: 0.6641 - val_loss: 0.7056\n",
            "Epoch 21/100\n",
            "77/77 [==============================] - 0s 3ms/step - loss: 0.6761 - val_loss: 0.7026\n",
            "Epoch 22/100\n",
            "77/77 [==============================] - 0s 2ms/step - loss: 0.6732 - val_loss: 0.7027\n",
            "Epoch 23/100\n",
            "77/77 [==============================] - 0s 3ms/step - loss: 0.6775 - val_loss: 0.7034\n",
            "Epoch 24/100\n",
            "77/77 [==============================] - 0s 3ms/step - loss: 0.6961 - val_loss: 0.7020\n",
            "Epoch 25/100\n",
            "77/77 [==============================] - 0s 3ms/step - loss: 0.7118 - val_loss: 0.7024\n",
            "Epoch 26/100\n",
            "77/77 [==============================] - 0s 3ms/step - loss: 0.6940 - val_loss: 0.7034\n",
            "Epoch 27/100\n",
            "77/77 [==============================] - 0s 3ms/step - loss: 0.7012 - val_loss: 0.7007\n",
            "Epoch 28/100\n",
            "77/77 [==============================] - 0s 2ms/step - loss: 0.6787 - val_loss: 0.6973\n",
            "Epoch 29/100\n",
            "77/77 [==============================] - 0s 3ms/step - loss: 0.6786 - val_loss: 0.7001\n",
            "Epoch 30/100\n",
            "77/77 [==============================] - 0s 3ms/step - loss: 0.6658 - val_loss: 0.7015\n",
            "Epoch 31/100\n",
            "77/77 [==============================] - 0s 3ms/step - loss: 0.6743 - val_loss: 0.7025\n",
            "Epoch 32/100\n",
            "77/77 [==============================] - 0s 2ms/step - loss: 0.6535 - val_loss: 0.7014\n",
            "Epoch 33/100\n",
            "77/77 [==============================] - 0s 3ms/step - loss: 0.6814 - val_loss: 0.7022\n",
            "Epoch 34/100\n",
            "77/77 [==============================] - 0s 2ms/step - loss: 0.6489 - val_loss: 0.7004\n",
            "Epoch 35/100\n",
            "77/77 [==============================] - 0s 3ms/step - loss: 0.7066 - val_loss: 0.7033\n",
            "Epoch 36/100\n",
            "77/77 [==============================] - 0s 3ms/step - loss: 0.6618 - val_loss: 0.7005\n",
            "Epoch 37/100\n",
            "77/77 [==============================] - 0s 3ms/step - loss: 0.6872 - val_loss: 0.7001\n",
            "Epoch 38/100\n",
            "77/77 [==============================] - 0s 3ms/step - loss: 0.6599 - val_loss: 0.7030\n",
            "Epoch 39/100\n",
            "77/77 [==============================] - 0s 2ms/step - loss: 0.6687 - val_loss: 0.7018\n",
            "Epoch 40/100\n",
            "77/77 [==============================] - 0s 3ms/step - loss: 0.6747 - val_loss: 0.7029\n",
            "Epoch 41/100\n",
            "77/77 [==============================] - 0s 3ms/step - loss: 0.6605 - val_loss: 0.7040\n",
            "Epoch 42/100\n",
            "77/77 [==============================] - 0s 2ms/step - loss: 0.6917 - val_loss: 0.7017\n",
            "Epoch 43/100\n",
            "77/77 [==============================] - 0s 3ms/step - loss: 0.6728 - val_loss: 0.6985\n",
            "Epoch 44/100\n",
            "77/77 [==============================] - 0s 3ms/step - loss: 0.7043 - val_loss: 0.7032\n",
            "Epoch 45/100\n",
            "77/77 [==============================] - 0s 3ms/step - loss: 0.6746 - val_loss: 0.6973\n",
            "Epoch 46/100\n",
            "77/77 [==============================] - 0s 3ms/step - loss: 0.6823 - val_loss: 0.6991\n",
            "Epoch 47/100\n",
            "77/77 [==============================] - 0s 3ms/step - loss: 0.6560 - val_loss: 0.7016\n",
            "Epoch 48/100\n",
            "77/77 [==============================] - 0s 3ms/step - loss: 0.6796 - val_loss: 0.7040\n",
            "Epoch 49/100\n",
            "77/77 [==============================] - 0s 3ms/step - loss: 0.6544 - val_loss: 0.7020\n",
            "Epoch 50/100\n",
            "77/77 [==============================] - 0s 2ms/step - loss: 0.6440 - val_loss: 0.7023\n",
            "Epoch 51/100\n",
            "77/77 [==============================] - 0s 3ms/step - loss: 0.6274 - val_loss: 0.7064\n",
            "Epoch 52/100\n",
            "77/77 [==============================] - 0s 2ms/step - loss: 0.6627 - val_loss: 0.7068\n",
            "Epoch 53/100\n",
            "77/77 [==============================] - 0s 3ms/step - loss: 0.6804 - val_loss: 0.7015\n",
            "Epoch 54/100\n",
            "77/77 [==============================] - 0s 3ms/step - loss: 0.6891 - val_loss: 0.7019\n",
            "Epoch 55/100\n",
            "77/77 [==============================] - 0s 3ms/step - loss: 0.6860 - val_loss: 0.7001\n",
            "Epoch 56/100\n",
            "77/77 [==============================] - 0s 3ms/step - loss: 0.6753 - val_loss: 0.7073\n",
            "Epoch 57/100\n",
            "77/77 [==============================] - 0s 3ms/step - loss: 0.6511 - val_loss: 0.7038\n",
            "Epoch 58/100\n",
            "77/77 [==============================] - 0s 3ms/step - loss: 0.6752 - val_loss: 0.7021\n",
            "Epoch 59/100\n",
            "77/77 [==============================] - 0s 3ms/step - loss: 0.6550 - val_loss: 0.7041\n",
            "Epoch 60/100\n",
            "77/77 [==============================] - 0s 3ms/step - loss: 0.6571 - val_loss: 0.7067\n",
            "Epoch 61/100\n",
            "77/77 [==============================] - 0s 3ms/step - loss: 0.6759 - val_loss: 0.7067\n",
            "Epoch 62/100\n",
            "77/77 [==============================] - 0s 3ms/step - loss: 0.6740 - val_loss: 0.7049\n",
            "Epoch 63/100\n",
            "77/77 [==============================] - 0s 3ms/step - loss: 0.6942 - val_loss: 0.7056\n",
            "Epoch 64/100\n",
            "77/77 [==============================] - 0s 2ms/step - loss: 0.6628 - val_loss: 0.7032\n",
            "Epoch 65/100\n",
            "77/77 [==============================] - 0s 3ms/step - loss: 0.6727 - val_loss: 0.7062\n",
            "Epoch 66/100\n",
            "77/77 [==============================] - 0s 3ms/step - loss: 0.6556 - val_loss: 0.7022\n",
            "Epoch 67/100\n",
            "77/77 [==============================] - 0s 3ms/step - loss: 0.6887 - val_loss: 0.7029\n",
            "Epoch 68/100\n",
            "77/77 [==============================] - 0s 3ms/step - loss: 0.6963 - val_loss: 0.7014\n",
            "Epoch 69/100\n",
            "77/77 [==============================] - 0s 2ms/step - loss: 0.6983 - val_loss: 0.7012\n",
            "Epoch 70/100\n",
            "77/77 [==============================] - 0s 3ms/step - loss: 0.6740 - val_loss: 0.7003\n",
            "Epoch 71/100\n",
            "77/77 [==============================] - 0s 2ms/step - loss: 0.6703 - val_loss: 0.7062\n",
            "Epoch 72/100\n",
            "77/77 [==============================] - 0s 2ms/step - loss: 0.6687 - val_loss: 0.7045\n",
            "Epoch 73/100\n",
            "77/77 [==============================] - 0s 3ms/step - loss: 0.6561 - val_loss: 0.7078\n",
            "Epoch 74/100\n",
            "77/77 [==============================] - 0s 2ms/step - loss: 0.6803 - val_loss: 0.7031\n",
            "Epoch 75/100\n",
            "77/77 [==============================] - 0s 3ms/step - loss: 0.6748 - val_loss: 0.7028\n",
            "Epoch 76/100\n",
            "77/77 [==============================] - 0s 3ms/step - loss: 0.6748 - val_loss: 0.7000\n",
            "Epoch 77/100\n",
            "77/77 [==============================] - 0s 3ms/step - loss: 0.6390 - val_loss: 0.7022\n",
            "Epoch 78/100\n",
            "77/77 [==============================] - 0s 3ms/step - loss: 0.6847 - val_loss: 0.7071\n",
            "Epoch 79/100\n",
            "77/77 [==============================] - 0s 3ms/step - loss: 0.6530 - val_loss: 0.7072\n",
            "Epoch 80/100\n",
            "77/77 [==============================] - 0s 3ms/step - loss: 0.7062 - val_loss: 0.7048\n",
            "Epoch 81/100\n",
            "77/77 [==============================] - 0s 3ms/step - loss: 0.6715 - val_loss: 0.7065\n",
            "Epoch 82/100\n",
            "77/77 [==============================] - 0s 3ms/step - loss: 0.6396 - val_loss: 0.7082\n",
            "Epoch 83/100\n",
            "77/77 [==============================] - 0s 3ms/step - loss: 0.6982 - val_loss: 0.7036\n",
            "Epoch 84/100\n",
            "77/77 [==============================] - 0s 3ms/step - loss: 0.6755 - val_loss: 0.7027\n",
            "Epoch 85/100\n",
            "77/77 [==============================] - 0s 3ms/step - loss: 0.6934 - val_loss: 0.7067\n",
            "Epoch 86/100\n",
            "77/77 [==============================] - 0s 3ms/step - loss: 0.6724 - val_loss: 0.7032\n",
            "Epoch 87/100\n",
            "77/77 [==============================] - 0s 3ms/step - loss: 0.6716 - val_loss: 0.7063\n",
            "Epoch 88/100\n",
            "77/77 [==============================] - 0s 2ms/step - loss: 0.6879 - val_loss: 0.7039\n",
            "Epoch 89/100\n",
            "77/77 [==============================] - 0s 3ms/step - loss: 0.6303 - val_loss: 0.7042\n",
            "Epoch 90/100\n",
            "77/77 [==============================] - 0s 3ms/step - loss: 0.6822 - val_loss: 0.7052\n",
            "Epoch 91/100\n",
            "77/77 [==============================] - 0s 3ms/step - loss: 0.6759 - val_loss: 0.7026\n",
            "Epoch 92/100\n",
            "77/77 [==============================] - 0s 3ms/step - loss: 0.6569 - val_loss: 0.7069\n",
            "Epoch 93/100\n",
            "77/77 [==============================] - 0s 3ms/step - loss: 0.6433 - val_loss: 0.7076\n",
            "Epoch 94/100\n",
            "77/77 [==============================] - 0s 3ms/step - loss: 0.7008 - val_loss: 0.7078\n",
            "Epoch 95/100\n",
            "77/77 [==============================] - 0s 3ms/step - loss: 0.6592 - val_loss: 0.7042\n",
            "Epoch 96/100\n",
            "77/77 [==============================] - 0s 3ms/step - loss: 0.6744 - val_loss: 0.7015\n",
            "Epoch 97/100\n",
            "77/77 [==============================] - 0s 3ms/step - loss: 0.6546 - val_loss: 0.7080\n",
            "Epoch 98/100\n",
            "77/77 [==============================] - 0s 3ms/step - loss: 0.6698 - val_loss: 0.7076\n",
            "Epoch 99/100\n",
            "77/77 [==============================] - 0s 3ms/step - loss: 0.6686 - val_loss: 0.7046\n",
            "Epoch 100/100\n",
            "77/77 [==============================] - 0s 3ms/step - loss: 0.6523 - val_loss: 0.7054\n"
          ],
          "name": "stdout"
        }
      ]
    },
    {
      "cell_type": "code",
      "metadata": {
        "colab": {
          "base_uri": "https://localhost:8080/",
          "height": 386
        },
        "id": "WwQPiJn0fQaF",
        "outputId": "9db27d99-af50-4448-ef00-5e8b621ee69b"
      },
      "source": [
        "fig = plt.figure()\n",
        "plt.figure(figsize=(8,5))\n",
        "plt.plot(output.history['loss'])\n",
        "plt.plot(output.history['val_loss'])\n",
        "plt.title('Loss vs Epoch')\n",
        "plt.ylabel('Loss')\n",
        "plt.xlabel('# Epoch')\n",
        "plt.legend(['train', 'val'], loc='upper right')\n",
        "\n",
        "plt.tight_layout()"
      ],
      "execution_count": null,
      "outputs": [
        {
          "output_type": "display_data",
          "data": {
            "text/plain": [
              "<Figure size 432x288 with 0 Axes>"
            ]
          },
          "metadata": {
            "tags": []
          }
        },
        {
          "output_type": "display_data",
          "data": {
            "image/png": "[encoded data removed]",
            "text/plain": [
              "<Figure size 576x360 with 1 Axes>"
            ]
          },
          "metadata": {
            "tags": [],
            "needs_background": "light"
          }
        }
      ]
    },
    {
      "cell_type": "markdown",
      "metadata": {
        "id": "cjXz7ZiCvLCc"
      },
      "source": [
        "### **Save Model**"
      ]
    },
    {
      "cell_type": "code",
      "metadata": {
        "colab": {
          "base_uri": "https://localhost:8080/"
        },
        "id": "exHUXSYAvK3K",
        "outputId": "7338dffc-63e3-4f5a-ec47-5c508c7476bf"
      },
      "source": [
        "# Saving the model\n",
        "print(\"\\nSaving model\")\n",
        "# serialize model to JSON\n",
        "model_json = model.to_json()\n",
        "with open(location + \"biospec_ann.json\", \"w\") as json_file:\n",
        "    json_file.write(model_json)\n",
        "print(\"Saved model as json\")\n",
        "# serialize weights to HDF5\n",
        "model.save_weights(location + \"biospec_ann_wt.h5\")\n",
        "print(\"Saved model weights\")"
      ],
      "execution_count": null,
      "outputs": [
        {
          "output_type": "stream",
          "text": [
            "\n",
            "Saving model\n",
            "Saved model as json\n",
            "Saved model weights\n"
          ],
          "name": "stdout"
        }
      ]
    },
    {
      "cell_type": "markdown",
      "metadata": {
        "id": "iZ_l8WmHwmav"
      },
      "source": [
        "### **Load Model**"
      ]
    },
    {
      "cell_type": "markdown",
      "metadata": {
        "id": "h-w5YilWf5jl"
      },
      "source": [
        "# **Model Evaluation**\n",
        "\n",
        "---\n",
        "\n"
      ]
    },
    {
      "cell_type": "code",
      "metadata": {
        "colab": {
          "base_uri": "https://localhost:8080/",
          "height": 347
        },
        "id": "LLZkhsghvcrw",
        "outputId": "a872478c-edb7-42f7-c7b7-22ff3e6dd45b"
      },
      "source": [
        "# model = loaded_model # Loaded model\n",
        "\n",
        "pred = model.predict(X)\n",
        "# train_y_pred = np.where(pred > 0.5, 1, 0)\n",
        "fpr_train, tpr_train, _ = roc_curve(y, pred)\n",
        "auc_train = auc(fpr_train, tpr_train).round(2)\n",
        "print(\"Train AUC-ROC =\", str(auc_train))\n",
        "\n",
        "pred = model.predict(X_valid)\n",
        "# val_y_pred = np.where(pred > 0.5, 1, 0)\n",
        "fpr_val, tpr_val, _ = roc_curve(y_valid, pred)\n",
        "auc_val = auc(fpr_val, tpr_val).round(2)\n",
        "print(\"Validation AUC-ROC =\", str(auc_val))\n",
        "\n",
        "pred = model.predict(X_test)\n",
        "# test_y_pred = np.where(pred > 0.5, 1, 0)\n",
        "fpr_test, tpr_test, _ = roc_curve(y_test, pred)\n",
        "auc_test = auc(fpr_test, tpr_test).round(2)\n",
        "print(\"Test AUC-ROC =\", str(auc_test))\n",
        "\n",
        "plt.plot(fpr_train, tpr_train, label='Train (AUC = {:.2f})'.format(auc_train))\n",
        "plt.plot(fpr_val, tpr_val, label='Validation (AUC = {:.2f})'.format(auc_val))\n",
        "plt.plot(fpr_test, tpr_test, label='Test (AUC = {:.2f})'.format(auc_test))\n",
        "plt.plot([0,1],[0,1],'k--')\n",
        "plt.legend()\n",
        "plt.xlabel(\"True Positive Rate\")\n",
        "plt.ylabel(\"False Positive Rate\")\n",
        "plt.title(\"AUC (ROC curve) - ANN\")\n",
        "plt.show()"
      ],
      "execution_count": null,
      "outputs": [
        {
          "output_type": "stream",
          "text": [
            "Train AUC-ROC = 0.63\n",
            "Validation AUC-ROC = 0.52\n",
            "Test AUC-ROC = 0.62\n"
          ],
          "name": "stdout"
        },
        {
          "output_type": "display_data",
          "data": {
            "image/png": "[encoded data removed]",
            "text/plain": [
              "<Figure size 432x288 with 1 Axes>"
            ]
          },
          "metadata": {
            "tags": [],
            "needs_background": "light"
          }
        }
      ]
    },
    {
      "cell_type": "code",
      "metadata": {
        "id": "n1GNNkMaf3VV"
      },
      "source": [
        "def check_metrics(model, testX, testY):  \n",
        "\n",
        "  pred = model.predict(testX)\n",
        "  y_pred = np.where(pred > 0.5, 1, 0)\n",
        "  print('##############  Confusion Matrix  ##############')\n",
        "  print()\n",
        "  np.set_printoptions(threshold=np.inf)\n",
        "  print(confusion_matrix(testY, y_pred))\n",
        "  np.set_printoptions(threshold=100)\n",
        "  print()\n",
        "  print('##############  Classification Report  ##############')\n",
        "  print()\n",
        "  print(classification_report(testY, y_pred))"
      ],
      "execution_count": null,
      "outputs": []
    },
    {
      "cell_type": "code",
      "metadata": {
        "colab": {
          "base_uri": "https://localhost:8080/"
        },
        "id": "HSZ_JsQif9fZ",
        "outputId": "70c3ec7d-2839-45f5-d013-c97a65f51ef8"
      },
      "source": [
        "check_metrics(model, X_valid, y_valid)"
      ],
      "execution_count": null,
      "outputs": [
        {
          "output_type": "stream",
          "text": [
            "##############  Confusion Matrix  ##############\n",
            "\n",
            "[[17 17]\n",
            " [53 41]]\n",
            "\n",
            "##############  Classification Report  ##############\n",
            "\n",
            "              precision    recall  f1-score   support\n",
            "\n",
            "         0.0       0.24      0.50      0.33        34\n",
            "         1.0       0.71      0.44      0.54        94\n",
            "\n",
            "    accuracy                           0.45       128\n",
            "   macro avg       0.47      0.47      0.43       128\n",
            "weighted avg       0.58      0.45      0.48       128\n",
            "\n"
          ],
          "name": "stdout"
        }
      ]
    },
    {
      "cell_type": "code",
      "metadata": {
        "colab": {
          "base_uri": "https://localhost:8080/"
        },
        "id": "0L32pF1Tf_-j",
        "outputId": "f1ec49da-632b-49e8-f9ac-cc90cad84028"
      },
      "source": [
        "check_metrics(model, X, y)"
      ],
      "execution_count": null,
      "outputs": [
        {
          "output_type": "stream",
          "text": [
            "##############  Confusion Matrix  ##############\n",
            "\n",
            "[[ 60  56]\n",
            " [105 163]]\n",
            "\n",
            "##############  Classification Report  ##############\n",
            "\n",
            "              precision    recall  f1-score   support\n",
            "\n",
            "         0.0       0.36      0.52      0.43       116\n",
            "         1.0       0.74      0.61      0.67       268\n",
            "\n",
            "    accuracy                           0.58       384\n",
            "   macro avg       0.55      0.56      0.55       384\n",
            "weighted avg       0.63      0.58      0.60       384\n",
            "\n"
          ],
          "name": "stdout"
        }
      ]
    },
    {
      "cell_type": "code",
      "metadata": {
        "colab": {
          "base_uri": "https://localhost:8080/"
        },
        "id": "-GDrT8dcv0ff",
        "outputId": "53872734-f897-45a0-ec85-f006bf64b60a"
      },
      "source": [
        "check_metrics(model, X_test, y_test)"
      ],
      "execution_count": null,
      "outputs": [
        {
          "output_type": "stream",
          "text": [
            "##############  Confusion Matrix  ##############\n",
            "\n",
            "[[20 15]\n",
            " [35 59]]\n",
            "\n",
            "##############  Classification Report  ##############\n",
            "\n",
            "              precision    recall  f1-score   support\n",
            "\n",
            "         0.0       0.36      0.57      0.44        35\n",
            "         1.0       0.80      0.63      0.70        94\n",
            "\n",
            "    accuracy                           0.61       129\n",
            "   macro avg       0.58      0.60      0.57       129\n",
            "weighted avg       0.68      0.61      0.63       129\n",
            "\n"
          ],
          "name": "stdout"
        }
      ]
    },
    {
      "cell_type": "code",
      "metadata": {
        "colab": {
          "base_uri": "https://localhost:8080/"
        },
        "id": "bGvrhOSd923V",
        "outputId": "685b6836-3141-4240-efc6-1394a9b34ff5"
      },
      "source": [
        "index = 2\n",
        "\n",
        "testing = (X_valid[index, :]).reshape(1,input_columns)\n",
        "print(testing)\n",
        "pred = model.predict(testing)\n",
        "print(\"PREDICTION BY MODEL:\", pred[0])\n",
        "if (pred > 0.5):\n",
        "  print(\"CLASS IS PD\")\n",
        "else:\n",
        "  print(\"CLASS IS HC\")\n",
        "print(\"TRUE VALUE:\", y_valid[index])"
      ],
      "execution_count": null,
      "outputs": [
        {
          "output_type": "stream",
          "text": [
            "[[0.34214024 0.27632735 0.07505419 0.14754164 0.13106796]]\n",
            "PREDICTION BY MODEL: [0.45257032]\n",
            "CLASS IS HC\n",
            "TRUE VALUE: [1.]\n"
          ],
          "name": "stdout"
        }
      ]
    },
    {
      "cell_type": "markdown",
      "metadata": {
        "id": "64-UsZsMeEfp"
      },
      "source": [
        "# **Checking Correlations**\n",
        "\n",
        "---\n",
        "\n"
      ]
    },
    {
      "cell_type": "code",
      "metadata": {
        "colab": {
          "base_uri": "https://localhost:8080/",
          "height": 285
        },
        "id": "SH1dtrwIeDA2",
        "outputId": "89d63466-f83d-4b4a-a7c9-1f0f10aba760"
      },
      "source": [
        "plt.figure(figsize=(3,3))\n",
        "cor = df.corr()\n",
        "sns.heatmap(cor, cmap=plt.cm.Spectral)\n",
        "plt.show()"
      ],
      "execution_count": null,
      "outputs": [
        {
          "output_type": "display_data",
          "data": {
            "image/png": "[encoded data removed]",
            "text/plain": [
              "<Figure size 216x216 with 2 Axes>"
            ]
          },
          "metadata": {
            "tags": []
          }
        }
      ]
    },
    {
      "cell_type": "code",
      "metadata": {
        "colab": {
          "base_uri": "https://localhost:8080/"
        },
        "id": "FA1qsUK7eKpr",
        "outputId": "18313d70-b961-4d71-9f32-ce71ddbbd7e4"
      },
      "source": [
        "print(\"IMPORTANT FEATURES\")\n",
        "print()\n",
        "for i in range(input_columns):\n",
        "    corr1, _ = spearmanr(X[:,i], y[:, 0])\n",
        "    corr2, _ = pearsonr(X[:,i], y[:, 0])\n",
        "    if(abs(corr1) > 0.1 or abs(corr2) > 0.1 ):\n",
        "        print(df.columns[i]+\":\\t\\t\",'Spearmans correlation: %.3f' % abs(corr1), 'Pearsons correlation: %.3f' % abs(corr2) )\n",
        "print()\n",
        "\n",
        "print(\"REDUNDANT FEATURES\")\n",
        "print()\n",
        "for i in range(input_columns):\n",
        "    corr1, _ = spearmanr(X[:,i], y[:, 0])\n",
        "    corr2, _ = pearsonr(X[:,i], y[:, 0])\n",
        "    if(abs(corr1)< 0.1 or abs(corr2) < 0.1 ):\n",
        "        print(df.columns[i]+\":\\t\\t\",'Spearmans correlation: %.3f' % abs(corr1), 'Pearsons correlation: %.3f' % abs(corr2) )\n",
        "print()"
      ],
      "execution_count": null,
      "outputs": [
        {
          "output_type": "stream",
          "text": [
            "IMPORTANT FEATURES\n",
            "\n",
            "ABETA42:\t\t Spearmans correlation: 0.136 Pearsons correlation: 0.150\n",
            "A_SYN:\t\t Spearmans correlation: 0.166 Pearsons correlation: 0.145\n",
            "P_TAU:\t\t Spearmans correlation: 0.151 Pearsons correlation: 0.162\n",
            "T_TAU:\t\t Spearmans correlation: 0.127 Pearsons correlation: 0.140\n",
            "P_TAU/T_TAU:\t\t Spearmans correlation: 0.176 Pearsons correlation: 0.160\n",
            "T_TAU/ABETA42:\t\t Spearmans correlation: 0.100 Pearsons correlation: 0.025\n",
            "\n",
            "REDUNDANT FEATURES\n",
            "\n",
            "URATE:\t\t Spearmans correlation: 0.067 Pearsons correlation: 0.059\n",
            "P_TAU/ABETA42:\t\t Spearmans correlation: 0.054 Pearsons correlation: 0.057\n",
            "T_TAU/ABETA42:\t\t Spearmans correlation: 0.100 Pearsons correlation: 0.025\n",
            "ABETA42/A_SYN:\t\t Spearmans correlation: 0.036 Pearsons correlation: 0.023\n",
            "P_TAU/A_SYN:\t\t Spearmans correlation: 0.001 Pearsons correlation: 0.025\n",
            "T_TAU/A_SYN:\t\t Spearmans correlation: 0.069 Pearsons correlation: 0.048\n",
            "\n"
          ],
          "name": "stdout"
        }
      ]
    }
  ]
}